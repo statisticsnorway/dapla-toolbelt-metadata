{
 "cells": [
  {
   "cell_type": "code",
   "execution_count": null,
   "metadata": {},
   "outputs": [],
   "source": [
    "from dapla_metadata.datasets import Datadoc\n",
    "\n",
    "meta = Datadoc(\n",
    "    dataset_path=\"resources/sykefratot/klargjorte_data/person_testdata_p2022_v1.parquet\",\n",
    "    metadata_document_path=\"resources/sykefratot/klargjorte_data/person_testdata_p2021_v1__DOC.json\",\n",
    ")"
   ]
  },
  {
   "cell_type": "code",
   "execution_count": null,
   "metadata": {},
   "outputs": [],
   "source": [
    "meta.write_metadata_document()"
   ]
  }
 ],
 "metadata": {
  "language_info": {
   "codemirror_mode": {
    "name": "ipython"
   },
   "file_extension": ".py",
   "mimetype": "text/x-python",
   "name": "python",
   "nbconvert_exporter": "python"
  }
 },
 "nbformat": 4,
 "nbformat_minor": 2
}
