{
 "cells": [
  {
   "cell_type": "code",
   "execution_count": null,
   "metadata": {},
   "outputs": [],
   "source": [
    "from pprint import pprint\n",
    "from dapla_metadata import datadoc_model as model\n",
    "from dapla_metadata.datasets import Datadoc\n",
    "\n",
    "meta = Datadoc(\n",
    "    dataset_path=\"resources/sykefratot/klargjorte_data/person_testdata_p2022_v1.parquet\",\n",
    ")\n",
    "pprint(meta.dataset)\n",
    "pprint([v.short_name for v in meta.variables])"
   ]
  },
  {
   "cell_type": "code",
   "execution_count": null,
   "metadata": {},
   "outputs": [],
   "source": [
    "# Examples for entering data for a selection of field types.\n",
    "# For a real dataset ALL obligatory metadata must be filled\n",
    "\n",
    "meta.dataset.name = model.LanguageStringType(\n",
    "    root=[\n",
    "        model.LanguageStringTypeItem(languageCode=\"nb\", languageText=\"Test persondata\"),\n",
    "        model.LanguageStringTypeItem(languageCode=\"nn\", languageText=\"Test persondata\"),\n",
    "        model.LanguageStringTypeItem(languageCode=\"en\", languageText=\"Test personal data\"),\n",
    "    ]\n",
    ")\n",
    "meta.dataset.description = model.LanguageStringType(\n",
    "    root=[\n",
    "        model.LanguageStringTypeItem(\n",
    "            languageCode=\"nb\", languageText=\"Data er kun for test formål\"\n",
    "        ),\n",
    "        model.LanguageStringTypeItem(\n",
    "            languageCode=\"nn\", languageText=\"Data er kun for test formål\"\n",
    "        ),\n",
    "        model.LanguageStringTypeItem(\n",
    "            languageCode=\"en\", languageText=\"For testing purposes only\"\n",
    "        ),\n",
    "    ]\n",
    ")\n",
    "meta.dataset.data_source = (\n",
    "    \"23\"  # Refers to code in https://www.ssb.no/klass/klassifikasjoner/712\n",
    ")\n",
    "meta.dataset.use_restriction = model.UseRestriction.PROCESS_LIMITATIONS\n",
    "\n",
    "meta.variables_lookup[\"inntekt\"].name = model.LanguageStringType(\n",
    "    root=[\n",
    "        model.LanguageStringTypeItem(languageCode=\"nb\", languageText=\"Inntekt\"),\n",
    "        model.LanguageStringTypeItem(languageCode=\"nn\", languageText=\"Inntekt\"),\n",
    "        model.LanguageStringTypeItem(\n",
    "            languageCode=\"en\", languageText=\"Income\"\n",
    "        ),\n",
    "    ]\n",
    ")\n",
    "meta.variables_lookup[\"inntekt\"].multiplication_factor = (\n",
    "    1000  # Variable expressed in thousands of kroner\n",
    ")\n",
    "meta.variables_lookup[\"inntekt\"].is_personal_data = model.IsPersonalData.NOT_PERSONAL_DATA"
   ]
  },
  {
   "cell_type": "code",
   "execution_count": null,
   "metadata": {},
   "outputs": [],
   "source": [
    "meta.write_metadata_document()"
   ]
  }
 ],
 "metadata": {
  "language_info": {
   "codemirror_mode": {
    "name": "ipython"
   },
   "file_extension": ".py",
   "mimetype": "text/x-python",
   "name": "python",
   "nbconvert_exporter": "python"
  }
 },
 "nbformat": 4,
 "nbformat_minor": 2
}
