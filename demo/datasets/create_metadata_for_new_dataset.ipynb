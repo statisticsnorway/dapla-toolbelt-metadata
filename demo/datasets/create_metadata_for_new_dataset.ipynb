{
 "cells": [
  {
   "cell_type": "code",
   "execution_count": null,
   "metadata": {},
   "outputs": [],
   "source": [
    "from pprint import pprint\n",
    "\n",
    "from dapla_metadata import datadoc_model as model\n",
    "from dapla_metadata.datasets import Datadoc\n",
    "\n",
    "meta = Datadoc(\n",
    "    dataset_path=\"resources/sykefratot/klargjorte_data/person_testdata_p2022_v1.parquet\",\n",
    ")\n",
    "pprint(meta.dataset)\n",
    "pprint([v.short_name for v in meta.variables])"
   ]
  },
  {
   "cell_type": "code",
   "execution_count": null,
   "metadata": {},
   "outputs": [],
   "source": [
    "# Examples for entering data for a selection of field types.\n",
    "# For a real dataset ALL obligatory metadata must be filled\n",
    "\n",
    "meta.dataset.name = model.LanguageStringType(\n",
    "    root=[\n",
    "        model.LanguageStringTypeItem(languageCode=\"nb\", languageText=\"Test persondata\"),\n",
    "        model.LanguageStringTypeItem(languageCode=\"nn\", languageText=\"Test persondata\"),\n",
    "        model.LanguageStringTypeItem(\n",
    "            languageCode=\"en\", languageText=\"Test personal data\"\n",
    "        ),\n",
    "    ],\n",
    ")\n",
    "meta.dataset.description = model.LanguageStringType(\n",
    "    root=[\n",
    "        model.LanguageStringTypeItem(\n",
    "            languageCode=\"nb\",\n",
    "            languageText=\"Data er kun for test formål\",\n",
    "        ),\n",
    "        model.LanguageStringTypeItem(\n",
    "            languageCode=\"nn\",\n",
    "            languageText=\"Data er kun for test formål\",\n",
    "        ),\n",
    "        model.LanguageStringTypeItem(\n",
    "            languageCode=\"en\",\n",
    "            languageText=\"For testing purposes only\",\n",
    "        ),\n",
    "    ],\n",
    ")\n",
    "meta.dataset.use_restrictions = model.UseRestrictionItem(\n",
    "    model.UseRestrictionType.PROCESS_LIMITATIONS, None\n",
    ")\n",
    "\n",
    "inntekt_variable = meta.variables_lookup[\"inntekt\"]\n",
    "\n",
    "inntekt_variable.name = model.LanguageStringType(\n",
    "    root=[\n",
    "        model.LanguageStringTypeItem(languageCode=\"nb\", languageText=\"Inntekt\"),\n",
    "        model.LanguageStringTypeItem(languageCode=\"nn\", languageText=\"Inntekt\"),\n",
    "        model.LanguageStringTypeItem(\n",
    "            languageCode=\"en\",\n",
    "            languageText=\"Income\",\n",
    "        ),\n",
    "    ],\n",
    ")\n",
    "inntekt_variable.data_source = \"23\"\n",
    "inntekt_variable.unit_type = \"20\"\n",
    "inntekt_variable.temporality_type = model.TemporalityTypeType.ACCUMULATED\n",
    "inntekt_variable.multiplication_factor = (\n",
    "    1000  # Variable expressed in thousands of kroner\n",
    ")\n",
    "inntekt_variable.is_personal_data = True"
   ]
  },
  {
   "cell_type": "code",
   "execution_count": null,
   "metadata": {},
   "outputs": [],
   "source": [
    "meta.write_metadata_document()"
   ]
  }
 ],
 "metadata": {
  "language_info": {
   "codemirror_mode": {
    "name": "ipython"
   },
   "file_extension": ".py",
   "mimetype": "text/x-python",
   "name": "python",
   "nbconvert_exporter": "python"
  }
 },
 "nbformat": 4,
 "nbformat_minor": 2
}
