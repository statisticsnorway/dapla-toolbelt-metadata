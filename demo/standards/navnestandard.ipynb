{
 "cells": [
  {
   "cell_type": "code",
   "execution_count": null,
   "metadata": {},
   "outputs": [],
   "source": [
    "import logging\n",
    "import sys\n",
    "\n",
    "from dapla_metadata.standards.standard_validators import check_naming_standard\n",
    "from dapla_metadata.standards.standard_validators import generate_validation_report\n",
    "\n",
    "# Gjøre at logging vises\n",
    "logging.basicConfig(\n",
    "    format=\"%(levelname)s: %(message)s\",\n",
    "    level=logging.INFO,\n",
    "    stream=sys.stdout,\n",
    "    force=True,\n",
    ")"
   ]
  },
  {
   "cell_type": "markdown",
   "metadata": {},
   "source": [
    "## Kjøre navnestandard validering"
   ]
  },
  {
   "cell_type": "code",
   "execution_count": null,
   "metadata": {},
   "outputs": [],
   "source": [
    "async def run_name_validator(file_path: str) -> list:\n",
    "    validations = await check_naming_standard(file_path)\n",
    "    return validations"
   ]
  },
  {
   "cell_type": "code",
   "execution_count": null,
   "metadata": {},
   "outputs": [],
   "source": [
    "results = await check_naming_standard(input(\"Filsti til bøtte, mappe eller fil:\"))  # noqa: F704"
   ]
  },
  {
   "cell_type": "code",
   "execution_count": null,
   "metadata": {},
   "outputs": [],
   "source": [
    "results = await run_name_validator(\"/buckets/produkt/stat/inndata/bil_p2021_v1.parquet\")"
   ]
  },
  {
   "cell_type": "markdown",
   "metadata": {},
   "source": [
    "## Vis rapport"
   ]
  },
  {
   "cell_type": "code",
   "execution_count": null,
   "metadata": {},
   "outputs": [],
   "source": [
    "report = generate_validation_report(results)"
   ]
  },
  {
   "cell_type": "markdown",
   "metadata": {},
   "source": [
    "## Vis feiler"
   ]
  },
  {
   "cell_type": "code",
   "execution_count": null,
   "metadata": {},
   "outputs": [],
   "source": [
    "violations = [r for r in results if not r.success]\n",
    "\n",
    "if not violations:\n",
    "    print(\"Gratulerer, ingen feiler å vise\")\n",
    "else:\n",
    "    for v in violations:\n",
    "        print(v.file_path)\n",
    "        print(\"\\t\" + \"\\n\\t\".join(v.messages))\n",
    "        print(\"\\t\\t\" + \"\\n\\t\\t\".join(v.violations) + \"\\n\")"
   ]
  }
 ],
 "metadata": {
  "language_info": {
   "codemirror_mode": {
    "name": "ipython"
   },
   "file_extension": ".py",
   "mimetype": "text/x-python",
   "name": "python",
   "nbconvert_exporter": "python"
  }
 },
 "nbformat": 4,
 "nbformat_minor": 2
}
