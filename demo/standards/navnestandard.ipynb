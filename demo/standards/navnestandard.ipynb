{
 "cells": [
  {
   "cell_type": "code",
   "execution_count": null,
   "metadata": {},
   "outputs": [],
   "source": [
    "import logging\n",
    "import sys\n",
    "\n",
    "from dapla_metadata.standards.standard_validators import check_naming_standard\n",
    "from dapla_metadata.standards.standard_validators import generate_validation_report\n",
    "\n",
    "# Gjøre at logging vises\n",
    "logging.basicConfig(\n",
    "    format=\"%(levelname)s: %(message)s\",\n",
    "    level=logging.INFO,\n",
    "    stream=sys.stdout,\n",
    "    force=True,\n",
    ")"
   ]
  },
  {
   "cell_type": "markdown",
   "metadata": {},
   "source": [
    "## Kjøre navnestandard validering\n",
    "Hvis koden skal lastes opp til et eget repo kan '# noqa: F704' være nødvendig for å unngå pre-commit-feil.\n"
   ]
  },
  {
   "cell_type": "code",
   "execution_count": null,
   "metadata": {},
   "outputs": [],
   "source": [
    "results = await check_naming_standard(input(\"Filsti til bøtte, mappe eller fil:\"))  # noqa: F704"
   ]
  },
  {
   "cell_type": "markdown",
   "metadata": {},
   "source": [
    "## Vis rapport"
   ]
  },
  {
   "cell_type": "code",
   "execution_count": null,
   "metadata": {},
   "outputs": [],
   "source": [
    "report = generate_validation_report(results)"
   ]
  },
  {
   "cell_type": "markdown",
   "metadata": {},
   "source": [
    "## Vis brudd på navnestandard"
   ]
  },
  {
   "cell_type": "code",
   "execution_count": null,
   "metadata": {},
   "outputs": [],
   "source": [
    "violations = [r for r in results if not r.success]\n",
    "\n",
    "if not violations:\n",
    "    print(\"Gratulerer, ingen feil å vise\")\n",
    "else:\n",
    "    for v in violations:\n",
    "        print(v.file_path)\n",
    "        print(\"\\t\" + \"\\n\\t\".join(v.messages))\n",
    "        print(\"\\t\\t\" + \"\\n\\t\\t\".join(v.violations) + \"\\n\")"
   ]
  }
 ],
 "metadata": {
  "language_info": {
   "name": "python"
  }
 },
 "nbformat": 4,
 "nbformat_minor": 2
}
