{
 "cells": [
  {
   "cell_type": "markdown",
   "metadata": {},
   "source": [
    "# Migrer variabeldefinisjoner\n",
    "\n",
    "Denne Notebook er for deg som:\n",
    "\n",
    "- Har variabeldefinisjoner i Vardok og ønsker å migrere flere i en omgang til Vardef\n",
    "\n",
    "Forutsetninger:\n",
    "- Du må ha alle `id`'er i Vardok for variabeldefinisjonene du ønsker å migrere"
   ]
  },
  {
   "cell_type": "markdown",
   "metadata": {},
   "source": [
    "## Oppsett\n",
    "\n",
    "Koden under kjøres som forberedelse for påfølgende steg"
   ]
  },
  {
   "cell_type": "code",
   "execution_count": null,
   "metadata": {},
   "outputs": [],
   "source": [
    "# Nødvendig import\n",
    "import logging\n",
    "import sys\n",
    "\n",
    "from dapla_metadata.variable_definitions import Vardef\n",
    "\n",
    "# Redusere størrelsen på Traceback for mer tydelige feilmeldinger\n",
    "%xmode Minimal\n",
    "\n",
    "# Gjøre at logging vises\n",
    "logging.basicConfig(\n",
    "    format=\"%(levelname)s: %(message)s\",\n",
    "    level=logging.INFO,\n",
    "    stream=sys.stdout,\n",
    "    force=True,\n",
    ")"
   ]
  },
  {
   "cell_type": "markdown",
   "metadata": {},
   "source": [
    "## Viktig informasjon\n",
    "\n",
    "Når en variabeldefinisjon fra Vardok migreres til Vardef, blir den alltid opprettet som et `UTKAST`, uavhengig av hvilken status den hadde i Vardok. Dette gjøres for at man skal kunne oppdatere og tilpasse variabeldefinisjonen slik at den oppfyller kravene for publisering i Vardef.\n",
    "\n",
    "⚠️ **En variabeldefinisjon kan kun migreres én gang.**\n",
    "Når en Vardok-ID er migrert til Vardef, vil det ikke være mulig å migrere den samme ID-en på nytt.\n",
    "\n",
    "📅 **Merk:** Dersom variabeldefinisjonen i Vardok mangler en gyldig fra-dato, settes denne automatisk til `1900-01-01`.\n",
    "\n",
    "🏷️ **Kortnavn:** Hvis det ikke finnes et kortnavn for variabeldefinisjonen i Vardok, vil det bli automatisk generert under migreringen. "
   ]
  },
  {
   "cell_type": "markdown",
   "metadata": {},
   "source": [
    "## Hente variabeldefinisjoner fra Vardok \n",
    "\n",
    "Skriv inn de Vardok-ID'ene du ønsker å migrere i firkantparentesen med anførselstegn og adskilt av komma. Erstatt X og Y med faktiske Vardok-ID'er og legg eventuelt til flere hvis du ønsker det:"
   ]
  },
  {
   "cell_type": "code",
   "execution_count": null,
   "metadata": {},
   "outputs": [],
   "source": [
    "min_id_liste = [\"X\", \"Y\"]\n",
    "print(min_id_liste)"
   ]
  },
  {
   "cell_type": "markdown",
   "metadata": {},
   "source": [
    "## Migrere variabeldefinisjoner til Vardef\n",
    "\n",
    "⭐️ I koden under migreres variablene fra Vardok til Vardef for Vardok-ID'ene du skrev inn."
   ]
  },
  {
   "cell_type": "code",
   "execution_count": null,
   "metadata": {},
   "outputs": [],
   "source": [
    "\n",
    "for min_vardok_id in min_id_liste:\n",
    "    min_migrert_variabel = Vardef.migrate_from_vardok(min_vardok_id)\n",
    "    print(min_migrert_variabel)"
   ]
  }
 ],
 "metadata": {
  "language_info": {
   "name": "python"
  }
 },
 "nbformat": 4,
 "nbformat_minor": 2
}
