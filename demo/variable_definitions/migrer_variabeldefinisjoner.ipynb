{
 "cells": [
  {
   "cell_type": "markdown",
   "metadata": {},
   "source": [
    "# Migrer variabeldefinisjoner\n",
    "\n",
    "Denne Notebook er for deg som:\n",
    "\n",
    "- Har en eller flere variabeldefinisjoner i Vardok og ønsker å migrere de til Vardef\n",
    "\n",
    "Forutsetninger:\n",
    "\n",
    "- Du må ha alle `id`'er i Vardok for variabeldefinisjonene du ønsker å migrere"
   ]
  },
  {
   "cell_type": "markdown",
   "metadata": {},
   "source": [
    "## Oppsett\n",
    "\n",
    "Koden under kjøres som forberedelse for påfølgende steg"
   ]
  },
  {
   "cell_type": "code",
   "execution_count": null,
   "metadata": {},
   "outputs": [],
   "source": [
    "# Nødvendig import\n",
    "import logging\n",
    "import sys\n",
    "\n",
    "from dapla_metadata.variable_definitions import Vardef, VardefClientError\n",
    "\n",
    "# Redusere størrelsen på Traceback for mer tydelige feilmeldinger\n",
    "%xmode Minimal\n",
    "\n",
    "# Gjøre at logging vises\n",
    "logging.basicConfig(\n",
    "    format=\"%(levelname)s: %(message)s\",\n",
    "    level=logging.INFO,\n",
    "    stream=sys.stdout,\n",
    "    force=True,\n",
    ")"
   ]
  },
  {
   "cell_type": "markdown",
   "metadata": {},
   "source": [
    "## Viktig informasjon\n",
    "\n",
    "Når en variabeldefinisjon fra Vardok migreres til Vardef, blir den alltid opprettet som et `UTKAST`, uavhengig av hvilken status den hadde i Vardok. Dette gjøres for at man skal kunne oppdatere og tilpasse variabeldefinisjonen slik at den oppfyller kravene for publisering i Vardef.\n",
    "\n",
    "⚠️ **En variabeldefinisjon kan kun migreres én gang.**\n",
    "Når en Vardok-ID er migrert til Vardef, vil det ikke være mulig å migrere den samme ID-en på nytt.\n",
    "\n",
    "📅 **Merk:** Dersom variabeldefinisjonen i Vardok mangler en gyldig fra-dato, settes denne automatisk til `1900-01-01`.\n",
    "\n",
    "🏷️ **Kortnavn:** Hvis det ikke finnes et kortnavn for variabeldefinisjonen i Vardok, vil det bli automatisk generert under migreringen. "
   ]
  },
  {
   "cell_type": "markdown",
   "metadata": {},
   "source": [
    "## Hente variabeldefinisjoner fra Vardok \n",
    "\n",
    "Skriv inn de Vardok-ID'ene du ønsker å migrere i firkantparentesen. Erstatt 0 med en eller flere eksisterende Vardok-ID'er adskilt av komma"
   ]
  },
  {
   "cell_type": "code",
   "execution_count": null,
   "metadata": {},
   "outputs": [],
   "source": [
    "min_id_liste = [0]\n",
    "print(f\"✅ {len(min_id_liste)} vil bli migrert\")"
   ]
  },
  {
   "cell_type": "markdown",
   "metadata": {},
   "source": [
    "## Migrere variabeldefinisjoner til Vardef\n",
    "\n",
    "⭐️ I koden under migreres variablene fra Vardok til Vardef for Vardok-ID'ene du skrev inn"
   ]
  },
  {
   "cell_type": "code",
   "execution_count": null,
   "metadata": {},
   "outputs": [],
   "source": [
    "migrerte = []\n",
    "ikke_funnet = []\n",
    "migrert_tidligere = []\n",
    "annen_feil = []\n",
    "for min_id in min_id_liste:\n",
    "    try:\n",
    "        mitt_kortnavn = Vardef.migrate_from_vardok(str(min_id))\n",
    "        migrerte.append(mitt_kortnavn)\n",
    "    except VardefClientError as e:\n",
    "        if \"not found\" in str(e):\n",
    "            ikke_funnet.append(min_id)\n",
    "        elif \"already migrated\" in str(e):\n",
    "            migrert_tidligere.append(min_id)\n",
    "        else:\n",
    "            print(f\"⚠️ Ukjent VardefClientError for id {min_id}: {e}\")\n",
    "            annen_feil.append((min_id, str(e)))\n",
    "    except Exception as e:\n",
    "        print(f\"❌ Uventet feil for id {min_id}: {e}\")\n",
    "        annen_feil.append((min_id, str(e)))\n",
    "\n",
    "print(f\"\\n📊 Resultatoppsummering:\")\n",
    "print(f\" - Antall migrert: {len(migrerte)}\")\n",
    "print(f\" - Antall ikke funnet: {len(ikke_funnet)}\")\n",
    "print(f\" - Antall allerede migrert: {len(migrert_tidligere)}\")\n",
    "print(f\" - Antall med annen feil: {len(annen_feil)}\\n\")"
   ]
  },
  {
   "cell_type": "markdown",
   "metadata": {},
   "source": [
    "### Detaljert oversikt\n",
    "\n",
    "Koden under gir en detaljert oversikt over hva som skjedde med hver Vardok-ID under migrering der migreringen ikke gikk bra"
   ]
  },
  {
   "cell_type": "code",
   "execution_count": null,
   "metadata": {},
   "outputs": [],
   "source": [
    "print(\"\\nIkke fullført migrering:\")\n",
    "\n",
    "print(\"\\n❌ Variabeldefinisjon eksisterer ikke:\")\n",
    "if ikke_funnet:\n",
    "    for p in ikke_funnet:\n",
    "        print(f\" - {p}\")\n",
    "else:\n",
    "    print(\" - Ingen\")\n",
    "\n",
    "print(\"\\n⚠️ Allerede migrert:\")\n",
    "if migrert_tidligere:\n",
    "    for p in migrert_tidligere:\n",
    "        print(f\" - {p}\")\n",
    "else:\n",
    "    print(\" - Ingen\")\n",
    "\n",
    "print(\"\\n🚨 Øvrige feil:\")\n",
    "if annen_feil:\n",
    "    for p, feilmelding in annen_feil:\n",
    "        print(f\" - id {p}: {feilmelding}\")\n",
    "else:\n",
    "    print(\" - Ingen\")"
   ]
  }
 ],
 "metadata": {
  "language_info": {
   "name": "python"
  }
 },
 "nbformat": 4,
 "nbformat_minor": 2
}
