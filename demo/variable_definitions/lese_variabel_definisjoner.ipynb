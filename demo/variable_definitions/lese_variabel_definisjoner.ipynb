{
 "cells": [
  {
   "cell_type": "markdown",
   "metadata": {},
   "source": [
    "# Lese variablerdefinisjoner\n",
    "\n",
    "Innhold:\n",
    "* [Oppsett](#Oppsett)\n",
    "* [Liste variabeldefinisjoner](#Liste-variabeldefinisjoner)\n",
    "    * [Oppsett variabeldefinisjoner](#Oppsett-variabeldefinisjoner)\n",
    "    * [Vise alle variabeldefinisjoner](#Vise-alle-variabeldefinisjoner)\n",
    "    * [Filtrere](#Filtrere)\n",
    "        * [Filtere på dato](#Dato)\n",
    "        * [Filtrere på eier](#Eier)\n",
    "        * [Filtrere på status](#Status)\n",
    "        * [Filtrere på person](#Person)\n",
    "        * [Kombinere filtre](#Kombinere-filtere)\n",
    "\n",
    "* [Vise en variabel](#Vise-en-variabel)\n",
    "    * [Kortnavn](#Kortnavn)\n",
    "    * [Id](#Kortnavn)\n",
    "    * [filtrere på språk](#Språk)\n",
    "    * [Patches](#Patches)\n",
    "    * [Gyldighetsperioder](#Gyldighetsperioder)\n",
    "    \n",
    "* [Nyttig](\"Nyttig)\n",
    "    * [Telle](#Telle)\n",
    "\n"
   ]
  },
  {
   "cell_type": "markdown",
   "metadata": {},
   "source": [
    "## Oppsett\n",
    "Koden under kjøres som forberedelse for påfølgende steg"
   ]
  },
  {
   "cell_type": "code",
   "execution_count": null,
   "metadata": {},
   "outputs": [],
   "source": [
    "# Nødvendig import\n",
    "import logging\n",
    "import sys\n",
    "from datetime import date\n",
    "from dapla_metadata.variable_definitions import Vardef\n",
    "from dapla_metadata.variable_definitions import models\n",
    "\n",
    "# Redusere størrelsen på Traceback for mer tydelige feilmeldinger\n",
    "%xmode Minimal\n",
    "\n",
    "# Gjøre at logging vises\n",
    "logging.basicConfig(\n",
    "    format=\"%(levelname)s: %(message)s\",\n",
    "    level=logging.INFO,\n",
    "    stream=sys.stdout,\n",
    "    force=True,\n",
    ")"
   ]
  },
  {
   "cell_type": "markdown",
   "metadata": {},
   "source": [
    "## Liste variabeldefinisjoner\n",
    "\n",
    "Innhold:\n",
    "* [Oppsett variabeldefinisjoner](#Oppsett-variabeldefinisjoner)\n",
    "* [Vise alle variabeldefinisjoner](#Vise-alle-variabeldefinisjoner)\n",
    "* [Filtrere ](#Filtrere)"
   ]
  },
  {
   "cell_type": "markdown",
   "metadata": {},
   "source": [
    "### Oppsett variabeldefinisjoner\n",
    "Før man går videre forutsettes det at koden under kjøres på begynnelsen av en økt. \n",
    "\n",
    "Her henter vi en liste med alle variabler som vi lagrer i minnet som \n",
    "<span style=\"color:orange\">variabel_definisjoner</span>."
   ]
  },
  {
   "cell_type": "code",
   "execution_count": null,
   "metadata": {},
   "outputs": [],
   "source": [
    "# Alle variabler lagret i Vardef\n",
    "variabel_definisjoner = Vardef.list_variable_definitions()"
   ]
  },
  {
   "cell_type": "markdown",
   "metadata": {},
   "source": [
    "#### Vise alle variabeldefinisjoner"
   ]
  },
  {
   "cell_type": "markdown",
   "metadata": {},
   "source": [
    "##### All informasjon"
   ]
  },
  {
   "cell_type": "code",
   "execution_count": null,
   "metadata": {},
   "outputs": [],
   "source": [
    "# Skrive ut til skjerm\n",
    "# NB! Denne listen kan bli veldig lang\n",
    "# Hver variabel starter og slutter med krøllparanteser '{}'\n",
    "print(\"\")\n",
    "for variabel in variabel_definisjoner:\n",
    "    print(variabel)\n",
    "    print(\"\\n\")"
   ]
  },
  {
   "cell_type": "markdown",
   "metadata": {},
   "source": [
    "##### Utvalgte felt"
   ]
  },
  {
   "cell_type": "code",
   "execution_count": null,
   "metadata": {},
   "outputs": [],
   "source": [
    "# Skrive ut primærfelt:\n",
    "# Id, Navn, kortnavn, definisjonstekst, gyldig fra,eier\n",
    "print(\"\")\n",
    "for variabel in variabel_definisjoner:\n",
    "    print(f\"Id: {variabel.id}\")\n",
    "    print(f\"Navn: {variabel.name}\")\n",
    "    print(f\"Kortnavn: {variabel.short_name}\")\n",
    "    print(f\"Eier: {variabel.owner}\")\n",
    "    print(f\"Gyldig fra: {variabel.valid_from}\")\n",
    "    print(\"\\n\")"
   ]
  },
  {
   "cell_type": "markdown",
   "metadata": {},
   "source": [
    "### Filtrere\n",
    "\n",
    "Innhold:\n",
    "* [Filtrere på dato](#Dato)\n",
    "* [Filtrere på eier](#Eier)\n",
    "* [Filtrere på status](#Status)\n",
    "* [Filtrere på person](#Person)\n",
    "* [Filtrere på språk](#Språk)\n",
    "* [Kombinere filtre](#Kombinere-filtere)"
   ]
  },
  {
   "cell_type": "markdown",
   "metadata": {},
   "source": [
    "#### Dato\n",
    "\n",
    "Vardef støtter filtrering på dato. \n",
    "Liste med variabeldefinisjoner hentes direkte fra Vardef og er ikke avhengig av \n",
    "[Oppsett variabeldefinisjoner](#Oppsett-variabeldefinisjoner).\n",
    "\n",
    "Resultatet er en liste med variabeldefinisjoner gyldig på valgt dato.\n",
    "\n",
    "Legg til dato som du ønsker å filtrere på\n",
    "\n",
    "Eksempel 2: \n",
    "Variabeldefinisjoner gyldig 20.januar 1994:\n",
    "\n",
    "`dato = date(1994,1,20)`\n",
    "\n",
    "Eksempel 2: \n",
    "Variabeldefinisjoner gyldig 3.oktober 2024:\n",
    "\n",
    "`dato = date(2024,10,3)`"
   ]
  },
  {
   "cell_type": "code",
   "execution_count": null,
   "metadata": {},
   "outputs": [],
   "source": [
    "# Erstatt 0 med ønsket år, måned og dag\n",
    "år = 0\n",
    "måned = 0\n",
    "dag = 0\n",
    "\n",
    "dato = date(år, måned, dag)"
   ]
  },
  {
   "cell_type": "code",
   "execution_count": null,
   "metadata": {},
   "outputs": [],
   "source": [
    "# Alle variabler lagret i Vardef gyldig på valgt dato\n",
    "variabel_definisjoner_dato = Vardef.list_variable_definitions(date_of_validity=dato)"
   ]
  },
  {
   "cell_type": "code",
   "execution_count": null,
   "metadata": {},
   "outputs": [],
   "source": [
    "# Skrive ut liste til skjerm\n",
    "print(f\"Variabler filtrert på dato: {dato}\\n\")\n",
    "for variabel in variabel_definisjoner_dato:\n",
    "    print(variabel)\n",
    "    print(\"\\n\")"
   ]
  },
  {
   "cell_type": "markdown",
   "metadata": {},
   "source": [
    "#### Eier\n",
    "Hver variabeldefinisjon har et eier-team og en liste med eier-grupper. \n",
    "Minst en gruppe må være tilknyttet eier-team og vi filtrerer på eier-team.\n",
    "\n",
    "Eksempel: \"dapla-felles\""
   ]
  },
  {
   "cell_type": "code",
   "execution_count": null,
   "metadata": {},
   "outputs": [],
   "source": [
    "# Sett inn navn på eier team innenfor anførselstegnene\n",
    "eier_team = \"\""
   ]
  },
  {
   "cell_type": "code",
   "execution_count": null,
   "metadata": {},
   "outputs": [],
   "source": [
    "# Alle variabler lagret i Vardef som er eid av valgt eier-team\n",
    "variabel_definisjoner_eier_team = [variabel for variabel in variabel_definisjoner if variabel.owner[\"team\"] == eier_team]"
   ]
  },
  {
   "cell_type": "code",
   "execution_count": null,
   "metadata": {},
   "outputs": [],
   "source": [
    "# Skrive ut til skjerm\n",
    "print(f\"Variabler filtrert på eier: {eier_team}\\n\")\n",
    "for variable in variabel_definisjoner_eier_team:\n",
    "    print(variable)\n",
    "    print(\"\\n\")"
   ]
  },
  {
   "cell_type": "code",
   "execution_count": null,
   "metadata": {},
   "outputs": [],
   "source": [
    "# Skrive ut utvalgte felt"
   ]
  },
  {
   "cell_type": "markdown",
   "metadata": {},
   "source": [
    "#### Filtrere på status\n",
    "Variabelens status kan være utkast, publisert internt eller publisert eksternt."
   ]
  },
  {
   "cell_type": "code",
   "execution_count": null,
   "metadata": {},
   "outputs": [],
   "source": [
    "# Liste med variabeldefinisjoner som har status utkast\n",
    "variabel_definisjoner_utkast = [variabel for variabel in variabel_definisjoner if variable.variable_status == models.VariableStatus.DRAFT]\n"
   ]
  },
  {
   "cell_type": "code",
   "execution_count": null,
   "metadata": {},
   "outputs": [],
   "source": [
    "# Skrive ut til skjerm\n",
    "print(\"Variabel status: 'UTKAST'\\n\")\n",
    "for variable in variabel_definisjoner_utkast:\n",
    "    print(variable)\n",
    "    print(\"\\n\")"
   ]
  },
  {
   "cell_type": "code",
   "execution_count": null,
   "metadata": {},
   "outputs": [],
   "source": [
    "# Skrive ut utvalgte felt"
   ]
  },
  {
   "cell_type": "code",
   "execution_count": null,
   "metadata": {},
   "outputs": [],
   "source": [
    "# Liste med variabeldefinisjoner publisert internt\n",
    "variabel_definisjoner_publisert_internt = [variabel for variabel in variabel_definisjoner if variable.variable_status == models.VariableStatus.PUBLISHED_INTERNAL]"
   ]
  },
  {
   "cell_type": "code",
   "execution_count": null,
   "metadata": {},
   "outputs": [],
   "source": [
    "# Skrive ut til skjerm\n",
    "print(\"Variabel status: 'PUBLISERT INTERNT'\\n\")\n",
    "for variable in variabel_definisjoner_publisert_internt:\n",
    "    print(variable)\n",
    "    print(\"\\n\")"
   ]
  },
  {
   "cell_type": "code",
   "execution_count": null,
   "metadata": {},
   "outputs": [],
   "source": [
    "# Liste med variabeldefinisjoner publisert eksternt\n",
    "variabel_definisjoner_publisert_eksternt = [variabel for variabel in variabel_definisjoner if variable.variable_status == models.VariableStatus.PUBLISHED_EXTERNAL]\n"
   ]
  },
  {
   "cell_type": "code",
   "execution_count": null,
   "metadata": {},
   "outputs": [],
   "source": [
    "# Skrive ut til skjerm\n",
    "print(\"Variabel status: 'PUBLISERT EKSTERNT'\\n\")\n",
    "for variable in variabel_definisjoner_publisert_eksternt:\n",
    "    print(variable)\n",
    "    print(\"\\n\")"
   ]
  },
  {
   "cell_type": "markdown",
   "metadata": {},
   "source": [
    "#### Person\n",
    "Det er to felt som kan peke tilbake på en bestemt person:\n",
    "- Opprettet av [`created_by`]:\n",
    "   Dette feltet settes når variabeldefinisjonen opprettes og endres ikke.\n",
    "   \n",
    "- Sist oppdatert [`last_updated_by`]:\n",
    "   For hver endring uavhengig av variabelens status oppdateres dette feltet med \n",
    "\n",
    "Eksempel:\n",
    "    `cbi@ssb.no`\n"
   ]
  },
  {
   "cell_type": "code",
   "execution_count": null,
   "metadata": {},
   "outputs": [],
   "source": [
    "# Sett inn ssb bruker innenfor anførselstegnene\n",
    "person = \"\""
   ]
  },
  {
   "cell_type": "code",
   "execution_count": null,
   "metadata": {},
   "outputs": [],
   "source": [
    "# Liste med variabeldefinisjoner opprettet av person\n",
    "variabel_liste_opprette_av_person = [variabel for variabel in variabel_definisjoner if variable.created_by== person]\n"
   ]
  },
  {
   "cell_type": "code",
   "execution_count": null,
   "metadata": {},
   "outputs": [],
   "source": [
    "# Skrive ut til skjerm\n",
    "print(f\"Variabeldefinisjoner opprettet av {person}'\\n\")\n",
    "for variable in variabel_liste_opprette_av_person:\n",
    "    print(variable)\n",
    "    print(\"\\n\")"
   ]
  },
  {
   "cell_type": "code",
   "execution_count": null,
   "metadata": {},
   "outputs": [],
   "source": [
    "# Liste med variabeldefinisjoner endret av person\n",
    "variabel_liste_oppdatert_av_person = [variabel for variabel in variabel_definisjoner if variable.last_updated_by== person]\n"
   ]
  },
  {
   "cell_type": "code",
   "execution_count": null,
   "metadata": {},
   "outputs": [],
   "source": [
    "# Skrive ut til skjerm\n",
    "print(f\"Variabeldefinisjoner endret av {person}'\\n\")\n",
    "for variable in variabel_liste_oppdatert_av_person:\n",
    "    print(variable)\n",
    "    print(\"\\n\")"
   ]
  },
  {
   "cell_type": "markdown",
   "metadata": {},
   "source": []
  },
  {
   "cell_type": "code",
   "execution_count": null,
   "metadata": {},
   "outputs": [],
   "source": []
  },
  {
   "cell_type": "markdown",
   "metadata": {},
   "source": [
    "### Diverse"
   ]
  },
  {
   "cell_type": "markdown",
   "metadata": {},
   "source": [
    "##### Antall\n",
    "Oversikt over antall lagrede variabeldefinisjoner i en liste."
   ]
  },
  {
   "cell_type": "code",
   "execution_count": null,
   "metadata": {},
   "outputs": [],
   "source": [
    "# Bytt ut 'variabel_definisjoner' med ønsket liste\n",
    "print(f\"Antall variabeldefinisjoner: {len(variabel_definisjoner)}\")"
   ]
  },
  {
   "cell_type": "markdown",
   "metadata": {},
   "source": [
    "## Vise en variabel"
   ]
  },
  {
   "cell_type": "markdown",
   "metadata": {},
   "source": [
    "#### Språk\n",
    "Noen felt kan ha verdier på flere språk. Norsk bokmål, nynorsk og engelsk.\n",
    "Disse feltene er: \n",
    "- navn\n",
    "- definisjon\n",
    "- kontakt tittel"
   ]
  },
  {
   "cell_type": "code",
   "execution_count": null,
   "metadata": {},
   "outputs": [],
   "source": []
  }
 ],
 "metadata": {
  "kernelspec": {
   "display_name": "dapla-toolbelt-metadata-fJc960va-py3.12",
   "language": "python",
   "name": "python3"
  },
  "language_info": {
   "codemirror_mode": {
    "name": "ipython",
    "version": 3
   },
   "file_extension": ".py",
   "mimetype": "text/x-python",
   "name": "python",
   "nbconvert_exporter": "python",
   "pygments_lexer": "ipython3",
   "version": "3.12.0"
  }
 },
 "nbformat": 4,
 "nbformat_minor": 2
}
