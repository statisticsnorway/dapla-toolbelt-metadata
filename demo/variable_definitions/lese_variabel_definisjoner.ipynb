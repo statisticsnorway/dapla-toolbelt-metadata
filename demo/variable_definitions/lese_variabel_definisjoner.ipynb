{
 "cells": [
  {
   "cell_type": "markdown",
   "metadata": {},
   "source": [
    "# Liste variablerdefinisjoner\n",
    "\n",
    "Denne Notebook er for deg som:\n",
    "\n",
    "- Ønsker en oversikt over lagrede variabeldefinisjoner\n",
    "- Vil filtrere variabler basert på status, dato eller eier m.m\n",
    "\n",
    "\n"
   ]
  },
  {
   "cell_type": "markdown",
   "metadata": {},
   "source": [
    "## Viktig informasjon\n",
    "\n",
    "Alle SSB ansatte har tilgang til å lese alle variabeldefinisjoner uavhengig av hvem som eier variabeldefinisjonen eller hvilken status variabeldefinisjonen har.\n",
    "\n",
    "Angir man ikke dato vil siste versjon i siste gyldighetsperiode vises for hver variabeldefinisjon.\n",
    "\n",
    "Hver variabeldefinisjon returneres som et objekt der alle lagrede verdier vises. Hver variabeldefinisjon begynner og slutter med en krøllparantes {}\n",
    "\n",
    "Alle felt som er flerspråklige vil i tillegg ha et objekt som viser verdier for hvert språk. \n",
    "\n",
    "📌  **Eksempel på et felt med flerspråklige verdier**:  \n",
    "```json\n",
    "{\n",
    "  \"name\": {\n",
    "    \"nb\": \"test navn\",\n",
    "    \"nn\": \"test namn\",\n",
    "    \"en\": \"test name\"\n",
    "  }\n",
    "}\n"
   ]
  },
  {
   "cell_type": "markdown",
   "metadata": {},
   "source": [
    "## Oppsett\n",
    "Koden under kjøres som forberedelse for påfølgende steg"
   ]
  },
  {
   "cell_type": "code",
   "execution_count": null,
   "metadata": {},
   "outputs": [],
   "source": [
    "# Nødvendig import\n",
    "import logging\n",
    "import sys\n",
    "from datetime import date\n",
    "from dapla_metadata.variable_definitions import Vardef\n",
    "from dapla_metadata.variable_definitions import models\n",
    "from dapla_metadata._shared import user_info\n",
    "\n",
    "# Redusere størrelsen på Traceback for mer tydelige feilmeldinger\n",
    "%xmode Minimal\n",
    "\n",
    "# Gjøre at logging vises\n",
    "logging.basicConfig(\n",
    "    format=\"%(levelname)s: %(message)s\",\n",
    "    level=logging.INFO,\n",
    "    stream=sys.stdout,\n",
    "    force=True,\n",
    ")\n",
    "\n",
    "# Hente brukerinformasjon\n",
    "ditt_team = user_info.get_owner()\n",
    "din_bruker = user_info.get_user_info_for_current_platform().short_email\n",
    "\n",
    "# Hente alle variabeldefinisjoner lagret i Vardef\n",
    "variabel_definisjoner = Vardef.list_variable_definitions()"
   ]
  },
  {
   "cell_type": "markdown",
   "metadata": {},
   "source": [
    "## Vise alle variabeldefinisjoner\n",
    "I koden under vil alle variabeldefinisjoner bli skrevet ut til skjerm uten noen filtrering. "
   ]
  },
  {
   "cell_type": "code",
   "execution_count": null,
   "metadata": {},
   "outputs": [],
   "source": [
    "# Skrive ut til skjerm\n",
    "print(\"Alle variabeldefinisjoner:\")\n",
    "for variabel in variabel_definisjoner:\n",
    "    print(variabel)\n",
    "    print(\"\\n\")"
   ]
  },
  {
   "cell_type": "markdown",
   "metadata": {},
   "source": [
    "## Filtrere\n"
   ]
  },
  {
   "cell_type": "markdown",
   "metadata": {},
   "source": [
    "### Filtrere på dato\n",
    "\n",
    "I koden under vil variabeldefinisjoner som er gyldig på en spesifisert dato bli skrevet ut til skjerm.\n",
    "\n",
    "📌  Eksempel variabeldefinisjoner gyldig 20.januar 1994:\n",
    "\n",
    "`dato = date(1994,1,20)`\n",
    "\n",
    "📌  Eksempel variabeldefinisjoner gyldig 3.oktober 2024:\n",
    "\n",
    "`dato = date(2024,10,3)`\n"
   ]
  },
  {
   "cell_type": "code",
   "execution_count": null,
   "metadata": {},
   "outputs": [],
   "source": [
    "# Sett inn årstall, måned og år\n",
    "dato = date()\n",
    "\n",
    "variabel_definisjoner_dato = Vardef.list_variable_definitions(date_of_validity=dato)\n",
    "\n",
    "# Skrive ut til skjerm\n",
    "print(f\"Variabler filtrert på dato: {dato}\\n\")\n",
    "for variabel in variabel_definisjoner_dato:\n",
    "    print(variabel)\n",
    "    print(\"\\n\")"
   ]
  },
  {
   "cell_type": "markdown",
   "metadata": {},
   "source": [
    "### Filtrere på eier\n",
    "\n",
    "Hver variabelddefinisjon har et **eier-team** og en liste med **eier-grupper**. \n",
    "\n",
    "Vi filtrerer på **team**.\n",
    "\n",
    "📌  Eksempel: \n",
    "\n",
    "`dapla-felles`"
   ]
  },
  {
   "cell_type": "markdown",
   "metadata": {},
   "source": [
    "#### Dine variabeldefinisjoner\n",
    "\n",
    "I koden under vil variabeldefinisjoner som tilhører ditt **team**  bli skrevet ut til skjerm.\n",
    "\n",
    "Dette gjør at du kun ser de variablene som er eid av teamet du representerer i **Dapla Lab**."
   ]
  },
  {
   "cell_type": "code",
   "execution_count": null,
   "metadata": {},
   "outputs": [],
   "source": [
    "ditt_team_variabel_definisjoner = [\n",
    "    variabel\n",
    "    for variabel in variabel_definisjoner\n",
    "    if variabel.owner[\"team\"] == ditt_team\n",
    "]\n",
    "\n",
    "# Skrive ut til skjerm\n",
    "print(f\"Variabler filtrert på ditt team: {ditt_team}\\n\")\n",
    "for variable in ditt_team_variabel_definisjoner:\n",
    "    print(variable)\n",
    "    print(\"\\n\")"
   ]
  },
  {
   "cell_type": "markdown",
   "metadata": {},
   "source": [
    "#### Filtrerer på valgt eier team\n",
    "\n",
    "I koden under vil variabeldefinisjoner som er eid av det valgte **eier-teamet** bli skrevet ut til skjerm.\n",
    "\n"
   ]
  },
  {
   "cell_type": "code",
   "execution_count": null,
   "metadata": {},
   "outputs": [],
   "source": [
    "# Sett inn navn på team innenfor anførselstegnene\n",
    "eier_team = \"\"\n",
    "\n",
    "variabel_definisjoner_team = [\n",
    "    variabel\n",
    "    for variabel in variabel_definisjoner\n",
    "    if variabel.owner[\"team\"] == eier_team\n",
    "]\n",
    "\n",
    "# Skrive ut til skjerm\n",
    "print(f\"Variabler filtrert på team: {eier_team}\\n\")\n",
    "for variable in variabel_definisjoner_team:\n",
    "    print(variable)\n",
    "    print(\"\\n\")"
   ]
  },
  {
   "cell_type": "markdown",
   "metadata": {},
   "source": [
    "### Filtrere på status\n",
    "En variabeldefinisjon kan ha én av tre mulige statuser:\n",
    "- UTKAST - Variabeldefinisjonen er under arbeid og ikke ferdigstilt.\n",
    "- PUBLISERT INTERNT - Tilgjengelig for interne brukere, men ikke eksternt.\n",
    "- PUBLISERT EKSTERNT - Tilgjengelig for både interne og eksterne brukere.\n"
   ]
  },
  {
   "cell_type": "markdown",
   "metadata": {},
   "source": [
    "#### Status UTKAST"
   ]
  },
  {
   "cell_type": "code",
   "execution_count": null,
   "metadata": {},
   "outputs": [],
   "source": [
    "variabel_definisjoner_utkast = [\n",
    "    variabel\n",
    "    for variabel in variabel_definisjoner\n",
    "    if variable.variable_status == models.VariableStatus.DRAFT\n",
    "]\n",
    "\n",
    "# Skrive ut til skjerm\n",
    "print(\"Variabel status: 'UTKAST'\\n\")\n",
    "for variable in variabel_definisjoner_utkast:\n",
    "    print(variable)\n",
    "    print(\"\\n\")"
   ]
  },
  {
   "cell_type": "markdown",
   "metadata": {},
   "source": [
    "#### Status PUBLISERT INTERNT"
   ]
  },
  {
   "cell_type": "code",
   "execution_count": null,
   "metadata": {},
   "outputs": [],
   "source": [
    "variabel_definisjoner_publisert_internt = [\n",
    "    variabel\n",
    "    for variabel in variabel_definisjoner\n",
    "    if variable.variable_status == models.VariableStatus.PUBLISHED_INTERNAL\n",
    "]\n",
    "\n",
    "# Skrive ut til skjerm\n",
    "print(\"Variabel status: 'PUBLISERT INTERNT'\\n\")\n",
    "for variable in variabel_definisjoner_publisert_internt:\n",
    "    print(variable)\n",
    "    print(\"\\n\")"
   ]
  },
  {
   "cell_type": "markdown",
   "metadata": {},
   "source": [
    "#### Status PUBLISERT EKSTERNT"
   ]
  },
  {
   "cell_type": "code",
   "execution_count": null,
   "metadata": {},
   "outputs": [],
   "source": [
    "variabel_definisjoner_publisert_eksternt = [\n",
    "    variabel\n",
    "    for variabel in variabel_definisjoner\n",
    "    if variable.variable_status == models.VariableStatus.PUBLISHED_EXTERNAL\n",
    "]\n",
    "\n",
    "# Skrive ut til skjerm\n",
    "print(\"Variabel status: 'PUBLISERT EKSTERNT'\\n\")\n",
    "for variable in variabel_definisjoner_publisert_eksternt:\n",
    "    print(variable)\n",
    "    print(\"\\n\")"
   ]
  },
  {
   "cell_type": "markdown",
   "metadata": {},
   "source": [
    "#### Filtrere dine variabeldefinisjoner på status\n",
    "I koden under vil dine variabeldefinisjoner med status `UTKAST` skrives ut til skjerm. "
   ]
  },
  {
   "cell_type": "code",
   "execution_count": null,
   "metadata": {},
   "outputs": [],
   "source": [
    "dine_variabel_definisjoner_filtrert_status = [\n",
    "    variabel\n",
    "    for variabel in variabel_definisjoner\n",
    "    if variable.variable_status == models.VariableStatus.DRAFT\n",
    "    and variabel.owner[\"team\"] == ditt_team\n",
    "]\n",
    "\n",
    "# Skrive ut til skjerm\n",
    "print(\"Dine variabeldefinisjoner filtrert på variabel status 'UTKAST':\\n\")\n",
    "for variable in dine_variabel_definisjoner_filtrert_status:\n",
    "    print(variable)\n",
    "    print(\"\\n\")"
   ]
  },
  {
   "cell_type": "markdown",
   "metadata": {},
   "source": [
    "### Filtrerer på opprettet av deg\n",
    "\n",
    "Når du:\n",
    "- Oppretter en ny variabeldefinisjon\n",
    "- Migrerer en eksisterende variabeldefinisjon fra Vardok\n",
    "\n",
    "... vil din bruker automatisk bli lagret i feltet `created_by`.\n",
    "\n",
    "Merk:\n",
    "\n",
    "Feltet `created_by` settes når variabeldefinisjonen opprettes og endres ikke senere.\n",
    "\n",
    "📌 Eksempel:\n",
    "    \n",
    "`ano@ssb.no`\n"
   ]
  },
  {
   "cell_type": "code",
   "execution_count": null,
   "metadata": {},
   "outputs": [],
   "source": [
    "variabel_liste_opprette_av_meg = [\n",
    "    variabel for variabel in variabel_definisjoner if variable.created_by == din_bruker\n",
    "]\n",
    "\n",
    "# Skriv ut til skjerm\n",
    "print(f\"Opprettet av {din_bruker}:'\\n\")\n",
    "for variable in variabel_liste_opprette_av_meg:\n",
    "    print(variable)\n",
    "    print(\"\\n\")"
   ]
  }
 ],
 "metadata": {
  "kernelspec": {
   "display_name": "dapla-toolbelt-metadata-fJc960va-py3.12",
   "language": "python",
   "name": "python3"
  },
  "language_info": {
   "codemirror_mode": {
    "name": "ipython",
    "version": 3
   },
   "file_extension": ".py",
   "mimetype": "text/x-python",
   "name": "python",
   "nbconvert_exporter": "python",
   "pygments_lexer": "ipython3",
   "version": "3.12.0"
  }
 },
 "nbformat": 4,
 "nbformat_minor": 2
}
