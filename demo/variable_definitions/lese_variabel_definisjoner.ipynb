{
 "cells": [
  {
   "cell_type": "markdown",
   "metadata": {},
   "source": [
    "# Liste variablerdefinisjoner\n",
    "\n",
    "Denne Notebook er for deg som:\n",
    "\n",
    "- Ønsker en oversikt over lagrede variabeldefinisjoner\n",
    "- Vil filtrere variabler basert på status, dato eller eier m.m\n",
    "\n",
    "Innhold:\n",
    "* [Oppsett](#Oppsett)\n",
    "* [Vise alle variabeldefinisjoner](#Vise-alle-variabeldefinisjoner)\n",
    "* [Filtrere](#Filtrere)\n",
    "    \n",
    "\n"
   ]
  },
  {
   "cell_type": "markdown",
   "metadata": {},
   "source": [
    "## Oppsett\n",
    "Koden under kjøres som forberedelse for påfølgende steg"
   ]
  },
  {
   "cell_type": "code",
   "execution_count": null,
   "metadata": {},
   "outputs": [],
   "source": [
    "# Nødvendig import\n",
    "import logging\n",
    "import sys\n",
    "from datetime import date\n",
    "from dapla_metadata.variable_definitions import Vardef\n",
    "from dapla_metadata.variable_definitions import models\n",
    "\n",
    "# Redusere størrelsen på Traceback for mer tydelige feilmeldinger\n",
    "%xmode Minimal\n",
    "\n",
    "# Gjøre at logging vises\n",
    "logging.basicConfig(\n",
    "    format=\"%(levelname)s: %(message)s\",\n",
    "    level=logging.INFO,\n",
    "    stream=sys.stdout,\n",
    "    force=True,\n",
    ")"
   ]
  },
  {
   "cell_type": "markdown",
   "metadata": {},
   "source": [
    "Før man går videre forutsettes det også at koden under kjøres. \n",
    "\n",
    "Her henter vi en liste med alle variabler som vi lagrer i minnet som \n",
    "<span style=\"color:orange\">variabel_definisjoner</span>. "
   ]
  },
  {
   "cell_type": "code",
   "execution_count": null,
   "metadata": {},
   "outputs": [],
   "source": [
    "# Alle variabler lagret i Vardef\n",
    "variabel_definisjoner = Vardef.list_variable_definitions()"
   ]
  },
  {
   "cell_type": "markdown",
   "metadata": {},
   "source": [
    "## Vise alle variabeldefinisjoner"
   ]
  },
  {
   "cell_type": "markdown",
   "metadata": {},
   "source": [
    "### All informasjon\n",
    "\n",
    "Hvis man ønsker kan man ufiltrert skrive ut all informasjon til skjerm. \n",
    "\n",
    "Listen viser siste versjon i siste gyldighetsperiode for hver variabeldefinisjon.\n",
    "\n",
    "NB! Denne listen kan bli veldig lang og det anbefales å slette `cell output` før man går videre."
   ]
  },
  {
   "cell_type": "code",
   "execution_count": null,
   "metadata": {},
   "outputs": [],
   "source": [
    "# Skrive ut til skjerm\n",
    "# Hver variabel starter og slutter med krøllparanteser '{}'\n",
    "print(\"Alle variabeldefinisjoner:\")\n",
    "for variabel in variabel_definisjoner:\n",
    "    print(variabel)\n",
    "    print(\"\\n\")"
   ]
  },
  {
   "cell_type": "markdown",
   "metadata": {},
   "source": [
    "### Utvalgte felt"
   ]
  },
  {
   "cell_type": "code",
   "execution_count": null,
   "metadata": {},
   "outputs": [],
   "source": [
    "# Skrive ut primærfelt:\n",
    "# Id, Navn, kortnavn, definisjonstekst, gyldig fra,eier\n",
    "print(\"\")\n",
    "for variabel in variabel_definisjoner:\n",
    "    print(f\"Id: {variabel.id}\")\n",
    "    print(f\"Navn: {variabel.name}\")\n",
    "    print(f\"Kortnavn: {variabel.short_name}\")\n",
    "    print(f\"Eier: {variabel.owner}\")\n",
    "    print(f\"Gyldig fra: {variabel.valid_from}\")\n",
    "    print(\"\\n\")"
   ]
  },
  {
   "cell_type": "markdown",
   "metadata": {},
   "source": [
    "### Filtrere\n",
    "\n",
    "Innhold:\n",
    "* [Filtrere på dato](#dato)\n",
    "* [Filtrere på eier](#eier)\n",
    "* [Filtrere på status](#eier)\n",
    "* [Filtrere på person](#eier)"
   ]
  },
  {
   "cell_type": "markdown",
   "metadata": {},
   "source": [
    "#### Dato\n",
    "\n",
    "Vardef støtter filtrering på dato og liste med variabeldefinisjoner hentes direkte fra Vardef og er ikke avhengig av `variabel_definisjoner`.\n",
    "\n",
    "\n",
    "Resultatet er en liste med variabeldefinisjoner gyldig på valgt dato.\n"
   ]
  },
  {
   "cell_type": "markdown",
   "metadata": {},
   "source": [
    "Legg til dato som du ønsker å filtrere på\n",
    "\n",
    "Eksempel 2: \n",
    "Variabeldefinisjoner gyldig 20.januar 1994:\n",
    "\n",
    "`dato = date(1994,1,20)`\n",
    "\n",
    "Eksempel 2: \n",
    "Variabeldefinisjoner gyldig 3.oktober 2024:\n",
    "\n",
    "`dato = date(2024,10,3)`"
   ]
  },
  {
   "cell_type": "code",
   "execution_count": null,
   "metadata": {},
   "outputs": [],
   "source": [
    "# Erstatt 0 med ønsket år, måned og dag\n",
    "år = 0\n",
    "måned = 0\n",
    "dag = 0\n",
    "\n",
    "dato = date(år, måned, dag)"
   ]
  },
  {
   "cell_type": "code",
   "execution_count": null,
   "metadata": {},
   "outputs": [],
   "source": [
    "# Alle variabler lagret i Vardef gyldig på valgt dato\n",
    "variabel_definisjoner_dato = Vardef.list_variable_definitions(date_of_validity=dato)"
   ]
  },
  {
   "cell_type": "code",
   "execution_count": null,
   "metadata": {},
   "outputs": [],
   "source": [
    "# Skrive ut liste til skjerm\n",
    "print(f\"Variabler filtrert på dato: {dato}\\n\")\n",
    "for variabel in variabel_definisjoner_dato:\n",
    "    print(variabel)\n",
    "    print(\"\\n\")"
   ]
  },
  {
   "cell_type": "markdown",
   "metadata": {},
   "source": [
    "#### Eier\n",
    "Hver variabeldefinisjon har et eier-team og en liste med eier-grupper. \n",
    "Minst en gruppe må være tilknyttet eier-team og vi filtrerer på eier-team.\n",
    "\n",
    "Eksempel: \"dapla-felles\""
   ]
  },
  {
   "cell_type": "code",
   "execution_count": null,
   "metadata": {},
   "outputs": [],
   "source": [
    "# Sett inn navn på eier team innenfor anførselstegnene\n",
    "eier_team = \"\""
   ]
  },
  {
   "cell_type": "code",
   "execution_count": null,
   "metadata": {},
   "outputs": [],
   "source": [
    "# Alle variabler lagret i Vardef som er eid av valgt eier-team\n",
    "variabel_definisjoner_eier_team = [\n",
    "    variabel\n",
    "    for variabel in variabel_definisjoner\n",
    "    if variabel.owner[\"team\"] == eier_team\n",
    "]"
   ]
  },
  {
   "cell_type": "code",
   "execution_count": null,
   "metadata": {},
   "outputs": [],
   "source": [
    "# Skrive ut til skjerm\n",
    "print(f\"Variabler filtrert på eier: {eier_team}\\n\")\n",
    "for variable in variabel_definisjoner_eier_team:\n",
    "    print(variable)\n",
    "    print(\"\\n\")"
   ]
  },
  {
   "cell_type": "markdown",
   "metadata": {},
   "source": [
    "#### Filtrere på status\n",
    "Variabelens status kan være utkast, publisert internt eller publisert eksternt."
   ]
  },
  {
   "cell_type": "code",
   "execution_count": null,
   "metadata": {},
   "outputs": [],
   "source": [
    "# Liste med variabeldefinisjoner som har status utkast\n",
    "variabel_definisjoner_utkast = [\n",
    "    variabel\n",
    "    for variabel in variabel_definisjoner\n",
    "    if variable.variable_status == models.VariableStatus.DRAFT\n",
    "]"
   ]
  },
  {
   "cell_type": "code",
   "execution_count": null,
   "metadata": {},
   "outputs": [],
   "source": [
    "# Skrive ut til skjerm\n",
    "print(\"Variabel status: 'UTKAST'\\n\")\n",
    "for variable in variabel_definisjoner_utkast:\n",
    "    print(variable)\n",
    "    print(\"\\n\")"
   ]
  },
  {
   "cell_type": "code",
   "execution_count": null,
   "metadata": {},
   "outputs": [],
   "source": [
    "# Liste med variabeldefinisjoner publisert internt\n",
    "variabel_definisjoner_publisert_internt = [\n",
    "    variabel\n",
    "    for variabel in variabel_definisjoner\n",
    "    if variable.variable_status == models.VariableStatus.PUBLISHED_INTERNAL\n",
    "]"
   ]
  },
  {
   "cell_type": "code",
   "execution_count": null,
   "metadata": {},
   "outputs": [],
   "source": [
    "# Skrive ut til skjerm\n",
    "print(\"Variabel status: 'PUBLISERT INTERNT'\\n\")\n",
    "for variable in variabel_definisjoner_publisert_internt:\n",
    "    print(variable)\n",
    "    print(\"\\n\")"
   ]
  },
  {
   "cell_type": "code",
   "execution_count": null,
   "metadata": {},
   "outputs": [],
   "source": [
    "# Liste med variabeldefinisjoner publisert eksternt\n",
    "variabel_definisjoner_publisert_eksternt = [\n",
    "    variabel\n",
    "    for variabel in variabel_definisjoner\n",
    "    if variable.variable_status == models.VariableStatus.PUBLISHED_EXTERNAL\n",
    "]"
   ]
  },
  {
   "cell_type": "code",
   "execution_count": null,
   "metadata": {},
   "outputs": [],
   "source": [
    "# Skrive ut til skjerm\n",
    "print(\"Variabel status: 'PUBLISERT EKSTERNT'\\n\")\n",
    "for variable in variabel_definisjoner_publisert_eksternt:\n",
    "    print(variable)\n",
    "    print(\"\\n\")"
   ]
  },
  {
   "cell_type": "markdown",
   "metadata": {},
   "source": [
    "#### Person\n",
    "Det er to felt som kan peke tilbake på en bestemt person:\n",
    "- Opprettet av [`created_by`]:\n",
    "   Dette feltet settes når variabeldefinisjonen opprettes og endres ikke.\n",
    "   \n",
    "- Sist oppdatert [`last_updated_by`]:\n",
    "   For hver endring uavhengig av variabelens status oppdateres dette feltet med \n",
    "\n",
    "Eksempel:\n",
    "    `cbi@ssb.no`\n"
   ]
  },
  {
   "cell_type": "code",
   "execution_count": null,
   "metadata": {},
   "outputs": [],
   "source": [
    "# Sett inn ssb bruker innenfor anførselstegnene\n",
    "person = \"\""
   ]
  },
  {
   "cell_type": "code",
   "execution_count": null,
   "metadata": {},
   "outputs": [],
   "source": [
    "# Liste med variabeldefinisjoner opprettet av person\n",
    "variabel_liste_opprette_av_person = [\n",
    "    variabel for variabel in variabel_definisjoner if variable.created_by == person\n",
    "]"
   ]
  },
  {
   "cell_type": "code",
   "execution_count": null,
   "metadata": {},
   "outputs": [],
   "source": [
    "# Skrive ut til skjerm\n",
    "print(f\"Variabeldefinisjoner opprettet av {person}'\\n\")\n",
    "for variable in variabel_liste_opprette_av_person:\n",
    "    print(variable)\n",
    "    print(\"\\n\")"
   ]
  },
  {
   "cell_type": "code",
   "execution_count": null,
   "metadata": {},
   "outputs": [],
   "source": [
    "# Liste med variabeldefinisjoner endret av person\n",
    "variabel_liste_oppdatert_av_person = [\n",
    "    variabel for variabel in variabel_definisjoner if variable.last_updated_by == person\n",
    "]"
   ]
  },
  {
   "cell_type": "code",
   "execution_count": null,
   "metadata": {},
   "outputs": [],
   "source": [
    "# Skrive ut til skjerm\n",
    "print(f\"Variabeldefinisjoner endret av {person}'\\n\")\n",
    "for variable in variabel_liste_oppdatert_av_person:\n",
    "    print(variable)\n",
    "    print(\"\\n\")"
   ]
  }
 ],
 "metadata": {
  "kernelspec": {
   "display_name": "dapla-toolbelt-metadata-fJc960va-py3.12",
   "language": "python",
   "name": "python3"
  },
  "language_info": {
   "codemirror_mode": {
    "name": "ipython",
    "version": 3
   },
   "file_extension": ".py",
   "mimetype": "text/x-python",
   "name": "python",
   "nbconvert_exporter": "python",
   "pygments_lexer": "ipython3",
   "version": "3.12.0"
  }
 },
 "nbformat": 4,
 "nbformat_minor": 2
}
