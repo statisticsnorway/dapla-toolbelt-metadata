{
 "cells": [
  {
   "cell_type": "code",
   "execution_count": 1,
   "metadata": {},
   "outputs": [],
   "source": [
    "from datetime import date\n",
    "\n",
    "from dapla_metadata.variable_definitions.generated.vardef_client.models.contact import (\n",
    "    Contact,\n",
    ")\n",
    "from dapla_metadata.variable_definitions.generated.vardef_client.models.draft import (\n",
    "    Draft,\n",
    ")\n",
    "from dapla_metadata.variable_definitions.generated.vardef_client.models.update_draft import (\n",
    "    UpdateDraft,\n",
    ")\n",
    "from dapla_metadata.variable_definitions.vardef import Vardef"
   ]
  },
  {
   "cell_type": "code",
   "execution_count": null,
   "metadata": {},
   "outputs": [],
   "source": [
    "# If necessary check token\n",
    "from dapla_metadata.variable_definitions.config import get_oidc_token\n",
    "from dapla_metadata.variable_definitions.config import get_vardef_host\n",
    "\n",
    "print(get_oidc_token())\n",
    "print(get_vardef_host())"
   ]
  },
  {
   "cell_type": "code",
   "execution_count": 3,
   "metadata": {},
   "outputs": [],
   "source": [
    "### data for creating a draft variable definition\n",
    "### Run this for validating your data\n",
    "\n",
    "draft = Draft(\n",
    "    name = {\n",
    "        \"nb\": \"\",\n",
    "        \"nn\": \"\",\n",
    "        \"en\": \"\",\n",
    "    },\n",
    "    short_name= \"fin\",\n",
    "    definition= {\n",
    "        \"nb\": \"\",\n",
    "        \"nn\": \"\",\n",
    "        \"en\": \"\",\n",
    "    },\n",
    "    classification_reference=\"91\",\n",
    "    unit_types=[\n",
    "        \"01\",\n",
    "    ],\n",
    "    subject_fields=[\n",
    "        \"al\",\n",
    "    ],\n",
    "    contains_special_categories_of_personal_data=False,\n",
    "    measurement_type=None,\n",
    "    valid_from=date(2024,12,18),\n",
    "    external_reference_uri=None,\n",
    "    comment=None,\n",
    "    related_variable_definition_uris=None,\n",
    "    contact=None,\n",
    ")"
   ]
  },
  {
   "cell_type": "code",
   "execution_count": 5,
   "metadata": {},
   "outputs": [],
   "source": [
    "### Create draft variable definition and save in a variable\n",
    "# Run this only once per session\n",
    "\n",
    "my_draft = Vardef.create_draft(draft)"
   ]
  },
  {
   "cell_type": "code",
   "execution_count": null,
   "metadata": {},
   "outputs": [],
   "source": [
    "# check details\n",
    "print(my_draft.contact)"
   ]
  },
  {
   "cell_type": "code",
   "execution_count": 23,
   "metadata": {},
   "outputs": [],
   "source": [
    "# Update draft data add contact\n",
    "# validate data\n",
    "\n",
    "my_contact = Contact(\n",
    "    title={\n",
    "        \"nb\": \"res\",\n",
    "        \"nn\": \"res\",\n",
    "        \"en\": \"res\",\n",
    "        },\n",
    "    email=\"sibby@ssb.no\",\n",
    ")\n",
    "update_contact = UpdateDraft(\n",
    "    contact=my_contact,\n",
    ")"
   ]
  },
  {
   "cell_type": "code",
   "execution_count": null,
   "metadata": {},
   "outputs": [],
   "source": [
    "my_draft.update_draft(update_draft=update_contact)"
   ]
  },
  {
   "cell_type": "code",
   "execution_count": 12,
   "metadata": {},
   "outputs": [],
   "source": [
    "# update your variable\n",
    "my_draft = Vardef.get_variable_definition(my_draft.id)"
   ]
  },
  {
   "cell_type": "code",
   "execution_count": null,
   "metadata": {},
   "outputs": [],
   "source": [
    "# Test draft exceptions"
   ]
  },
  {
   "cell_type": "code",
   "execution_count": null,
   "metadata": {},
   "outputs": [],
   "source": [
    "# Publish\n",
    "from dapla_metadata.variable_definitions.generated.vardef_client.models.variable_status import VariableStatus\n",
    "\n",
    "\n",
    "update_status = UpdateDraft(\n",
    "    variable_status=VariableStatus.PUBLISHED_INTERNAL,\n",
    ")\n",
    "\n",
    "my_draft.update_draft(update_status)"
   ]
  },
  {
   "cell_type": "code",
   "execution_count": 29,
   "metadata": {},
   "outputs": [],
   "source": [
    "# create patch\n",
    "from dapla_metadata.variable_definitions.generated.vardef_client.models.patch import (\n",
    "    Patch,\n",
    ")\n",
    "\n",
    "add_unit_types_patch = Patch(\n",
    "    unit_types=[\"01\", \"02\"],\n",
    ")\n",
    "\n",
    "my_draft.create_patch(add_unit_types_patch)\n",
    "my_draft = Vardef.get_variable_definition(my_draft.id)"
   ]
  },
  {
   "cell_type": "code",
   "execution_count": null,
   "metadata": {},
   "outputs": [],
   "source": [
    "# patch exceptions\n",
    "invalid_subject_fields = Patch(\n",
    "    subject_fields=[\"hahah\"],\n",
    ")\n",
    "\n",
    "my_draft.create_patch(invalid_subject_fields)"
   ]
  },
  {
   "cell_type": "code",
   "execution_count": null,
   "metadata": {},
   "outputs": [],
   "source": [
    "# read details\n",
    "Vardef.get_variable_definition(my_draft.id).subject_fields"
   ]
  },
  {
   "cell_type": "code",
   "execution_count": null,
   "metadata": {},
   "outputs": [],
   "source": [
    "# create validity period\n",
    "from dapla_metadata.variable_definitions.generated.vardef_client.models.validity_period import (\n",
    "    ValidityPeriod,\n",
    ")\n",
    "\n",
    "invalid_validity_period = ValidityPeriod(\n",
    "    name={\n",
    "        \"nb\": \"new name\",\n",
    "    },\n",
    "    valid_from=date(2025,4,5),\n",
    ")\n",
    "\n",
    "my_draft.create_validity_period(invalid_validity_period)"
   ]
  },
  {
   "cell_type": "code",
   "execution_count": null,
   "metadata": {},
   "outputs": [],
   "source": [
    "# validity period exceptions\n",
    "# correct validity period\n",
    "# check languages\n",
    "\n",
    "valid_validity_period = ValidityPeriod(\n",
    "    definition={\n",
    "        \"nb\": \"ny definisjon\",\n",
    "        \"nn\": \"ny definisjon\",\n",
    "        \"en\": \"new definition\",\n",
    "    },\n",
    "    valid_from=date(2025,4,5),\n",
    ")\n",
    "my_draft.create_validity_period(valid_validity_period)\n"
   ]
  },
  {
   "cell_type": "code",
   "execution_count": 43,
   "metadata": {},
   "outputs": [
    {
     "name": "stdout",
     "output_type": "stream",
     "text": [
      "Warning: Pydantic serializer warnings:\n",
      "  Expected `LanguageStringType` but got `dict` with value `{'nb': '', 'nn': '', 'en': ''}` - serialized value may not be as expected\n",
      "  Expected `LanguageStringType` but got `dict` with value `{'nb': 'ny definisjon', '... 'en': 'new definition'}` - serialized value may not be as expected\n",
      "  Expected `Owner` but got `dict` with value `{'team': 'dapla-felles', ...pla-felles-developers']}` - serialized value may not be as expected\n",
      "  Expected `Contact` but got `dict` with value `{'title': {'nb': 'res', '...'email': 'sibby@ssb.no'}` - serialized value may not be as expected, Category: UserWarning, Filename: /Users/cecilieseim/Library/Caches/pypoetry/virtualenvs/dapla-toolbelt-metadata-fJc960va-py3.12/lib/python3.12/site-packages/pydantic/main.py, Line: 477\n",
      "{\n",
      "  \"id\": \"llg33thD\",\n",
      "  \"patch_id\": 8,\n",
      "  \"name\": {\n",
      "    \"nb\": \"\",\n",
      "    \"nn\": \"\",\n",
      "    \"en\": \"\"\n",
      "  },\n",
      "  \"short_name\": \"fin\",\n",
      "  \"definition\": {\n",
      "    \"nb\": \"ny definisjon\",\n",
      "    \"nn\": \"ny definisjon\",\n",
      "    \"en\": \"new definition\"\n",
      "  },\n",
      "  \"classification_reference\": \"91\",\n",
      "  \"unit_types\": [\n",
      "    \"01\",\n",
      "    \"02\"\n",
      "  ],\n",
      "  \"subject_fields\": [\n",
      "    \"al\"\n",
      "  ],\n",
      "  \"contains_special_categories_of_personal_data\": false,\n",
      "  \"variable_status\": \"PUBLISHED_INTERNAL\",\n",
      "  \"measurement_type\": null,\n",
      "  \"valid_from\": \"2025-04-05\",\n",
      "  \"valid_until\": null,\n",
      "  \"external_reference_uri\": null,\n",
      "  \"comment\": null,\n",
      "  \"related_variable_definition_uris\": null,\n",
      "  \"owner\": {\n",
      "    \"team\": \"dapla-felles\",\n",
      "    \"groups\": [\n",
      "      \"dapla-felles-developers\"\n",
      "    ]\n",
      "  },\n",
      "  \"contact\": {\n",
      "    \"title\": {\n",
      "      \"nb\": \"res\",\n",
      "      \"nn\": \"res\",\n",
      "      \"en\": \"res\"\n",
      "    },\n",
      "    \"email\": \"sibby@ssb.no\"\n",
      "  },\n",
      "  \"created_at\": \"2024-12-18T14:24:11.156000\",\n",
      "  \"created_by\": null,\n",
      "  \"last_updated_at\": \"2024-12-18T14:24:11.156000\",\n",
      "  \"last_updated_by\": null\n",
      "}\n"
     ]
    }
   ],
   "source": [
    "print(Vardef.get_variable_definition(my_draft.id))"
   ]
  },
  {
   "cell_type": "code",
   "execution_count": 46,
   "metadata": {},
   "outputs": [
    {
     "name": "stdout",
     "output_type": "stream",
     "text": [
      "[CompletePatchOutput(id='llg33thD', patch_id=1, name={'nb': '', 'nn': '', 'en': ''}, short_name='fin', definition={'nb': '', 'nn': '', 'en': ''}, classification_reference='91', unit_types=['01'], subject_fields=['al'], contains_special_categories_of_personal_data=False, variable_status=<VariableStatus.PUBLISHED_INTERNAL: 'PUBLISHED_INTERNAL'>, measurement_type=None, valid_from=datetime.date(2024, 12, 18), valid_until=None, external_reference_uri=None, comment=None, related_variable_definition_uris=None, owner={'team': 'dapla-felles', 'groups': ['dapla-felles-developers']}, contact={'title': {'nb': 'res', 'nn': 'res', 'en': 'res'}, 'email': 'sibby@ssb.no'}, created_at=datetime.datetime(2024, 12, 18, 13, 47, 50, 190000), created_by=None, last_updated_at=datetime.datetime(2024, 12, 18, 13, 51, 42, 802000), last_updated_by=None), CompletePatchOutput(id='llg33thD', patch_id=2, name={'nb': '', 'nn': '', 'en': ''}, short_name='fin', definition={'nb': '', 'nn': '', 'en': ''}, classification_reference='91', unit_types=['01', '02'], subject_fields=['al'], contains_special_categories_of_personal_data=False, variable_status=<VariableStatus.PUBLISHED_INTERNAL: 'PUBLISHED_INTERNAL'>, measurement_type=None, valid_from=datetime.date(2024, 12, 18), valid_until=None, external_reference_uri=None, comment=None, related_variable_definition_uris=None, owner={'team': 'dapla-felles', 'groups': ['dapla-felles-developers']}, contact={'title': {'nb': 'res', 'nn': 'res', 'en': 'res'}, 'email': 'sibby@ssb.no'}, created_at=datetime.datetime(2024, 12, 18, 13, 57, 48, 463000), created_by=None, last_updated_at=datetime.datetime(2024, 12, 18, 13, 57, 48, 463000), last_updated_by=None), CompletePatchOutput(id='llg33thD', patch_id=3, name={'nb': '', 'nn': '', 'en': ''}, short_name='fin', definition={'nb': '', 'nn': '', 'en': ''}, classification_reference='91', unit_types=['01', '02'], subject_fields=['al'], contains_special_categories_of_personal_data=False, variable_status=<VariableStatus.PUBLISHED_INTERNAL: 'PUBLISHED_INTERNAL'>, measurement_type=None, valid_from=datetime.date(2024, 12, 18), valid_until=None, external_reference_uri=None, comment=None, related_variable_definition_uris=None, owner={'team': 'dapla-felles', 'groups': ['dapla-felles-developers']}, contact={'title': {'nb': 'res', 'nn': 'res', 'en': 'res'}, 'email': 'sibby@ssb.no'}, created_at=datetime.datetime(2024, 12, 18, 14, 12, 42, 260000), created_by=None, last_updated_at=datetime.datetime(2024, 12, 18, 14, 12, 42, 260000), last_updated_by=None), CompletePatchOutput(id='llg33thD', patch_id=4, name={'nb': '', 'nn': '', 'en': ''}, short_name='fin', definition={'nb': '', 'nn': '', 'en': ''}, classification_reference='91', unit_types=['01', '02'], subject_fields=['al'], contains_special_categories_of_personal_data=False, variable_status=<VariableStatus.PUBLISHED_INTERNAL: 'PUBLISHED_INTERNAL'>, measurement_type=None, valid_from=datetime.date(2024, 12, 18), valid_until=None, external_reference_uri=None, comment=None, related_variable_definition_uris=None, owner={'team': 'dapla-felles', 'groups': ['dapla-felles-developers']}, contact={'title': {'nb': 'res', 'nn': 'res', 'en': 'res'}, 'email': 'sibby@ssb.no'}, created_at=datetime.datetime(2024, 12, 18, 14, 13, 15, 270000), created_by=None, last_updated_at=datetime.datetime(2024, 12, 18, 14, 13, 15, 270000), last_updated_by=None), CompletePatchOutput(id='llg33thD', patch_id=5, name={'nb': '', 'nn': '', 'en': ''}, short_name='fin', definition={'nb': '', 'nn': '', 'en': ''}, classification_reference='91', unit_types=['01'], subject_fields=['al'], contains_special_categories_of_personal_data=False, variable_status=<VariableStatus.PUBLISHED_INTERNAL: 'PUBLISHED_INTERNAL'>, measurement_type=None, valid_from=datetime.date(2024, 12, 18), valid_until=None, external_reference_uri=None, comment=None, related_variable_definition_uris=None, owner={'team': 'dapla-felles', 'groups': ['dapla-felles-developers']}, contact={'title': {'nb': 'res', 'nn': 'res', 'en': 'res'}, 'email': 'sibby@ssb.no'}, created_at=datetime.datetime(2024, 12, 18, 14, 13, 31, 86000), created_by=None, last_updated_at=datetime.datetime(2024, 12, 18, 14, 13, 31, 86000), last_updated_by=None), CompletePatchOutput(id='llg33thD', patch_id=6, name={'nb': '', 'nn': '', 'en': ''}, short_name='fin', definition={'nb': '', 'nn': '', 'en': ''}, classification_reference='91', unit_types=['01', '02'], subject_fields=['al'], contains_special_categories_of_personal_data=False, variable_status=<VariableStatus.PUBLISHED_INTERNAL: 'PUBLISHED_INTERNAL'>, measurement_type=None, valid_from=datetime.date(2024, 12, 18), valid_until=None, external_reference_uri=None, comment=None, related_variable_definition_uris=None, owner={'team': 'dapla-felles', 'groups': ['dapla-felles-developers']}, contact={'title': {'nb': 'res', 'nn': 'res', 'en': 'res'}, 'email': 'sibby@ssb.no'}, created_at=datetime.datetime(2024, 12, 18, 14, 13, 48, 368000), created_by=None, last_updated_at=datetime.datetime(2024, 12, 18, 14, 13, 48, 368000), last_updated_by=None), CompletePatchOutput(id='llg33thD', patch_id=7, name={'nb': '', 'nn': '', 'en': ''}, short_name='fin', definition={'nb': '', 'nn': '', 'en': ''}, classification_reference='91', unit_types=['01', '02'], subject_fields=['al'], contains_special_categories_of_personal_data=False, variable_status=<VariableStatus.PUBLISHED_INTERNAL: 'PUBLISHED_INTERNAL'>, measurement_type=None, valid_from=datetime.date(2024, 12, 18), valid_until=datetime.date(2025, 4, 4), external_reference_uri=None, comment=None, related_variable_definition_uris=None, owner={'team': 'dapla-felles', 'groups': ['dapla-felles-developers']}, contact={'title': {'nb': 'res', 'nn': 'res', 'en': 'res'}, 'email': 'sibby@ssb.no'}, created_at=datetime.datetime(2024, 12, 18, 14, 24, 11, 142000), created_by=None, last_updated_at=datetime.datetime(2024, 12, 18, 14, 24, 11, 142000), last_updated_by=None), CompletePatchOutput(id='llg33thD', patch_id=8, name={'nb': '', 'nn': '', 'en': ''}, short_name='fin', definition={'nb': 'ny definisjon', 'nn': 'ny definisjon', 'en': 'new definition'}, classification_reference='91', unit_types=['01', '02'], subject_fields=['al'], contains_special_categories_of_personal_data=False, variable_status=<VariableStatus.PUBLISHED_INTERNAL: 'PUBLISHED_INTERNAL'>, measurement_type=None, valid_from=datetime.date(2025, 4, 5), valid_until=None, external_reference_uri=None, comment=None, related_variable_definition_uris=None, owner={'team': 'dapla-felles', 'groups': ['dapla-felles-developers']}, contact={'title': {'nb': 'res', 'nn': 'res', 'en': 'res'}, 'email': 'sibby@ssb.no'}, created_at=datetime.datetime(2024, 12, 18, 14, 24, 11, 156000), created_by=None, last_updated_at=datetime.datetime(2024, 12, 18, 14, 24, 11, 156000), last_updated_by=None)]\n",
      "[CompletePatchOutput(id='llg33thD', patch_id=7, name={'nb': '', 'nn': '', 'en': ''}, short_name='fin', definition={'nb': '', 'nn': '', 'en': ''}, classification_reference='91', unit_types=['01', '02'], subject_fields=['al'], contains_special_categories_of_personal_data=False, variable_status=<VariableStatus.PUBLISHED_INTERNAL: 'PUBLISHED_INTERNAL'>, measurement_type=None, valid_from=datetime.date(2024, 12, 18), valid_until=datetime.date(2025, 4, 4), external_reference_uri=None, comment=None, related_variable_definition_uris=None, owner={'team': 'dapla-felles', 'groups': ['dapla-felles-developers']}, contact={'title': {'nb': 'res', 'nn': 'res', 'en': 'res'}, 'email': 'sibby@ssb.no'}, created_at=datetime.datetime(2024, 12, 18, 14, 24, 11, 142000), created_by=None, last_updated_at=datetime.datetime(2024, 12, 18, 14, 24, 11, 142000), last_updated_by=None), CompletePatchOutput(id='llg33thD', patch_id=8, name={'nb': '', 'nn': '', 'en': ''}, short_name='fin', definition={'nb': 'ny definisjon', 'nn': 'ny definisjon', 'en': 'new definition'}, classification_reference='91', unit_types=['01', '02'], subject_fields=['al'], contains_special_categories_of_personal_data=False, variable_status=<VariableStatus.PUBLISHED_INTERNAL: 'PUBLISHED_INTERNAL'>, measurement_type=None, valid_from=datetime.date(2025, 4, 5), valid_until=None, external_reference_uri=None, comment=None, related_variable_definition_uris=None, owner={'team': 'dapla-felles', 'groups': ['dapla-felles-developers']}, contact={'title': {'nb': 'res', 'nn': 'res', 'en': 'res'}, 'email': 'sibby@ssb.no'}, created_at=datetime.datetime(2024, 12, 18, 14, 24, 11, 156000), created_by=None, last_updated_at=datetime.datetime(2024, 12, 18, 14, 24, 11, 156000), last_updated_by=None)]\n"
     ]
    }
   ],
   "source": [
    "# check all patches\n",
    "print(my_draft.list_patches())\n",
    "print(my_draft.list_validity_periods())"
   ]
  }
 ],
 "metadata": {
  "kernelspec": {
   "display_name": "dapla-toolbelt-metadata-fJc960va-py3.12",
   "language": "python",
   "name": "python3"
  },
  "language_info": {
   "codemirror_mode": {
    "name": "ipython",
    "version": 3
   },
   "file_extension": ".py",
   "mimetype": "text/x-python",
   "name": "python",
   "nbconvert_exporter": "python",
   "pygments_lexer": "ipython3",
   "version": "3.12.0"
  }
 },
 "nbformat": 4,
 "nbformat_minor": 2
}
