{
 "cells": [
  {
   "cell_type": "markdown",
   "metadata": {},
   "source": [
    "# Variable Definitions demo for creators and owners of Variable definitions\n",
    "In order to create a variable definition\n",
    "When created creating team is set as owner of the definition. Only owner can edit a Variable defintion\n",
    "Owner can be changed or add.\n",
    "Info about Vardef and this demo is for creating and maintaining variable definitions"
   ]
  },
  {
   "cell_type": "code",
   "execution_count": 1,
   "metadata": {},
   "outputs": [],
   "source": [
    "from datetime import date\n",
    "from pprint import pprint\n",
    "\n",
    "from dapla_metadata.variable_definitions.vardef import Vardef\n"
   ]
  },
  {
   "cell_type": "markdown",
   "metadata": {},
   "source": [
    "## Environment"
   ]
  },
  {
   "cell_type": "code",
   "execution_count": 2,
   "metadata": {},
   "outputs": [
    {
     "data": {
      "text/plain": [
       "'http://localhost:8080'"
      ]
     },
     "execution_count": 2,
     "metadata": {},
     "output_type": "execute_result"
    }
   ],
   "source": [
    "\n",
    "from dapla_metadata.variable_definitions.config import get_active_group\n",
    "from dapla_metadata.variable_definitions.config import get_oidc_token\n",
    "from dapla_metadata.variable_definitions.config import get_vardef_host\n",
    "\n",
    "get_active_group()\n",
    "get_oidc_token()\n",
    "get_vardef_host()\n"
   ]
  },
  {
   "cell_type": "markdown",
   "metadata": {},
   "source": [
    "## Drafts"
   ]
  },
  {
   "cell_type": "markdown",
   "metadata": {},
   "source": [
    "### Create a draft\n",
    "Can produce a 409 CONFLICT if the `short_name` already exists."
   ]
  },
  {
   "cell_type": "code",
   "execution_count": 5,
   "metadata": {},
   "outputs": [],
   "source": [
    "### data for creating a draft variable definition\n",
    "### Run this for validating your data\n",
    "# Ref?\n",
    "\n",
    "from dapla_metadata.variable_definitions.generated.vardef_client.models.draft import (\n",
    "    Draft,\n",
    ")\n",
    "\n",
    "draft = Draft(\n",
    "    name = {\n",
    "        \"nb\": \"test_navn\",\n",
    "        \"nn\": \"test_namn\",\n",
    "        \"en\": \"test_name\",\n",
    "    },\n",
    "    short_name= \"landbak\",\n",
    "    definition= {\n",
    "        \"nb\": \"Skriv en definisjonstekst på norsk bokmål.\",\n",
    "        \"nn\": \"Skriv ein definosjonstekst på nynorsk.\",\n",
    "        \"en\": \"Write a definition text in english.\",\n",
    "    },\n",
    "    classification_reference=\"91\",\n",
    "    unit_types=[\n",
    "        \"01\",\n",
    "    ],\n",
    "    subject_fields=[\n",
    "        \"al\",\n",
    "    ],\n",
    "    contains_special_categories_of_personal_data=False,\n",
    "    measurement_type=None,\n",
    "    valid_from=date(2024,12,18),\n",
    "    external_reference_uri=None,\n",
    "    comment=None,\n",
    "    related_variable_definition_uris=None,\n",
    "    contact=None,\n",
    ")"
   ]
  },
  {
   "cell_type": "code",
   "execution_count": null,
   "metadata": {},
   "outputs": [],
   "source": [
    "# Test exception create draft\n",
    "# not null or klass codes"
   ]
  },
  {
   "cell_type": "code",
   "execution_count": 6,
   "metadata": {},
   "outputs": [],
   "source": [
    "### Create draft variable definition and save in a variable\n",
    "# Run this only once per session\n",
    "\n",
    "my_draft = Vardef.create_draft(draft)"
   ]
  },
  {
   "cell_type": "code",
   "execution_count": null,
   "metadata": {},
   "outputs": [],
   "source": [
    "# check details\n",
    "print(my_draft)"
   ]
  },
  {
   "cell_type": "markdown",
   "metadata": {},
   "source": [
    "### Edit a draft\n",
    "\n",
    "This operation must be performed on Variable Definitions with status DRAFT."
   ]
  },
  {
   "cell_type": "code",
   "execution_count": null,
   "metadata": {},
   "outputs": [],
   "source": [
    "# Update draft data add contact\n",
    "# validate data\n",
    "from dapla_metadata.variable_definitions.generated.vardef_client.models.contact import (\n",
    "    Contact,\n",
    ")\n",
    "from dapla_metadata.variable_definitions.generated.vardef_client.models.update_draft import (\n",
    "    UpdateDraft,\n",
    ")\n",
    "\n",
    "# Test draft exceptions invalid short_name\n",
    "# validation error\n",
    "invalid_short_name = UpdateDraft(\n",
    "    short_name=\"_)(45)\",\n",
    ")\n",
    "my_draft.update_draft(invalid_short_name)\n",
    "\n"
   ]
  },
  {
   "cell_type": "code",
   "execution_count": null,
   "metadata": {},
   "outputs": [],
   "source": [
    "# valid update\n",
    "my_contact = Contact(\n",
    "    title={\n",
    "        \"nb\": \"res\",\n",
    "        \"nn\": \"res\",\n",
    "        \"en\": \"res\",\n",
    "        },\n",
    "    email=\"sibby@ssb.no\",\n",
    ")\n",
    "update_contact = UpdateDraft(\n",
    "    contact=my_contact,\n",
    ")\n",
    "my_draft.update_draft(update_draft=update_contact)"
   ]
  },
  {
   "cell_type": "code",
   "execution_count": 12,
   "metadata": {},
   "outputs": [],
   "source": [
    "# Check saved value after update\n",
    "Vardef.get_variable_definition(my_draft.id).contact"
   ]
  },
  {
   "cell_type": "markdown",
   "metadata": {},
   "source": [
    "### Migrate a legacy definition from Vardok to Vardef\n",
    "\n",
    "Note: This will raise an error if the short name already exists."
   ]
  },
  {
   "cell_type": "code",
   "execution_count": null,
   "metadata": {},
   "outputs": [],
   "source": [
    "# Migrate from Vardok exception invalid id\n",
    "Vardef.migrate_from_vardok(\"21\")"
   ]
  },
  {
   "cell_type": "code",
   "execution_count": 5,
   "metadata": {},
   "outputs": [],
   "source": [
    "# Save variable Vardok\n",
    "my_vardok_draft = Vardef.migrate_from_vardok(\"2\")"
   ]
  },
  {
   "cell_type": "code",
   "execution_count": 6,
   "metadata": {},
   "outputs": [
    {
     "name": "stdout",
     "output_type": "stream",
     "text": [
      "{\n",
      "  \"id\": \"O8_opyHS\",\n",
      "  \"patch_id\": 1,\n",
      "  \"name\": {\n",
      "    \"nb\": \"Inntekt etter skatt\",\n",
      "    \"nn\": null,\n",
      "    \"en\": \"After-tax income\"\n",
      "  },\n",
      "  \"short_name\": \"wies\",\n",
      "  \"definition\": {\n",
      "    \"nb\": \"Yrkesinntekter, kapitalinntekter, skattepliktige og skattefrie overføringer, i løpet av kalenderåret. Utlignet skatt og negative overføringer er trukket i fra.\",\n",
      "    \"nn\": null,\n",
      "    \"en\": \"After-tax income is calculated as the sum of wages and salaries, income from self-employment, property income and transfers received minus total assessed taxes and negative transfers.\"\n",
      "  },\n",
      "  \"classification_reference\": null,\n",
      "  \"unit_types\": [\n",
      "    \"20\"\n",
      "  ],\n",
      "  \"subject_fields\": [],\n",
      "  \"contains_special_categories_of_personal_data\": false,\n",
      "  \"variable_status\": \"DRAFT\",\n",
      "  \"measurement_type\": null,\n",
      "  \"valid_from\": \"1993-01-01\",\n",
      "  \"valid_until\": null,\n",
      "  \"external_reference_uri\": \"https://www.ssb.no/a/xml/metadata/conceptvariable/vardok/2\",\n",
      "  \"comment\": null,\n",
      "  \"related_variable_definition_uris\": [],\n",
      "  \"owner\": {\n",
      "    \"team\": \"dapla-felles\",\n",
      "    \"groups\": [\n",
      "      \"dapla-felles-developers\"\n",
      "    ]\n",
      "  },\n",
      "  \"contact\": null,\n",
      "  \"created_at\": \"2024-12-18T21:10:41.540315\",\n",
      "  \"created_by\": null,\n",
      "  \"last_updated_at\": \"2024-12-18T21:10:41.540315\",\n",
      "  \"last_updated_by\": null\n",
      "}\n"
     ]
    }
   ],
   "source": [
    "print(my_vardok_draft)"
   ]
  },
  {
   "cell_type": "markdown",
   "metadata": {},
   "source": [
    "### Delete a draft\n",
    "\n",
    "This operation must be performed on Variable Definitions with status DRAFT."
   ]
  },
  {
   "cell_type": "code",
   "execution_count": null,
   "metadata": {},
   "outputs": [],
   "source": [
    "# When draft has been quality checked and the resulkt is as desired it is time to Publish the variable\n",
    "from dapla_metadata.variable_definitions.generated.vardef_client.models.variable_status import (\n",
    "    VariableStatus,\n",
    ")\n",
    "\n",
    "update_status = UpdateDraft(\n",
    "    variable_status=VariableStatus.PUBLISHED_INTERNAL,\n",
    ")\n",
    "\n",
    "my_draft.update_draft(update_status)"
   ]
  },
  {
   "cell_type": "markdown",
   "metadata": {},
   "source": [
    "## Patch"
   ]
  },
  {
   "cell_type": "code",
   "execution_count": 29,
   "metadata": {},
   "outputs": [],
   "source": [
    "# create patch\n",
    "from dapla_metadata.variable_definitions.generated.vardef_client.models.patch import (\n",
    "    Patch,\n",
    ")\n",
    "\n",
    "add_unit_types_patch = Patch(\n",
    "    unit_types=[\"01\", \"02\"],\n",
    ")\n",
    "\n",
    "my_draft.create_patch(add_unit_types_patch)\n",
    "my_draft = Vardef.get_variable_definition(my_draft.id)"
   ]
  },
  {
   "cell_type": "code",
   "execution_count": null,
   "metadata": {},
   "outputs": [],
   "source": [
    "# patch exceptions\n",
    "invalid_subject_fields = Patch(\n",
    "    subject_fields=[\"hahah\"],\n",
    ")\n",
    "\n",
    "my_draft.create_patch(invalid_subject_fields)"
   ]
  },
  {
   "cell_type": "code",
   "execution_count": null,
   "metadata": {},
   "outputs": [],
   "source": [
    "# change owner"
   ]
  },
  {
   "cell_type": "code",
   "execution_count": null,
   "metadata": {},
   "outputs": [],
   "source": [
    "# read details\n",
    "Vardef.get_variable_definition(my_draft.id).subject_fields"
   ]
  },
  {
   "cell_type": "code",
   "execution_count": null,
   "metadata": {},
   "outputs": [],
   "source": [
    "patches = my_draft.list_patches()\n",
    "pprint(patches)\n",
    "for patch in patches:\n",
    "    print(patch)"
   ]
  },
  {
   "cell_type": "markdown",
   "metadata": {},
   "source": [
    "## Validity period"
   ]
  },
  {
   "cell_type": "code",
   "execution_count": null,
   "metadata": {},
   "outputs": [],
   "source": [
    "# create validity period\n",
    "from dapla_metadata.variable_definitions.generated.vardef_client.models.validity_period import (\n",
    "    ValidityPeriod,\n",
    ")\n",
    "\n",
    "invalid_validity_period = ValidityPeriod(\n",
    "    name={\n",
    "        \"nb\": \"new name\",\n",
    "    },\n",
    "    valid_from=date(2025,4,5),\n",
    ")\n",
    "\n",
    "my_draft.create_validity_period(invalid_validity_period)"
   ]
  },
  {
   "cell_type": "code",
   "execution_count": null,
   "metadata": {},
   "outputs": [],
   "source": [
    "# validity period exceptions\n",
    "# correct validity period\n",
    "# check languages\n",
    "\n",
    "valid_validity_period = ValidityPeriod(\n",
    "    definition={\n",
    "        \"nb\": \"ny definisjon\",\n",
    "        \"nn\": \"ny definisjon\",\n",
    "        \"en\": \"new definition\",\n",
    "    },\n",
    "    valid_from=date(2025,4,5),\n",
    ")\n",
    "my_draft.create_validity_period(valid_validity_period)\n"
   ]
  },
  {
   "cell_type": "code",
   "execution_count": null,
   "metadata": {},
   "outputs": [],
   "source": [
    "print(Vardef.get_variable_definition(my_draft.id))"
   ]
  },
  {
   "cell_type": "code",
   "execution_count": null,
   "metadata": {},
   "outputs": [],
   "source": [
    "validity_periods = my_draft.list_validity_periods()\n",
    "for period in validity_periods:\n",
    "    print(period)"
   ]
  }
 ],
 "metadata": {
  "kernelspec": {
   "display_name": "dapla-toolbelt-metadata-fJc960va-py3.12",
   "language": "python",
   "name": "python3"
  },
  "language_info": {
   "codemirror_mode": {
    "name": "ipython",
    "version": 3
   },
   "file_extension": ".py",
   "mimetype": "text/x-python",
   "name": "python",
   "nbconvert_exporter": "python",
   "pygments_lexer": "ipython3",
   "version": "3.12.0"
  }
 },
 "nbformat": 4,
 "nbformat_minor": 2
}
