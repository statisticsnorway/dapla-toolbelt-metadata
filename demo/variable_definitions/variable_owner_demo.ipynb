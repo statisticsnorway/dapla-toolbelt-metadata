{
 "cells": [
  {
   "cell_type": "markdown",
   "metadata": {},
   "source": [
    "# Variable Definitions demo for creators and owners of Variable definitions\n",
    "In order to create a variable definition\n",
    "When created creating team is set as owner of the definition. Only owner can edit a Variable defintion\n",
    "Owner can be changed or add.\n",
    "Info about Vardef and this demo is for creating and maintaining variable definitions"
   ]
  },
  {
   "cell_type": "code",
   "execution_count": 15,
   "metadata": {},
   "outputs": [],
   "source": [
    "from datetime import date\n",
    "from pprint import pprint\n",
    "\n",
    "from dapla_metadata.variable_definitions.vardef import Vardef\n"
   ]
  },
  {
   "cell_type": "markdown",
   "metadata": {},
   "source": [
    "## Environment"
   ]
  },
  {
   "cell_type": "code",
   "execution_count": 4,
   "metadata": {},
   "outputs": [
    {
     "data": {
      "text/plain": [
       "'http://localhost:8080'"
      ]
     },
     "execution_count": 4,
     "metadata": {},
     "output_type": "execute_result"
    }
   ],
   "source": [
    "\n",
    "from dapla_metadata.variable_definitions.config import get_active_group\n",
    "from dapla_metadata.variable_definitions.config import get_oidc_token\n",
    "from dapla_metadata.variable_definitions.config import get_vardef_host\n",
    "\n",
    "get_active_group()\n",
    "get_oidc_token()\n",
    "get_vardef_host()\n"
   ]
  },
  {
   "cell_type": "markdown",
   "metadata": {},
   "source": [
    "## Drafts"
   ]
  },
  {
   "cell_type": "markdown",
   "metadata": {},
   "source": [
    "### Create a draft\n",
    "Can produce a 409 CONFLICT if the `short_name` already exists."
   ]
  },
  {
   "cell_type": "code",
   "execution_count": 5,
   "metadata": {},
   "outputs": [],
   "source": [
    "### data for creating a draft variable definition\n",
    "### Run this for validating your data\n",
    "# Ref?\n",
    "\n",
    "from dapla_metadata.variable_definitions.generated.vardef_client.models.draft import (\n",
    "    Draft,\n",
    ")\n",
    "\n",
    "draft = Draft(\n",
    "    name = {\n",
    "        \"nb\": \"test_navn\",\n",
    "        \"nn\": \"test_namn\",\n",
    "        \"en\": \"test_name\",\n",
    "    },\n",
    "    short_name= \"landbak\",\n",
    "    definition= {\n",
    "        \"nb\": \"Skriv en definisjonstekst på norsk bokmål.\",\n",
    "        \"nn\": \"Skriv ein definosjonstekst på nynorsk.\",\n",
    "        \"en\": \"Write a definition text in english.\",\n",
    "    },\n",
    "    classification_reference=\"91\",\n",
    "    unit_types=[\n",
    "        \"01\",\n",
    "    ],\n",
    "    subject_fields=[\n",
    "        \"al\",\n",
    "    ],\n",
    "    contains_special_categories_of_personal_data=False,\n",
    "    measurement_type=None,\n",
    "    valid_from=date(2024,12,18),\n",
    "    external_reference_uri=None,\n",
    "    comment=None,\n",
    "    related_variable_definition_uris=None,\n",
    "    contact=None,\n",
    ")"
   ]
  },
  {
   "cell_type": "code",
   "execution_count": null,
   "metadata": {},
   "outputs": [],
   "source": [
    "# Test exception create draft\n",
    "# not null or klass codes"
   ]
  },
  {
   "cell_type": "code",
   "execution_count": 6,
   "metadata": {},
   "outputs": [],
   "source": [
    "### Create draft variable definition and save in a variable\n",
    "# Run this only once per session\n",
    "\n",
    "my_draft = Vardef.create_draft(draft)"
   ]
  },
  {
   "cell_type": "code",
   "execution_count": 17,
   "metadata": {},
   "outputs": [
    {
     "name": "stdout",
     "output_type": "stream",
     "text": [
      "Warning: Pydantic serializer warnings:\n",
      "  Expected `LanguageStringType` but got `dict` with value `{'nb': 'test_navn', 'nn':...amn', 'en': 'test_name'}` - serialized value may not be as expected\n",
      "  Expected `LanguageStringType` but got `dict` with value `{'nb': 'Skriv en definisj...ition text in english.'}` - serialized value may not be as expected\n",
      "  Expected `Owner` but got `dict` with value `{'team': 'dapla-felles', ...pla-felles-developers']}` - serialized value may not be as expected, Category: UserWarning, Filename: /Users/cecilieseim/Library/Caches/pypoetry/virtualenvs/dapla-toolbelt-metadata-fJc960va-py3.12/lib/python3.12/site-packages/pydantic/main.py, Line: 477\n",
      "{\n",
      "  \"id\": \"4S-1a7Kn\",\n",
      "  \"patch_id\": 1,\n",
      "  \"name\": {\n",
      "    \"nb\": \"test_navn\",\n",
      "    \"nn\": \"test_namn\",\n",
      "    \"en\": \"test_name\"\n",
      "  },\n",
      "  \"short_name\": \"landbak\",\n",
      "  \"definition\": {\n",
      "    \"nb\": \"Skriv en definisjonstekst på norsk bokmål.\",\n",
      "    \"nn\": \"Skriv ein definosjonstekst på nynorsk.\",\n",
      "    \"en\": \"Write a definition text in english.\"\n",
      "  },\n",
      "  \"classification_reference\": \"91\",\n",
      "  \"unit_types\": [\n",
      "    \"01\"\n",
      "  ],\n",
      "  \"subject_fields\": [\n",
      "    \"al\"\n",
      "  ],\n",
      "  \"contains_special_categories_of_personal_data\": false,\n",
      "  \"variable_status\": \"DRAFT\",\n",
      "  \"measurement_type\": null,\n",
      "  \"valid_from\": \"2024-12-18\",\n",
      "  \"valid_until\": null,\n",
      "  \"external_reference_uri\": null,\n",
      "  \"comment\": null,\n",
      "  \"related_variable_definition_uris\": null,\n",
      "  \"owner\": {\n",
      "    \"team\": \"dapla-felles\",\n",
      "    \"groups\": [\n",
      "      \"dapla-felles-developers\"\n",
      "    ]\n",
      "  },\n",
      "  \"contact\": null,\n",
      "  \"created_at\": \"2024-12-18T20:41:51.268819\",\n",
      "  \"created_by\": null,\n",
      "  \"last_updated_at\": \"2024-12-18T20:41:51.268819\",\n",
      "  \"last_updated_by\": null\n",
      "}\n"
     ]
    }
   ],
   "source": [
    "# check details\n",
    "print(my_draft)"
   ]
  },
  {
   "cell_type": "markdown",
   "metadata": {},
   "source": [
    "### Edit a draft\n",
    "\n",
    "This operation must be performed on Variable Definitions with status DRAFT."
   ]
  },
  {
   "cell_type": "code",
   "execution_count": 23,
   "metadata": {},
   "outputs": [],
   "source": [
    "# Update draft data add contact\n",
    "# validate data\n",
    "from dapla_metadata.variable_definitions.generated.vardef_client.models.contact import (\n",
    "    Contact,\n",
    ")\n",
    "from dapla_metadata.variable_definitions.generated.vardef_client.models.update_draft import (\n",
    "    UpdateDraft,\n",
    ")\n",
    "\n",
    "# Test draft exceptions invalid short_name\n",
    "invalid_short_name = UpdateDraft(\n",
    "    short_name=\"_)(45)\",\n",
    ")\n",
    "my_draft.update_draft(invalid_short_name)\n",
    "\n"
   ]
  },
  {
   "cell_type": "code",
   "execution_count": null,
   "metadata": {},
   "outputs": [],
   "source": [
    "# valid update\n",
    "my_contact = Contact(\n",
    "    title={\n",
    "        \"nb\": \"res\",\n",
    "        \"nn\": \"res\",\n",
    "        \"en\": \"res\",\n",
    "        },\n",
    "    email=\"sibby@ssb.no\",\n",
    ")\n",
    "update_contact = UpdateDraft(\n",
    "    contact=my_contact,\n",
    ")\n",
    "my_draft.update_draft(update_draft=update_contact)"
   ]
  },
  {
   "cell_type": "code",
   "execution_count": 12,
   "metadata": {},
   "outputs": [],
   "source": [
    "# Check saved value after update\n",
    "Vardef.get_variable_definition(my_draft.id).contact"
   ]
  },
  {
   "cell_type": "markdown",
   "metadata": {},
   "source": [
    "### Migrate a legacy definition from Vardok to Vardef\n",
    "\n",
    "Note: This will raise an error if the short name already exists."
   ]
  },
  {
   "cell_type": "code",
   "execution_count": 18,
   "metadata": {},
   "outputs": [
    {
     "ename": "NotFoundException",
     "evalue": "(404)\nReason: Not Found\nHTTP response headers: HTTPHeaderDict({'Content-Type': 'application/problem+json', 'date': 'Wed, 18 Dec 2024 19:56:56 GMT', 'content-length': '114'})\nHTTP response body: {\"type\":\"about:blank\",\"title\":null,\"status\":404,\"detail\":\"Vardok id 21 not found\",\"instance\":null,\"parameters\":{}}\n",
     "output_type": "error",
     "traceback": [
      "\u001b[0;31m---------------------------------------------------------------------------\u001b[0m",
      "\u001b[0;31mNotFoundException\u001b[0m                         Traceback (most recent call last)",
      "Cell \u001b[0;32mIn[18], line 2\u001b[0m\n\u001b[1;32m      1\u001b[0m \u001b[38;5;66;03m# Migrate from Vardok exception invalid id\u001b[39;00m\n\u001b[0;32m----> 2\u001b[0m \u001b[43mVardef\u001b[49m\u001b[38;5;241;43m.\u001b[39;49m\u001b[43mmigrate_from_vardok\u001b[49m\u001b[43m(\u001b[49m\u001b[38;5;124;43m\"\u001b[39;49m\u001b[38;5;124;43m21\u001b[39;49m\u001b[38;5;124;43m\"\u001b[39;49m\u001b[43m)\u001b[49m\n",
      "File \u001b[0;32m~/gitHub/dapla-toolbelt-metadata/src/dapla_metadata/variable_definitions/vardef.py:111\u001b[0m, in \u001b[0;36mVardef.migrate_from_vardok\u001b[0;34m(cls, vardok_id)\u001b[0m\n\u001b[1;32m     94\u001b[0m \u001b[38;5;129m@classmethod\u001b[39m\n\u001b[1;32m     95\u001b[0m \u001b[38;5;28;01mdef\u001b[39;00m \u001b[38;5;21mmigrate_from_vardok\u001b[39m(\u001b[38;5;28mcls\u001b[39m, vardok_id: \u001b[38;5;28mstr\u001b[39m) \u001b[38;5;241m-\u001b[39m\u001b[38;5;241m>\u001b[39m VariableDefinition:\n\u001b[1;32m     96\u001b[0m \u001b[38;5;250m    \u001b[39m\u001b[38;5;124;03m\"\"\"Migrate a Variable Definition from Vardok to Vardef.\u001b[39;00m\n\u001b[1;32m     97\u001b[0m \n\u001b[1;32m     98\u001b[0m \u001b[38;5;124;03m    - Each Vardok Variable Definition may only be migrated once.\u001b[39;00m\n\u001b[0;32m   (...)\u001b[0m\n\u001b[1;32m    106\u001b[0m \u001b[38;5;124;03m        VariableDefinition: The migrated Variable Definition in Vardef.\u001b[39;00m\n\u001b[1;32m    107\u001b[0m \u001b[38;5;124;03m    \"\"\"\u001b[39;00m\n\u001b[1;32m    108\u001b[0m     \u001b[38;5;28;01mreturn\u001b[39;00m VariableDefinition\u001b[38;5;241m.\u001b[39mfrom_model(\n\u001b[1;32m    109\u001b[0m         \u001b[43mDataMigrationApi\u001b[49m\u001b[43m(\u001b[49m\n\u001b[1;32m    110\u001b[0m \u001b[43m            \u001b[49m\u001b[43mVardefClient\u001b[49m\u001b[38;5;241;43m.\u001b[39;49m\u001b[43mget_client\u001b[49m\u001b[43m(\u001b[49m\u001b[43m)\u001b[49m\u001b[43m,\u001b[49m\n\u001b[0;32m--> 111\u001b[0m \u001b[43m        \u001b[49m\u001b[43m)\u001b[49m\u001b[38;5;241;43m.\u001b[39;49m\u001b[43mcreate_variable_definition_from_var_dok\u001b[49m\u001b[43m(\u001b[49m\n\u001b[1;32m    112\u001b[0m \u001b[43m            \u001b[49m\u001b[43mactive_group\u001b[49m\u001b[38;5;241;43m=\u001b[39;49m\u001b[43mconfig\u001b[49m\u001b[38;5;241;43m.\u001b[39;49m\u001b[43mget_active_group\u001b[49m\u001b[43m(\u001b[49m\u001b[43m)\u001b[49m\u001b[43m,\u001b[49m\n\u001b[1;32m    113\u001b[0m \u001b[43m            \u001b[49m\u001b[43mvardok_id\u001b[49m\u001b[38;5;241;43m=\u001b[39;49m\u001b[43mvardok_id\u001b[49m\u001b[43m,\u001b[49m\n\u001b[1;32m    114\u001b[0m \u001b[43m        \u001b[49m\u001b[43m)\u001b[49m,\n\u001b[1;32m    115\u001b[0m     )\n",
      "File \u001b[0;32m~/Library/Caches/pypoetry/virtualenvs/dapla-toolbelt-metadata-fJc960va-py3.12/lib/python3.12/site-packages/pydantic/_internal/_validate_call.py:38\u001b[0m, in \u001b[0;36mupdate_wrapper_attributes.<locals>.wrapper_function\u001b[0;34m(*args, **kwargs)\u001b[0m\n\u001b[1;32m     36\u001b[0m \u001b[38;5;129m@functools\u001b[39m\u001b[38;5;241m.\u001b[39mwraps(wrapped)\n\u001b[1;32m     37\u001b[0m \u001b[38;5;28;01mdef\u001b[39;00m \u001b[38;5;21mwrapper_function\u001b[39m(\u001b[38;5;241m*\u001b[39margs, \u001b[38;5;241m*\u001b[39m\u001b[38;5;241m*\u001b[39mkwargs):\n\u001b[0;32m---> 38\u001b[0m     \u001b[38;5;28;01mreturn\u001b[39;00m \u001b[43mwrapper\u001b[49m\u001b[43m(\u001b[49m\u001b[38;5;241;43m*\u001b[39;49m\u001b[43margs\u001b[49m\u001b[43m,\u001b[49m\u001b[43m \u001b[49m\u001b[38;5;241;43m*\u001b[39;49m\u001b[38;5;241;43m*\u001b[39;49m\u001b[43mkwargs\u001b[49m\u001b[43m)\u001b[49m\n",
      "File \u001b[0;32m~/Library/Caches/pypoetry/virtualenvs/dapla-toolbelt-metadata-fJc960va-py3.12/lib/python3.12/site-packages/pydantic/_internal/_validate_call.py:111\u001b[0m, in \u001b[0;36mValidateCallWrapper.__call__\u001b[0;34m(self, *args, **kwargs)\u001b[0m\n\u001b[1;32m    110\u001b[0m \u001b[38;5;28;01mdef\u001b[39;00m \u001b[38;5;21m__call__\u001b[39m(\u001b[38;5;28mself\u001b[39m, \u001b[38;5;241m*\u001b[39margs: Any, \u001b[38;5;241m*\u001b[39m\u001b[38;5;241m*\u001b[39mkwargs: Any) \u001b[38;5;241m-\u001b[39m\u001b[38;5;241m>\u001b[39m Any:\n\u001b[0;32m--> 111\u001b[0m     res \u001b[38;5;241m=\u001b[39m \u001b[38;5;28;43mself\u001b[39;49m\u001b[38;5;241;43m.\u001b[39;49m\u001b[43m__pydantic_validator__\u001b[49m\u001b[38;5;241;43m.\u001b[39;49m\u001b[43mvalidate_python\u001b[49m\u001b[43m(\u001b[49m\u001b[43mpydantic_core\u001b[49m\u001b[38;5;241;43m.\u001b[39;49m\u001b[43mArgsKwargs\u001b[49m\u001b[43m(\u001b[49m\u001b[43margs\u001b[49m\u001b[43m,\u001b[49m\u001b[43m \u001b[49m\u001b[43mkwargs\u001b[49m\u001b[43m)\u001b[49m\u001b[43m)\u001b[49m\n\u001b[1;32m    112\u001b[0m     \u001b[38;5;28;01mif\u001b[39;00m \u001b[38;5;28mself\u001b[39m\u001b[38;5;241m.\u001b[39m__return_pydantic_validator__:\n\u001b[1;32m    113\u001b[0m         \u001b[38;5;28;01mreturn\u001b[39;00m \u001b[38;5;28mself\u001b[39m\u001b[38;5;241m.\u001b[39m__return_pydantic_validator__(res)\n",
      "File \u001b[0;32m~/gitHub/dapla-toolbelt-metadata/src/dapla_metadata/variable_definitions/generated/vardef_client/api/data_migration_api.py:107\u001b[0m, in \u001b[0;36mDataMigrationApi.create_variable_definition_from_var_dok\u001b[0;34m(self, vardok_id, active_group, _request_timeout, _request_auth, _content_type, _headers, _host_index)\u001b[0m\n\u001b[1;32m    102\u001b[0m response_data \u001b[38;5;241m=\u001b[39m \u001b[38;5;28mself\u001b[39m\u001b[38;5;241m.\u001b[39mapi_client\u001b[38;5;241m.\u001b[39mcall_api(\n\u001b[1;32m    103\u001b[0m     \u001b[38;5;241m*\u001b[39m_param,\n\u001b[1;32m    104\u001b[0m     _request_timeout\u001b[38;5;241m=\u001b[39m_request_timeout,\n\u001b[1;32m    105\u001b[0m )\n\u001b[1;32m    106\u001b[0m response_data\u001b[38;5;241m.\u001b[39mread()\n\u001b[0;32m--> 107\u001b[0m \u001b[38;5;28;01mreturn\u001b[39;00m \u001b[38;5;28;43mself\u001b[39;49m\u001b[38;5;241;43m.\u001b[39;49m\u001b[43mapi_client\u001b[49m\u001b[38;5;241;43m.\u001b[39;49m\u001b[43mresponse_deserialize\u001b[49m\u001b[43m(\u001b[49m\n\u001b[1;32m    108\u001b[0m \u001b[43m    \u001b[49m\u001b[43mresponse_data\u001b[49m\u001b[38;5;241;43m=\u001b[39;49m\u001b[43mresponse_data\u001b[49m\u001b[43m,\u001b[49m\n\u001b[1;32m    109\u001b[0m \u001b[43m    \u001b[49m\u001b[43mresponse_types_map\u001b[49m\u001b[38;5;241;43m=\u001b[39;49m\u001b[43m_response_types_map\u001b[49m\u001b[43m,\u001b[49m\n\u001b[1;32m    110\u001b[0m \u001b[43m\u001b[49m\u001b[43m)\u001b[49m\u001b[38;5;241m.\u001b[39mdata\n",
      "File \u001b[0;32m~/gitHub/dapla-toolbelt-metadata/src/dapla_metadata/variable_definitions/generated/vardef_client/api_client.py:321\u001b[0m, in \u001b[0;36mApiClient.response_deserialize\u001b[0;34m(self, response_data, response_types_map)\u001b[0m\n\u001b[1;32m    319\u001b[0m \u001b[38;5;28;01mfinally\u001b[39;00m:\n\u001b[1;32m    320\u001b[0m     \u001b[38;5;28;01mif\u001b[39;00m \u001b[38;5;129;01mnot\u001b[39;00m \u001b[38;5;241m200\u001b[39m \u001b[38;5;241m<\u001b[39m\u001b[38;5;241m=\u001b[39m response_data\u001b[38;5;241m.\u001b[39mstatus \u001b[38;5;241m<\u001b[39m\u001b[38;5;241m=\u001b[39m \u001b[38;5;241m299\u001b[39m:\n\u001b[0;32m--> 321\u001b[0m         \u001b[38;5;28;01mraise\u001b[39;00m \u001b[43mApiException\u001b[49m\u001b[38;5;241;43m.\u001b[39;49m\u001b[43mfrom_response\u001b[49m\u001b[43m(\u001b[49m\n\u001b[1;32m    322\u001b[0m \u001b[43m            \u001b[49m\u001b[43mhttp_resp\u001b[49m\u001b[38;5;241;43m=\u001b[39;49m\u001b[43mresponse_data\u001b[49m\u001b[43m,\u001b[49m\n\u001b[1;32m    323\u001b[0m \u001b[43m            \u001b[49m\u001b[43mbody\u001b[49m\u001b[38;5;241;43m=\u001b[39;49m\u001b[43mresponse_text\u001b[49m\u001b[43m,\u001b[49m\n\u001b[1;32m    324\u001b[0m \u001b[43m            \u001b[49m\u001b[43mdata\u001b[49m\u001b[38;5;241;43m=\u001b[39;49m\u001b[43mreturn_data\u001b[49m\u001b[43m,\u001b[49m\n\u001b[1;32m    325\u001b[0m \u001b[43m        \u001b[49m\u001b[43m)\u001b[49m\n\u001b[1;32m    327\u001b[0m \u001b[38;5;28;01mreturn\u001b[39;00m ApiResponse(\n\u001b[1;32m    328\u001b[0m     status_code\u001b[38;5;241m=\u001b[39mresponse_data\u001b[38;5;241m.\u001b[39mstatus,\n\u001b[1;32m    329\u001b[0m     data\u001b[38;5;241m=\u001b[39mreturn_data,\n\u001b[1;32m    330\u001b[0m     headers\u001b[38;5;241m=\u001b[39mresponse_data\u001b[38;5;241m.\u001b[39mgetheaders(),\n\u001b[1;32m    331\u001b[0m     raw_data\u001b[38;5;241m=\u001b[39mresponse_data\u001b[38;5;241m.\u001b[39mdata,\n\u001b[1;32m    332\u001b[0m )\n",
      "File \u001b[0;32m~/gitHub/dapla-toolbelt-metadata/src/dapla_metadata/variable_definitions/generated/vardef_client/exceptions.py:147\u001b[0m, in \u001b[0;36mApiException.from_response\u001b[0;34m(cls, http_resp, body, data)\u001b[0m\n\u001b[1;32m    144\u001b[0m     \u001b[38;5;28;01mraise\u001b[39;00m ForbiddenException(http_resp\u001b[38;5;241m=\u001b[39mhttp_resp, body\u001b[38;5;241m=\u001b[39mbody, data\u001b[38;5;241m=\u001b[39mdata)\n\u001b[1;32m    146\u001b[0m \u001b[38;5;28;01mif\u001b[39;00m http_resp\u001b[38;5;241m.\u001b[39mstatus \u001b[38;5;241m==\u001b[39m \u001b[38;5;241m404\u001b[39m:\n\u001b[0;32m--> 147\u001b[0m     \u001b[38;5;28;01mraise\u001b[39;00m NotFoundException(http_resp\u001b[38;5;241m=\u001b[39mhttp_resp, body\u001b[38;5;241m=\u001b[39mbody, data\u001b[38;5;241m=\u001b[39mdata)\n\u001b[1;32m    149\u001b[0m \u001b[38;5;28;01mif\u001b[39;00m \u001b[38;5;241m500\u001b[39m \u001b[38;5;241m<\u001b[39m\u001b[38;5;241m=\u001b[39m http_resp\u001b[38;5;241m.\u001b[39mstatus \u001b[38;5;241m<\u001b[39m\u001b[38;5;241m=\u001b[39m \u001b[38;5;241m599\u001b[39m:\n\u001b[1;32m    150\u001b[0m     \u001b[38;5;28;01mraise\u001b[39;00m ServiceException(http_resp\u001b[38;5;241m=\u001b[39mhttp_resp, body\u001b[38;5;241m=\u001b[39mbody, data\u001b[38;5;241m=\u001b[39mdata)\n",
      "\u001b[0;31mNotFoundException\u001b[0m: (404)\nReason: Not Found\nHTTP response headers: HTTPHeaderDict({'Content-Type': 'application/problem+json', 'date': 'Wed, 18 Dec 2024 19:56:56 GMT', 'content-length': '114'})\nHTTP response body: {\"type\":\"about:blank\",\"title\":null,\"status\":404,\"detail\":\"Vardok id 21 not found\",\"instance\":null,\"parameters\":{}}\n"
     ]
    }
   ],
   "source": [
    "# Migrate from Vardok exception invalid id\n",
    "Vardef.migrate_from_vardok(\"21\")"
   ]
  },
  {
   "cell_type": "code",
   "execution_count": null,
   "metadata": {},
   "outputs": [],
   "source": [
    "# Save variable Vardok\n",
    "my_vardok_draft = Vardef.migrate_from_vardok(\"1607\")"
   ]
  },
  {
   "cell_type": "markdown",
   "metadata": {},
   "source": [
    "### Delete a draft\n",
    "\n",
    "This operation must be performed on Variable Definitions with status DRAFT."
   ]
  },
  {
   "cell_type": "code",
   "execution_count": null,
   "metadata": {},
   "outputs": [],
   "source": [
    "# When draft has been quality checked and the resulkt is as desired it is time to Publish the variable\n",
    "from dapla_metadata.variable_definitions.generated.vardef_client.models.variable_status import (\n",
    "    VariableStatus,\n",
    ")\n",
    "\n",
    "update_status = UpdateDraft(\n",
    "    variable_status=VariableStatus.PUBLISHED_INTERNAL,\n",
    ")\n",
    "\n",
    "my_draft.update_draft(update_status)"
   ]
  },
  {
   "cell_type": "markdown",
   "metadata": {},
   "source": [
    "## Patch"
   ]
  },
  {
   "cell_type": "code",
   "execution_count": 29,
   "metadata": {},
   "outputs": [],
   "source": [
    "# create patch\n",
    "from dapla_metadata.variable_definitions.generated.vardef_client.models.patch import (\n",
    "    Patch,\n",
    ")\n",
    "\n",
    "add_unit_types_patch = Patch(\n",
    "    unit_types=[\"01\", \"02\"],\n",
    ")\n",
    "\n",
    "my_draft.create_patch(add_unit_types_patch)\n",
    "my_draft = Vardef.get_variable_definition(my_draft.id)"
   ]
  },
  {
   "cell_type": "code",
   "execution_count": null,
   "metadata": {},
   "outputs": [],
   "source": [
    "# patch exceptions\n",
    "invalid_subject_fields = Patch(\n",
    "    subject_fields=[\"hahah\"],\n",
    ")\n",
    "\n",
    "my_draft.create_patch(invalid_subject_fields)"
   ]
  },
  {
   "cell_type": "code",
   "execution_count": null,
   "metadata": {},
   "outputs": [],
   "source": [
    "# change owner"
   ]
  },
  {
   "cell_type": "code",
   "execution_count": null,
   "metadata": {},
   "outputs": [],
   "source": [
    "# read details\n",
    "Vardef.get_variable_definition(my_draft.id).subject_fields"
   ]
  },
  {
   "cell_type": "code",
   "execution_count": null,
   "metadata": {},
   "outputs": [],
   "source": [
    "patches = my_draft.list_patches()\n",
    "pprint(patches)\n",
    "for patch in patches:\n",
    "    print(patch)"
   ]
  },
  {
   "cell_type": "markdown",
   "metadata": {},
   "source": [
    "## Validity period"
   ]
  },
  {
   "cell_type": "code",
   "execution_count": null,
   "metadata": {},
   "outputs": [],
   "source": [
    "# create validity period\n",
    "from dapla_metadata.variable_definitions.generated.vardef_client.models.validity_period import (\n",
    "    ValidityPeriod,\n",
    ")\n",
    "\n",
    "invalid_validity_period = ValidityPeriod(\n",
    "    name={\n",
    "        \"nb\": \"new name\",\n",
    "    },\n",
    "    valid_from=date(2025,4,5),\n",
    ")\n",
    "\n",
    "my_draft.create_validity_period(invalid_validity_period)"
   ]
  },
  {
   "cell_type": "code",
   "execution_count": null,
   "metadata": {},
   "outputs": [],
   "source": [
    "# validity period exceptions\n",
    "# correct validity period\n",
    "# check languages\n",
    "\n",
    "valid_validity_period = ValidityPeriod(\n",
    "    definition={\n",
    "        \"nb\": \"ny definisjon\",\n",
    "        \"nn\": \"ny definisjon\",\n",
    "        \"en\": \"new definition\",\n",
    "    },\n",
    "    valid_from=date(2025,4,5),\n",
    ")\n",
    "my_draft.create_validity_period(valid_validity_period)\n"
   ]
  },
  {
   "cell_type": "code",
   "execution_count": null,
   "metadata": {},
   "outputs": [],
   "source": [
    "print(Vardef.get_variable_definition(my_draft.id))"
   ]
  },
  {
   "cell_type": "code",
   "execution_count": null,
   "metadata": {},
   "outputs": [],
   "source": [
    "validity_periods = my_draft.list_validity_periods()\n",
    "for period in validity_periods:\n",
    "    print(period)"
   ]
  }
 ],
 "metadata": {
  "kernelspec": {
   "display_name": "dapla-toolbelt-metadata-fJc960va-py3.12",
   "language": "python",
   "name": "python3"
  },
  "language_info": {
   "codemirror_mode": {
    "name": "ipython",
    "version": 3
   },
   "file_extension": ".py",
   "mimetype": "text/x-python",
   "name": "python",
   "nbconvert_exporter": "python",
   "pygments_lexer": "ipython3",
   "version": "3.12.0"
  }
 },
 "nbformat": 4,
 "nbformat_minor": 2
}
