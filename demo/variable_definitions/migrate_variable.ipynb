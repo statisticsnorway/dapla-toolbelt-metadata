{
 "cells": [
  {
   "cell_type": "markdown",
   "metadata": {},
   "source": [
    "### Migrere en variabeldefinisjon fra Vardok til Vardef\n",
    "\n",
    "Denne notebooken viser hvordan man kan migrere en variable fra Vardok til Vardef. Etter migrering blir variabelen lagret som `DRAFT`"
   ]
  },
  {
   "cell_type": "code",
   "execution_count": null,
   "metadata": {},
   "outputs": [],
   "source": [
    "from datetime import date\n",
    "\n",
    "from dapla_metadata.variable_definitions import Vardef\n"
   ]
  },
  {
   "cell_type": "code",
   "execution_count": null,
   "metadata": {},
   "outputs": [],
   "source": [
    "my_vardok_draft = Vardef.migrate_from_vardok(\"90\")\n",
    "print(my_vardok_draft)\n",
    "\n"
   ]
  },
  {
   "cell_type": "markdown",
   "metadata": {},
   "source": [
    "Hvis Vardok mangler gyldig kortnavn vil et unikt kortnavn bli generert slik at variabelen kan migreres. Merk at dette kortnavnet er ikke gyldig for publisering og må endres i `Draft`.\n",
    "\n",
    "Alle genererte kortnavn begynner med `generert`.\n",
    "\n",
    "Under er et eksempel på hvordan eier kan få oversikt over alle variabeldefinisjoner med generert kortnavn."
   ]
  },
  {
   "cell_type": "code",
   "execution_count": null,
   "metadata": {},
   "outputs": [],
   "source": [
    "my_vardok_missing_short_name = Vardef.migrate_from_vardok(\"123\")\n",
    "my_owner_team = \"dapla-felles\"\n",
    "my_team_variables_generert_kortnavn = [\n",
    "    {variable.short_name, variable.id}\n",
    "    for variable in Vardef.list_variable_definitions()\n",
    "    if variable.owner[\"team\"] == my_owner_team\n",
    "    and variable.short_name.startswith(\"generert\")\n",
    "]\n",
    "print(my_team_variables_generert_kortnavn)"
   ]
  },
  {
   "cell_type": "markdown",
   "metadata": {},
   "source": [
    "Vardok som mangler verdi for `valid_from` vil få generert en default gyldig fra dato `1900-01-01`.\n",
    "\n",
    "Denne datoen kan publiseres.\n",
    "\n",
    "Under er et eksempel på hvordan eier kan få oversikt over alle variabeldefinisjoner med generert gyldig fra dato."
   ]
  },
  {
   "cell_type": "code",
   "execution_count": null,
   "metadata": {},
   "outputs": [],
   "source": [
    "\n",
    "\n",
    "my_vardok_missing_valid_from = Vardef.migrate_from_vardok(\"100\")\n",
    "my_owner_team = \"dapla-felles\"\n",
    "my_team_variables_generert_valid_from = [\n",
    "    {variable.valid_from, variable.id}\n",
    "    for variable in Vardef.list_variable_definitions()\n",
    "    if variable.owner[\"team\"] == my_owner_team\n",
    "    and variable.valid_from == date(1900, 1, 1)\n",
    "]\n",
    "print(my_team_variables_generert_valid_from)"
   ]
  }
 ],
 "metadata": {
  "kernelspec": {
   "display_name": "Python 3",
   "language": "python",
   "name": "python3"
  },
  "language_info": {
   "codemirror_mode": {
    "name": "ipython",
    "version": 3
   },
   "file_extension": ".py",
   "mimetype": "text/x-python",
   "name": "python",
   "nbconvert_exporter": "python",
   "pygments_lexer": "ipython3",
   "version": "3.11.5"
  }
 },
 "nbformat": 4,
 "nbformat_minor": 2
}
