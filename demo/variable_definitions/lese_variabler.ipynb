{
 "cells": [
  {
   "cell_type": "markdown",
   "metadata": {},
   "source": [
    "# Lese variabler\n",
    "\n",
    "Innhold:\n",
    "* [Oppsett](#Oppsett)\n",
    "* [Vise alle variabler](#Vise-alle-variabler)\n",
    "    * [Oppsett variabler](#Oppsett-variabler)\n",
    "    * [Vise alle variabler](#)\n",
    "    * [Filtrere](#Filtrere)\n",
    "        * [Filtere på dato](#Filtrere-på-dato)\n",
    "        * [Filtrere på eier](#Filtrere-på-eier)\n",
    "        * [Filtrere på status](#Filtrere-på-status)\n",
    "        * [Filtrere på person](#Filtrere-på-person)\n",
    "        * [Kombinere filtre](#Kombinere-filtere)\n",
    "\n",
    "* [Vise en variabel](#Vise-en-variabel)\n",
    "    * [Kortnavn](#Kortnavn)\n",
    "    * [Id](#Kortnavn)\n",
    "    * [Patches](#Patches)\n",
    "    * [Gyldighetsperioder](#Gyldighetsperioder)\n",
    "* [Nyttig](\"Nyttig)\n",
    "    * [Telle](#Telle)\n",
    "\n"
   ]
  },
  {
   "cell_type": "markdown",
   "metadata": {},
   "source": [
    "## Oppsett\n",
    "Koden under kjøres som forberedelse for påfølgende steg"
   ]
  },
  {
   "cell_type": "code",
   "execution_count": null,
   "metadata": {},
   "outputs": [],
   "source": [
    "# Nødvendig import\n",
    "import logging\n",
    "import sys\n",
    "from datetime import date\n",
    "from dapla_metadata.variable_definitions import Vardef\n",
    "\n",
    "# Redusere størrelsen på Traceback for mer tydelige feilmeldinger\n",
    "%xmode Minimal\n",
    "\n",
    "# Gjøre at logging vises\n",
    "logging.basicConfig(\n",
    "    format=\"%(levelname)s: %(message)s\",\n",
    "    level=logging.INFO,\n",
    "    stream=sys.stdout,\n",
    "    force=True,\n",
    ")"
   ]
  },
  {
   "cell_type": "markdown",
   "metadata": {},
   "source": [
    "## Vise alle variabler\n",
    "\n",
    "Innhold:\n",
    "* [Oppsett variabler](#Oppsett-variabler)\n",
    "* [Vise alle variabler](#Vise-alle-variabler)\n",
    "* [Filtrere ](#Filtrere)"
   ]
  },
  {
   "cell_type": "markdown",
   "metadata": {},
   "source": [
    "### Oppsett variabler\n",
    "Før man går videre forutsettes det at koden under kjøres på begynnelsen av en økt. \n",
    "\n",
    "Her henter vi en liste med alle variabler som vi lagrer i minnet som \n",
    "<span style=\"color:orange\">variabel_liste</span>."
   ]
  },
  {
   "cell_type": "code",
   "execution_count": null,
   "metadata": {},
   "outputs": [],
   "source": [
    "variabel_liste = Vardef.list_variable_definitions()"
   ]
  },
  {
   "cell_type": "markdown",
   "metadata": {},
   "source": [
    "#### Vis alle variabler"
   ]
  },
  {
   "cell_type": "code",
   "execution_count": null,
   "metadata": {},
   "outputs": [],
   "source": [
    "# Vil returnere alle variabler lagret i Vardef\n",
    "# Hver variabel skrives ut til skjerm \n",
    "for variable in variabel_liste:\n",
    "    print(variable)\n",
    "    print(\"\\n\")"
   ]
  },
  {
   "cell_type": "markdown",
   "metadata": {},
   "source": [
    "### Filtrere\n",
    "\n",
    "Innhold:\n",
    "* [Filtrere på dato](#Filtrere-på-dato)\n",
    "* [Filtrere på eier](#Filtrere-på-eier)\n",
    "* [Filtrere på status](#Filtrere-på-status)\n",
    "* [Filtrere på person](#Filtrere-på-person)\n",
    "* [Kombinere filtre](#Kombinere-filtere)"
   ]
  },
  {
   "cell_type": "markdown",
   "metadata": {},
   "source": [
    "#### Dato\n",
    "\n",
    "Bruk tall\n",
    "\n",
    "Dag og måned skal ikke ha 0 foran, for eksempel juni = 6 (og ikke 06)\n",
    "\n",
    "Eksempel 1: \n",
    "Ønsker variabeldefinisjoner gyldig 20.januar 2025:\n",
    "\n",
    "`dato = date(2025,1,20)`\n",
    "\n",
    "Eksempel 2: \n",
    "Ønsker variabeldefinisjoner gyldig 4.november 1983:\n",
    "\n",
    "`dato = date(1983,11,4)`"
   ]
  },
  {
   "cell_type": "code",
   "execution_count": null,
   "metadata": {},
   "outputs": [],
   "source": [
    "# Erstatt 0 med ønsket år, måned, dag: \n",
    "år = 0\n",
    "måned = 0\n",
    "dag = 0\n",
    "\n",
    "dato = date(år, måned, dag)"
   ]
  },
  {
   "cell_type": "code",
   "execution_count": null,
   "metadata": {},
   "outputs": [],
   "source": [
    "variabel_liste_dato = Vardef.list_variable_definitions(date_of_validity=dato)"
   ]
  },
  {
   "cell_type": "markdown",
   "metadata": {},
   "source": [
    "#### Filtrere på eier\n",
    "Her bruker vi navnet på eier team.\n",
    "\n",
    "Eksempel: \"dapla-felles\""
   ]
  },
  {
   "cell_type": "code",
   "execution_count": null,
   "metadata": {},
   "outputs": [],
   "source": [
    "# Navn på eier team\n",
    "eier_team = \"\""
   ]
  },
  {
   "cell_type": "code",
   "execution_count": null,
   "metadata": {},
   "outputs": [],
   "source": [
    "variabel_liste_eier = [variabel for variabel in variabel_liste if variabel.owner[\"team\"] == eier_team]"
   ]
  },
  {
   "cell_type": "code",
   "execution_count": null,
   "metadata": {},
   "outputs": [],
   "source": [
    "# Vise liste på skjerm\n",
    "for variable in variabel_liste_eier:\n",
    "    print(variable)\n",
    "    print(\"\\n\")"
   ]
  },
  {
   "cell_type": "markdown",
   "metadata": {},
   "source": [
    "#### Filtrere på status\n",
    "Variabelens status kan være "
   ]
  },
  {
   "cell_type": "code",
   "execution_count": null,
   "metadata": {},
   "outputs": [],
   "source": [
    "variabel_liste_utkast = [variabel for variabel in variabel_liste if variable.variable_status == models.VariableStatus.DRAFT]\n",
    "print(draft_variables)"
   ]
  },
  {
   "cell_type": "markdown",
   "metadata": {},
   "source": [
    "##### Draft"
   ]
  },
  {
   "cell_type": "markdown",
   "metadata": {},
   "source": [
    "###### Blokkere"
   ]
  },
  {
   "cell_type": "markdown",
   "metadata": {},
   "source": [
    "##### Publisert internt"
   ]
  },
  {
   "cell_type": "markdown",
   "metadata": {},
   "source": [
    "##### Publisert eksternt"
   ]
  },
  {
   "cell_type": "markdown",
   "metadata": {},
   "source": [
    "#### Tilhører et eier team"
   ]
  },
  {
   "cell_type": "markdown",
   "metadata": {},
   "source": [
    "##### Eier og status"
   ]
  },
  {
   "cell_type": "markdown",
   "metadata": {},
   "source": [
    "#### Er opprettet eller endret av meg"
   ]
  },
  {
   "cell_type": "markdown",
   "metadata": {},
   "source": [
    "#### Telle variabeldefinisjoner"
   ]
  },
  {
   "cell_type": "code",
   "execution_count": null,
   "metadata": {},
   "outputs": [],
   "source": [
    "# Oversikt over antall lagrede variabeldefinisjoner.\n",
    "print(f\"Antall variabeldefinisjoner: {len(variabel_definisjoner)}\")"
   ]
  }
 ],
 "metadata": {
  "kernelspec": {
   "display_name": "dapla-toolbelt-metadata-fJc960va-py3.12",
   "language": "python",
   "name": "python3"
  },
  "language_info": {
   "codemirror_mode": {
    "name": "ipython",
    "version": 3
   },
   "file_extension": ".py",
   "mimetype": "text/x-python",
   "name": "python",
   "nbconvert_exporter": "python",
   "pygments_lexer": "ipython3",
   "version": "3.12.0"
  }
 },
 "nbformat": 4,
 "nbformat_minor": 2
}
