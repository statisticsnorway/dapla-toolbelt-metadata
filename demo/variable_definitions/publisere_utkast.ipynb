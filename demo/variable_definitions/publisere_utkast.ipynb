{
 "cells": [
  {
   "cell_type": "markdown",
   "metadata": {},
   "source": [
    "# Publisere et utkast\n",
    "\n",
    "Denne Notebook er for deg som:\n",
    "\n",
    "- Har en kvalitetsjekket variabeldefinisjon med status `UTKAST`\n",
    "- Ønsker å publisere internt eller eksternt\n",
    "\n",
    "Forutsetninger:\n",
    "- Du må ha enten `Kortnavn` eller `id` for variabeldefinisjonen du vil publisere\n",
    "\n",
    "Du kan velge to metoder:\n",
    "- Kodebasert metode: Oppdater status direkte i kode\n",
    "- Fil-basert metode: Lag en YAML-fil og oppdater status med fil"
   ]
  },
  {
   "cell_type": "markdown",
   "metadata": {},
   "source": [
    "Innhold:\n",
    "* [Oppsett](#oppsett)\n",
    "* [Publiserer med kode](#kodebasert-metode)\n",
    "* [Publisere med fil](#fil-basert-metode)"
   ]
  },
  {
   "cell_type": "markdown",
   "metadata": {},
   "source": [
    "## Viktig informasjon om publisering\n",
    "\n",
    "Merk at prosessen med å publisere er irreversibel. Når en variabeldefinisjon er publisert kan den ikke avpubliseres eller slettes.\n",
    "\n",
    "Det er ulike regler som gjelder ved publisering internt og eksternt.\n",
    "\n",
    "Ved intern publisering må alle obligatoriske felt ha verdi.\n",
    "\n",
    "Ved ekstern publisere må i tillegg alle felt som er flerspråklige ha verdier på alle språk (bokmål, nynorsk og engelsk).\n",
    "\n",
    "Merk også at når en variabeldefinisjon er publisert eksternt kan den ikke endres tilbake til å kun være publisert internt."
   ]
  },
  {
   "cell_type": "markdown",
   "metadata": {},
   "source": [
    "## Oppsett\n",
    "\n",
    "Koden under kjøres som forberedelse for påfølgende steg"
   ]
  },
  {
   "cell_type": "code",
   "execution_count": null,
   "metadata": {},
   "outputs": [],
   "source": [
    "# Nødvendig import\n",
    "import logging\n",
    "import sys\n",
    "\n",
    "from dapla_metadata.variable_definitions import Vardef\n",
    "from dapla_metadata.variable_definitions import models\n",
    "\n",
    "# Redusere størrelsen på Traceback for mer tydelige feilmeldinger\n",
    "%xmode Minimal\n",
    "\n",
    "# Gjøre at logging vises\n",
    "logging.basicConfig(\n",
    "    format=\"%(levelname)s: %(message)s\",\n",
    "    level=logging.INFO,\n",
    "    stream=sys.stdout,\n",
    "    force=True,\n",
    ")"
   ]
  },
  {
   "cell_type": "markdown",
   "metadata": {},
   "source": [
    "## Kodebasert metode"
   ]
  },
  {
   "cell_type": "markdown",
   "metadata": {},
   "source": [
    "### Hente ut variabeldefinisjon ved hjelp av `Kortnavn` eller `id`"
   ]
  },
  {
   "cell_type": "markdown",
   "metadata": {},
   "source": [
    "Hvis du har `Kortnavn` velg [Variabeldefinisjon fra kortnavn](#variabeldefinisjon-fra-kortnavn)\n",
    "\n",
    "Hvis du har `id`  velg [Variabeldefinisjon fra id](#variabeldefinisjon-fra-id)\n",
    "\n",
    "NB! Velg kun en av metodene for å unngå feil.\n",
    "\n",
    "Gå deretter videre til [Endre status](#endre-status)"
   ]
  },
  {
   "cell_type": "markdown",
   "metadata": {},
   "source": [
    "#### Variabeldefinisjon fra kortnavn"
   ]
  },
  {
   "cell_type": "code",
   "execution_count": null,
   "metadata": {},
   "outputs": [],
   "source": [
    "# Sett inn kortnavn mellom anførselstegn\n",
    "mitt_kortnavn = \"\"\n",
    "# Lagre variabeldefinisjonen i minnet\n",
    "min_variabel = Vardef.get_variable_definition_by_shortname(short_name=mitt_kortnavn)\n"
   ]
  },
  {
   "cell_type": "markdown",
   "metadata": {},
   "source": [
    "#### Variabeldefinisjon fra id"
   ]
  },
  {
   "cell_type": "code",
   "execution_count": null,
   "metadata": {},
   "outputs": [],
   "source": [
    "# Sett inn id mellom anførselstegn\n",
    "min_id = \"\"\n",
    "# Lagre variabeldefinisjon i minnet \n",
    "min_variabel= Vardef.get_variable_definition_by_id(variable_definition_id=min_id)\n"
   ]
  },
  {
   "cell_type": "markdown",
   "metadata": {},
   "source": [
    "### Endre status"
   ]
  },
  {
   "cell_type": "code",
   "execution_count": null,
   "metadata": {},
   "outputs": [],
   "source": [
    "# Publisere internt\n",
    "status_internt = models.VariableStatus.PUBLISHED_INTERNAL"
   ]
  },
  {
   "cell_type": "code",
   "execution_count": null,
   "metadata": {},
   "outputs": [],
   "source": [
    "# Publisere eksternt\n",
    "status_eksternt = models.VariableStatus.PUBLISHED_EXTERNAL"
   ]
  },
  {
   "cell_type": "markdown",
   "metadata": {},
   "source": [
    "I koden under bytter du ut `None` med valgt status, enten `status_internt` eller `status_eksternt`"
   ]
  },
  {
   "cell_type": "code",
   "execution_count": null,
   "metadata": {},
   "outputs": [],
   "source": [
    "# Bytt ut None med status\n",
    "min_status = None\n",
    "min_oppdatering = models.UpdateDraft(variable_status=min_status)"
   ]
  },
  {
   "cell_type": "markdown",
   "metadata": {},
   "source": [
    "### Lagre i Vardef\n",
    "\n",
    "I koden under lagrer vi den oppdaterte statusen i Vardef. Dette steget er essensielt for å endre statusen og må gjennomføres uten feilmeldinger. \n",
    "\n",
    "Er du usikker om det var vellykket kan du gå videre til [Bekrefte publisering](#bekrefte-publisering) og hvis status er uendret forsøke på nytt."
   ]
  },
  {
   "cell_type": "code",
   "execution_count": null,
   "metadata": {},
   "outputs": [],
   "source": [
    "# Her lagrer vi endringen i Vardef\n",
    "min_variabel.update_draft(min_oppdatering)"
   ]
  },
  {
   "cell_type": "markdown",
   "metadata": {},
   "source": [
    "### Bekrefte publisering"
   ]
  },
  {
   "cell_type": "code",
   "execution_count": null,
   "metadata": {},
   "outputs": [],
   "source": [
    "# Sjekk status med kortnavn\n",
    "print(Vardef.get_variable_definition_by_shortname(short_name=mitt_kortnavn).variable_status)"
   ]
  },
  {
   "cell_type": "code",
   "execution_count": null,
   "metadata": {},
   "outputs": [],
   "source": [
    "# Sjekk status med id\n",
    "print(Vardef.get_variable_definition_by_id(variable_definition_id=min_id).variable_status)"
   ]
  },
  {
   "cell_type": "markdown",
   "metadata": {},
   "source": [
    "## Fil-basert metode\n",
    "\n"
   ]
  },
  {
   "cell_type": "markdown",
   "metadata": {},
   "source": [
    "### Hente ut variabeldefinisjon ved hjelp av `Kortnavn` eller `id`"
   ]
  },
  {
   "cell_type": "markdown",
   "metadata": {},
   "source": [
    "Hvis du har `Kortnavn` velg [YAML-fil med kortnavn](#yaml-fil-med-kortnavn)\n",
    "\n",
    "Hvis du har `id`  velg [YAML-fil med id](#yaml-fil-med-id)\n",
    "\n",
    "NB! Velg kun en av metodene for å unngå feil.\n",
    "\n",
    "Gå deretter videre til [Skriv til fil](#skriv-til-fil)\n"
   ]
  },
  {
   "cell_type": "markdown",
   "metadata": {},
   "source": [
    "#### YAML-fil med kortnavn"
   ]
  },
  {
   "cell_type": "code",
   "execution_count": null,
   "metadata": {},
   "outputs": [],
   "source": [
    "# Sett inn kortnavn mellom anførselstegn\n",
    "mitt_kortnavn_yaml = \"\"\n",
    "# Lagre variabeldefinisjonen i minnet\n",
    "min_variabel_yaml = Vardef.get_variable_definition_by_shortname(short_name=mitt_kortnavn_yaml)\n"
   ]
  },
  {
   "cell_type": "markdown",
   "metadata": {},
   "source": [
    "#### YAML-fil med id"
   ]
  },
  {
   "cell_type": "code",
   "execution_count": null,
   "metadata": {},
   "outputs": [],
   "source": [
    "# Sett inn id mellom anførselstegn\n",
    "min_id_yaml = \"\"\n",
    "# Lagre variabeldefinisjon i minnet\n",
    "min_variabel_yaml= Vardef.get_variable_definition_by_id(variable_definition_id=min_id_yaml)"
   ]
  },
  {
   "cell_type": "markdown",
   "metadata": {},
   "source": [
    "### Skriv til fil\n",
    "Opprettes som standard på `/home/onyxia/work/variable_definitions/variable_definition_<kortnavn>_<id>_<timestamp>.yaml`.\n",
    "\n",
    "Filen vil inneholde alle lagrede verdier for variabeldefinisjonen.\n",
    "\n",
    "\n"
   ]
  },
  {
   "cell_type": "code",
   "execution_count": null,
   "metadata": {},
   "outputs": [],
   "source": [
    "# Lagre fil\n",
    "min_variabel_yaml.to_file()"
   ]
  },
  {
   "cell_type": "markdown",
   "metadata": {},
   "source": [
    "### Rediger YAML-fil\n",
    "\n",
    "1. Åpne YAML-fil med korrekt filnavn. \n",
    "Hvis du har flere filer sørg for at du redigerer filen der filnavnet inneholder:\n",
    "-  Korrekt kortnavn og id (begge er unike så hvis kortnavn er korrekt må også id være korrekt)\n",
    "-  Hvis flere har samme kortnavn/id sammenlign tidspunkt (Timestamp) i filnavnet. Velg seneste tidspunkt.\n",
    "-  Er du usikker slett alle filer for variabelen og kjør forrige steg på nytt\n",
    "2. Finn feltet `variabel_status`\n",
    "3. Endre verdien fra `DRAFT` til enten `PUBLISHED_INTERNAL` eller `PUBLISHED_EXTERNAL`"
   ]
  },
  {
   "cell_type": "markdown",
   "metadata": {},
   "source": [
    "### Lagre i Vardef fil-basert\n",
    "I koden under lagrer vi den oppdaterte statusen i Vardef. Dette steget er essensielt for å endre statusen og må gjennomføres uten feilmeldinger.\n",
    "\n",
    "Er du usikker om det var vellykket kan du gå videre til [Bekrefte publisering filbasert metode](#bekrefte-publisering-fil-basert-metode) og hvis status er uendret forsøke på nytt.\n"
   ]
  },
  {
   "cell_type": "code",
   "execution_count": null,
   "metadata": {},
   "outputs": [],
   "source": [
    "# Her lagrer vi endringen i Vardef\n",
    "min_variabel_yaml.update_draft_from_file()"
   ]
  },
  {
   "cell_type": "markdown",
   "metadata": {},
   "source": [
    "### Bekrefte publisering fil-basert metode"
   ]
  },
  {
   "cell_type": "code",
   "execution_count": null,
   "metadata": {},
   "outputs": [],
   "source": [
    "# Bruk kortnavn\n",
    "print(Vardef.get_variable_definition_by_shortname(short_name=mitt_kortnavn_yaml).variable_status)"
   ]
  },
  {
   "cell_type": "code",
   "execution_count": null,
   "metadata": {},
   "outputs": [],
   "source": [
    "# Bruk id\n",
    "print(Vardef.get_variable_definition_by_id(variable_definition_id=min_id_yaml).variable_status)"
   ]
  }
 ],
 "metadata": {
  "kernelspec": {
   "display_name": "dapla-toolbelt-metadata-fJc960va-py3.12",
   "language": "python",
   "name": "python3"
  },
  "language_info": {
   "codemirror_mode": {
    "name": "ipython",
    "version": 3
   },
   "file_extension": ".py",
   "mimetype": "text/x-python",
   "name": "python",
   "nbconvert_exporter": "python",
   "pygments_lexer": "ipython3",
   "version": "3.12.0"
  }
 },
 "nbformat": 4,
 "nbformat_minor": 2
}
