{
 "cells": [
  {
   "cell_type": "markdown",
   "metadata": {},
   "source": [
    "# Publisere et utkast\n",
    "\n",
    "Denne Notebook er for deg som:\n",
    "\n",
    "- Har en kvalitetsjekket variabeldefinisjon med status `UTKAST`\n",
    "- Ønsker å publisere internt eller eksternt\n",
    "\n",
    "Forutsetninger:\n",
    "- Du må ha `Kortnavn` for variabeldefinisjonen du vil publisere\n"
   ]
  },
  {
   "cell_type": "markdown",
   "metadata": {},
   "source": [
    "## Viktig informasjon om publisering\n",
    "\n",
    "Merk at prosessen med å publisere er irreversibel. Når en variabeldefinisjon er publisert kan den ikke avpubliseres eller slettes.\n",
    "\n",
    "Det er ulike regler som gjelder ved publisering internt og eksternt.\n",
    "\n",
    "Ved intern publisering må alle obligatoriske felt ha verdi.\n",
    "\n",
    "Ved ekstern publisere må i tillegg alle felt som er flerspråklige ha verdier på alle språk (bokmål, nynorsk og engelsk).\n",
    "\n",
    "Merk også at når en variabeldefinisjon er publisert eksternt kan den ikke endres tilbake til å kun være publisert internt."
   ]
  },
  {
   "cell_type": "markdown",
   "metadata": {},
   "source": [
    "## Oppsett\n",
    "\n",
    "Koden under kjøres som forberedelse for påfølgende steg"
   ]
  },
  {
   "cell_type": "code",
   "execution_count": null,
   "metadata": {},
   "outputs": [],
   "source": [
    "# Nødvendig import\n",
    "import logging\n",
    "import sys\n",
    "\n",
    "from dapla_metadata.variable_definitions import Vardef\n",
    "from dapla_metadata.variable_definitions import models\n",
    "\n",
    "# Redusere størrelsen på Traceback for mer tydelige feilmeldinger\n",
    "%xmode Minimal\n",
    "\n",
    "# Gjøre at logging vises\n",
    "logging.basicConfig(\n",
    "    format=\"%(levelname)s: %(message)s\",\n",
    "    level=logging.INFO,\n",
    "    stream=sys.stdout,\n",
    "    force=True,\n",
    ")"
   ]
  },
  {
   "cell_type": "markdown",
   "metadata": {},
   "source": [
    "## Hente ut variabeldefinisjon\n",
    "\n",
    "Her henter vi variabeldefinisjonen som skal publisereres"
   ]
  },
  {
   "cell_type": "code",
   "execution_count": null,
   "metadata": {},
   "outputs": [],
   "source": [
    "# Sett inn kortnavn mellom anførselstegn\n",
    "mitt_kortnavn = \"\"\n",
    "\n",
    "# Lagre variabeldefinisjonen i minnet\n",
    "min_variabel = Vardef.get_variable_definition_by_shortname(short_name=mitt_kortnavn)"
   ]
  },
  {
   "cell_type": "markdown",
   "metadata": {},
   "source": [
    "## Publisere\n",
    "\n",
    "⚠ **Velg kun én av publiseringsmetodene nedenfor – ikke begge.**\n",
    "\n",
    "I koden under lagres oppdatert status i Vardef. \n",
    "\n",
    "For at statusendringen skal tre i kraft må dette steget fullføres uten feil.\n",
    "\n"
   ]
  },
  {
   "cell_type": "markdown",
   "metadata": {},
   "source": [
    "### Publisere internt"
   ]
  },
  {
   "cell_type": "code",
   "execution_count": null,
   "metadata": {},
   "outputs": [],
   "source": [
    "# Sette verdi for feltet 'variable_status'\n",
    "min_oppdatering = models.UpdateDraft(\n",
    "    variable_status=models.VariableStatus.PUBLISHED_INTERNAL\n",
    ")\n",
    "\n",
    "# Lagre i Vardef\n",
    "min_variabel.update_draft(min_oppdatering)"
   ]
  },
  {
   "cell_type": "markdown",
   "metadata": {},
   "source": [
    "### Publisere eksternt\n",
    "\n",
    "\n"
   ]
  },
  {
   "cell_type": "code",
   "execution_count": null,
   "metadata": {},
   "outputs": [],
   "source": [
    "# Sette verdi for feltet 'variable_status'\n",
    "min_oppdatering = models.UpdateDraft(\n",
    "    variable_status=models.VariableStatus.PUBLISHED_EXTERNAL\n",
    ")\n",
    "\n",
    "# Lagre i Vardef\n",
    "min_variabel.update_draft(min_oppdatering)"
   ]
  },
  {
   "cell_type": "markdown",
   "metadata": {},
   "source": [
    "### Bekrefte publisering"
   ]
  },
  {
   "cell_type": "code",
   "execution_count": null,
   "metadata": {},
   "outputs": [],
   "source": [
    "# Sjekk status\n",
    "print(\n",
    "    Vardef.get_variable_definition_by_shortname(\n",
    "        short_name=mitt_kortnavn\n",
    "    ).variable_status\n",
    ")"
   ]
  }
 ],
 "metadata": {
  "kernelspec": {
   "display_name": "dapla-toolbelt-metadata-fJc960va-py3.12",
   "language": "python",
   "name": "python3"
  },
  "language_info": {
   "codemirror_mode": {
    "name": "ipython",
    "version": 3
   },
   "file_extension": ".py",
   "mimetype": "text/x-python",
   "name": "python",
   "nbconvert_exporter": "python",
   "pygments_lexer": "ipython3",
   "version": "3.12.0"
  }
 },
 "nbformat": 4,
 "nbformat_minor": 2
}
