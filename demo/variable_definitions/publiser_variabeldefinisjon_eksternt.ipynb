{
 "cells": [
  {
   "cell_type": "markdown",
   "metadata": {},
   "source": [
    "# Publiser variabeldefinisjon eksternt\n",
    "\n",
    "Denne Notebook er for deg som:\n",
    "\n",
    "- Har en kvalitetsjekket variabeldefinisjon med status `UTKAST` eller `PUBLISERT_INTERNT`\n",
    "- Ønsker å publisere eksternt\n",
    "\n",
    "Forutsetninger:\n",
    "- Du må ha `Kortnavn` for variabeldefinisjonen du vil publisere\n"
   ]
  },
  {
   "cell_type": "markdown",
   "metadata": {},
   "source": [
    "## Oppsett\n",
    "\n",
    "Koden under kjøres som forberedelse for påfølgende steg"
   ]
  },
  {
   "cell_type": "code",
   "execution_count": null,
   "metadata": {},
   "outputs": [],
   "source": [
    "# Nødvendig import\n",
    "import logging\n",
    "import sys\n",
    "\n",
    "from dapla_metadata.variable_definitions import Vardef\n",
    "from dapla_metadata.variable_definitions import models\n",
    "\n",
    "# Redusere størrelsen på Traceback for mer tydelige feilmeldinger\n",
    "%xmode Minimal\n",
    "\n",
    "# Gjøre at logging vises\n",
    "logging.basicConfig(\n",
    "    format=\"%(levelname)s: %(message)s\",\n",
    "    level=logging.INFO,\n",
    "    stream=sys.stdout,\n",
    "    force=True,\n",
    ")"
   ]
  },
  {
   "cell_type": "markdown",
   "metadata": {},
   "source": [
    "## Viktig informasjon\n",
    "\n",
    "Merk at prosessen med å publisere er irreversibel. Når en variabeldefinisjon er publisert eksternt kan den ikke slettes, avpubliseres eller endres tilbake til å kun være publisert internt.\n",
    "\n",
    "⚠️ Ved ekstern publisering må alle obligatoriske felt ha verdi.\n",
    "\n",
    "🍀 Flerspråklige felt (som for eksempel `navn` eller `definisjon`) må ha verdier på alle språk (bokmål, nynorsk og engelsk). \n",
    "\n",
    "📋 Lister (som for eksempel `enhetstyper`) må ha minst et element i listen.\n"
   ]
  },
  {
   "cell_type": "markdown",
   "metadata": {},
   "source": [
    "## Hente variabeldefinisjon\n",
    "\n",
    "1. Kjør cellen under. \n",
    "2. Vent til input-feltet vises\n",
    "3. Skriv inn kortnavn \n",
    "4. Trykk **Enter**.\n",
    "\n",
    "⚠️  Viktig: Trykk alltid **Enter**, selv om du ikke skriver noe, for å unngå at Jupyter-kjernen henger seg opp."
   ]
  },
  {
   "cell_type": "code",
   "execution_count": null,
   "metadata": {},
   "outputs": [],
   "source": [
    "mitt_kortnavn = input(\"Skriv inn kortnavn: \").strip()\n",
    "min_variabel = Vardef.get_variable_definition_by_shortname(short_name=mitt_kortnavn)\n",
    "\n",
    "if min_variabel.variable_status == models.VariableStatus.PUBLISHED_EXTERNAL:\n",
    "    print(\n",
    "        f\"Variabeldefinisjon '{min_variabel.short_name}' er allerede publisert eksternt!\"\n",
    "    )\n",
    "else:\n",
    "    print(\n",
    "        f\"Variabeldefinisjon valgt: {min_variabel.short_name} (ID: {min_variabel.id}). Klar for ekstern publisering.\"\n",
    "    )"
   ]
  },
  {
   "cell_type": "markdown",
   "metadata": {},
   "source": [
    "## Publisere eksternt\n",
    "\n",
    "✅ I koden under lagres oppdatert status i Vardef. \n",
    "\n"
   ]
  },
  {
   "cell_type": "code",
   "execution_count": null,
   "metadata": {},
   "outputs": [],
   "source": [
    "min_variabel = min_variabel.publish_external()\n",
    "print(f\"Ny status: {min_variabel.variable_status}\")"
   ]
  }
 ],
 "metadata": {
  "language_info": {
   "name": "python"
  }
 },
 "nbformat": 4,
 "nbformat_minor": 2
}
