{
 "cells": [
  {
   "cell_type": "markdown",
   "metadata": {},
   "source": [
    "# Sjekk migrerte variabeldefinisjoner\n",
    "\n",
    "Denne Notebook er for deg som:\n",
    "\n",
    "- Ønsker å se en sammenheng mellom variabeldefinisjoner i Vardef og Vardok\n",
    "- Ønsker å hente en variabeldefinisjon basert på Id fra Vardok\n",
    "- Ønsker å finne ut hvilken Vardok-Id en variabeldefinisjon har hatt ved å bruke kortnavn\n",
    "\n",
    "\n"
   ]
  },
  {
   "cell_type": "markdown",
   "metadata": {},
   "source": [
    "## Oppsett\n",
    "\n",
    "Koden under kjøres som forberedelse for påfølgende steg"
   ]
  },
  {
   "cell_type": "code",
   "execution_count": null,
   "metadata": {},
   "outputs": [],
   "source": [
    "# Nødvendig import\n",
    "import logging\n",
    "import sys\n",
    "\n",
    "from dapla_metadata.variable_definitions import Vardef\n",
    "\n",
    "# Redusere størrelsen på Traceback for mer tydelige feilmeldinger\n",
    "%xmode Minimal\n",
    "\n",
    "# Gjøre at logging vises\n",
    "logging.basicConfig(\n",
    "    format=\"%(levelname)s: %(message)s\",\n",
    "    level=logging.INFO,\n",
    "    stream=sys.stdout,\n",
    "    force=True,\n",
    ")\n",
    "\n",
    "\n",
    "# Funksjon som skriver ut en tabell med utvalgte felt til skjerm\n",
    "def skriv_ut_vardok_vardef_id_mapping(variabler: list):\n",
    "    col_widths = [20, 20]\n",
    "\n",
    "    header = \"{:<{}} | {:<{}}\".format(\n",
    "        \"Vardok Id\",\n",
    "        col_widths[0],\n",
    "        \"Vardef Id\",\n",
    "        col_widths[1],\n",
    "    )\n",
    "    print(header)\n",
    "    print(\"-\" * len(header))\n",
    "\n",
    "    for variabel in variabler:\n",
    "        print(\n",
    "            \"{:<{}} | {:<{}} \".format(\n",
    "                str(variabel.vardok_id),\n",
    "                col_widths[0],\n",
    "                str(variabel.vardef_id),\n",
    "                col_widths[1],\n",
    "            )\n",
    "        )"
   ]
  },
  {
   "cell_type": "markdown",
   "metadata": {},
   "source": [
    "## Hent alle sammenhenger mellom Id-er i Vardok og Vardef\n",
    "\n",
    "Viser en liste med Vardok Id-er og tilhørende Id i Vardef"
   ]
  },
  {
   "cell_type": "code",
   "execution_count": null,
   "metadata": {},
   "outputs": [],
   "source": [
    "skriv_ut_vardok_vardef_id_mapping(Vardef.list_vardok_vardef_mapping())"
   ]
  },
  {
   "cell_type": "markdown",
   "metadata": {},
   "source": [
    "## Hent en Variabeldefinisjon med Vardok Id\n"
   ]
  },
  {
   "cell_type": "code",
   "execution_count": null,
   "metadata": {},
   "outputs": [],
   "source": [
    "min_vardok_id = input(\"Skriv inn Vardok id: \").strip()\n",
    "print(f\"✅ {min_vardok_id}\")"
   ]
  },
  {
   "cell_type": "markdown",
   "metadata": {},
   "source": [
    "### Vise alle felt for en variabeldefinisjon\n",
    "✅ Siste **patch** i siste gyldighetsperiode vil bli returnert."
   ]
  },
  {
   "cell_type": "code",
   "execution_count": null,
   "metadata": {},
   "outputs": [],
   "source": [
    "# Lese ut siste versjon av variabeldefinisjonen\n",
    "min_variabel = Vardef.get_variable_definition_by_vardok_id(\n",
    "    vardok_id=min_vardok_id,\n",
    ")\n",
    "\n",
    "min_variabel"
   ]
  },
  {
   "cell_type": "markdown",
   "metadata": {},
   "source": [
    "## Hent en Vardok Id med kortnavn\n"
   ]
  },
  {
   "cell_type": "code",
   "execution_count": null,
   "metadata": {},
   "outputs": [],
   "source": [
    "mitt_kortnavn = input(\"Skriv inn kortnavn: \").strip()\n",
    "print(f\"✅ {mitt_kortnavn}\")"
   ]
  },
  {
   "cell_type": "markdown",
   "metadata": {},
   "source": [
    "### Viser vardok Id"
   ]
  },
  {
   "cell_type": "code",
   "execution_count": null,
   "metadata": {},
   "outputs": [],
   "source": [
    "# Lese ut siste versjon av variabeldefinisjonen\n",
    "min_variabel = Vardef.get_vardok_id_by_short_name(\n",
    "    short_name=mitt_kortnavn,\n",
    ")\n",
    "\n",
    "min_variabel"
   ]
  }
 ],
 "metadata": {
  "language_info": {
   "name": "python"
  }
 },
 "nbformat": 4,
 "nbformat_minor": 2
}
