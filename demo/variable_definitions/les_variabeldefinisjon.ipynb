{
 "cells": [
  {
   "cell_type": "markdown",
   "metadata": {},
   "source": [
    "# Les variabeldefinisjon\n",
    "\n",
    "Denne Notebooken er for deg som:\n",
    "\n",
    "- Ønsker en oversikt over alle feltene på en gitt variabeldefinisjon\n",
    "- Ønsker en oversikt over alle gyldighetsperiodene for en gitt variabeldefinisjon\n",
    "- Ønsker en oversikt over alle patcher for en gitt variabeldefinisjon\n",
    "\n",
    "\n",
    "Forutsetninger:\n",
    "- Du må ha `Kortnavn` for variabeldefinisjonen"
   ]
  },
  {
   "cell_type": "markdown",
   "metadata": {},
   "source": [
    "## Oppsett\n",
    "Koden under kjøres som forberedelse for påfølgende steg"
   ]
  },
  {
   "cell_type": "code",
   "execution_count": null,
   "metadata": {},
   "outputs": [],
   "source": [
    "# Nødvendig import\n",
    "import logging\n",
    "import sys\n",
    "\n",
    "from dapla_metadata.variable_definitions import Vardef\n",
    "\n",
    "# Redusere størrelsen på Traceback for mer tydelige feilmeldinger\n",
    "%xmode Minimal\n",
    "\n",
    "# Gjøre at logging vises\n",
    "logging.basicConfig(\n",
    "    format=\"%(levelname)s: %(message)s\",\n",
    "    level=logging.INFO,\n",
    "    stream=sys.stdout,\n",
    "    force=True,\n",
    ")\n",
    "\n",
    "\n",
    "def skriv_ut_patches(variabler: list):\n",
    "    col_widths = 110\n",
    "    for variabel in variabler:\n",
    "        print(\"-\" * col_widths)\n",
    "        print(f\"Viser patch med patchid {variabel.patch_id}\")\n",
    "        print(\"-\" * col_widths)\n",
    "        print()\n",
    "        print(variabel)\n",
    "\n",
    "\n",
    "def skriv_ut_gyldighetsperioder(variabler: list):\n",
    "    col_widths = 110\n",
    "    for variabel in variabler:\n",
    "        print(\"-\" * col_widths)\n",
    "        print(\n",
    "            f\"Viser gyldighetsperiode som er gyldig fra {variabel.valid_from}\"\n",
    "            + (\n",
    "                f\" og til {variabel.valid_until}\"\n",
    "                if variabel.valid_until is not None\n",
    "                else \"\"\n",
    "            )\n",
    "        )\n",
    "        print(\"-\" * col_widths)\n",
    "        print()\n",
    "        print(variabel)"
   ]
  },
  {
   "cell_type": "markdown",
   "metadata": {},
   "source": [
    "## Kortnavn\n",
    "\n",
    "1. Kjør cellen under. \n",
    "2. Vent til input-feltet vises\n",
    "3. Skriv inn kortnavn \n",
    "4. Trykk **Enter**.\n",
    "\n",
    "⚠️  Viktig: Trykk alltid **Enter**, selv om du ikke skriver noe, for å unngå at Jupyter-kjernen henger seg opp."
   ]
  },
  {
   "cell_type": "code",
   "execution_count": null,
   "metadata": {},
   "outputs": [],
   "source": [
    "mitt_kortnavn = input(\"Skriv inn kortnavn: \").strip()\n",
    "print(f\"✅ {mitt_kortnavn}\")"
   ]
  },
  {
   "cell_type": "markdown",
   "metadata": {},
   "source": [
    "## Vise alle felt for en variabeldefinisjon\n",
    "✅ Siste **patch** i siste gyldighetsperiode vil bli returnert."
   ]
  },
  {
   "cell_type": "code",
   "execution_count": null,
   "metadata": {},
   "outputs": [],
   "source": [
    "# Lese ut siste versjon av variabeldefinisjonen\n",
    "min_variabel = Vardef.get_variable_definition_by_shortname(\n",
    "    short_name=mitt_kortnavn,\n",
    ")\n",
    "\n",
    "min_variabel"
   ]
  },
  {
   "cell_type": "markdown",
   "metadata": {},
   "source": [
    "## Vise alle patches for en variabeldefinisjon\n",
    "\n",
    "✅ Alle **patches** vil bli returnert.\n"
   ]
  },
  {
   "cell_type": "code",
   "execution_count": null,
   "metadata": {},
   "outputs": [],
   "source": [
    "# Lese ut alle patcher av variabeldefinisjonen\n",
    "min_variabel = Vardef.get_variable_definition_by_shortname(\n",
    "    short_name=mitt_kortnavn,\n",
    ").list_patches()\n",
    "\n",
    "skriv_ut_patches(min_variabel)"
   ]
  },
  {
   "cell_type": "markdown",
   "metadata": {},
   "source": [
    "## Vise alle gyldighetsperioder for en variabeldefinisjon\n",
    "\n",
    "✅ Siste **patch** i alle gyldighetsperioder vil bli returnert."
   ]
  },
  {
   "cell_type": "code",
   "execution_count": null,
   "metadata": {},
   "outputs": [],
   "source": [
    "# Lese ut alle gyldighetsperioder av variabeldefinisjonen\n",
    "min_variabel = Vardef.get_variable_definition_by_shortname(\n",
    "    short_name=mitt_kortnavn,\n",
    ").list_validity_periods()\n",
    "\n",
    "skriv_ut_gyldighetsperioder(min_variabel)"
   ]
  }
 ],
 "metadata": {
  "language_info": {
   "name": "python"
  }
 },
 "nbformat": 4,
 "nbformat_minor": 2
}
