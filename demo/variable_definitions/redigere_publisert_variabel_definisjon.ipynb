{
 "cells": [
  {
   "cell_type": "markdown",
   "metadata": {},
   "source": [
    "# Redigere en publisert variabeldefinisjon\n",
    "\n",
    "Denne Notebooken er for deg som:\n",
    "\n",
    "- Har en variabeldefinisjon med status `PUBLISERT INTERNT` eller `PUBLISERT EKSTERNT`\n",
    "- Er **eier**\n",
    "- Har oppdaget mindre feil som må korrigeres eller verdier som må oppdateres.\n",
    "\n",
    "Forutsetninger:\n",
    "- Du må ha `Kortnavn` for variabeldefinisjonen du vil redigere"
   ]
  },
  {
   "cell_type": "markdown",
   "metadata": {},
   "source": [
    "## Oppsett\n",
    "\n",
    "Koden under kjøres som forberedelse for påfølgende steg"
   ]
  },
  {
   "cell_type": "code",
   "execution_count": null,
   "metadata": {},
   "outputs": [],
   "source": [
    "# Nødvendig import\n",
    "import logging\n",
    "import sys\n",
    "\n",
    "from dapla_metadata.variable_definitions import Vardef\n",
    "\n",
    "# Redusere størrelsen på Traceback for mer tydelige feilmeldinger\n",
    "%xmode Minimal\n",
    "\n",
    "# Gjøre at logging vises\n",
    "logging.basicConfig(\n",
    "    format=\"%(levelname)s: %(message)s\",\n",
    "    level=logging.INFO,\n",
    "    stream=sys.stdout,\n",
    "    force=True,\n",
    ")"
   ]
  },
  {
   "cell_type": "markdown",
   "metadata": {},
   "source": [
    "## Viktig informasjon redigere publiserte variabeldefinisjoner\n",
    "\n",
    "Når en variabeldefinisjon er publisert vil det opprettes en ny **patch** med en unik **patch id** når man lagrer endringer.\n",
    "\n",
    "Man kan endre flere felt på en gang, da opprettes det kun en ny **patch**.\n",
    "\n",
    "Kortnavn kan ikke endres.\n",
    "\n",
    "Skrivefeil og andre små feil i definisjonsteksten kan rettes, men dersom endringen medfører en betydningsmessig endring av definisjonen, bør det i stedet opprettes en ny **gyldighetsperiode**."
   ]
  },
  {
   "cell_type": "markdown",
   "metadata": {},
   "source": [
    "## Skriv variabeldefinisjon til fil\n",
    "\n",
    "Kjør cellen under. \n",
    "\n",
    "Et input-felt vises – skriv inn kortnavnet ditt og trykk **Enter**.\n",
    "\n",
    "⚠ Viktig: Trykk alltid **Enter**, selv om du ikke skriver noe, for å unngå at Jupyter-kjernen henger seg opp.\n",
    "\n",
    "Variabeldefinisjon vil bli skrevet til en yaml fil.\n",
    "\n",
    "Som standard blir filen lagret på \n",
    "\n",
    "`/home/onyxia/work/variable_definitions/variable_definition_<short_name>_<id>_<timestamp>.yaml`.\n",
    "\n",
    "Du vil også se filstien i output når du kjører koden under. "
   ]
  },
  {
   "cell_type": "code",
   "execution_count": null,
   "metadata": {},
   "outputs": [],
   "source": [
    "mitt_kortnavn = input(\"Skriv inn kortnavn\").strip()\n",
    "\n",
    "# Skriv variabeldefinisjon til fil\n",
    "min_variabel = Vardef.get_variable_definition_by_shortname(\n",
    "    short_name=mitt_kortnavn\n",
    ").to_file()"
   ]
  },
  {
   "cell_type": "markdown",
   "metadata": {},
   "source": [
    "## Rediger fil\n",
    "Åpne filen.\n",
    "\n",
    "Filen inneholder alle felt utfylt som de er lagret i Vardef tjenesten per nå. \n",
    "\n",
    "Det er også beskrivelser av feltene slik at det er lettere å forstå hvilke verdier man skal legge inn.\n",
    "\n",
    "Det er viktig at du kun endrer feltene du vil oppdatere/korrigere."
   ]
  },
  {
   "cell_type": "markdown",
   "metadata": {},
   "source": [
    "## Lagre endringer\n",
    "I koden under lagres oppdaterte verdier i Vardef. \n",
    "\n",
    "For at endringene skal tre i kraft må dette steget fullføres uten feil."
   ]
  },
  {
   "cell_type": "code",
   "execution_count": null,
   "metadata": {},
   "outputs": [],
   "source": [
    "min_variabel.create_patch_from_file()"
   ]
  }
 ],
 "metadata": {
  "language_info": {
   "codemirror_mode": {
    "name": "ipython"
   },
   "file_extension": ".py",
   "mimetype": "text/x-python",
   "name": "python",
   "nbconvert_exporter": "python"
  }
 },
 "nbformat": 4,
 "nbformat_minor": 2
}
