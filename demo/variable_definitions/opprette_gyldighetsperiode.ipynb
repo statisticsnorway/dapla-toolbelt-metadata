{
 "cells": [
  {
   "cell_type": "markdown",
   "metadata": {},
   "source": [
    "# Opprette gyldighetsperiode\n",
    "\n",
    "Denne Notebook er for deg som:\n",
    "\n",
    "- Har en variabeldefinisjon med status `PUBLISERT INTERNT` eller `PUBLISERT EKSTERNT`\n",
    "- Ønsker å utføre en større endring som innebærerer:\n",
    "    - endret definisjonstekst\n",
    "    - ny gyldig fra dato\n",
    "\n",
    "\n",
    "Forutsetninger:\n",
    "- Du må ha `Kortnavn` for variabeldefinisjonen\n"
   ]
  },
  {
   "cell_type": "markdown",
   "metadata": {},
   "source": [
    "## Oppsett\n",
    "\n",
    "Koden under kjøres som forberedelse for påfølgende steg"
   ]
  },
  {
   "cell_type": "code",
   "execution_count": null,
   "metadata": {},
   "outputs": [],
   "source": [
    "# Nødvendig import\n",
    "import logging\n",
    "import sys\n",
    "\n",
    "from dapla_metadata.variable_definitions import Vardef\n",
    "\n",
    "# Redusere størrelsen på Traceback for mer tydelige feilmeldinger\n",
    "%xmode Minimal\n",
    "\n",
    "# Gjøre at logging vises\n",
    "logging.basicConfig(\n",
    "    format=\"%(levelname)s: %(message)s\",\n",
    "    level=logging.INFO,\n",
    "    stream=sys.stdout,\n",
    "    force=True,\n",
    ")"
   ]
  },
  {
   "cell_type": "markdown",
   "metadata": {},
   "source": [
    "## Viktig informasjon om gyldighetsperioder\n",
    "\n",
    "For å opprette ny gyldighetsperiode må følgende felt endres:\n",
    "- Gyldig fra dato (`valid_from`) - fra når skal endringen tre i kraft\n",
    "- Oppdatert definisjonstekst på alle språk som definisjonsteksten er lagret på\n",
    "\n",
    "Når en ny gyldighetsperiode opprettes vil forrige gyldighetsperiode lukkes dagen før ny `valid_from` dato.\n",
    "\n"
   ]
  },
  {
   "cell_type": "markdown",
   "metadata": {},
   "source": [
    "## Skriv variabeldefinisjon til fil\n",
    "\n",
    "Kjør cellen under. \n",
    "\n",
    "Et input-felt vises – skriv inn kortnavnet ditt og trykk **Enter**.\n",
    "\n",
    "⚠ Viktig: Trykk alltid **Enter**, selv om du ikke skriver noe, for å unngå at Jupyter-kjernen henger seg opp.\n",
    "\n",
    "Variabeldefinisjon vil bli skrevet til en yaml fil.\n",
    "\n",
    "Som standard blir filen lagret på\n",
    "\n",
    "`/home/onyxia/work/variable_definitions/variable_definition_<short_name>_<id>_<timestamp>.yaml.`\n",
    "\n",
    "Du vil også se filstien i output når du kjører koden under."
   ]
  },
  {
   "cell_type": "code",
   "execution_count": null,
   "metadata": {},
   "outputs": [],
   "source": [
    "mitt_kortnavn = input(\"Skriv inn kortnavn\").strip()\n",
    "\n",
    "# Skriv variabeldefinisjon til fil\n",
    "min_variabel = Vardef.get_variable_definition_by_shortname(\n",
    "    short_name=mitt_kortnavn\n",
    ").to_file()"
   ]
  },
  {
   "cell_type": "markdown",
   "metadata": {},
   "source": [
    "## Rediger fil\n",
    "\n",
    "Åpne filen.\n",
    "\n",
    "Filen inneholder alle felt utfylt som de er lagret i Vardef tjenesten per nå.\n",
    "\n",
    "Det er også beskrivelser av feltene slik at det er lettere å forstå hvilke verdier man skal legge inn.\n",
    "\n",
    "Det er viktig at du kun endrer feltene du vil oppdatere/korrigere feil."
   ]
  },
  {
   "cell_type": "markdown",
   "metadata": {},
   "source": [
    "## Lagre endringer\n",
    "\n",
    "I koden under lagres oppdaterte verdier i Vardef.\n",
    "\n",
    "For at endringene skal tre i kraft må dette steget fullføres uten feil."
   ]
  },
  {
   "cell_type": "code",
   "execution_count": null,
   "metadata": {},
   "outputs": [],
   "source": [
    "min_variabel.create_validity_period_from_file()"
   ]
  }
 ],
 "metadata": {
  "language_info": {
   "codemirror_mode": {
    "name": "ipython"
   },
   "file_extension": ".py",
   "mimetype": "text/x-python",
   "name": "python",
   "nbconvert_exporter": "python"
  }
 },
 "nbformat": 4,
 "nbformat_minor": 2
}
