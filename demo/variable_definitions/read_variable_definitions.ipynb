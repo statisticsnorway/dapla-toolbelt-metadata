{
 "cells": [
  {
   "cell_type": "code",
   "execution_count": null,
   "metadata": {},
   "outputs": [],
   "source": [
    "import requests\n",
    "import os\n",
    "from pprint import pprint\n",
    "\n",
    "token = os.environ.get(\"OIDC_TOKEN\")\n",
    "\n",
    "if not token:\n",
    "    raise Exception(\"Token environment variable 'OIDC_TOKEN' not set, obtain the value for it by launching a service (Jupyterlab or VSCode) at https://lab.dapla.ssb.no and running command 'echo $OIDC_TOKEN'. Then run 'export OIDC_TOKEN=<value obtained from Dapla Lab>' on this machine.\")\n",
    "\n",
    "# Only available from Statistics Norway's networks, requires authorization\n",
    "INTERNAL_SERVER = \"https://metadata.intern.test.ssb.no\"\n",
    "\n",
    "auth = {\"Authorization\": f\"Bearer {token}\"}\n",
    "\n",
    "response = requests.get(f\"{INTERNAL_SERVER}/variable-definitions\", headers=auth)\n",
    "response.raise_for_status()\n",
    "\n",
    "pprint(response.content)"
   ]
  }
 ],
 "metadata": {
  "kernelspec": {
   "display_name": "dapla-toolbelt-metadata-as_xqQkV-py3.12",
   "language": "python",
   "name": "python3"
  },
  "language_info": {
   "codemirror_mode": {
    "name": "ipython",
    "version": 3
   },
   "file_extension": ".py",
   "mimetype": "text/x-python",
   "name": "python",
   "nbconvert_exporter": "python",
   "pygments_lexer": "ipython3",
   "version": "3.12.7"
  }
 },
 "nbformat": 4,
 "nbformat_minor": 2
}
