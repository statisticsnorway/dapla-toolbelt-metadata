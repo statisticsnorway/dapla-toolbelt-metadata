{
 "cells": [
  {
   "cell_type": "markdown",
   "metadata": {},
   "source": [
    "# Variable Definitions API demo\n",
    "\n",
    "## Introduction\n",
    "\n",
    "Demonstrate a selection of the operations available on the Vardef internal API. This API is intended for creation and maintenance of _Variable Definitions_ by employees at Statistics Norway.\n",
    "\n",
    "## Get started\n",
    "\n",
    "This demo is intended to be run on [Dapla Lab](https://lab.dapla-test.ssb.no). Currently Vardef is not deployed to production, only the test environment, so it must be used from the Dapla Lab test environment (<https://lab.dapla-test.ssb.no>). Follow these instructions to get started.\n",
    "\n",
    "1. [Log in to Dapla Lab](https://manual.dapla.ssb.no/statistikkere/dapla-lab.html)\n",
    "1. Start either the [Jupyter](https://manual.dapla.ssb.no/statistikkere/jupyter.html) or [VSCode](https://manual.dapla.ssb.no/statistikkere/vscode-python.html) service with [Data Access configured](https://manual.dapla.ssb.no/statistikkere/rstudio.html#buckets).\n",
    "1. Clone this repo `git clone https://github.com/statisticsnorway/dapla-toolbelt-metadata.git`\n",
    "1. Install the packages `poetry install; poetry shell`\n",
    "1. Open this notebook\n",
    "1. Choose the correct kernel\n",
    "1. Run this notebook"
   ]
  },
  {
   "cell_type": "markdown",
   "metadata": {},
   "source": [
    "## Setup"
   ]
  },
  {
   "cell_type": "code",
   "execution_count": null,
   "metadata": {},
   "outputs": [],
   "source": [
    "import os\n",
    "from typing import Any\n",
    "\n",
    "import requests\n",
    "from rich import print_json\n",
    "\n",
    "token = os.environ.get(\"OIDC_TOKEN\")\n",
    "active_group = os.environ.get(\"DAPLA_GROUP_CONTEXT\")\n",
    "\n",
    "if not token:\n",
    "    msg = (\n",
    "        \"\"\"Environment variable 'OIDC_TOKEN' not set.\n",
    "If you are running on Dapla Lab, restart your service with Buckets access configured.\n",
    "If you are not running on Dapla Lab, obtain the value for it by:\n",
    "    1. Launch a service (Jupyterlab or VSCode) at https://lab.dapla.ssb.no\n",
    "    2. Run command 'echo $OIDC_TOKEN'\n",
    "    3. Run 'export OIDC_TOKEN=<value obtained from Dapla Lab>' on this machine.\n",
    "\"\"\"\n",
    "    )\n",
    "    raise OSError(msg)\n",
    "\n",
    "if not active_group:\n",
    "    msg = (\"DAPLA_GROUP_CONTEXT environment variable not set, please set it to the name of the Dapla group you wish to act as.\")\n",
    "    raise OSError(msg)\n",
    "\n",
    "print(f\"Your Dapla group context is: {active_group}\")\n",
    "\n",
    "# Only available from Statistics Norway's networks, requires authorization\n",
    "TEST_INTERNAL_SERVER = \"https://metadata.intern.test.ssb.no\"\n",
    "\n",
    "def vardef_request(path: str, method: str=\"GET\", body: dict | None = None, params: dict | None = None) -> Any:\n",
    "    \"\"\"Make a request to vardef and return the json content from the response.\"\"\"\n",
    "    if not params:\n",
    "        params = {}\n",
    "\n",
    "    params.update({\"active_group\": active_group})\n",
    "\n",
    "    response = requests.request(\n",
    "        method,\n",
    "        f\"{TEST_INTERNAL_SERVER}{path}\",\n",
    "        params=params,\n",
    "        headers={\"Authorization\": f\"Bearer {token}\"},\n",
    "        json=body,\n",
    "        timeout=10,\n",
    "        )\n",
    "    response.raise_for_status()\n",
    "    return response.json()"
   ]
  },
  {
   "cell_type": "markdown",
   "metadata": {},
   "source": [
    "## Drafts"
   ]
  },
  {
   "cell_type": "markdown",
   "metadata": {},
   "source": [
    "### Create a draft"
   ]
  },
  {
   "cell_type": "code",
   "execution_count": null,
   "metadata": {},
   "outputs": [],
   "source": [
    "body = {\n",
    "    \"name\": {\"en\": \"Country Background\", \"nb\": \"Landbakgrunn\", \"nn\": \"Landbakgrunn\"},\n",
    "    \"short_name\": \"landbak\",\n",
    "    \"definition\": {\n",
    "        \"en\": \"Country background is the person's own, the mother's or possibly the father's country of birth. Persons without an immigrant background always have Norway as country background. In cases where the parents have different countries of birth the mother's country of birth is chosen. If neither the person nor the parents are born abroad, country background is chosen from the first person born abroad in the order mother's mother, mother's father, father's mother, father's father.\",\n",
    "        \"nb\": \"For personer født i utlandet, er dette (med noen få unntak) eget fødeland. For personer født i Norge er det foreldrenes fødeland. I de tilfeller der foreldrene har ulikt fødeland, er det morens fødeland som blir valgt. Hvis ikke personen selv eller noen av foreldrene er utenlandsfødt, hentes landbakgrunn fra de første utenlandsfødte en treffer på i rekkefølgen mormor, morfar, farmor eller farfar.\",\n",
    "        \"nn\": \"For personar fødd i utlandet, er dette (med nokre få unntak) eige fødeland. For personar fødd i Noreg er det fødelandet til foreldra. I dei tilfella der foreldra har ulikt fødeland, er det fødelandet til mora som blir valt. Viss ikkje personen sjølv eller nokon av foreldra er utenlandsfødt, blir henta landsbakgrunn frå dei første utenlandsfødte ein treffar på i rekkjefølgja mormor, morfar, farmor eller farfar.\",\n",
    "    },\n",
    "    \"classification_reference\": \"91\",\n",
    "    \"unit_types\": [\"01\", \"02\"],\n",
    "    \"subject_fields\": [\"he04\"],\n",
    "    \"contains_sensitive_personal_information\": True,\n",
    "    \"measurement_type\": None,\n",
    "    \"valid_from\": \"2003-01-01\",\n",
    "    \"external_reference_uri\": \"https://www.ssb.no/a/metadata/conceptvariable/vardok/1919/nb\",\n",
    "    \"comment\": {\n",
    "        \"nb\": \"Fra og med 1.1.2003 ble definisjon endret til også å trekke inn besteforeldrenes fødeland.\",\n",
    "        \"nn\": \"Fra og med 1.1.2003 ble definisjon endret til også å trekke inn besteforeldrenes fødeland.\",\n",
    "        \"en\": \"As of 1 January 2003, the definition was changed to also include the grandparents' country of birth.\",\n",
    "    },\n",
    "    \"related_variable_definition_uris\": [\"https://example.com/\"],\n",
    "    \"contact\": {\n",
    "        \"title\": {\n",
    "            \"en\": \"Division for population statistics\",\n",
    "            \"nb\": \"Seksjon for befolkningsstatistikk\",\n",
    "            \"nn\": \"Seksjon for befolkningsstatistikk\",\n",
    "        },\n",
    "        \"email\": \"s320@ssb.no\",\n",
    "    },\n",
    "}\n",
    "\n",
    "print_json(data=vardef_request(\"/variable-definitions\", \"POST\", body))"
   ]
  },
  {
   "cell_type": "markdown",
   "metadata": {},
   "source": [
    "### Edit a draft"
   ]
  },
  {
   "cell_type": "code",
   "execution_count": null,
   "metadata": {},
   "outputs": [],
   "source": [
    "body = {\n",
    "    \"related_variable_definition_uris\": [\n",
    "        \"https://example2.com/\",\n",
    "        \"https://example.com/\",\n",
    "    ],\n",
    "}\n",
    "\n",
    "print_json(data=vardef_request(\"/variable-definitions/JBrjGI45\", \"PATCH\", body))"
   ]
  },
  {
   "cell_type": "markdown",
   "metadata": {},
   "source": [
    "### Delete a draft"
   ]
  },
  {
   "cell_type": "code",
   "execution_count": null,
   "metadata": {},
   "outputs": [],
   "source": [
    "print_json(data=vardef_request(\"/variable-definitions/JBrjGI45\", \"DELETE\", body))"
   ]
  },
  {
   "cell_type": "markdown",
   "metadata": {},
   "source": [
    "## Variable Definitions"
   ]
  },
  {
   "cell_type": "markdown",
   "metadata": {},
   "source": [
    "### List all variable definitions"
   ]
  },
  {
   "cell_type": "code",
   "execution_count": null,
   "metadata": {},
   "outputs": [],
   "source": [
    "print_json(data=vardef_request(\"/variable-definitions\"))"
   ]
  },
  {
   "cell_type": "markdown",
   "metadata": {},
   "source": [
    "### Migrate a legacy definition from Vardok to Vardef\n",
    "\n",
    "Note: This will raise an error if the short name already exists."
   ]
  },
  {
   "cell_type": "code",
   "execution_count": null,
   "metadata": {},
   "outputs": [],
   "source": [
    "# Uncomment to run, choose a variable definition which is not yet migrated.\n",
    "# print_json(data=vardef_request(\"/vardok-migration/948\", \"POST\"))"
   ]
  },
  {
   "cell_type": "markdown",
   "metadata": {},
   "source": [
    "### Get one Variable Definition"
   ]
  },
  {
   "cell_type": "code",
   "execution_count": null,
   "metadata": {},
   "outputs": [],
   "source": [
    "print_json(data=vardef_request(\"/variable-definitions/KiCPNU4n\"))"
   ]
  },
  {
   "cell_type": "markdown",
   "metadata": {},
   "source": [
    "## Patches"
   ]
  },
  {
   "cell_type": "markdown",
   "metadata": {},
   "source": [
    "### Get one Patch"
   ]
  },
  {
   "cell_type": "code",
   "execution_count": null,
   "metadata": {},
   "outputs": [],
   "source": [
    "print_json(data=vardef_request(\"/variable-definitions/KiCPNU4n/patches/1\"))"
   ]
  },
  {
   "cell_type": "markdown",
   "metadata": {},
   "source": [
    "### Create a Patch\n",
    "\n",
    "Only Published Variable Definitions may have Patches created on them, Draft Variable Definitions are updated in place.\n",
    "\n",
    "Only the fields which are to be changed need to be supplied, the others are taken from the latest patch in the last Validity Period"
   ]
  },
  {
   "cell_type": "code",
   "execution_count": null,
   "metadata": {},
   "outputs": [],
   "source": [
    "body = {\n",
    "    \"related_variable_definition_uris\": [\n",
    "        \"https://example2.com/\",\n",
    "        \"https://example.com/\",\n",
    "    ],\n",
    "}\n",
    "\n",
    "print_json(data=vardef_request(\"/variable-definitions/KiCPNU4n/patches\", \"POST\", body))"
   ]
  },
  {
   "cell_type": "markdown",
   "metadata": {},
   "source": [
    "### List Patches"
   ]
  },
  {
   "cell_type": "code",
   "execution_count": null,
   "metadata": {},
   "outputs": [],
   "source": [
    "print_json(data=vardef_request(\"/variable-definitions/KiCPNU4n/patches\"))"
   ]
  },
  {
   "cell_type": "markdown",
   "metadata": {},
   "source": [
    "## Validity Periods"
   ]
  },
  {
   "cell_type": "markdown",
   "metadata": {},
   "source": [
    "## Create a Validity Period"
   ]
  },
  {
   "cell_type": "code",
   "execution_count": null,
   "metadata": {},
   "outputs": [],
   "source": [
    "body = {\n",
    "    \"valid_from\": \"2025-01-01\",\n",
    "    \"definition\": {\n",
    "        \"nb\": \"Ny definisjon\",\n",
    "        \"nn\": \"Ny definisjon\",\n",
    "        \"en\": \"New definition\",\n",
    "        },\n",
    "    }\n",
    "\n",
    "print_json(data=vardef_request(\"/variable-definitions/KiCPNU4n/validity-periods\", \"POST\", body))"
   ]
  },
  {
   "cell_type": "markdown",
   "metadata": {},
   "source": [
    "## List Validity Periods"
   ]
  },
  {
   "cell_type": "code",
   "execution_count": null,
   "metadata": {},
   "outputs": [],
   "source": [
    "print_json(data=vardef_request(\"/variable-definitions/KiCPNU4n/validity-periods\"))"
   ]
  }
 ],
 "metadata": {
  "kernelspec": {
   "display_name": "dapla-toolbelt-metadata-as_xqQkV-py3.12",
   "language": "python",
   "name": "python3"
  },
  "language_info": {
   "codemirror_mode": {
    "name": "ipython",
    "version": 3
   },
   "file_extension": ".py",
   "mimetype": "text/x-python",
   "name": "python",
   "nbconvert_exporter": "python",
   "pygments_lexer": "ipython3",
   "version": "3.12.7"
  }
 },
 "nbformat": 4,
 "nbformat_minor": 2
}
