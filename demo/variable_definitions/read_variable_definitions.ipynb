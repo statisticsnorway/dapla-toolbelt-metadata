{
 "cells": [
  {
   "cell_type": "markdown",
   "metadata": {},
   "source": [
    "# Variable Definitions API demo"
   ]
  },
  {
   "cell_type": "markdown",
   "metadata": {},
   "source": [
    "## Setup"
   ]
  },
  {
   "cell_type": "code",
   "execution_count": null,
   "metadata": {},
   "outputs": [],
   "source": [
    "import os\n",
    "from pprint import pprint\n",
    "from typing import Any\n",
    "\n",
    "import requests\n",
    "\n",
    "token = os.environ.get(\"OIDC_TOKEN\")\n",
    "active_group = os.environ.get(\"DAPLA_GROUP_CONTEXT\")\n",
    "\n",
    "if not token:\n",
    "    msg = (\n",
    "        \"\"\"Environment variable 'OIDC_TOKEN' not set, obtain the value for it by:\n",
    "    1. Launch a service (Jupyterlab or VSCode) at https://lab.dapla.ssb.no\n",
    "    2. Run command 'echo $OIDC_TOKEN'\n",
    "    3. Run 'export OIDC_TOKEN=<value obtained from Dapla Lab>' on this machine.\n",
    "\"\"\"\n",
    "    )\n",
    "    raise OSError(msg)\n",
    "\n",
    "# Only available from Statistics Norway's networks, requires authorization\n",
    "INTERNAL_SERVER = \"https://metadata.intern.test.ssb.no\"\n",
    "\n",
    "auth = {\"Authorization\": f\"Bearer {token}\"}\n",
    "\n",
    "def vardef_request(path: str, method: str=\"GET\") -> Any:\n",
    "    \"\"\"Make a request to vardef and return the json content from the response.\"\"\"\n",
    "    response = requests.request(method, f\"{INTERNAL_SERVER}{path}?active_group={active_group}\", headers=auth, timeout=10)\n",
    "    response.raise_for_status()\n",
    "    return response.json()"
   ]
  },
  {
   "cell_type": "markdown",
   "metadata": {},
   "source": [
    "## List all variable definitions"
   ]
  },
  {
   "cell_type": "code",
   "execution_count": null,
   "metadata": {},
   "outputs": [],
   "source": [
    "pprint(vardef_request(\"/variable-definitions\"))"
   ]
  },
  {
   "cell_type": "markdown",
   "metadata": {},
   "source": [
    "## Migrate a legacy definition from Vardok to Vardef\n",
    "\n",
    "Note: This will raise an error if the short name already exists."
   ]
  },
  {
   "cell_type": "code",
   "execution_count": null,
   "metadata": {},
   "outputs": [],
   "source": [
    "pprint(vardef_request(\"/vardok-migration/948\", \"POST\"))"
   ]
  },
  {
   "cell_type": "markdown",
   "metadata": {},
   "source": [
    "## Get one Variable Definition"
   ]
  },
  {
   "cell_type": "code",
   "execution_count": null,
   "metadata": {},
   "outputs": [],
   "source": [
    "pprint(vardef_request(\"/variable-definitions/NWNEpgYT\"))"
   ]
  }
 ],
 "metadata": {
  "kernelspec": {
   "display_name": "dapla-toolbelt-metadata-as_xqQkV-py3.12",
   "language": "python",
   "name": "python3"
  },
  "language_info": {
   "codemirror_mode": {
    "name": "ipython",
    "version": 3
   },
   "file_extension": ".py",
   "mimetype": "text/x-python",
   "name": "python",
   "nbconvert_exporter": "python",
   "pygments_lexer": "ipython3",
   "version": "3.12.7"
  }
 },
 "nbformat": 4,
 "nbformat_minor": 2
}
