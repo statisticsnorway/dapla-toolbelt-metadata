{
 "cells": [
  {
   "cell_type": "markdown",
   "metadata": {},
   "source": [
    "# <span style=color:#d49040>Lese og filtrere variabeldefinisjoner</span>\n",
    "\n",
    "Beskrivelse/forklaring. \n",
    "\n",
    "Teknisk oppsett må alltid kjøres på begynnelsen av en økt, men utover det kan man \n",
    "\n",
    "hoppe til relevant kapitler. Vær obs på at også underkapitler forutsetter et teknisk oppsett per kapittel \n",
    "\n",
    "før man utforsker.\n",
    "\n",
    "Innhold:\n",
    "* [Teknisk oppsett](#Teknisk-oppsett)\n",
    "* [Lese variabeldefinisjoner](#Lese-variabeldefinisjoner)\n",
    "    * [Telle](#Antall)\n",
    "    * [Vise alle](#Vise-alle)\n",
    "    * [Filtrere](#Filtrere)\n",
    "        * [Dato](#Dato)\n",
    "        * [Status](#Status)\n",
    "        * [Eier team](#Eier-team)\n",
    "        * [Opprettet eller endret av](#OOpprettet-eller-endret-av)\n",
    "\n",
    "* [Lese en variabeldefinisjon](#Lese-en-variabeldefinisjon)\n",
    "    * [Kortnavn](#Kortnavn)\n",
    "    * [Id](#Kortnavn)\n",
    "    * [Patches](#Patches)\n",
    "    * [Gyldighetsperioder](#Gyldighetsperioder)\n",
    "\n",
    "\n"
   ]
  },
  {
   "cell_type": "markdown",
   "metadata": {},
   "source": []
  },
  {
   "cell_type": "markdown",
   "metadata": {},
   "source": [
    "## Teknisk oppsett"
   ]
  },
  {
   "cell_type": "code",
   "execution_count": null,
   "metadata": {},
   "outputs": [],
   "source": [
    "# Redusere størrelsen på Traceback for mer tydelige feilmeldinger\n",
    "%xmode Minimal\n",
    "\n",
    "# Importere Vardef\n",
    "from dapla_metadata.variable_definitions import Vardef\n",
    "\n",
    "# Andre importer\n",
    "from datetime import date\n",
    "# Oppsett for å vise logger\n",
    "import logging\n",
    "import sys\n",
    "\n",
    "logging.basicConfig(\n",
    "    format=\"%(levelname)s: %(message)s\",\n",
    "    level=logging.INFO,\n",
    "    stream=sys.stdout,\n",
    "    force=True,\n",
    ")"
   ]
  },
  {
   "cell_type": "markdown",
   "metadata": {},
   "source": [
    "## Lese variabeldefinisjoner\n",
    "\n",
    "Introduksjon\n",
    "\n",
    "Innhold:\n",
    "* [Teknisk oppsett variabeldefinisjoner](#Teknisk-oppsett-variabeldefinisjoner)\n",
    "* [Alle](#Alle)\n",
    "* [Telle variabeldefinisjoner](#Telle-variabel-definisjoner)\n",
    "* [Filtrere ](#Filtrere)"
   ]
  },
  {
   "cell_type": "markdown",
   "metadata": {},
   "source": [
    "### Teknisk oppsett variabeldefinisjoner\n",
    "Før man går videre i dette kapittelet forutsettes det at cellen under kjøres på begynnelsen av en økt.\n",
    "\n",
    "Her henter vi en liste med alle variabeldefinisjoner som vi lagrer i minnet som \n",
    "<span style=\"color:orange\">\"variabeldefinisjoner\"</span>."
   ]
  },
  {
   "cell_type": "code",
   "execution_count": null,
   "metadata": {},
   "outputs": [],
   "source": [
    "variabel_definisjoner = Vardef.list_variable_definitions()"
   ]
  },
  {
   "cell_type": "markdown",
   "metadata": {},
   "source": [
    "#### Telle variabeldefinisjoner"
   ]
  },
  {
   "cell_type": "code",
   "execution_count": null,
   "metadata": {},
   "outputs": [],
   "source": [
    "# Oversikt over antall lagrede variabeldefinisjoner.\n",
    "print(f\"Antall variabeldefinisjoner: {len(variabel_definisjoner)}\")"
   ]
  },
  {
   "cell_type": "markdown",
   "metadata": {},
   "source": [
    "#### Vis alle variabeldefinisjoner"
   ]
  },
  {
   "cell_type": "code",
   "execution_count": null,
   "metadata": {},
   "outputs": [],
   "source": [
    "# Vil returnere alle variabeldefinisjoner separert med en tom linje\n",
    "for variable in variabel_definisjoner:\n",
    "    print(variable)\n",
    "    print(\"\\n\")"
   ]
  },
  {
   "cell_type": "markdown",
   "metadata": {},
   "source": [
    "### Filtrere\n",
    "Introduksjon\n",
    "\n",
    "Innhold:\n",
    "* [Dato](#Dato)\n",
    "* [Eier](#Eier)\n",
    "* [Person](#Person)\n",
    "* [Kombinere filtre](#Kombinere-filtere)"
   ]
  },
  {
   "cell_type": "markdown",
   "metadata": {},
   "source": [
    "#### Dato"
   ]
  },
  {
   "cell_type": "code",
   "execution_count": null,
   "metadata": {},
   "outputs": [],
   "source": [
    "# Fyll inn ønsket dato: år, måned, dag\n",
    "# Eksempel: gyldig 20.januar 2025 - date(2025,1,20)\n",
    "dato = date(0000,00,00)\n",
    "dato_test = date(2025,1,20)\n",
    "variabeldefinisjoner_gyldig_dato = Vardef.list_variable_definitions(date_of_validity=dato)"
   ]
  },
  {
   "cell_type": "markdown",
   "metadata": {},
   "source": [
    "#### Status"
   ]
  },
  {
   "cell_type": "markdown",
   "metadata": {},
   "source": [
    "##### Draft"
   ]
  },
  {
   "cell_type": "markdown",
   "metadata": {},
   "source": [
    "###### Blokkere"
   ]
  },
  {
   "cell_type": "markdown",
   "metadata": {},
   "source": [
    "##### Publisert internt"
   ]
  },
  {
   "cell_type": "markdown",
   "metadata": {},
   "source": [
    "##### Publisert eksternt"
   ]
  },
  {
   "cell_type": "markdown",
   "metadata": {},
   "source": [
    "#### Tilhører et eier team"
   ]
  },
  {
   "cell_type": "markdown",
   "metadata": {},
   "source": [
    "##### Eier og status"
   ]
  },
  {
   "cell_type": "markdown",
   "metadata": {},
   "source": [
    "#### Er opprettet eller endret av meg"
   ]
  }
 ],
 "metadata": {
  "kernelspec": {
   "display_name": "dapla-toolbelt-metadata-fJc960va-py3.12",
   "language": "python",
   "name": "python3"
  },
  "language_info": {
   "codemirror_mode": {
    "name": "ipython",
    "version": 3
   },
   "file_extension": ".py",
   "mimetype": "text/x-python",
   "name": "python",
   "nbconvert_exporter": "python",
   "pygments_lexer": "ipython3",
   "version": "3.12.0"
  }
 },
 "nbformat": 4,
 "nbformat_minor": 2
}
