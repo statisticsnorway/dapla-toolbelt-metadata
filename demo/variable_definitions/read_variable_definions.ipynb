{
 "cells": [
  {
   "cell_type": "markdown",
   "metadata": {},
   "source": [
    "# <span style=color:#d49040>Lese og filtrere variabeldefinisjoner</span>\n",
    "\n",
    "Beskrivelse/forklaring. \n",
    "\n",
    "Teknisk oppsett må alltid kjøres på begynnelsen av en økt, men utover det kan man \n",
    "\n",
    "hoppe til relevant kapitler. Vær obs på at også underkapitler forutsetter et teknisk oppsett per kapittel \n",
    "\n",
    "før man utforsker.\n",
    "\n",
    "Innhold:\n",
    "* [Teknisk oppsett](#Teknisk-oppsett)\n",
    "* [Lese alle variabeldefinisjoner](#Lese-alle-variabeldefinisjoner)\n",
    "    * [Teknisk oppsett variabeldefinisjoner](#Teknisk-oppsett-variabeldefinisjoner)\n",
    "    * [Vise alle variabeldefinisjoner](#)\n",
    "    * [Telle variabeldefinisjoner](#Telle-variabel-definisjoner)\n",
    "    * [Filtrere](#Filtrere)\n",
    "        * [Dato](#Dato)\n",
    "        * [Status](#Status)\n",
    "        * [Eier team](#Eier-team)\n",
    "        * [Opprettet eller endret av](#OOpprettet-eller-endret-av)\n",
    "        * [Kombinere filtre](#Kombinere-filtere)\n",
    "\n",
    "* [Lese en variabeldefinisjon](#Lese-en-variabeldefinisjon)\n",
    "    * [Kortnavn](#Kortnavn)\n",
    "    * [Id](#Kortnavn)\n",
    "    * [Patches](#Patches)\n",
    "    * [Gyldighetsperioder](#Gyldighetsperioder)\n",
    "\n",
    "\n"
   ]
  },
  {
   "cell_type": "markdown",
   "metadata": {},
   "source": [
    "## Teknisk oppsett\n",
    "Cellen under må kjøres ved begynnelsen av hver økt."
   ]
  },
  {
   "cell_type": "code",
   "execution_count": null,
   "metadata": {},
   "outputs": [],
   "source": [
    "# Redusere størrelsen på Traceback for mer tydelige feilmeldinger\n",
    "%xmode Minimal\n",
    "\n",
    "# Importere Vardef\n",
    "from dapla_metadata.variable_definitions import Vardef\n",
    "\n",
    "# Andre importer\n",
    "from datetime import date\n",
    "# Oppsett for å vise logger\n",
    "import logging\n",
    "import sys\n",
    "\n",
    "logging.basicConfig(\n",
    "    format=\"%(levelname)s: %(message)s\",\n",
    "    level=logging.INFO,\n",
    "    stream=sys.stdout,\n",
    "    force=True,\n",
    ")"
   ]
  },
  {
   "cell_type": "markdown",
   "metadata": {},
   "source": [
    "## Lese alle variabeldefinisjoner\n",
    "\n",
    "Introduksjon\n",
    "\n",
    "Innhold:\n",
    "* [Teknisk oppsett variabeldefinisjoner](#Teknisk-oppsett-variabeldefinisjoner)\n",
    "* [Vise alle variabeldefinisjoner](#Vise-alle-variabeldefinisjoner)\n",
    "* [Telle variabeldefinisjoner](#Telle-variabel-definisjoner)\n",
    "* [Filtrere ](#Filtrere)"
   ]
  },
  {
   "cell_type": "markdown",
   "metadata": {},
   "source": [
    "### Teknisk oppsett variabeldefinisjoner\n",
    "Før man går videre i dette kapittelet forutsettes det at cellen under kjøres på begynnelsen av en økt.\n",
    "\n",
    "Her henter vi en liste med alle variabeldefinisjoner som vi lagrer i minnet som \n",
    "<span style=\"color:orange\">\"variabeldefinisjoner\"</span>."
   ]
  },
  {
   "cell_type": "code",
   "execution_count": null,
   "metadata": {},
   "outputs": [],
   "source": [
    "variabel_definisjoner = Vardef.list_variable_definitions()"
   ]
  },
  {
   "cell_type": "markdown",
   "metadata": {},
   "source": [
    "#### Telle variabeldefinisjoner"
   ]
  },
  {
   "cell_type": "code",
   "execution_count": null,
   "metadata": {},
   "outputs": [],
   "source": [
    "# Oversikt over antall lagrede variabeldefinisjoner.\n",
    "print(f\"Antall variabeldefinisjoner: {len(variabel_definisjoner)}\")"
   ]
  },
  {
   "cell_type": "markdown",
   "metadata": {},
   "source": [
    "#### Vis alle variabeldefinisjoner"
   ]
  },
  {
   "cell_type": "code",
   "execution_count": null,
   "metadata": {},
   "outputs": [],
   "source": [
    "# Vil returnere alle variabeldefinisjoner separert med en tom linje. \n",
    "for variable in variabel_definisjoner:\n",
    "    print(variable)\n",
    "    print(\"\\n\")"
   ]
  },
  {
   "cell_type": "markdown",
   "metadata": {},
   "source": [
    "### Filtrere\n",
    "Introduksjon\n",
    "\n",
    "Innhold:\n",
    "* [Dato](#Dato)\n",
    "* [Eier](#Eier)\n",
    "* [Person](#Person)\n",
    "* [Kombinere filtre](#Kombinere-filtere)"
   ]
  },
  {
   "cell_type": "markdown",
   "metadata": {},
   "source": [
    "#### Dato\n",
    "\n",
    "Bruk tall\n",
    "\n",
    "Dag og måned skal ikke ha 0 foran, for eksempel juni = 6 (og ikke 06)\n",
    "\n",
    "Eksempel 1: \n",
    "Ønsker variabeldefinisjoner gyldig 20.januar 2025:\n",
    "\n",
    "`dato = date(2025,1,20)`\n",
    "\n",
    "Eksempel 2: \n",
    "Ønsker variabeldefinisjoner gyldig 4.november 1983:\n",
    "\n",
    "`dato = date(1983,11,4)`"
   ]
  },
  {
   "cell_type": "code",
   "execution_count": null,
   "metadata": {},
   "outputs": [],
   "source": [
    "# Erstatt 0 med ønsket år, måned, dag: \n",
    "year = 0\n",
    "month = 0\n",
    "day = 0\n",
    "\n",
    "dato = date(year, month, day)\n",
    "variabeldefinisjoner_gyldig_dato = Vardef.list_variable_definitions(date_of_validity=dato)"
   ]
  },
  {
   "cell_type": "markdown",
   "metadata": {},
   "source": [
    "#### Status"
   ]
  },
  {
   "cell_type": "markdown",
   "metadata": {},
   "source": [
    "##### Draft"
   ]
  },
  {
   "cell_type": "markdown",
   "metadata": {},
   "source": [
    "###### Blokkere"
   ]
  },
  {
   "cell_type": "markdown",
   "metadata": {},
   "source": [
    "##### Publisert internt"
   ]
  },
  {
   "cell_type": "markdown",
   "metadata": {},
   "source": [
    "##### Publisert eksternt"
   ]
  },
  {
   "cell_type": "markdown",
   "metadata": {},
   "source": [
    "#### Tilhører et eier team"
   ]
  },
  {
   "cell_type": "markdown",
   "metadata": {},
   "source": [
    "##### Eier og status"
   ]
  },
  {
   "cell_type": "markdown",
   "metadata": {},
   "source": [
    "#### Er opprettet eller endret av meg"
   ]
  }
 ],
 "metadata": {
  "kernelspec": {
   "display_name": "dapla-toolbelt-metadata-fJc960va-py3.12",
   "language": "python",
   "name": "python3"
  },
  "language_info": {
   "codemirror_mode": {
    "name": "ipython",
    "version": 3
   },
   "file_extension": ".py",
   "mimetype": "text/x-python",
   "name": "python",
   "nbconvert_exporter": "python",
   "pygments_lexer": "ipython3",
   "version": "3.12.0"
  }
 },
 "nbformat": 4,
 "nbformat_minor": 2
}
