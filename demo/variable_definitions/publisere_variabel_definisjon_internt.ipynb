{
 "cells": [
  {
   "cell_type": "markdown",
   "metadata": {},
   "source": [
    "# Publisere en variabel definisjon internt\n",
    "\n",
    "Denne Notebook er for deg som:\n",
    "\n",
    "- Har en kvalitetsjekket variabeldefinisjon med status `UTKAST`\n",
    "- Ønsker å publisere internt\n",
    "\n",
    "Forutsetninger:\n",
    "- Du må ha `Kortnavn` for variabeldefinisjonen du vil publisere\n"
   ]
  },
  {
   "cell_type": "markdown",
   "metadata": {},
   "source": [
    "## Oppsett\n",
    "\n",
    "Koden under kjøres som forberedelse for påfølgende steg"
   ]
  },
  {
   "cell_type": "code",
   "execution_count": null,
   "metadata": {},
   "outputs": [],
   "source": [
    "# Nødvendig import\n",
    "import logging\n",
    "import sys\n",
    "\n",
    "from dapla_metadata.variable_definitions import Vardef\n",
    "from dapla_metadata.variable_definitions import models\n",
    "\n",
    "# Redusere størrelsen på Traceback for mer tydelige feilmeldinger\n",
    "%xmode Minimal\n",
    "\n",
    "# Gjøre at logging vises\n",
    "logging.basicConfig(\n",
    "    format=\"%(levelname)s: %(message)s\",\n",
    "    level=logging.INFO,\n",
    "    stream=sys.stdout,\n",
    "    force=True,\n",
    ")"
   ]
  },
  {
   "cell_type": "markdown",
   "metadata": {},
   "source": [
    "## Viktig informasjon om publisering internt\n",
    "\n",
    "Merk at prosessen med å publisere er irreversibel. Når en variabeldefinisjon er publisert kan den ikke slettes eller avpubliseres.\n",
    "\n",
    "Ved intern publisering må alle obligatoriske felt ha verdi.\n",
    "\n",
    "Obligatoriske felt:\n",
    "- navn (`name`)\n",
    "- kortnavn (`short_name`)\n",
    "- definisjon (`definition`)\n",
    "- enhetstyper (`unit_types`)\n",
    "- statistikkområder (`subject_fields`)\n",
    "- inneholder særlige kategorier av personopplysninger(`contains_special_categories_of_personal_data`)\n",
    "- gyldig f.o.m.(`valid_from`)\n",
    "- kontakt(`contact`)\n",
    "- eier (`owner`)\n",
    "\n",
    "Flerspråklige felt (som for eksempel `navn` eller `definisjon`) må ha verdi på minst et språk (bokmål, nynorsk eller engelsk). \n",
    "Lister (som for eksempel `enhetstyper`) må ha minst et element i listen."
   ]
  },
  {
   "cell_type": "markdown",
   "metadata": {},
   "source": [
    "## Hente ut variabeldefinisjon\n",
    "\n",
    "Kjør cellen under. \n",
    "\n",
    "Et input-felt vises – skriv inn kortnavnet ditt og trykk **Enter**.\n",
    "\n",
    "⚠ Viktig: Trykk alltid **Enter**, selv om du ikke skriver noe, for å unngå at Jupyter-kjernen henger seg opp.\n",
    "\n",
    "Her henter vi variabeldefinisjonen som skal publisereres."
   ]
  },
  {
   "cell_type": "code",
   "execution_count": null,
   "metadata": {},
   "outputs": [],
   "source": [
    "mitt_kortnavn = input(\"Skriv inn kortnavn\").strip()\n",
    "min_variabel = Vardef.get_variable_definition_by_shortname(short_name=mitt_kortnavn)\n",
    "\n",
    "if min_variabel.variable_status in {\n",
    "    models.VariableStatus.PUBLISHED_EXTERNAL,\n",
    "    models.VariableStatus.PUBLISHED_INTERNAL,\n",
    "}:\n",
    "    print(f\"Variabeldefinisjon '{min_variabel.short_name}' er allerede publisert!\")\n",
    "else:\n",
    "    print(\n",
    "        f\"Variabeldefinisjon valgt: {min_variabel.short_name} (ID: {min_variabel.id}). Klar for intern publisering.\"\n",
    "    )"
   ]
  },
  {
   "cell_type": "markdown",
   "metadata": {},
   "source": [
    "## Publisere internt\n",
    "\n",
    "I koden under lagres oppdatert status i Vardef. \n",
    "\n",
    "For at statusendringen skal tre i kraft må dette steget fullføres uten feil.\n",
    "\n"
   ]
  },
  {
   "cell_type": "code",
   "execution_count": null,
   "metadata": {},
   "outputs": [],
   "source": [
    "min_variabel = min_variabel.publish_internal()\n",
    "print(f\"Ny status: {min_variabel.variable_status}\")"
   ]
  }
 ],
 "metadata": {
  "language_info": {
   "codemirror_mode": {
    "name": "ipython"
   },
   "file_extension": ".py",
   "mimetype": "text/x-python",
   "name": "python",
   "nbconvert_exporter": "python"
  }
 },
 "nbformat": 4,
 "nbformat_minor": 2
}
