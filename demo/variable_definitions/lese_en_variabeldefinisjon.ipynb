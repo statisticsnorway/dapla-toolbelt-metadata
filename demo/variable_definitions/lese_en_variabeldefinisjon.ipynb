{
 "cells": [
  {
   "cell_type": "code",
   "execution_count": null,
   "metadata": {},
   "outputs": [],
   "source": [
    "# Nødvendig import\n",
    "import logging\n",
    "import sys\n",
    "\n",
    "from dapla_metadata.variable_definitions import Vardef\n",
    "\n",
    "# Redusere størrelsen på Traceback for mer tydelige feilmeldinger\n",
    "%xmode Minimal\n",
    "\n",
    "# Gjøre at logging vises\n",
    "logging.basicConfig(\n",
    "    format=\"%(levelname)s: %(message)s\",\n",
    "    level=logging.INFO,\n",
    "    stream=sys.stdout,\n",
    "    force=True,\n",
    ")\n"
   ]
  },
  {
   "cell_type": "markdown",
   "metadata": {},
   "source": [
    "Sette kortnavn "
   ]
  },
  {
   "cell_type": "code",
   "execution_count": null,
   "metadata": {},
   "outputs": [],
   "source": [
    "# Sett inn kortnavn mellom anførselstegn\n",
    "mitt_kortnavn = \"\"\n"
   ]
  },
  {
   "cell_type": "markdown",
   "metadata": {},
   "source": [
    "Alle patches"
   ]
  },
  {
   "cell_type": "code",
   "execution_count": null,
   "metadata": {},
   "outputs": [],
   "source": [
    "# Lese ut alle patcher av variabeldefinisjonen\n",
    "min_variabel = Vardef.get_variable_definition_by_shortname(\n",
    "    short_name=mitt_kortnavn,\n",
    ").list_patches()\n",
    "\n",
    "for i in min_variabel:\n",
    "    print(i)\n"
   ]
  },
  {
   "cell_type": "markdown",
   "metadata": {},
   "source": [
    "Gyldighetsperioder"
   ]
  },
  {
   "cell_type": "code",
   "execution_count": null,
   "metadata": {},
   "outputs": [],
   "source": [
    "# Lese ut alle patcher av variabeldefinisjonen\n",
    "min_variabel = Vardef.get_variable_definition_by_shortname(\n",
    "    short_name=mitt_kortnavn,\n",
    ").list_validity_periods()\n",
    "\n",
    "for i in min_variabel:\n",
    "    print(i)\n"
   ]
  }
 ],
 "metadata": {
  "language_info": {
   "name": "python"
  }
 },
 "nbformat": 4,
 "nbformat_minor": 2
}
