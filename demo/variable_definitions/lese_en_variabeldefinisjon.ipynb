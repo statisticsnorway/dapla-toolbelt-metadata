{
 "cells": [
  {
   "cell_type": "markdown",
   "metadata": {},
   "source": [
    "# Vise en variabel definisjon\n",
    "\n",
    "Denne Notebooken er for deg som:\n",
    "\n",
    "- Ønsker en oversikt over alle feltene på en gitt variabeldefinisjon\n",
    "- Ønsker en oversikt over alle gyldighetsperiodene for en gitt variabeldefinisjon\n",
    "- Ønsker en oversikt over alle pathcer for en gitt variabeldefinisjon\n",
    "\n",
    "\n",
    "Forutsetninger:\n",
    "- Du må ha `Kortnavn` for variabeldefinisjonen"
   ]
  },
  {
   "cell_type": "markdown",
   "metadata": {},
   "source": [
    "## Oppsett\n",
    "Koden under kjøres som forberedelse for påfølgende steg"
   ]
  },
  {
   "cell_type": "code",
   "execution_count": null,
   "metadata": {},
   "outputs": [],
   "source": [
    "# Nødvendig import\n",
    "import logging\n",
    "import sys\n",
    "\n",
    "import yaml\n",
    "\n",
    "from dapla_metadata.variable_definitions import Vardef\n",
    "\n",
    "# Redusere størrelsen på Traceback for mer tydelige feilmeldinger\n",
    "%xmode Minimal\n",
    "\n",
    "# Gjøre at logging vises\n",
    "logging.basicConfig(\n",
    "    format=\"%(levelname)s: %(message)s\",\n",
    "    level=logging.INFO,\n",
    "    stream=sys.stdout,\n",
    "    force=True,\n",
    ")\n",
    "\n",
    "\n",
    "def skriv_ut_patches(variabler: list):\n",
    "    col_widths = 110\n",
    "    for variabel in variabler:\n",
    "        print(\"-\" * col_widths)\n",
    "        print(f\"Viser patch med patchid {variabel.patch_id}\")\n",
    "        print(\"-\" * col_widths)\n",
    "        print()\n",
    "        print(variabel)\n",
    "\n",
    "\n",
    "def skriv_ut_gyldighetsperioder(variabler: list):\n",
    "    col_widths = 110\n",
    "    for variabel in variabler:\n",
    "        print(\"-\" * col_widths)\n",
    "        print(\n",
    "            f\"Viser gyldighetsperiode som er gyldig fra {variabel.valid_from}\"\n",
    "            + (\n",
    "                f\" og til {variabel.valid_until}\"\n",
    "                if variabel.valid_until is not None\n",
    "                else \"\"\n",
    "            )\n",
    "        )\n",
    "        print(\"-\" * col_widths)\n",
    "        print()\n",
    "        print(variabel)\n"
   ]
  },
  {
   "cell_type": "markdown",
   "metadata": {},
   "source": [
    "## Kortnavn\n",
    "Skriv inn kortnavnet du ønsker å se variabeldefinisjonen til."
   ]
  },
  {
   "cell_type": "code",
   "execution_count": null,
   "metadata": {},
   "outputs": [],
   "source": [
    "# Sett inn kortnavn mellom anførselstegn\n",
    "mitt_kortnavn = input(\"Skriv inn kortnavn\")"
   ]
  },
  {
   "cell_type": "markdown",
   "metadata": {},
   "source": [
    "## Vise alle felt for en variabeldefinisjon\n",
    "Her vises alle felter for siste patch i gydlighetsperiode."
   ]
  },
  {
   "cell_type": "code",
   "execution_count": null,
   "metadata": {},
   "outputs": [],
   "source": [
    "# Lese ut siste versjon av variabeldefinisjonen\n",
    "min_variabel = Vardef.get_variable_definition_by_shortname(\n",
    "    short_name=mitt_kortnavn,\n",
    ")\n",
    "\n",
    "min_variabel\n"
   ]
  },
  {
   "cell_type": "markdown",
   "metadata": {},
   "source": [
    "## Vise alle patches for en variabeldefinisjon\n"
   ]
  },
  {
   "cell_type": "code",
   "execution_count": null,
   "metadata": {},
   "outputs": [],
   "source": [
    "# Lese ut alle patcher av variabeldefinisjonen\n",
    "min_variabel = Vardef.get_variable_definition_by_shortname(\n",
    "    short_name=mitt_kortnavn,\n",
    ").list_patches()\n",
    "\n",
    "skriv_ut_patches(min_variabel)\n"
   ]
  },
  {
   "cell_type": "markdown",
   "metadata": {},
   "source": [
    "## Vise alle gydlighetsperioder for en variabeldefinisjon\n",
    "\n",
    "Her vises alle felter for en variabeldefinisjons siste patch i alle gyldighetsperioder."
   ]
  },
  {
   "cell_type": "code",
   "execution_count": null,
   "metadata": {},
   "outputs": [],
   "source": [
    "# Lese ut alle gyldighetsperioder av variabeldefinisjonen\n",
    "min_variabel = Vardef.get_variable_definition_by_shortname(\n",
    "    short_name=mitt_kortnavn,\n",
    ").list_validity_periods()\n",
    "\n",
    "skriv_ut_gyldighetsperioder(min_variabel)\n"
   ]
  }
 ],
 "metadata": {
  "language_info": {
   "name": "python"
  }
 },
 "nbformat": 4,
 "nbformat_minor": 2
}
