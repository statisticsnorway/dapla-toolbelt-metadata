{
 "cells": [
  {
   "cell_type": "markdown",
   "metadata": {},
   "source": [
    "# Migrer variabeldefinisjon\n",
    "\n",
    "Denne Notebook er for deg som:\n",
    "\n",
    "- Har en eksisterende variabeldefinisjon i Vardok og ønsker å migrere denne til Vardef\n",
    "\n",
    "Forutsetninger:\n",
    "- Du må ha en `id` i Vardok for variabeldefinisjonen du ønsker å migrere"
   ]
  },
  {
   "cell_type": "markdown",
   "metadata": {},
   "source": [
    "## Oppsett\n",
    "\n",
    "Koden under kjøres som forberedelse for påfølgende steg"
   ]
  },
  {
   "cell_type": "code",
   "execution_count": null,
   "metadata": {},
   "outputs": [],
   "source": [
    "# Nødvendig import\n",
    "import logging\n",
    "import sys\n",
    "\n",
    "from dapla_metadata.variable_definitions import Vardef\n",
    "\n",
    "# Redusere størrelsen på Traceback for mer tydelige feilmeldinger\n",
    "%xmode Minimal\n",
    "\n",
    "# Gjøre at logging vises\n",
    "logging.basicConfig(\n",
    "    format=\"%(levelname)s: %(message)s\",\n",
    "    level=logging.INFO,\n",
    "    stream=sys.stdout,\n",
    "    force=True,\n",
    ")"
   ]
  },
  {
   "cell_type": "markdown",
   "metadata": {},
   "source": [
    "## Viktig informasjon\n",
    "\n",
    "Når en variabeldefinisjon fra Vardok migreres til Vardef, blir den alltid opprettet som et `UTKAST`, uavhengig av hvilken status den hadde i Vardok. Dette gjøres for at man skal kunne oppdatere og tilpasse variabeldefinisjonen slik at den oppfyller kravene for publisering i Vardef.\n",
    "\n",
    "⚠️ **En variabeldefinisjon kan kun migreres én gang.**\n",
    "Når en Vardok-ID er migrert til Vardef, vil det ikke være mulig å migrere den samme ID-en på nytt.\n",
    "\n",
    "📅 **Merk:** Dersom variabeldefinisjonen i Vardok mangler en gyldig fra-dato, settes denne automatisk til `1900-01-01`.\n",
    "\n",
    "🏷️ **Kortnavn:** Hvis det ikke finnes et kortnavn for variabeldefinisjonen i Vardok, vil det bli automatisk generert under migreringen. "
   ]
  },
  {
   "cell_type": "markdown",
   "metadata": {},
   "source": [
    "## Hente ut variabeldefinisjon fra Vardok \n",
    "\n",
    "1. Kjør cellen under. \n",
    "2. Vent til input-feltet vises\n",
    "2. Skriv inn kortnavn \n",
    "3. Trykk **Enter**.\n",
    "\n",
    "⚠️  Viktig: Trykk alltid **Enter**, selv om du ikke skriver noe, for å unngå at Jupyter-kjernen henger seg opp."
   ]
  },
  {
   "cell_type": "code",
   "execution_count": null,
   "metadata": {},
   "outputs": [],
   "source": [
    "min_vardok_id = input(\"Skriv inn Vardok id: \").strip()\n",
    "print(f\"✅ {min_vardok_id}\")"
   ]
  },
  {
   "cell_type": "markdown",
   "metadata": {},
   "source": [
    "## Migrere variabeldefinisjon til Vardef\n",
    "\n",
    "⭐️ I koden under migreres en variabel fra Vardok til Vardef med valgt Vardok id."
   ]
  },
  {
   "cell_type": "code",
   "execution_count": null,
   "metadata": {},
   "outputs": [],
   "source": [
    "min_migrert_variabel = Vardef.migrate_from_vardok(min_vardok_id)\n",
    "print(min_migrert_variabel)"
   ]
  }
 ],
 "metadata": {
  "language_info": {
   "name": "python"
  }
 },
 "nbformat": 4,
 "nbformat_minor": 2
}
