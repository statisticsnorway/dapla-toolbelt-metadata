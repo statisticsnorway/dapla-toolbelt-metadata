{
 "cells": [
  {
   "cell_type": "markdown",
   "metadata": {},
   "source": [
    "# Rediger utkast variabeldefinisjon\n",
    "\n",
    "Denne Notebooken er for deg som:\n",
    "\n",
    "- Har opprettet en variabeldefinisjon med status `UTKAST`\n",
    "- Ønsker å jobbe videre med den før evt. publisering\n",
    "\n",
    "Forutsetninger:\n",
    "- Du må ha `Kortnavn` for variabeldefinisjonen du vil redigere\n"
   ]
  },
  {
   "cell_type": "markdown",
   "metadata": {},
   "source": [
    "## Oppsett\n",
    "\n",
    "Koden under kjøres som forberedelse for påfølgende steg"
   ]
  },
  {
   "cell_type": "code",
   "execution_count": null,
   "metadata": {},
   "outputs": [],
   "source": [
    "# Nødvendig import\n",
    "import logging\n",
    "import sys\n",
    "\n",
    "from dapla_metadata.variable_definitions import Vardef\n",
    "\n",
    "# Redusere størrelsen på Traceback for mer tydelige feilmeldinger\n",
    "%xmode Minimal\n",
    "\n",
    "# Gjøre at logging vises\n",
    "logging.basicConfig(\n",
    "    format=\"%(levelname)s: %(message)s\",\n",
    "    level=logging.INFO,\n",
    "    stream=sys.stdout,\n",
    "    force=True,\n",
    ")"
   ]
  },
  {
   "cell_type": "markdown",
   "metadata": {},
   "source": [
    "## Viktig informasjon\n",
    "\n",
    "🔗 Her finner du lenker til kodelister og klassifikasjoner i Klass som brukes for å fylle ut feltene:\n",
    "- [klassifikasjonsreferanse(`classification_reference`)](https://www.ssb.no/klass)\n",
    "- [enhetstyper (`unit_types`)](https://www.ssb.no/klass/klassifikasjoner/702) \n",
    "- [statistikkområder (`subject_fields`)](https://www.ssb.no/klass/klassifikasjoner/618)\n",
    "- [måletype(`measurement_type`)](https://www.ssb.no/klass/klassifikasjoner/303)"
   ]
  },
  {
   "cell_type": "markdown",
   "metadata": {},
   "source": [
    "## Skrive til fil\n",
    "\n",
    "1. Kjør cellen under. \n",
    "2. Vent til input-feltet vises\n",
    "3. Skriv inn kortnavn \n",
    "4. Trykk **Enter**.\n",
    "\n",
    "⚠️  Viktig: Trykk alltid **Enter**, selv om du ikke skriver noe, for å unngå at Jupyter-kjernen henger seg opp.\n",
    "\n",
    "🗂️ YAML-fil lagres som standard på `/home/onyxia/work/variable_definitions/variable_definition_<short_name>_<id>_<timestamp>.yaml`.\n",
    "\n",
    "✅ Etter fullføring vil filstien til den genererte YAML-filen bli returnert.\n"
   ]
  },
  {
   "cell_type": "code",
   "execution_count": null,
   "metadata": {},
   "outputs": [],
   "source": [
    "mitt_kortnavn = input(\"Skriv inn kortnavn: \").strip()\n",
    "\n",
    "min_variabel = Vardef.get_variable_definition_by_shortname(\n",
    "    short_name=mitt_kortnavn,\n",
    ").to_file()"
   ]
  },
  {
   "cell_type": "markdown",
   "metadata": {},
   "source": [
    "## Redigere\n",
    "\n",
    "Åpne filen som vises i outputen over.\n",
    "\n",
    "Filen inneholder alle felt slik de er lagret i Vardef-tjenesten per nå.\n",
    "\n",
    "✏️ Rediger direkte i filen der du ønsker å gjøre endringer.\n",
    "\n",
    "💾  Lagre filen lokalt når du er ferdig med redigeringen.\n",
    "\n",
    "⚠️ **Viktig:** Endre kun feltene du faktisk ønsker å oppdatere eller korrigere.\n",
    "\n",
    "I neste steg sender du filen tilbake til Vardef-tjenesten for oppdatering."
   ]
  },
  {
   "cell_type": "markdown",
   "metadata": {},
   "source": [
    "## Lagre Vardef\n",
    "\n",
    "Her sendes informasjonen fra YAML-filen til Vardef-tjenesten for å lagre endringene.\n",
    "\n",
    "🗂️ **Som standard** brukes den _nyeste_ YAML-filen som er knyttet til variabeldefinisjonen. \n",
    "⏰ Dette avgjøres automatisk basert på tidsstempelet i filnavnet.\n",
    "\n",
    "📂 **Ønsker du å sende inn en annen fil**, kan du angi dette eksplisitt ved å bruke `file_path`-parameteren.\n",
    "\n",
    "`min_variabel.update_draft_from_file(file_path=\"path/til/fil.yaml\")`"
   ]
  },
  {
   "cell_type": "code",
   "execution_count": null,
   "metadata": {},
   "outputs": [],
   "source": [
    "min_variabel.update_draft_from_file()"
   ]
  }
 ],
 "metadata": {
  "language_info": {
   "name": "python"
  }
 },
 "nbformat": 4,
 "nbformat_minor": 2
}
