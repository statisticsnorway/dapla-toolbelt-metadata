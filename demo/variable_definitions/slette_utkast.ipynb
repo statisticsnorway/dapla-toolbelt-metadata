{
 "cells": [
  {
   "cell_type": "markdown",
   "metadata": {},
   "source": [
    "# Slette utkast\n",
    "\n",
    "Denne Notebook er for deg som:\n",
    "\n",
    "- Er eier til en variabeldefinisjon med status `UTKAST`\n",
    "- Ønsker å slette utkastet\n",
    "\n",
    "Forutsetninger:\n",
    "- Du må ha `Kortnavn` for variabeldefinisjonen du vil slette"
   ]
  },
  {
   "cell_type": "markdown",
   "metadata": {},
   "source": [
    "## Oppsett\n",
    "\n",
    "Koden under kjøres som forberedelse for påfølgende steg"
   ]
  },
  {
   "cell_type": "code",
   "execution_count": null,
   "metadata": {},
   "outputs": [],
   "source": [
    "# Nødvendig import\n",
    "import logging\n",
    "import sys\n",
    "\n",
    "from dapla_metadata.variable_definitions import Vardef\n",
    "\n",
    "# Redusere størrelsen på Traceback for mer tydelige feilmeldinger\n",
    "%xmode Minimal\n",
    "\n",
    "# Gjøre at logging vises\n",
    "logging.basicConfig(\n",
    "    format=\"%(levelname)s: %(message)s\",\n",
    "    level=logging.INFO,\n",
    "    stream=sys.stdout,\n",
    "    force=True,\n",
    ")"
   ]
  },
  {
   "cell_type": "markdown",
   "metadata": {},
   "source": [
    "## Slette fra Vardef\n",
    "\n",
    "Kjør cellen under. \n",
    "\n",
    "Input-felt vises:\n",
    "- skriv inn kortnavnet ditt og trykk **Enter**.\n",
    "- bekreft sletting av valgt variabeldefinisjon.\n",
    "\n",
    "\n",
    "⚠ Viktig: Trykk alltid **Enter**, selv om du ikke skriver noe, for å unngå at Jupyter-kjernen henger seg opp."
   ]
  },
  {
   "cell_type": "code",
   "execution_count": null,
   "metadata": {},
   "outputs": [],
   "source": [
    "mitt_kortnavn = input(\"Skriv inn kortnavn\").strip()\n",
    "min_variabel = Vardef.get_variable_definition_by_shortname(mitt_kortnavn)\n",
    "bekrefte_kortnavn = input(f\"Er du helt sikker på at du vil slette {mitt_kortnavn}? Svar 'ja' for å bekrefte.\").strip().lower()\n",
    "\n",
    "if bekrefte_kortnavn == \"ja\":\n",
    "    print(f\"Forbereder sletting av variabel med kortnavn: {mitt_kortnavn} og id: {min_variabel.id}\")\n",
    "    print(min_variabel.delete_draft())\n",
    "else:\n",
    "    print(\"Sletting ble avbrutt\")"
   ]
  }
 ],
 "metadata": {
  "kernelspec": {
   "display_name": "dapla-toolbelt-metadata-fJc960va-py3.11",
   "language": "python",
   "name": "python3"
  },
  "language_info": {
   "codemirror_mode": {
    "name": "ipython"
   },
   "file_extension": ".py",
   "mimetype": "text/x-python",
   "name": "python",
   "nbconvert_exporter": "python",
   "version": "3.11.6"
  }
 },
 "nbformat": 4,
 "nbformat_minor": 2
}
