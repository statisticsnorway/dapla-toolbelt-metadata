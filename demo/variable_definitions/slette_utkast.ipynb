{
 "cells": [
  {
   "cell_type": "markdown",
   "metadata": {},
   "source": [
    "# Slette utkast\n",
    "\n",
    "Denne Notebook er for deg som:\n",
    "\n",
    "- Er eier til en variabeldefinisjon med status `UTKAST`\n",
    "- Ønsker å slette utkastet\n",
    "\n",
    "Forutsetninger:\n",
    "- Du må ha `Kortnavn` for variabeldefinisjonen du vil slette"
   ]
  },
  {
   "cell_type": "markdown",
   "metadata": {},
   "source": [
    "## Oppsett\n",
    "\n",
    "Koden under kjøres som forberedelse for påfølgende steg"
   ]
  },
  {
   "cell_type": "code",
   "execution_count": 1,
   "metadata": {},
   "outputs": [
    {
     "name": "stdout",
     "output_type": "stream",
     "text": [
      "Exception reporting mode: Minimal\n"
     ]
    }
   ],
   "source": [
    "# Nødvendig import\n",
    "import logging\n",
    "import sys\n",
    "\n",
    "from dapla_metadata.variable_definitions import Vardef\n",
    "\n",
    "# Redusere størrelsen på Traceback for mer tydelige feilmeldinger\n",
    "%xmode Minimal\n",
    "\n",
    "# Gjøre at logging vises\n",
    "logging.basicConfig(\n",
    "    format=\"%(levelname)s: %(message)s\",\n",
    "    level=logging.INFO,\n",
    "    stream=sys.stdout,\n",
    "    force=True,\n",
    ")"
   ]
  },
  {
   "cell_type": "markdown",
   "metadata": {},
   "source": [
    "## Slette fra Vardef\n",
    "\n",
    "Kjør cellen under. \n",
    "\n",
    "Input-felt vises:\n",
    "- skriv inn kortnavnet ditt og trykk **Enter**.\n",
    "- bekreft sletting av valgt variabeldefinisjon.\n",
    "\n",
    "\n",
    "⚠ Viktig: Trykk alltid **Enter**, selv om du ikke skriver noe, for å unngå at Jupyter-kjernen henger seg opp."
   ]
  },
  {
   "cell_type": "code",
   "execution_count": null,
   "metadata": {},
   "outputs": [
    {
     "name": "stdout",
     "output_type": "stream",
     "text": [
      "WARNING: Retrying (Retry(total=2, connect=None, read=None, redirect=None, status=None)) after connection broken by 'NewConnectionError('<urllib3.connection.HTTPConnection object at 0x1277df950>: Failed to establish a new connection: [Errno 61] Connection refused')': /variable-definitions?short_name=test_loop\n",
      "WARNING: Retrying (Retry(total=1, connect=None, read=None, redirect=None, status=None)) after connection broken by 'NewConnectionError('<urllib3.connection.HTTPConnection object at 0x1343a15d0>: Failed to establish a new connection: [Errno 61] Connection refused')': /variable-definitions?short_name=test_loop\n",
      "WARNING: Retrying (Retry(total=0, connect=None, read=None, redirect=None, status=None)) after connection broken by 'NewConnectionError('<urllib3.connection.HTTPConnection object at 0x134950210>: Failed to establish a new connection: [Errno 61] Connection refused')': /variable-definitions?short_name=test_loop\n"
     ]
    },
    {
     "ename": "VardefClientError",
     "evalue": "\nDetail: There was a network problem when sending the request to the server. Try again shortly.\nOriginal exception:\nMaxRetryError(\"HTTPConnectionPool(host='localhost', port=8080): Max retries exceeded with url: /variable-definitions?short_name=test_loop (Caused by NewConnectionError('<urllib3.connection.HTTPConnection object at 0x134950d50>: Failed to establish a new connection: [Errno 61] Connection refused'))\")",
     "output_type": "error",
     "traceback": [
      "\u001b[31mVardefClientError\u001b[39m\u001b[31m:\u001b[39m \nDetail: There was a network problem when sending the request to the server. Try again shortly.\nOriginal exception:\nMaxRetryError(\"HTTPConnectionPool(host='localhost', port=8080): Max retries exceeded with url: /variable-definitions?short_name=test_loop (Caused by NewConnectionError('<urllib3.connection.HTTPConnection object at 0x134950d50>: Failed to establish a new connection: [Errno 61] Connection refused'))\")\n"
     ]
    }
   ],
   "source": [
    "mitt_kortnavn = input(\"Skriv inn kortnavn\").strip()\n",
    "min_variabel = Vardef.get_variable_definition_by_shortname(mitt_kortnavn)\n",
    "bekrefte_kortnavn = input(f\"Er du helt sikker på at du vil slette {mitt_kortnavn}? Svar 'ja' eller 'nei': \").strip().lower()\n",
    "\n",
    "if bekrefte_kortnavn == \"ja\":\n",
    "    print(f\"Forbereder sletting av variabel med kortnavn: {mitt_kortnavn} og id: {min_variabel.id}\")\n",
    "    print(min_variabel.delete_draft())\n",
    "else:\n",
    "    print(\"Sletting ble avbrutt\")"
   ]
  }
 ],
 "metadata": {
  "kernelspec": {
   "display_name": "dapla-toolbelt-metadata-fJc960va-py3.11",
   "language": "python",
   "name": "python3"
  },
  "language_info": {
   "codemirror_mode": {
    "name": "ipython",
    "version": 3
   },
   "file_extension": ".py",
   "mimetype": "text/x-python",
   "name": "python",
   "nbconvert_exporter": "python",
   "pygments_lexer": "ipython3",
   "version": "3.11.6"
  }
 },
 "nbformat": 4,
 "nbformat_minor": 2
}
