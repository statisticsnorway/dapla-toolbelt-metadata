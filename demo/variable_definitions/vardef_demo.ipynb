{
 "cells": [
  {
   "cell_type": "markdown",
   "metadata": {},
   "source": [
    "\n",
    "# Vardef demo\n",
    "\n",
    "Denne demonstrasjonen viser hvordan du kan bruke Vardef-modulen i Dapla toolbelt metadata for å opprette, forvalte og hente ut variabeldefinisjoner. \n",
    "\n",
    "Vi anbefaler å bruke Vardef-modeller for å opprette og redigere variabeldefinisjoner.\n",
    "\n",
    "Nyttige modeller:\n",
    "\n",
    "- Draft\n",
    "- Owner\n",
    "- Contact\n",
    "- UpdateDraft\n",
    "- Patch\n",
    "- ValidityPeriod\n",
    "\n",
    "Les om alternativ input i seksjonen [Alternativer til Model input](#alternativer-til-model-input)"
   ]
  },
  {
   "cell_type": "code",
   "execution_count": null,
   "metadata": {},
   "outputs": [],
   "source": [
    "from datetime import date\n",
    "from pprint import pprint\n",
    "\n",
    "from dapla_metadata.variable_definitions import Vardef\n",
    "from dapla_metadata.variable_definitions import models\n"
   ]
  },
  {
   "cell_type": "markdown",
   "metadata": {},
   "source": [
    "\n",
    "## Drafts"
   ]
  },
  {
   "cell_type": "markdown",
   "metadata": {},
   "source": [
    "### Opprette et utkast\n",
    "\n",
    "Alle variabeldefinisjoner får status `DRAFT` ved opprettelse slik at innholdet kan kvalitetsikres før man publiserer.\n",
    "\n",
    "Det er kun i `DRAFT` at man kan endre `short_name`og det er kun i `DRAFT` at man kan slette en lagret variabeldefinisjon. \n",
    "\n",
    "Kan gi en `409 CONFLICT` hvis short_name allerede eksisterer, da kortnavnet må være unikt.\n",
    "\n",
    "Den som oppretter variabeldefinisjonen blir lagret som `Owner` (teamet og gruppen man representerer).\n",
    "\n",
    "Alle operasjoner for lagrede variabeldefinisjoner må utføres på en variabel.\n"
   ]
  },
  {
   "cell_type": "code",
   "execution_count": null,
   "metadata": {},
   "outputs": [],
   "source": [
    "draft = models.Draft(\n",
    "    name = {\n",
    "        \"nb\": \"test navn\",\n",
    "        \"nn\": \"test namn\",\n",
    "        \"en\": \"test name\",\n",
    "    },\n",
    "    short_name= \"test_shortname\",\n",
    "    definition= {\n",
    "        \"nb\": \"Skriv en definisjonstekst på norsk bokmål.\",\n",
    "        \"nn\": \"Skriv ein definisjonstekst på nynorsk.\",\n",
    "        \"en\": \"Write a definition text in english.\",\n",
    "    },\n",
    "    classification_reference=\"91\",\n",
    "    unit_types=[\n",
    "        \"01\",\n",
    "    ],\n",
    "    subject_fields=[\n",
    "        \"al\",\n",
    "    ],\n",
    "    contains_special_categories_of_personal_data=False,\n",
    "    measurement_type=None,\n",
    "    valid_from=date(2024,12,18),\n",
    "    external_reference_uri=None,\n",
    "    comment=None,\n",
    "    related_variable_definition_uris=None,\n",
    "    contact=None,\n",
    ")\n",
    "\n",
    "my_draft = Vardef.create_draft(draft)\n",
    "\n",
    "# Etter opprettelse blir din bruker lagret som `createdBy`\n",
    "print(my_draft.created_by)"
   ]
  },
  {
   "cell_type": "markdown",
   "metadata": {},
   "source": [
    "\n",
    "### Eksempel `exception` ved opprettelse av utkast\n",
    "\n",
    "Vardef-modulen er designet for å hjelpe brukeren med å forvalte variabeldefinisjoner og kvalitetsikre at alle variabeldefinisjoner oppfyller nødvendige krav og regler.\n",
    "\n",
    "I mange tilfeller blir `VardefClientException` returnert til brukeren med en tydelig feilmelding. Meldingen vil komme på bunnen av `Traceback`.\n",
    "\n",
    "Det er nyttig å gjøre seg kjent med de ulike feilmeldingene da de gir viktig informasjon om hva som har gått galt og hvor feilen ligger. \n",
    "\n",
    "I eksempelet er det ugyldige Klass-koder som utløser en `BadRequestException` (400).\n"
   ]
  },
  {
   "cell_type": "code",
   "execution_count": null,
   "metadata": {},
   "outputs": [],
   "source": [
    "invalid_draft = models.Draft(\n",
    "    name = {\n",
    "        \"nb\": \"test navn\",\n",
    "        \"nn\": \"test namn\",\n",
    "        \"en\": \"test name\",\n",
    "    },\n",
    "    short_name= \"test_excpetion\",\n",
    "    definition= {\n",
    "        \"nb\": \"Skriv en definisjonstekst på norsk bokmål.\",\n",
    "        \"nn\": \"Skriv ein definosjonstekst på nynorsk.\",\n",
    "        \"en\": \"Write a definition text in english.\",\n",
    "    },\n",
    "    classification_reference=\"91\",\n",
    "    unit_types=[\n",
    "        \"haha\",\n",
    "    ],\n",
    "    subject_fields=[\n",
    "        \"a\",\n",
    "    ],\n",
    "    contains_special_categories_of_personal_data=False,\n",
    "    measurement_type=None,\n",
    "    valid_from=date(2024,12,18),\n",
    "    external_reference_uri=None,\n",
    "    comment=None,\n",
    "    related_variable_definition_uris=None,\n",
    "    contact=None,\n",
    ")\n",
    "\n",
    "Vardef.create_draft(invalid_draft)"
   ]
  },
  {
   "cell_type": "markdown",
   "metadata": {},
   "source": [
    "\n",
    "#### Nyttig informasjon om variabler\n",
    "\n",
    "Hvis du trenger å tilordne variabeldefinisjonen din til en variabel igjen og har tilgang til variabeldefinisjon-id:\n",
    "\n",
    "> my_new_variable = Vardef.get_variable_definition(\"kWzf65gt\") \n",
    "\n",
    "\n",
    "Hvis du har mistet oversikten over variabeldefinisjons-id, finnes det eksempler på hvordan du kan hente en spesifikk\n",
    "variabeldefinisjon i seksjonen [Hente en variabeldefinisjon ved hjelp av kortnavn](#hente-en-variabeldefinisjon-ved-hjelp-av-kortnavn)\n"
   ]
  },
  {
   "cell_type": "code",
   "execution_count": null,
   "metadata": {},
   "outputs": [],
   "source": [
    "# Vi kan få tilgang til alle feltene direkte fra variabelen.\n",
    "print(\"Definisjonstekst på bokmål: \")\n",
    "pprint(my_draft.definition[\"nb\"])\n",
    "\n",
    "# Eller du kan få tilgang til feltene ved å hente den lagrede variabeldefinisjonen etter ID for å sjekke verdiene.\n",
    "print(\"\\nVariabeldefinisjon opprettet: \")\n",
    "print(Vardef.get_variable_definition(my_draft.id).created_at)\n",
    "\n",
    "# Feltene blir ikke automatisk oppdatert etter endringer. Hvis du ønsker å fortsette å få tilgang til feltene direkte fra variabelen, kan du oppdatere på denne måten etter hver endring:\n",
    "my_draft = Vardef.get_variable_definition(my_draft.id)\n",
    "\n"
   ]
  },
  {
   "cell_type": "markdown",
   "metadata": {},
   "source": [
    "### Rediger et utkast\n",
    "\n",
    "Denne operasjonen kan kun utføres på variabeldefinisjoner med status DRAFT. Alle operasjoner på lagrede variabeldefinisjoner er kun tilgjengelige for `Owner`.\n"
   ]
  },
  {
   "cell_type": "code",
   "execution_count": null,
   "metadata": {},
   "outputs": [],
   "source": [
    "# Oppdater kontaktinformasjon\n",
    "my_contact = models.Contact(\n",
    "    title={\n",
    "        \"nb\": \"Seksjon for befolkningsstatistikk\",\n",
    "        \"nn\": \"Seksjon for befolkningsstatistikk\",\n",
    "        \"en\": \"Division for population statistics\",\n",
    "    },\n",
    "    email=\"sibby@ssb.no\",\n",
    ")\n",
    "update_contact = models.UpdateDraft(\n",
    "    contact=my_contact,\n",
    ")\n",
    "\n",
    "my_draft.update_draft(update_draft=update_contact)\n",
    "my_draft = Vardef.get_variable_definition(my_draft.id)\n",
    "\n",
    "print(my_draft.contact)"
   ]
  },
  {
   "cell_type": "markdown",
   "metadata": {},
   "source": [
    "### Eksempel `ValidationError` ved oppdatering av utkast\n",
    "\n",
    "Ugyldig kortnavn vil returnerer en `ValidationError`."
   ]
  },
  {
   "cell_type": "code",
   "execution_count": null,
   "metadata": {},
   "outputs": [],
   "source": [
    "invalid_short_name = models.UpdateDraft(\n",
    "    short_name=\"_)(45)\",\n",
    ")\n",
    "my_draft.update_draft(invalid_short_name)\n"
   ]
  },
  {
   "cell_type": "markdown",
   "metadata": {},
   "source": [
    "### Migrere en variabeldefinisjon fra Vardok til Vardef\n",
    "\n",
    "Etter migreringen blir variabelen lagret som `DRAFT` og kan redigeres på samme måte som vist i [Rediger et utkast](#rediger-et-utkast)\n",
    "\n",
    "\n"
   ]
  },
  {
   "cell_type": "code",
   "execution_count": null,
   "metadata": {},
   "outputs": [],
   "source": [
    "my_vardok_draft = Vardef.migrate_from_vardok(\"90\")\n",
    "print(my_vardok_draft)"
   ]
  },
  {
   "cell_type": "markdown",
   "metadata": {},
   "source": [
    "Hvis Vardok mangler gyldig kortnavn vil et unikt kortnavn bli generert slik at variabelen kan migreres. Merk at dette kortnavnet er ikke gyldig for publisering og må endres i `Draft`.\n",
    "\n",
    "Alle genererte kortnavn begynner med `generert`.\n",
    "\n",
    "Under er et eksempel på hvordan eier kan få oversikt over alle variabeldefinisjoner med generert kortnavn.\n"
   ]
  },
  {
   "cell_type": "code",
   "execution_count": null,
   "metadata": {},
   "outputs": [],
   "source": [
    "my_vardok_missing_short_name = Vardef.migrate_from_vardok(\"123\")\n",
    "my_owner_team = \"dapla-felles\"\n",
    "my_team_variables_generert_kortnavn = [{variable.short_name, variable.id} for variable in Vardef.list_variable_definitions() if variable.owner[\"team\"] == my_owner_team and variable.short_name.startswith(\"generert\")]\n",
    "print(my_team_variables_generert_kortnavn)\n"
   ]
  },
  {
   "cell_type": "markdown",
   "metadata": {},
   "source": [
    "Vardok som mangler verdi for `valid_from` vil få generert en default gyldig fra dato `1900-01-01`.\n",
    "\n",
    "Denne datoen kan publiseres.\n",
    "\n",
    "Under er et eksempel på hvordan eier kan få oversikt over alle variabeldefinisjoner med generert gyldig fra dato."
   ]
  },
  {
   "cell_type": "code",
   "execution_count": null,
   "metadata": {},
   "outputs": [],
   "source": [
    "my_vardok_missing_valid_from = Vardef.migrate_from_vardok(\"100\")\n",
    "my_owner_team = \"dapla-felles\"\n",
    "my_team_variables_generert_valid_from = [{variable.valid_from, variable.id} for variable in Vardef.list_variable_definitions() if variable.owner[\"team\"] == my_owner_team and variable.valid_from == date(1900,1,1)]\n",
    "print(my_team_variables_generert_valid_from)"
   ]
  },
  {
   "cell_type": "markdown",
   "metadata": {},
   "source": [
    "#### Eksempel på `exception` ved migrering "
   ]
  },
  {
   "cell_type": "code",
   "execution_count": null,
   "metadata": {},
   "outputs": [],
   "source": [
    "# Id eksisterer ikke\n",
    "Vardef.migrate_from_vardok(\"21\")"
   ]
  },
  {
   "cell_type": "markdown",
   "metadata": {},
   "source": [
    "### Slette et utkast\n",
    "\n",
    "Denne handlingen kan kun utføres på en variabeldefinisjon med status `DRAFT`."
   ]
  },
  {
   "cell_type": "code",
   "execution_count": null,
   "metadata": {},
   "outputs": [],
   "source": [
    "my_vardok_draft.delete_draft()"
   ]
  },
  {
   "cell_type": "markdown",
   "metadata": {},
   "source": [
    "## Publisere\n",
    "\n",
    "Når utkastet har blitt kvalitetssjekket er det på tide å publisere. \n",
    "\n",
    "Tilgjengelige statuser for en variabeldefinisjon:\n",
    "\n",
    "- DRAFT\n",
    "- PUBLISHED_INTERNAL\n",
    "- PUBLISHED_EXTERNAL\n",
    "\n",
    "Vi anbefaler å benytte seg av variabelstatus-modellen for å motvirke skrivefeil.\n",
    "\n",
    "For eksempel: \n",
    "\n",
    "> models.VariableStatus.PUBLISHED_INTERNAL \n",
    "\n",
    "Merk at denne prosessen er irreversibel.\n",
    "\n",
    "Det er ulike regler som gjelder ved publisering internt og eksternt, men merk også her at prosessen er irreversibel; når en variabeldefinisjon er publisert eksternt kan den ikke endres tilbake til å kun være publisert internt.\n",
    "\n"
   ]
  },
  {
   "cell_type": "code",
   "execution_count": null,
   "metadata": {},
   "outputs": [],
   "source": [
    "update_status = models.UpdateDraft(\n",
    "    variable_status=models.VariableStatus.PUBLISHED_INTERNAL,\n",
    ")\n",
    "\n",
    "my_draft.update_draft(update_status)"
   ]
  },
  {
   "cell_type": "markdown",
   "metadata": {},
   "source": [
    "## Patch\n",
    "\n",
    "### Opprette en Patch\n",
    "\n",
    "Patcher brukes for mindre endringer som ikke krever en ny `ValidityPeriod`.\n",
    "\n",
    "Eksempler på grunner for å opprette en ny patch:\n",
    "\n",
    "- Korrektur av en skrivefeil\n",
    "- Legge til en oversettelse\n",
    "- Legge til `subject_field`\n",
    "\n",
    "Oppgi kun de feltene som skal endres. Andre felter vil beholde sine nåværende verdier.\n",
    "\n",
    "#### Eksempel oppdatere `Owner`\n",
    "\n",
    "Legge til gruppe som kan forvalte variabeldefinisjonen. "
   ]
  },
  {
   "cell_type": "code",
   "execution_count": null,
   "metadata": {},
   "outputs": [],
   "source": [
    "from dapla_metadata.variable_definitions.generated.vardef_client.models.owner import (\n",
    "    Owner,\n",
    ")\n",
    "from dapla_metadata.variable_definitions.generated.vardef_client.models.patch import (\n",
    "    Patch,\n",
    ")\n",
    "\n",
    "new_owner = Patch(\n",
    "    owner=Owner(\n",
    "    team=\"dapla-felles\",\n",
    "    groups=[\n",
    "        \"dapla-felles-developers\",\n",
    "        \"play-enhjoern-a-developers\",\n",
    "    ],\n",
    "),\n",
    ")\n",
    "\n",
    "my_draft.create_patch(new_owner)\n",
    "\n",
    "my_draft = Vardef.get_variable_definition(my_draft.id)\n",
    "\n",
    "print(my_draft.owner)"
   ]
  },
  {
   "cell_type": "markdown",
   "metadata": {},
   "source": [
    "#### Overføre eierskap til et annet team\n",
    "\n",
    "Ved for eksempel omorganiseringer kan det være nødvendig å overføre hele eierskapet til et annet team.\n",
    "\n",
    "Merk: Når teamet du representerer blir helt fjernet som eier vil du ikke ha tilgang til å vedlikeholde variabeldefinisjonen.\n",
    "\n"
   ]
  },
  {
   "cell_type": "code",
   "execution_count": null,
   "metadata": {},
   "outputs": [],
   "source": [
    "# Opprette en nytt utkast for å demonstrere overføring av eierskap\n",
    "owner_draft = models.Draft(\n",
    "    name = {\n",
    "        \"nb\": \"test navn\",\n",
    "        \"nn\": \"test namn\",\n",
    "        \"en\": \"test name\",\n",
    "    },\n",
    "    short_name= \"test_owner_2\",\n",
    "    definition= {\n",
    "        \"nb\": \"Skriv en definisjonstekst på norsk bokmål.\",\n",
    "        \"nn\": \"Skriv ein definisjonstekst på nynorsk.\",\n",
    "        \"en\": \"Write a definition text in english.\",\n",
    "    },\n",
    "    classification_reference=\"91\",\n",
    "    unit_types=[\n",
    "        \"01\",\n",
    "    ],\n",
    "    subject_fields=[\n",
    "        \"al\",\n",
    "    ],\n",
    "    contains_special_categories_of_personal_data=False,\n",
    "    measurement_type=None,\n",
    "    valid_from=date(2024,12,18),\n",
    "    external_reference_uri=None,\n",
    "    comment=None,\n",
    "    related_variable_definition_uris=None,\n",
    "    contact=None,\n",
    ")\n",
    "\n",
    "transfer_owner_draft = Vardef.create_draft(owner_draft)\n",
    "\n",
    "transfer_owner_draft.update_draft(models.UpdateDraft(variable_status=models.VariableStatus.PUBLISHED_INTERNAL))\n",
    "\n",
    "replace_owner = Patch(\n",
    "    owner=Owner(\n",
    "    team=\"play-enhjoern-a\",\n",
    "    groups=[\n",
    "        \"play-enhjoern-a-developers\",\n",
    "    ],\n",
    "),\n",
    ")\n",
    "\n",
    "# Oppdatere 'Owner'\n",
    "transfer_owner_draft.create_patch(replace_owner)"
   ]
  },
  {
   "cell_type": "markdown",
   "metadata": {},
   "source": [
    "#####  Forsøk på å opprette en ny patch etter overføring av eierskap\n",
    "\n",
    "Vil føre til en `ForbiddenException`(403)"
   ]
  },
  {
   "cell_type": "code",
   "execution_count": null,
   "metadata": {},
   "outputs": [],
   "source": [
    "transfer_owner_draft.create_patch(Patch(unit_types=[\"01\"]))"
   ]
  },
  {
   "cell_type": "markdown",
   "metadata": {},
   "source": [
    "### Liste patcher for en variabeldefinisjon"
   ]
  },
  {
   "cell_type": "code",
   "execution_count": null,
   "metadata": {},
   "outputs": [],
   "source": [
    "patches = my_draft.list_patches()\n",
    "\n",
    "print(f\"Patcher for id {my_draft.id}:\\n\")\n",
    "for patch in patches:\n",
    "    print(f\"Patch id: {patch.patch_id}\\nOpprettet: {patch.created_at}\\n\")\n",
    "\n"
   ]
  },
  {
   "cell_type": "markdown",
   "metadata": {},
   "source": [
    "### Hent en patch"
   ]
  },
  {
   "cell_type": "code",
   "execution_count": null,
   "metadata": {},
   "outputs": [],
   "source": [
    "# Bruk patch_id\n",
    "print(my_draft.get_patch(2))"
   ]
  },
  {
   "cell_type": "markdown",
   "metadata": {},
   "source": [
    "## Validity period\n",
    "\n",
    "For å opprette en ny gyldighetsperiode må inndataene inneholde oppdatert `definition`tekst for alle gjeldende språk og en ny gyldig fra dato.\n",
    "\n",
    "En ny gyldighetsperiode bør kun opprettes når den grunnleggende definisjonen av variabelen har endret seg.\n",
    "\n",
    "På denne måten kan den forrige definisjonen bevares for bruk i historiske data.\n"
   ]
  },
  {
   "cell_type": "code",
   "execution_count": null,
   "metadata": {},
   "outputs": [],
   "source": [
    "\n",
    "valid_validity_period = models.ValidityPeriod(\n",
    "    definition={\n",
    "        \"nb\": \"ny definisjon2\",\n",
    "        \"nn\": \"ny definisjon2\",\n",
    "        \"en\": \"new definition2\",\n",
    "    },\n",
    "    valid_from=date(2040,4,5),\n",
    ")\n",
    "my_draft.create_validity_period(valid_validity_period)\n",
    "\n"
   ]
  },
  {
   "cell_type": "markdown",
   "metadata": {},
   "source": [
    "#### Eksempel ugyldig `ValidityPeriod`"
   ]
  },
  {
   "cell_type": "code",
   "execution_count": null,
   "metadata": {},
   "outputs": [],
   "source": [
    "invalid_validity_period = models.ValidityPeriod(\n",
    "    name={\n",
    "        \"nb\": \"nytt navn\",\n",
    "    },\n",
    "    valid_from=date(2025,4,5),\n",
    ")\n",
    "\n",
    "my_draft.create_validity_period(invalid_validity_period)"
   ]
  },
  {
   "cell_type": "markdown",
   "metadata": {},
   "source": [
    "### Liste gyldighetsperioder for en variabeldefinisjon"
   ]
  },
  {
   "cell_type": "code",
   "execution_count": null,
   "metadata": {},
   "outputs": [],
   "source": [
    "validity_periods = my_draft.list_validity_periods()\n",
    "\n",
    "print(f\"Gyldighetsperioder for id {my_draft.id}:\\n\")\n",
    "for period in validity_periods:\n",
    "    print(f\"Patch id: {period.patch_id}\\nGyldig fra: {period.valid_from} til {period.valid_until}\\nDefinisjon: {period.definition}\\n\")\n",
    "\n"
   ]
  },
  {
   "cell_type": "markdown",
   "metadata": {},
   "source": [
    "## Liste alle variabeldefinisjoner\n",
    "\n",
    "Nyeste versjon av alle variabeldefinisjoner hentes ut.\n",
    "\n"
   ]
  },
  {
   "cell_type": "code",
   "execution_count": null,
   "metadata": {},
   "outputs": [],
   "source": [
    "\n",
    "variable_definitions = Vardef.list_variable_definitions()\n",
    "\n",
    "for variable in variable_definitions:\n",
    "    print(f\"Id: {variable.id}\\nNavn: {variable.name}\\nKortnavn: {variable.short_name}\\nDefinisjon: {variable.definition}\\nEier: {variable.owner}\\n\")\n",
    "\n"
   ]
  },
  {
   "cell_type": "markdown",
   "metadata": {},
   "source": [
    "### Filtrere på dato\n",
    "\n",
    "Nyttig hvis man ønsker tilgang til en spesifikk gyldighetsperiode.\n"
   ]
  },
  {
   "cell_type": "code",
   "execution_count": null,
   "metadata": {},
   "outputs": [],
   "source": [
    "\n",
    "desired_validity = date(2030,2,24)\n",
    "filtered_variable_definitions = Vardef.list_variable_definitions(desired_validity)\n",
    "\n",
    "print(f\"Valid at {desired_validity}:\\n\")\n",
    "for variable in filtered_variable_definitions:\n",
    "    print(f\"Id: {variable.id}\\nName: {variable.name}\\nShort name: {variable.short_name}\\nDefinition: {variable.definition}\\nOwner: {variable.owner}\\nValid: {variable.valid_from} to {variable.valid_until}\\n\")"
   ]
  },
  {
   "cell_type": "markdown",
   "metadata": {},
   "source": [
    "### Skrive egne filteroperasjoner\n",
    "\n",
    "Vardef støtter ikke annen filtrering enn dato, men det er enkelt å filtrere på ønsket attributt og tilpasse resultatet etter behov.\n",
    "\n",
    "I de påfølgende eksemplene baserer vi oss på variabelen `variable_definitions`som inneholder en liste over alle lagrede variabeldefinisjoner.\n",
    "\n",
    "Under følger noen eksempler der man filtrere på eierteam og status.\n",
    "\n",
    "\n"
   ]
  },
  {
   "cell_type": "code",
   "execution_count": null,
   "metadata": {},
   "outputs": [],
   "source": [
    "owner_team = \"dapla-felles\"\n",
    "print(f\"\\nFiltrer etter eierteam {owner_team}: \")\n",
    "my_team_variables = [variable for variable in variable_definitions if variable.owner[\"team\"] == owner_team]\n",
    "\n",
    "# Eksempel formattert print som kun printer verdier på norsk bokmål. Hvis det mangler verdi på valgt språk blir feltet tomt.\n",
    "for variable in my_team_variables:\n",
    "    print(f\"Id: {variable.id}\\nName: {variable.name['nb']}\\nShort name: {variable.short_name}\\nDefinition: {variable.definition['nb']}\\nOwner: {variable.owner['team']}\\n\")\n",
    "\n",
    "\n",
    "print(\"\\nFiltrer etter status `DRAFT`: \")\n",
    "draft_variables = [variable for variable in variable_definitions if variable.variable_status == models.VariableStatus.DRAFT]\n",
    "print(draft_variables)\n",
    "\n",
    "print(\"\\nFiltrer etter status `PUBLISHED INTERNAL`: \")\n",
    "published_intern_variables = [variable for variable in variable_definitions if variable.variable_status == models.VariableStatus.PUBLISHED_INTERNAL]\n",
    "print(published_intern_variables)\n"
   ]
  },
  {
   "cell_type": "markdown",
   "metadata": {},
   "source": [
    "#### Hent en variabeldefinisjon\n",
    "\n",
    "Hent en ved å sende inn `id`. \n"
   ]
  },
  {
   "cell_type": "code",
   "execution_count": null,
   "metadata": {},
   "outputs": [],
   "source": [
    "print(Vardef.get_variable_definition(my_draft.id))"
   ]
  },
  {
   "cell_type": "markdown",
   "metadata": {},
   "source": [
    "#### Hente en variabeldefinisjon ved hjelp av kortnavn\n",
    "\n",
    "Hvis man mister oversikten over `id` er dette et eksempel på hvordan man kan hente ut `id` ved å bruke kortnavn som også er unikt. \n",
    "\n",
    "Denne operasjonen er en filtrering på listen `variable_definitions`.\n",
    "\n",
    "Alle operasjoner som er lov i henhold til status kan utføres på variabelen."
   ]
  },
  {
   "cell_type": "code",
   "execution_count": null,
   "metadata": {},
   "outputs": [],
   "source": [
    "\n",
    "variable_by_short_name = next(variable for variable in variable_definitions if variable.short_name == \"test_shortname\")\n",
    "\n",
    "print(variable_by_short_name.id)"
   ]
  },
  {
   "cell_type": "markdown",
   "metadata": {},
   "source": [
    "## Alternativer til `Model` input\n",
    "\n",
    "Hvis man ønsker det er det også mulig å sende inn `dictionary`."
   ]
  },
  {
   "cell_type": "code",
   "execution_count": null,
   "metadata": {},
   "outputs": [],
   "source": [
    "NEW_DRAFT = {\n",
    "    \"name\": {\"en\": \"Country Background\", \"nb\": \"Landbakgrunn\", \"nn\": \"Landbakgrunn\"},\n",
    "    \"short_name\": \"new_short_name1\",\n",
    "    \"definition\": {\n",
    "        \"en\": \"Country background is the person's own, the mother's or possibly the father's country of birth. Persons without an immigrant background always have Norway as country background. In cases where the parents have different countries of birth the mother's country of birth is chosen. If neither the person nor the parents are born abroad, country background is chosen from the first person born abroad in the order mother's mother, mother's father, father's mother, father's father.\",\n",
    "        \"nb\": \"For personer født i utlandet, er dette (med noen få unntak) eget fødeland. For personer født i Norge er det foreldrenes fødeland. I de tilfeller der foreldrene har ulikt fødeland, er det morens fødeland som blir valgt. Hvis ikke personen selv eller noen av foreldrene er utenlandsfødt, hentes landbakgrunn fra de første utenlandsfødte en treffer på i rekkefølgen mormor, morfar, farmor eller farfar.\",\n",
    "        \"nn\": \"For personar fødd i utlandet, er dette (med nokre få unntak) eige fødeland. For personar fødd i Noreg er det fødelandet til foreldra. I dei tilfella der foreldra har ulikt fødeland, er det fødelandet til mora som blir valt. Viss ikkje personen sjølv eller nokon av foreldra er utenlandsfødt, blir henta landsbakgrunn frå dei første utenlandsfødte ein treffar på i rekkjefølgja mormor, morfar, farmor eller farfar.\",\n",
    "    },\n",
    "    \"classification_reference\": \"91\",\n",
    "    \"unit_types\": [\"01\", \"02\"],\n",
    "    \"subject_fields\": [\"he04\"],\n",
    "    \"contains_special_categories_of_personal_data\": True,\n",
    "    \"measurement_type\": None,\n",
    "    \"valid_from\": \"2003-01-01\",\n",
    "    \"external_reference_uri\": \"https://www.ssb.no/a/metadata/conceptvariable/vardok/1919/nb\",\n",
    "    \"comment\": {\n",
    "        \"nb\": \"Fra og med 1.1.2003 ble definisjon endret til også å trekke inn besteforeldrenes fødeland.\",\n",
    "        \"nn\": \"Fra og med 1.1.2003 ble definisjon endret til også å trekke inn besteforeldrenes fødeland.\",\n",
    "        \"en\": \"As of 1 January 2003, the definition was changed to also include the grandparents' country of birth.\",\n",
    "    },\n",
    "    \"related_variable_definition_uris\": [\"https://example.com/\"],\n",
    "    \"contact\": {\n",
    "        \"title\": {\n",
    "            \"en\": \"Division for population statistics\",\n",
    "            \"nb\": \"Seksjon for befolkningsstatistikk\",\n",
    "            \"nn\": \"Seksjon for befolkningsstatistikk\",\n",
    "        },\n",
    "        \"email\": \"s320@ssb.no\",\n",
    "    },\n",
    "}\n",
    "\n"
   ]
  }
 ],
 "metadata": {
  "kernelspec": {
   "display_name": "dapla-toolbelt-metadata-9NhZ1fWH-py3.12",
   "language": "python",
   "name": "python3"
  },
  "language_info": {
   "codemirror_mode": {
    "name": "ipython",
    "version": 3
   },
   "file_extension": ".py",
   "mimetype": "text/x-python",
   "name": "python",
   "nbconvert_exporter": "python",
   "pygments_lexer": "ipython3",
   "version": "3.12.7"
  }
 },
 "nbformat": 4,
 "nbformat_minor": 2
}
