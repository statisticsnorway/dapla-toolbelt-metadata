{
 "cells": [
  {
   "cell_type": "markdown",
   "metadata": {},
   "source": [
    "\n",
    "# Variable Definitions demo\n",
    "\n",
    "We recommend using Vardef Models for creating and editing variable definitions. \n",
    "\n",
    "Useful models: \n",
    "- Draft\n",
    "- Owner\n",
    "- Contact\n",
    "- UpdateDraft\n",
    "- Patch\n",
    "- ValidityPeriod\n",
    "\n",
    "For alternatives read [Other input types](#alternatives-to-using-models-as-input)"
   ]
  },
  {
   "cell_type": "code",
   "execution_count": 1,
   "metadata": {},
   "outputs": [],
   "source": [
    "from datetime import date\n",
    "from pprint import pprint\n",
    "\n",
    "from dapla_metadata.variable_definitions.generated.vardef_client.models.contact import (\n",
    "    Contact,\n",
    ")\n",
    "from dapla_metadata.variable_definitions.generated.vardef_client.models.draft import (\n",
    "    Draft,\n",
    ")\n",
    "from dapla_metadata.variable_definitions.generated.vardef_client.models.update_draft import (\n",
    "    UpdateDraft,\n",
    ")\n",
    "from dapla_metadata.variable_definitions.generated.vardef_client.models.validity_period import (\n",
    "    ValidityPeriod,\n",
    ")\n",
    "from dapla_metadata.variable_definitions.generated.vardef_client.models.variable_status import (\n",
    "    VariableStatus,\n",
    ")\n",
    "from dapla_metadata.variable_definitions.vardef import Vardef\n"
   ]
  },
  {
   "cell_type": "markdown",
   "metadata": {},
   "source": [
    "\n",
    "## Drafts"
   ]
  },
  {
   "cell_type": "markdown",
   "metadata": {},
   "source": [
    "### Create a draft\n",
    "Can produce a 409 CONFLICT if the `short_name` already exists.\n",
    "Creator is saved as `Owner`.\n",
    "\n",
    "All operations for created variable definition must be performed from a variable."
   ]
  },
  {
   "cell_type": "code",
   "execution_count": 2,
   "metadata": {},
   "outputs": [],
   "source": [
    "draft = Draft(\n",
    "    name = {\n",
    "        \"nb\": \"test navn\",\n",
    "        \"nn\": \"test namn\",\n",
    "        \"en\": \"test name\",\n",
    "    },\n",
    "    short_name= \"test_shortname\",\n",
    "    definition= {\n",
    "        \"nb\": \"Skriv en definisjonstekst på norsk bokmål.\",\n",
    "        \"nn\": \"Skriv ein definisjonstekst på nynorsk.\",\n",
    "        \"en\": \"Write a definition text in english.\",\n",
    "    },\n",
    "    classification_reference=\"91\",\n",
    "    unit_types=[\n",
    "        \"01\",\n",
    "    ],\n",
    "    subject_fields=[\n",
    "        \"al\",\n",
    "    ],\n",
    "    contains_special_categories_of_personal_data=False,\n",
    "    measurement_type=None,\n",
    "    valid_from=date(2024,12,18),\n",
    "    external_reference_uri=None,\n",
    "    comment=None,\n",
    "    related_variable_definition_uris=None,\n",
    "    contact=None,\n",
    ")\n",
    "\n",
    "# Assign value VariableDefinition to variable.\n",
    "my_draft = Vardef.create_draft(draft)\n",
    "\n"
   ]
  },
  {
   "cell_type": "markdown",
   "metadata": {},
   "source": [
    "\n",
    "### Example creating draft raising exception\n",
    "\n",
    "Invalid Klass codes will trigger an exception. The client returns a VardefClientException with an exception message at the bottom (after the tracestack)."
   ]
  },
  {
   "cell_type": "code",
   "execution_count": 4,
   "metadata": {},
   "outputs": [
    {
     "ename": "VardefClientException",
     "evalue": "Status 400: \ncreateVariableDefinition.draft.unitTypes[0]<list element>: Code haha is not a member of classification with id 702\ncreateVariableDefinition.draft.subjectFields[0]<list element>: Code a is not a member of classification with id 618",
     "output_type": "error",
     "traceback": [
      "\u001b[0;31m---------------------------------------------------------------------------\u001b[0m",
      "\u001b[0;31mBadRequestException\u001b[0m                       Traceback (most recent call last)",
      "File \u001b[0;32m~/gitHub/dapla-toolbelt-metadata/src/dapla_metadata/variable_definitions/exceptions.py:62\u001b[0m, in \u001b[0;36mvardef_exception_handler.<locals>._impl\u001b[0;34m(self, *method_args, **method_kwargs)\u001b[0m\n\u001b[1;32m     61\u001b[0m \u001b[38;5;28;01mtry\u001b[39;00m:\n\u001b[0;32m---> 62\u001b[0m     \u001b[38;5;28;01mreturn\u001b[39;00m \u001b[43mmethod\u001b[49m\u001b[43m(\u001b[49m\u001b[38;5;28;43mself\u001b[39;49m\u001b[43m,\u001b[49m\u001b[43m \u001b[49m\u001b[38;5;241;43m*\u001b[39;49m\u001b[43mmethod_args\u001b[49m\u001b[43m,\u001b[49m\u001b[43m \u001b[49m\u001b[38;5;241;43m*\u001b[39;49m\u001b[38;5;241;43m*\u001b[39;49m\u001b[43mmethod_kwargs\u001b[49m\u001b[43m)\u001b[49m\n\u001b[1;32m     63\u001b[0m \u001b[38;5;28;01mexcept\u001b[39;00m OpenApiException \u001b[38;5;28;01mas\u001b[39;00m e:\n",
      "File \u001b[0;32m~/gitHub/dapla-toolbelt-metadata/src/dapla_metadata/variable_definitions/vardef.py:88\u001b[0m, in \u001b[0;36mVardef.create_draft\u001b[0;34m(cls, draft)\u001b[0m\n\u001b[1;32m     84\u001b[0m \u001b[38;5;250m\u001b[39m\u001b[38;5;124;03m\"\"\"Create a Draft Variable Definition.\"\"\"\u001b[39;00m\n\u001b[1;32m     85\u001b[0m \u001b[38;5;28;01mreturn\u001b[39;00m VariableDefinition\u001b[38;5;241m.\u001b[39mfrom_model(\n\u001b[1;32m     86\u001b[0m     \u001b[43mDraftVariableDefinitionsApi\u001b[49m\u001b[43m(\u001b[49m\n\u001b[1;32m     87\u001b[0m \u001b[43m        \u001b[49m\u001b[43mVardefClient\u001b[49m\u001b[38;5;241;43m.\u001b[39;49m\u001b[43mget_client\u001b[49m\u001b[43m(\u001b[49m\u001b[43m)\u001b[49m\u001b[43m,\u001b[49m\n\u001b[0;32m---> 88\u001b[0m \u001b[43m    \u001b[49m\u001b[43m)\u001b[49m\u001b[38;5;241;43m.\u001b[39;49m\u001b[43mcreate_variable_definition\u001b[49m\u001b[43m(\u001b[49m\n\u001b[1;32m     89\u001b[0m \u001b[43m        \u001b[49m\u001b[43mactive_group\u001b[49m\u001b[38;5;241;43m=\u001b[39;49m\u001b[43mconfig\u001b[49m\u001b[38;5;241;43m.\u001b[39;49m\u001b[43mget_active_group\u001b[49m\u001b[43m(\u001b[49m\u001b[43m)\u001b[49m\u001b[43m,\u001b[49m\n\u001b[1;32m     90\u001b[0m \u001b[43m        \u001b[49m\u001b[43mdraft\u001b[49m\u001b[38;5;241;43m=\u001b[39;49m\u001b[43mdraft\u001b[49m\u001b[43m,\u001b[49m\n\u001b[1;32m     91\u001b[0m \u001b[43m    \u001b[49m\u001b[43m)\u001b[49m,\n\u001b[1;32m     92\u001b[0m )\n",
      "File \u001b[0;32m~/Library/Caches/pypoetry/virtualenvs/dapla-toolbelt-metadata-fJc960va-py3.12/lib/python3.12/site-packages/pydantic/_internal/_validate_call.py:38\u001b[0m, in \u001b[0;36mupdate_wrapper_attributes.<locals>.wrapper_function\u001b[0;34m(*args, **kwargs)\u001b[0m\n\u001b[1;32m     36\u001b[0m \u001b[38;5;129m@functools\u001b[39m\u001b[38;5;241m.\u001b[39mwraps(wrapped)\n\u001b[1;32m     37\u001b[0m \u001b[38;5;28;01mdef\u001b[39;00m \u001b[38;5;21mwrapper_function\u001b[39m(\u001b[38;5;241m*\u001b[39margs, \u001b[38;5;241m*\u001b[39m\u001b[38;5;241m*\u001b[39mkwargs):\n\u001b[0;32m---> 38\u001b[0m     \u001b[38;5;28;01mreturn\u001b[39;00m \u001b[43mwrapper\u001b[49m\u001b[43m(\u001b[49m\u001b[38;5;241;43m*\u001b[39;49m\u001b[43margs\u001b[49m\u001b[43m,\u001b[49m\u001b[43m \u001b[49m\u001b[38;5;241;43m*\u001b[39;49m\u001b[38;5;241;43m*\u001b[39;49m\u001b[43mkwargs\u001b[49m\u001b[43m)\u001b[49m\n",
      "File \u001b[0;32m~/Library/Caches/pypoetry/virtualenvs/dapla-toolbelt-metadata-fJc960va-py3.12/lib/python3.12/site-packages/pydantic/_internal/_validate_call.py:111\u001b[0m, in \u001b[0;36mValidateCallWrapper.__call__\u001b[0;34m(self, *args, **kwargs)\u001b[0m\n\u001b[1;32m    110\u001b[0m \u001b[38;5;28;01mdef\u001b[39;00m \u001b[38;5;21m__call__\u001b[39m(\u001b[38;5;28mself\u001b[39m, \u001b[38;5;241m*\u001b[39margs: Any, \u001b[38;5;241m*\u001b[39m\u001b[38;5;241m*\u001b[39mkwargs: Any) \u001b[38;5;241m-\u001b[39m\u001b[38;5;241m>\u001b[39m Any:\n\u001b[0;32m--> 111\u001b[0m     res \u001b[38;5;241m=\u001b[39m \u001b[38;5;28;43mself\u001b[39;49m\u001b[38;5;241;43m.\u001b[39;49m\u001b[43m__pydantic_validator__\u001b[49m\u001b[38;5;241;43m.\u001b[39;49m\u001b[43mvalidate_python\u001b[49m\u001b[43m(\u001b[49m\u001b[43mpydantic_core\u001b[49m\u001b[38;5;241;43m.\u001b[39;49m\u001b[43mArgsKwargs\u001b[49m\u001b[43m(\u001b[49m\u001b[43margs\u001b[49m\u001b[43m,\u001b[49m\u001b[43m \u001b[49m\u001b[43mkwargs\u001b[49m\u001b[43m)\u001b[49m\u001b[43m)\u001b[49m\n\u001b[1;32m    112\u001b[0m     \u001b[38;5;28;01mif\u001b[39;00m \u001b[38;5;28mself\u001b[39m\u001b[38;5;241m.\u001b[39m__return_pydantic_validator__:\n",
      "File \u001b[0;32m~/gitHub/dapla-toolbelt-metadata/src/dapla_metadata/variable_definitions/generated/vardef_client/api/draft_variable_definitions_api.py:108\u001b[0m, in \u001b[0;36mDraftVariableDefinitionsApi.create_variable_definition\u001b[0;34m(self, active_group, draft, _request_timeout, _request_auth, _content_type, _headers, _host_index)\u001b[0m\n\u001b[1;32m    107\u001b[0m response_data\u001b[38;5;241m.\u001b[39mread()\n\u001b[0;32m--> 108\u001b[0m \u001b[38;5;28;01mreturn\u001b[39;00m \u001b[38;5;28;43mself\u001b[39;49m\u001b[38;5;241;43m.\u001b[39;49m\u001b[43mapi_client\u001b[49m\u001b[38;5;241;43m.\u001b[39;49m\u001b[43mresponse_deserialize\u001b[49m\u001b[43m(\u001b[49m\n\u001b[1;32m    109\u001b[0m \u001b[43m    \u001b[49m\u001b[43mresponse_data\u001b[49m\u001b[38;5;241;43m=\u001b[39;49m\u001b[43mresponse_data\u001b[49m\u001b[43m,\u001b[49m\n\u001b[1;32m    110\u001b[0m \u001b[43m    \u001b[49m\u001b[43mresponse_types_map\u001b[49m\u001b[38;5;241;43m=\u001b[39;49m\u001b[43m_response_types_map\u001b[49m\u001b[43m,\u001b[49m\n\u001b[1;32m    111\u001b[0m \u001b[43m\u001b[49m\u001b[43m)\u001b[49m\u001b[38;5;241m.\u001b[39mdata\n",
      "File \u001b[0;32m~/gitHub/dapla-toolbelt-metadata/src/dapla_metadata/variable_definitions/generated/vardef_client/api_client.py:321\u001b[0m, in \u001b[0;36mApiClient.response_deserialize\u001b[0;34m(self, response_data, response_types_map)\u001b[0m\n\u001b[1;32m    320\u001b[0m     \u001b[38;5;28;01mif\u001b[39;00m \u001b[38;5;129;01mnot\u001b[39;00m \u001b[38;5;241m200\u001b[39m \u001b[38;5;241m<\u001b[39m\u001b[38;5;241m=\u001b[39m response_data\u001b[38;5;241m.\u001b[39mstatus \u001b[38;5;241m<\u001b[39m\u001b[38;5;241m=\u001b[39m \u001b[38;5;241m299\u001b[39m:\n\u001b[0;32m--> 321\u001b[0m         \u001b[38;5;28;01mraise\u001b[39;00m \u001b[43mApiException\u001b[49m\u001b[38;5;241;43m.\u001b[39;49m\u001b[43mfrom_response\u001b[49m\u001b[43m(\u001b[49m\n\u001b[1;32m    322\u001b[0m \u001b[43m            \u001b[49m\u001b[43mhttp_resp\u001b[49m\u001b[38;5;241;43m=\u001b[39;49m\u001b[43mresponse_data\u001b[49m\u001b[43m,\u001b[49m\n\u001b[1;32m    323\u001b[0m \u001b[43m            \u001b[49m\u001b[43mbody\u001b[49m\u001b[38;5;241;43m=\u001b[39;49m\u001b[43mresponse_text\u001b[49m\u001b[43m,\u001b[49m\n\u001b[1;32m    324\u001b[0m \u001b[43m            \u001b[49m\u001b[43mdata\u001b[49m\u001b[38;5;241;43m=\u001b[39;49m\u001b[43mreturn_data\u001b[49m\u001b[43m,\u001b[49m\n\u001b[1;32m    325\u001b[0m \u001b[43m        \u001b[49m\u001b[43m)\u001b[49m\n\u001b[1;32m    327\u001b[0m \u001b[38;5;28;01mreturn\u001b[39;00m ApiResponse(\n\u001b[1;32m    328\u001b[0m     status_code\u001b[38;5;241m=\u001b[39mresponse_data\u001b[38;5;241m.\u001b[39mstatus,\n\u001b[1;32m    329\u001b[0m     data\u001b[38;5;241m=\u001b[39mreturn_data,\n\u001b[1;32m    330\u001b[0m     headers\u001b[38;5;241m=\u001b[39mresponse_data\u001b[38;5;241m.\u001b[39mgetheaders(),\n\u001b[1;32m    331\u001b[0m     raw_data\u001b[38;5;241m=\u001b[39mresponse_data\u001b[38;5;241m.\u001b[39mdata,\n\u001b[1;32m    332\u001b[0m )\n",
      "File \u001b[0;32m~/gitHub/dapla-toolbelt-metadata/src/dapla_metadata/variable_definitions/generated/vardef_client/exceptions.py:138\u001b[0m, in \u001b[0;36mApiException.from_response\u001b[0;34m(cls, http_resp, body, data)\u001b[0m\n\u001b[1;32m    137\u001b[0m \u001b[38;5;28;01mif\u001b[39;00m http_resp\u001b[38;5;241m.\u001b[39mstatus \u001b[38;5;241m==\u001b[39m \u001b[38;5;241m400\u001b[39m:\n\u001b[0;32m--> 138\u001b[0m     \u001b[38;5;28;01mraise\u001b[39;00m BadRequestException(http_resp\u001b[38;5;241m=\u001b[39mhttp_resp, body\u001b[38;5;241m=\u001b[39mbody, data\u001b[38;5;241m=\u001b[39mdata)\n\u001b[1;32m    140\u001b[0m \u001b[38;5;28;01mif\u001b[39;00m http_resp\u001b[38;5;241m.\u001b[39mstatus \u001b[38;5;241m==\u001b[39m \u001b[38;5;241m401\u001b[39m:\n",
      "\u001b[0;31mBadRequestException\u001b[0m: (400)\nReason: Bad Request\nHTTP response headers: HTTPHeaderDict({'Content-Type': 'application/problem+json', 'date': 'Fri, 20 Dec 2024 09:01:08 GMT', 'content-length': '476'})\nHTTP response body: type='https://zalando.github.io/problem/constraint-violation' title='Constraint Violation' status=400 detail=None instance=None\n",
      "\nThe above exception was the direct cause of the following exception:\n",
      "\u001b[0;31mVardefClientException\u001b[0m                     Traceback (most recent call last)",
      "Cell \u001b[0;32mIn[4], line 29\u001b[0m\n\u001b[1;32m      1\u001b[0m invalid_draft \u001b[38;5;241m=\u001b[39m Draft(\n\u001b[1;32m      2\u001b[0m     name \u001b[38;5;241m=\u001b[39m {\n\u001b[1;32m      3\u001b[0m         \u001b[38;5;124m\"\u001b[39m\u001b[38;5;124mnb\u001b[39m\u001b[38;5;124m\"\u001b[39m: \u001b[38;5;124m\"\u001b[39m\u001b[38;5;124mtest navn\u001b[39m\u001b[38;5;124m\"\u001b[39m,\n\u001b[0;32m   (...)\u001b[0m\n\u001b[1;32m     26\u001b[0m     contact\u001b[38;5;241m=\u001b[39m\u001b[38;5;28;01mNone\u001b[39;00m,\n\u001b[1;32m     27\u001b[0m )\n\u001b[0;32m---> 29\u001b[0m \u001b[43mVardef\u001b[49m\u001b[38;5;241;43m.\u001b[39;49m\u001b[43mcreate_draft\u001b[49m\u001b[43m(\u001b[49m\u001b[43minvalid_draft\u001b[49m\u001b[43m)\u001b[49m\n",
      "File \u001b[0;32m~/gitHub/dapla-toolbelt-metadata/src/dapla_metadata/variable_definitions/exceptions.py:64\u001b[0m, in \u001b[0;36mvardef_exception_handler.<locals>._impl\u001b[0;34m(self, *method_args, **method_kwargs)\u001b[0m\n\u001b[1;32m     62\u001b[0m     \u001b[38;5;28;01mreturn\u001b[39;00m method(\u001b[38;5;28mself\u001b[39m, \u001b[38;5;241m*\u001b[39mmethod_args, \u001b[38;5;241m*\u001b[39m\u001b[38;5;241m*\u001b[39mmethod_kwargs)\n\u001b[1;32m     63\u001b[0m \u001b[38;5;28;01mexcept\u001b[39;00m OpenApiException \u001b[38;5;28;01mas\u001b[39;00m e:\n\u001b[0;32m---> 64\u001b[0m     \u001b[38;5;28;01mraise\u001b[39;00m VardefClientException(e\u001b[38;5;241m.\u001b[39mbody) \u001b[38;5;28;01mfrom\u001b[39;00m \u001b[38;5;21;01me\u001b[39;00m\n",
      "\u001b[0;31mVardefClientException\u001b[0m: Status 400: \ncreateVariableDefinition.draft.unitTypes[0]<list element>: Code haha is not a member of classification with id 702\ncreateVariableDefinition.draft.subjectFields[0]<list element>: Code a is not a member of classification with id 618"
     ]
    }
   ],
   "source": [
    "invalid_draft = Draft(\n",
    "    name = {\n",
    "        \"nb\": \"test navn\",\n",
    "        \"nn\": \"test namn\",\n",
    "        \"en\": \"test name\",\n",
    "    },\n",
    "    short_name= \"test_excpetion\",\n",
    "    definition= {\n",
    "        \"nb\": \"Skriv en definisjonstekst på norsk bokmål.\",\n",
    "        \"nn\": \"Skriv ein definosjonstekst på nynorsk.\",\n",
    "        \"en\": \"Write a definition text in english.\",\n",
    "    },\n",
    "    classification_reference=\"91\",\n",
    "    unit_types=[\n",
    "        \"haha\",\n",
    "    ],\n",
    "    subject_fields=[\n",
    "        \"a\",\n",
    "    ],\n",
    "    contains_special_categories_of_personal_data=False,\n",
    "    measurement_type=None,\n",
    "    valid_from=date(2024,12,18),\n",
    "    external_reference_uri=None,\n",
    "    comment=None,\n",
    "    related_variable_definition_uris=None,\n",
    "    contact=None,\n",
    ")\n",
    "\n",
    "Vardef.create_draft(invalid_draft)"
   ]
  },
  {
   "cell_type": "markdown",
   "metadata": {},
   "source": [
    "\n",
    "#### Useful information about variables (details)\n",
    "\n",
    "If you need to assign your variable definition to a variable again and have access to your variable definition id:\n",
    "> my_new_variable = Vardef.get_variable_definition(\"kWzf65gt\") \n",
    "\n",
    "If you lost track of your variable definition id there are examples of how to fetch one particular variable definition in [Get one variable definition](#get-one-variable-definition)"
   ]
  },
  {
   "cell_type": "code",
   "execution_count": 22,
   "metadata": {},
   "outputs": [
    {
     "name": "stdout",
     "output_type": "stream",
     "text": [
      "Variable definition text in norwegian bokmål: \n",
      "'ny definisjon2'\n",
      "\n",
      "Variable definition created at: \n",
      "2024-12-20 10:05:20.948000\n"
     ]
    }
   ],
   "source": [
    "# We can access all fields directly from the variable\n",
    "print(\"Variable definition text in norwegian bokmål: \")\n",
    "pprint(my_draft.definition[\"nb\"])\n",
    "\n",
    "# Or you can access fields by getting the saved Variable definition by id to check values\n",
    "print(\"\\nVariable definition created at: \")\n",
    "print(Vardef.get_variable_definition(my_draft.id).created_at)\n",
    "\n",
    "# Fields are not automatically updated after updates. If you wish to continue accessing fields directly from the variable you can update like this after every change:\n",
    "my_draft = Vardef.get_variable_definition(my_draft.id)\n",
    "\n"
   ]
  },
  {
   "cell_type": "markdown",
   "metadata": {},
   "source": [
    "### Edit a draft\n",
    "\n",
    "This operation must be performed on Variable Definitions with status DRAFT. All operations on saved variable definitions are only available for `Variable owner`"
   ]
  },
  {
   "cell_type": "code",
   "execution_count": 5,
   "metadata": {},
   "outputs": [
    {
     "name": "stdout",
     "output_type": "stream",
     "text": [
      "{'title': {'nb': 'Seksjon for befolkningsstatistikk', 'nn': 'Seksjon for befolkningsstatistikk', 'en': 'Division for population statistics'}, 'email': 'sibby@ssb.no'}\n"
     ]
    }
   ],
   "source": [
    "# Update contact information\n",
    "my_contact = Contact(\n",
    "    title={\n",
    "        \"nb\": \"Seksjon for befolkningsstatistikk\",\n",
    "        \"nn\": \"Seksjon for befolkningsstatistikk\",\n",
    "        \"en\": \"Division for population statistics\",\n",
    "    },\n",
    "    email=\"sibby@ssb.no\",\n",
    ")\n",
    "update_contact = UpdateDraft(\n",
    "    contact=my_contact,\n",
    ")\n",
    "\n",
    "my_draft.update_draft(update_draft=update_contact)\n",
    "my_draft = Vardef.get_variable_definition(my_draft.id)\n",
    "\n",
    "print(my_draft.contact)"
   ]
  },
  {
   "cell_type": "markdown",
   "metadata": {},
   "source": [
    "### Example update draft raising exception\n",
    "Invalid short name will trigger an `ValidationError`."
   ]
  },
  {
   "cell_type": "code",
   "execution_count": 6,
   "metadata": {},
   "outputs": [
    {
     "ename": "ValidationError",
     "evalue": "1 validation error for UpdateDraft\nshort_name\n  Value error, must validate the regular expression /^[a-z0-9_]{3,}$/ [type=value_error, input_value='_)(45)', input_type=str]\n    For further information visit https://errors.pydantic.dev/2.10/v/value_error",
     "output_type": "error",
     "traceback": [
      "\u001b[0;31m---------------------------------------------------------------------------\u001b[0m",
      "\u001b[0;31mValidationError\u001b[0m                           Traceback (most recent call last)",
      "Cell \u001b[0;32mIn[6], line 2\u001b[0m\n\u001b[1;32m      1\u001b[0m \u001b[38;5;66;03m# Test draft exceptions invalid short_name\u001b[39;00m\n\u001b[0;32m----> 2\u001b[0m invalid_short_name \u001b[38;5;241m=\u001b[39m \u001b[43mUpdateDraft\u001b[49m\u001b[43m(\u001b[49m\n\u001b[1;32m      3\u001b[0m \u001b[43m    \u001b[49m\u001b[43mshort_name\u001b[49m\u001b[38;5;241;43m=\u001b[39;49m\u001b[38;5;124;43m\"\u001b[39;49m\u001b[38;5;124;43m_)(45)\u001b[39;49m\u001b[38;5;124;43m\"\u001b[39;49m\u001b[43m,\u001b[49m\n\u001b[1;32m      4\u001b[0m \u001b[43m)\u001b[49m\n\u001b[1;32m      5\u001b[0m my_draft\u001b[38;5;241m.\u001b[39mupdate_draft(invalid_short_name)\n",
      "File \u001b[0;32m~/Library/Caches/pypoetry/virtualenvs/dapla-toolbelt-metadata-fJc960va-py3.12/lib/python3.12/site-packages/pydantic/main.py:214\u001b[0m, in \u001b[0;36mBaseModel.__init__\u001b[0;34m(self, **data)\u001b[0m\n\u001b[1;32m    212\u001b[0m \u001b[38;5;66;03m# `__tracebackhide__` tells pytest and some other tools to omit this function from tracebacks\u001b[39;00m\n\u001b[1;32m    213\u001b[0m __tracebackhide__ \u001b[38;5;241m=\u001b[39m \u001b[38;5;28;01mTrue\u001b[39;00m\n\u001b[0;32m--> 214\u001b[0m validated_self \u001b[38;5;241m=\u001b[39m \u001b[38;5;28;43mself\u001b[39;49m\u001b[38;5;241;43m.\u001b[39;49m\u001b[43m__pydantic_validator__\u001b[49m\u001b[38;5;241;43m.\u001b[39;49m\u001b[43mvalidate_python\u001b[49m\u001b[43m(\u001b[49m\u001b[43mdata\u001b[49m\u001b[43m,\u001b[49m\u001b[43m \u001b[49m\u001b[43mself_instance\u001b[49m\u001b[38;5;241;43m=\u001b[39;49m\u001b[38;5;28;43mself\u001b[39;49m\u001b[43m)\u001b[49m\n\u001b[1;32m    215\u001b[0m \u001b[38;5;28;01mif\u001b[39;00m \u001b[38;5;28mself\u001b[39m \u001b[38;5;129;01mis\u001b[39;00m \u001b[38;5;129;01mnot\u001b[39;00m validated_self:\n\u001b[1;32m    216\u001b[0m     warnings\u001b[38;5;241m.\u001b[39mwarn(\n\u001b[1;32m    217\u001b[0m         \u001b[38;5;124m'\u001b[39m\u001b[38;5;124mA custom validator is returning a value other than `self`.\u001b[39m\u001b[38;5;130;01m\\n\u001b[39;00m\u001b[38;5;124m'\u001b[39m\n\u001b[1;32m    218\u001b[0m         \u001b[38;5;124m\"\u001b[39m\u001b[38;5;124mReturning anything other than `self` from a top level model validator isn\u001b[39m\u001b[38;5;124m'\u001b[39m\u001b[38;5;124mt supported when validating via `__init__`.\u001b[39m\u001b[38;5;130;01m\\n\u001b[39;00m\u001b[38;5;124m\"\u001b[39m\n\u001b[1;32m    219\u001b[0m         \u001b[38;5;124m'\u001b[39m\u001b[38;5;124mSee the `model_validator` docs (https://docs.pydantic.dev/latest/concepts/validators/#model-validators) for more details.\u001b[39m\u001b[38;5;124m'\u001b[39m,\n\u001b[1;32m    220\u001b[0m         stacklevel\u001b[38;5;241m=\u001b[39m\u001b[38;5;241m2\u001b[39m,\n\u001b[1;32m    221\u001b[0m     )\n",
      "\u001b[0;31mValidationError\u001b[0m: 1 validation error for UpdateDraft\nshort_name\n  Value error, must validate the regular expression /^[a-z0-9_]{3,}$/ [type=value_error, input_value='_)(45)', input_type=str]\n    For further information visit https://errors.pydantic.dev/2.10/v/value_error"
     ]
    }
   ],
   "source": [
    "# Test draft exceptions invalid short_name\n",
    "invalid_short_name = UpdateDraft(\n",
    "    short_name=\"_)(45)\",\n",
    ")\n",
    "my_draft.update_draft(invalid_short_name)\n"
   ]
  },
  {
   "cell_type": "markdown",
   "metadata": {},
   "source": [
    "### Migrate a legacy definition from Vardok to Vardef\n",
    "\n",
    "Note: This will raise an error if the short name already exists. After migration the variable is saved as `DRAFT`.\n",
    "\n"
   ]
  },
  {
   "cell_type": "code",
   "execution_count": 7,
   "metadata": {},
   "outputs": [
    {
     "name": "stdout",
     "output_type": "stream",
     "text": [
      "{\n",
      "  \"id\": \"iHIE0tks\",\n",
      "  \"patch_id\": 1,\n",
      "  \"name\": {\n",
      "    \"nb\": \"Spesifisert registreringstype\",\n",
      "    \"nn\": null,\n",
      "    \"en\": null\n",
      "  },\n",
      "  \"short_name\": \"spes_reg_type\",\n",
      "  \"definition\": {\n",
      "    \"nb\": \"Variabelen viser kode for personens særforhold i folkeregistreringen\",\n",
      "    \"nn\": null,\n",
      "    \"en\": null\n",
      "  },\n",
      "  \"classification_reference\": null,\n",
      "  \"unit_types\": [\n",
      "    \"20\"\n",
      "  ],\n",
      "  \"subject_fields\": [],\n",
      "  \"contains_special_categories_of_personal_data\": false,\n",
      "  \"variable_status\": \"DRAFT\",\n",
      "  \"measurement_type\": null,\n",
      "  \"valid_from\": \"1996-06-01\",\n",
      "  \"valid_until\": null,\n",
      "  \"external_reference_uri\": \"https://www.ssb.no/a/xml/metadata/conceptvariable/vardok/90\",\n",
      "  \"comment\": null,\n",
      "  \"related_variable_definition_uris\": [],\n",
      "  \"owner\": {\n",
      "    \"team\": \"dapla-felles\",\n",
      "    \"groups\": [\n",
      "      \"dapla-felles-developers\"\n",
      "    ]\n",
      "  },\n",
      "  \"contact\": null,\n",
      "  \"created_at\": \"2024-12-20T10:02:17.326655\",\n",
      "  \"created_by\": null,\n",
      "  \"last_updated_at\": \"2024-12-20T10:02:17.326655\",\n",
      "  \"last_updated_by\": null\n",
      "}\n"
     ]
    }
   ],
   "source": [
    "# Save variable Vardok\n",
    "my_vardok_draft = Vardef.migrate_from_vardok(\"90\")\n",
    "print(my_vardok_draft)"
   ]
  },
  {
   "cell_type": "markdown",
   "metadata": {},
   "source": [
    "#### Example migrate Vardok raising exception"
   ]
  },
  {
   "cell_type": "code",
   "execution_count": 8,
   "metadata": {},
   "outputs": [
    {
     "ename": "VardefClientException",
     "evalue": "Status 404: Vardok id 21 not found",
     "output_type": "error",
     "traceback": [
      "\u001b[0;31m---------------------------------------------------------------------------\u001b[0m",
      "\u001b[0;31mNotFoundException\u001b[0m                         Traceback (most recent call last)",
      "File \u001b[0;32m~/gitHub/dapla-toolbelt-metadata/src/dapla_metadata/variable_definitions/exceptions.py:62\u001b[0m, in \u001b[0;36mvardef_exception_handler.<locals>._impl\u001b[0;34m(self, *method_args, **method_kwargs)\u001b[0m\n\u001b[1;32m     61\u001b[0m \u001b[38;5;28;01mtry\u001b[39;00m:\n\u001b[0;32m---> 62\u001b[0m     \u001b[38;5;28;01mreturn\u001b[39;00m \u001b[43mmethod\u001b[49m\u001b[43m(\u001b[49m\u001b[38;5;28;43mself\u001b[39;49m\u001b[43m,\u001b[49m\u001b[43m \u001b[49m\u001b[38;5;241;43m*\u001b[39;49m\u001b[43mmethod_args\u001b[49m\u001b[43m,\u001b[49m\u001b[43m \u001b[49m\u001b[38;5;241;43m*\u001b[39;49m\u001b[38;5;241;43m*\u001b[39;49m\u001b[43mmethod_kwargs\u001b[49m\u001b[43m)\u001b[49m\n\u001b[1;32m     63\u001b[0m \u001b[38;5;28;01mexcept\u001b[39;00m OpenApiException \u001b[38;5;28;01mas\u001b[39;00m e:\n",
      "File \u001b[0;32m~/gitHub/dapla-toolbelt-metadata/src/dapla_metadata/variable_definitions/vardef.py:112\u001b[0m, in \u001b[0;36mVardef.migrate_from_vardok\u001b[0;34m(cls, vardok_id)\u001b[0m\n\u001b[1;32m     97\u001b[0m \u001b[38;5;250m\u001b[39m\u001b[38;5;124;03m\"\"\"Migrate a Variable Definition from Vardok to Vardef.\u001b[39;00m\n\u001b[1;32m     98\u001b[0m \n\u001b[1;32m     99\u001b[0m \u001b[38;5;124;03m- Each Vardok Variable Definition may only be migrated once.\u001b[39;00m\n\u001b[0;32m   (...)\u001b[0m\n\u001b[1;32m    107\u001b[0m \u001b[38;5;124;03m    VariableDefinition: The migrated Variable Definition in Vardef.\u001b[39;00m\n\u001b[1;32m    108\u001b[0m \u001b[38;5;124;03m\"\"\"\u001b[39;00m\n\u001b[1;32m    109\u001b[0m \u001b[38;5;28;01mreturn\u001b[39;00m VariableDefinition\u001b[38;5;241m.\u001b[39mfrom_model(\n\u001b[1;32m    110\u001b[0m     \u001b[43mDataMigrationApi\u001b[49m\u001b[43m(\u001b[49m\n\u001b[1;32m    111\u001b[0m \u001b[43m        \u001b[49m\u001b[43mVardefClient\u001b[49m\u001b[38;5;241;43m.\u001b[39;49m\u001b[43mget_client\u001b[49m\u001b[43m(\u001b[49m\u001b[43m)\u001b[49m\u001b[43m,\u001b[49m\n\u001b[0;32m--> 112\u001b[0m \u001b[43m    \u001b[49m\u001b[43m)\u001b[49m\u001b[38;5;241;43m.\u001b[39;49m\u001b[43mcreate_variable_definition_from_var_dok\u001b[49m\u001b[43m(\u001b[49m\n\u001b[1;32m    113\u001b[0m \u001b[43m        \u001b[49m\u001b[43mactive_group\u001b[49m\u001b[38;5;241;43m=\u001b[39;49m\u001b[43mconfig\u001b[49m\u001b[38;5;241;43m.\u001b[39;49m\u001b[43mget_active_group\u001b[49m\u001b[43m(\u001b[49m\u001b[43m)\u001b[49m\u001b[43m,\u001b[49m\n\u001b[1;32m    114\u001b[0m \u001b[43m        \u001b[49m\u001b[43mvardok_id\u001b[49m\u001b[38;5;241;43m=\u001b[39;49m\u001b[43mvardok_id\u001b[49m\u001b[43m,\u001b[49m\n\u001b[1;32m    115\u001b[0m \u001b[43m    \u001b[49m\u001b[43m)\u001b[49m,\n\u001b[1;32m    116\u001b[0m )\n",
      "File \u001b[0;32m~/Library/Caches/pypoetry/virtualenvs/dapla-toolbelt-metadata-fJc960va-py3.12/lib/python3.12/site-packages/pydantic/_internal/_validate_call.py:38\u001b[0m, in \u001b[0;36mupdate_wrapper_attributes.<locals>.wrapper_function\u001b[0;34m(*args, **kwargs)\u001b[0m\n\u001b[1;32m     36\u001b[0m \u001b[38;5;129m@functools\u001b[39m\u001b[38;5;241m.\u001b[39mwraps(wrapped)\n\u001b[1;32m     37\u001b[0m \u001b[38;5;28;01mdef\u001b[39;00m \u001b[38;5;21mwrapper_function\u001b[39m(\u001b[38;5;241m*\u001b[39margs, \u001b[38;5;241m*\u001b[39m\u001b[38;5;241m*\u001b[39mkwargs):\n\u001b[0;32m---> 38\u001b[0m     \u001b[38;5;28;01mreturn\u001b[39;00m \u001b[43mwrapper\u001b[49m\u001b[43m(\u001b[49m\u001b[38;5;241;43m*\u001b[39;49m\u001b[43margs\u001b[49m\u001b[43m,\u001b[49m\u001b[43m \u001b[49m\u001b[38;5;241;43m*\u001b[39;49m\u001b[38;5;241;43m*\u001b[39;49m\u001b[43mkwargs\u001b[49m\u001b[43m)\u001b[49m\n",
      "File \u001b[0;32m~/Library/Caches/pypoetry/virtualenvs/dapla-toolbelt-metadata-fJc960va-py3.12/lib/python3.12/site-packages/pydantic/_internal/_validate_call.py:111\u001b[0m, in \u001b[0;36mValidateCallWrapper.__call__\u001b[0;34m(self, *args, **kwargs)\u001b[0m\n\u001b[1;32m    110\u001b[0m \u001b[38;5;28;01mdef\u001b[39;00m \u001b[38;5;21m__call__\u001b[39m(\u001b[38;5;28mself\u001b[39m, \u001b[38;5;241m*\u001b[39margs: Any, \u001b[38;5;241m*\u001b[39m\u001b[38;5;241m*\u001b[39mkwargs: Any) \u001b[38;5;241m-\u001b[39m\u001b[38;5;241m>\u001b[39m Any:\n\u001b[0;32m--> 111\u001b[0m     res \u001b[38;5;241m=\u001b[39m \u001b[38;5;28;43mself\u001b[39;49m\u001b[38;5;241;43m.\u001b[39;49m\u001b[43m__pydantic_validator__\u001b[49m\u001b[38;5;241;43m.\u001b[39;49m\u001b[43mvalidate_python\u001b[49m\u001b[43m(\u001b[49m\u001b[43mpydantic_core\u001b[49m\u001b[38;5;241;43m.\u001b[39;49m\u001b[43mArgsKwargs\u001b[49m\u001b[43m(\u001b[49m\u001b[43margs\u001b[49m\u001b[43m,\u001b[49m\u001b[43m \u001b[49m\u001b[43mkwargs\u001b[49m\u001b[43m)\u001b[49m\u001b[43m)\u001b[49m\n\u001b[1;32m    112\u001b[0m     \u001b[38;5;28;01mif\u001b[39;00m \u001b[38;5;28mself\u001b[39m\u001b[38;5;241m.\u001b[39m__return_pydantic_validator__:\n",
      "File \u001b[0;32m~/gitHub/dapla-toolbelt-metadata/src/dapla_metadata/variable_definitions/generated/vardef_client/api/data_migration_api.py:107\u001b[0m, in \u001b[0;36mDataMigrationApi.create_variable_definition_from_var_dok\u001b[0;34m(self, vardok_id, active_group, _request_timeout, _request_auth, _content_type, _headers, _host_index)\u001b[0m\n\u001b[1;32m    106\u001b[0m response_data\u001b[38;5;241m.\u001b[39mread()\n\u001b[0;32m--> 107\u001b[0m \u001b[38;5;28;01mreturn\u001b[39;00m \u001b[38;5;28;43mself\u001b[39;49m\u001b[38;5;241;43m.\u001b[39;49m\u001b[43mapi_client\u001b[49m\u001b[38;5;241;43m.\u001b[39;49m\u001b[43mresponse_deserialize\u001b[49m\u001b[43m(\u001b[49m\n\u001b[1;32m    108\u001b[0m \u001b[43m    \u001b[49m\u001b[43mresponse_data\u001b[49m\u001b[38;5;241;43m=\u001b[39;49m\u001b[43mresponse_data\u001b[49m\u001b[43m,\u001b[49m\n\u001b[1;32m    109\u001b[0m \u001b[43m    \u001b[49m\u001b[43mresponse_types_map\u001b[49m\u001b[38;5;241;43m=\u001b[39;49m\u001b[43m_response_types_map\u001b[49m\u001b[43m,\u001b[49m\n\u001b[1;32m    110\u001b[0m \u001b[43m\u001b[49m\u001b[43m)\u001b[49m\u001b[38;5;241m.\u001b[39mdata\n",
      "File \u001b[0;32m~/gitHub/dapla-toolbelt-metadata/src/dapla_metadata/variable_definitions/generated/vardef_client/api_client.py:321\u001b[0m, in \u001b[0;36mApiClient.response_deserialize\u001b[0;34m(self, response_data, response_types_map)\u001b[0m\n\u001b[1;32m    320\u001b[0m     \u001b[38;5;28;01mif\u001b[39;00m \u001b[38;5;129;01mnot\u001b[39;00m \u001b[38;5;241m200\u001b[39m \u001b[38;5;241m<\u001b[39m\u001b[38;5;241m=\u001b[39m response_data\u001b[38;5;241m.\u001b[39mstatus \u001b[38;5;241m<\u001b[39m\u001b[38;5;241m=\u001b[39m \u001b[38;5;241m299\u001b[39m:\n\u001b[0;32m--> 321\u001b[0m         \u001b[38;5;28;01mraise\u001b[39;00m \u001b[43mApiException\u001b[49m\u001b[38;5;241;43m.\u001b[39;49m\u001b[43mfrom_response\u001b[49m\u001b[43m(\u001b[49m\n\u001b[1;32m    322\u001b[0m \u001b[43m            \u001b[49m\u001b[43mhttp_resp\u001b[49m\u001b[38;5;241;43m=\u001b[39;49m\u001b[43mresponse_data\u001b[49m\u001b[43m,\u001b[49m\n\u001b[1;32m    323\u001b[0m \u001b[43m            \u001b[49m\u001b[43mbody\u001b[49m\u001b[38;5;241;43m=\u001b[39;49m\u001b[43mresponse_text\u001b[49m\u001b[43m,\u001b[49m\n\u001b[1;32m    324\u001b[0m \u001b[43m            \u001b[49m\u001b[43mdata\u001b[49m\u001b[38;5;241;43m=\u001b[39;49m\u001b[43mreturn_data\u001b[49m\u001b[43m,\u001b[49m\n\u001b[1;32m    325\u001b[0m \u001b[43m        \u001b[49m\u001b[43m)\u001b[49m\n\u001b[1;32m    327\u001b[0m \u001b[38;5;28;01mreturn\u001b[39;00m ApiResponse(\n\u001b[1;32m    328\u001b[0m     status_code\u001b[38;5;241m=\u001b[39mresponse_data\u001b[38;5;241m.\u001b[39mstatus,\n\u001b[1;32m    329\u001b[0m     data\u001b[38;5;241m=\u001b[39mreturn_data,\n\u001b[1;32m    330\u001b[0m     headers\u001b[38;5;241m=\u001b[39mresponse_data\u001b[38;5;241m.\u001b[39mgetheaders(),\n\u001b[1;32m    331\u001b[0m     raw_data\u001b[38;5;241m=\u001b[39mresponse_data\u001b[38;5;241m.\u001b[39mdata,\n\u001b[1;32m    332\u001b[0m )\n",
      "File \u001b[0;32m~/gitHub/dapla-toolbelt-metadata/src/dapla_metadata/variable_definitions/generated/vardef_client/exceptions.py:147\u001b[0m, in \u001b[0;36mApiException.from_response\u001b[0;34m(cls, http_resp, body, data)\u001b[0m\n\u001b[1;32m    146\u001b[0m \u001b[38;5;28;01mif\u001b[39;00m http_resp\u001b[38;5;241m.\u001b[39mstatus \u001b[38;5;241m==\u001b[39m \u001b[38;5;241m404\u001b[39m:\n\u001b[0;32m--> 147\u001b[0m     \u001b[38;5;28;01mraise\u001b[39;00m NotFoundException(http_resp\u001b[38;5;241m=\u001b[39mhttp_resp, body\u001b[38;5;241m=\u001b[39mbody, data\u001b[38;5;241m=\u001b[39mdata)\n\u001b[1;32m    149\u001b[0m \u001b[38;5;28;01mif\u001b[39;00m \u001b[38;5;241m500\u001b[39m \u001b[38;5;241m<\u001b[39m\u001b[38;5;241m=\u001b[39m http_resp\u001b[38;5;241m.\u001b[39mstatus \u001b[38;5;241m<\u001b[39m\u001b[38;5;241m=\u001b[39m \u001b[38;5;241m599\u001b[39m:\n",
      "\u001b[0;31mNotFoundException\u001b[0m: (404)\nReason: Not Found\nHTTP response headers: HTTPHeaderDict({'Content-Type': 'application/problem+json', 'date': 'Fri, 20 Dec 2024 09:02:21 GMT', 'content-length': '114'})\nHTTP response body: {\"type\":\"about:blank\",\"title\":null,\"status\":404,\"detail\":\"Vardok id 21 not found\",\"instance\":null,\"parameters\":{}}\n",
      "\nThe above exception was the direct cause of the following exception:\n",
      "\u001b[0;31mVardefClientException\u001b[0m                     Traceback (most recent call last)",
      "Cell \u001b[0;32mIn[8], line 2\u001b[0m\n\u001b[1;32m      1\u001b[0m \u001b[38;5;66;03m# Id not found\u001b[39;00m\n\u001b[0;32m----> 2\u001b[0m \u001b[43mVardef\u001b[49m\u001b[38;5;241;43m.\u001b[39;49m\u001b[43mmigrate_from_vardok\u001b[49m\u001b[43m(\u001b[49m\u001b[38;5;124;43m\"\u001b[39;49m\u001b[38;5;124;43m21\u001b[39;49m\u001b[38;5;124;43m\"\u001b[39;49m\u001b[43m)\u001b[49m\n",
      "File \u001b[0;32m~/gitHub/dapla-toolbelt-metadata/src/dapla_metadata/variable_definitions/exceptions.py:64\u001b[0m, in \u001b[0;36mvardef_exception_handler.<locals>._impl\u001b[0;34m(self, *method_args, **method_kwargs)\u001b[0m\n\u001b[1;32m     62\u001b[0m     \u001b[38;5;28;01mreturn\u001b[39;00m method(\u001b[38;5;28mself\u001b[39m, \u001b[38;5;241m*\u001b[39mmethod_args, \u001b[38;5;241m*\u001b[39m\u001b[38;5;241m*\u001b[39mmethod_kwargs)\n\u001b[1;32m     63\u001b[0m \u001b[38;5;28;01mexcept\u001b[39;00m OpenApiException \u001b[38;5;28;01mas\u001b[39;00m e:\n\u001b[0;32m---> 64\u001b[0m     \u001b[38;5;28;01mraise\u001b[39;00m VardefClientException(e\u001b[38;5;241m.\u001b[39mbody) \u001b[38;5;28;01mfrom\u001b[39;00m \u001b[38;5;21;01me\u001b[39;00m\n",
      "\u001b[0;31mVardefClientException\u001b[0m: Status 404: Vardok id 21 not found"
     ]
    }
   ],
   "source": [
    "# Id not found\n",
    "Vardef.migrate_from_vardok(\"21\")"
   ]
  },
  {
   "cell_type": "markdown",
   "metadata": {},
   "source": [
    "### Delete a draft\n",
    "\n",
    "This operation can only be performed on Variable Definitions with status `DRAFT`."
   ]
  },
  {
   "cell_type": "code",
   "execution_count": 9,
   "metadata": {},
   "outputs": [
    {
     "data": {
      "text/plain": [
       "'Variable iHIE0tks safely deleted'"
      ]
     },
     "execution_count": 9,
     "metadata": {},
     "output_type": "execute_result"
    }
   ],
   "source": [
    "my_vardok_draft.delete_draft()"
   ]
  },
  {
   "cell_type": "markdown",
   "metadata": {},
   "source": [
    "## Publish\n",
    "\n",
    "When draft has been quality checked it is time to publish the variable. \n",
    "\n",
    "Be aware: this process is irreversibel. "
   ]
  },
  {
   "cell_type": "code",
   "execution_count": 10,
   "metadata": {},
   "outputs": [
    {
     "name": "stdout",
     "output_type": "stream",
     "text": [
      "{\n",
      "  \"id\": \"d0iFCSjh\",\n",
      "  \"patch_id\": 1,\n",
      "  \"name\": {\n",
      "    \"nb\": \"test navn\",\n",
      "    \"nn\": \"test namn\",\n",
      "    \"en\": \"test name\"\n",
      "  },\n",
      "  \"short_name\": \"test_shortname\",\n",
      "  \"definition\": {\n",
      "    \"nb\": \"Skriv en definisjonstekst på norsk bokmål.\",\n",
      "    \"nn\": \"Skriv ein definisjonstekst på nynorsk.\",\n",
      "    \"en\": \"Write a definition text in english.\"\n",
      "  },\n",
      "  \"classification_reference\": \"91\",\n",
      "  \"unit_types\": [\n",
      "    \"01\"\n",
      "  ],\n",
      "  \"subject_fields\": [\n",
      "    \"al\"\n",
      "  ],\n",
      "  \"contains_special_categories_of_personal_data\": false,\n",
      "  \"variable_status\": \"PUBLISHED_INTERNAL\",\n",
      "  \"measurement_type\": null,\n",
      "  \"valid_from\": \"2024-12-18\",\n",
      "  \"valid_until\": null,\n",
      "  \"external_reference_uri\": null,\n",
      "  \"comment\": null,\n",
      "  \"related_variable_definition_uris\": null,\n",
      "  \"owner\": {\n",
      "    \"team\": \"dapla-felles\",\n",
      "    \"groups\": [\n",
      "      \"dapla-felles-developers\"\n",
      "    ]\n",
      "  },\n",
      "  \"contact\": {\n",
      "    \"title\": {\n",
      "      \"nb\": \"Seksjon for befolkningsstatistikk\",\n",
      "      \"nn\": \"Seksjon for befolkningsstatistikk\",\n",
      "      \"en\": \"Division for population statistics\"\n",
      "    },\n",
      "    \"email\": \"sibby@ssb.no\"\n",
      "  },\n",
      "  \"created_at\": \"2024-12-20T09:59:52.702000\",\n",
      "  \"created_by\": null,\n",
      "  \"last_updated_at\": \"2024-12-20T10:02:43.655097\",\n",
      "  \"last_updated_by\": null\n",
      "}\n"
     ]
    }
   ],
   "source": [
    "update_status = UpdateDraft(\n",
    "    variable_status=VariableStatus.PUBLISHED_INTERNAL,\n",
    ")\n",
    "\n",
    "print(my_draft.update_draft(update_status))"
   ]
  },
  {
   "cell_type": "markdown",
   "metadata": {},
   "source": [
    "## Patch\n",
    "\n",
    "### Create a patch\n",
    "Patches are to be used for minor changes which don't require a new Validity Period.\n",
    "\n",
    "Examples of reasons for creating a new Patch:\n",
    "\n",
    "- Correcting a typo\n",
    "- Adding a translation\n",
    "- Adding a subject field\n",
    "\n",
    "Supply only the fields to be changed. Other fields will retain their current values.\n",
    "\n",
    "#### Example update owner\n",
    "\n",
    "Add owners"
   ]
  },
  {
   "cell_type": "code",
   "execution_count": 11,
   "metadata": {},
   "outputs": [
    {
     "name": "stdout",
     "output_type": "stream",
     "text": [
      "{'team': 'dapla-felles', 'groups': ['dapla-felles-developers', 'play-enhjoern-a-developers']}\n"
     ]
    }
   ],
   "source": [
    "from dapla_metadata.variable_definitions.generated.vardef_client.models.owner import (\n",
    "    Owner,\n",
    ")\n",
    "from dapla_metadata.variable_definitions.generated.vardef_client.models.patch import (\n",
    "    Patch,\n",
    ")\n",
    "\n",
    "new_owner = Patch(\n",
    "    owner=Owner(\n",
    "    team=\"dapla-felles\",\n",
    "    groups=[\n",
    "        \"dapla-felles-developers\",\n",
    "        \"play-enhjoern-a-developers\",\n",
    "    ],\n",
    "),\n",
    ")\n",
    "\n",
    "my_draft.create_patch(new_owner)\n",
    "\n",
    "my_draft = Vardef.get_variable_definition(my_draft.id)\n",
    "\n",
    "print(my_draft.owner)"
   ]
  },
  {
   "cell_type": "markdown",
   "metadata": {},
   "source": [
    "#### Transfer ownership to another team\n",
    "Be aware: when the team you represent is entirely remove as owner you will not have access to maintaining the variable definition.\n"
   ]
  },
  {
   "cell_type": "code",
   "execution_count": 12,
   "metadata": {},
   "outputs": [
    {
     "data": {
      "text/plain": [
       "CompletePatchOutput(id='weH43xV8', patch_id=2, name={'nb': 'test navn', 'nn': 'test namn', 'en': 'test name'}, short_name='test_owner_2', definition={'nb': 'Skriv en definisjonstekst på norsk bokmål.', 'nn': 'Skriv ein definisjonstekst på nynorsk.', 'en': 'Write a definition text in english.'}, classification_reference='91', unit_types=['01'], subject_fields=['al'], contains_special_categories_of_personal_data=False, variable_status=<VariableStatus.PUBLISHED_INTERNAL: 'PUBLISHED_INTERNAL'>, measurement_type=None, valid_from=datetime.date(2024, 12, 18), valid_until=None, external_reference_uri=None, comment=None, related_variable_definition_uris=None, owner={'team': 'play-enhjoern-a', 'groups': ['play-enhjoern-a-developers']}, contact=None, created_at=datetime.datetime(2024, 12, 20, 10, 3, 14, 327156), created_by=None, last_updated_at=datetime.datetime(2024, 12, 20, 10, 3, 14, 327156), last_updated_by=None)"
      ]
     },
     "execution_count": 12,
     "metadata": {},
     "output_type": "execute_result"
    }
   ],
   "source": [
    "# Create new variable definition for example ownership transferred\n",
    "owner_draft = Draft(\n",
    "    name = {\n",
    "        \"nb\": \"test navn\",\n",
    "        \"nn\": \"test namn\",\n",
    "        \"en\": \"test name\",\n",
    "    },\n",
    "    short_name= \"test_owner_2\",\n",
    "    definition= {\n",
    "        \"nb\": \"Skriv en definisjonstekst på norsk bokmål.\",\n",
    "        \"nn\": \"Skriv ein definisjonstekst på nynorsk.\",\n",
    "        \"en\": \"Write a definition text in english.\",\n",
    "    },\n",
    "    classification_reference=\"91\",\n",
    "    unit_types=[\n",
    "        \"01\",\n",
    "    ],\n",
    "    subject_fields=[\n",
    "        \"al\",\n",
    "    ],\n",
    "    contains_special_categories_of_personal_data=False,\n",
    "    measurement_type=None,\n",
    "    valid_from=date(2024,12,18),\n",
    "    external_reference_uri=None,\n",
    "    comment=None,\n",
    "    related_variable_definition_uris=None,\n",
    "    contact=None,\n",
    ")\n",
    "\n",
    "transfer_owner_draft = Vardef.create_draft(owner_draft)\n",
    "\n",
    "transfer_owner_draft.update_draft(UpdateDraft(variable_status=VariableStatus.PUBLISHED_INTERNAL))\n",
    "\n",
    "replace_owner = Patch(\n",
    "    owner=Owner(\n",
    "    team=\"play-enhjoern-a\",\n",
    "    groups=[\n",
    "        \"play-enhjoern-a-developers\",\n",
    "    ],\n",
    "),\n",
    ")\n",
    "\n",
    "transfer_owner_draft.create_patch(replace_owner)"
   ]
  },
  {
   "cell_type": "markdown",
   "metadata": {},
   "source": [
    "#####  Attempt to create new patch after transferring ownership"
   ]
  },
  {
   "cell_type": "code",
   "execution_count": 13,
   "metadata": {},
   "outputs": [
    {
     "ename": "VardefClientException",
     "evalue": "Status 403: Forbidden",
     "output_type": "error",
     "traceback": [
      "\u001b[0;31m---------------------------------------------------------------------------\u001b[0m",
      "\u001b[0;31mForbiddenException\u001b[0m                        Traceback (most recent call last)",
      "File \u001b[0;32m~/gitHub/dapla-toolbelt-metadata/src/dapla_metadata/variable_definitions/exceptions.py:62\u001b[0m, in \u001b[0;36mvardef_exception_handler.<locals>._impl\u001b[0;34m(self, *method_args, **method_kwargs)\u001b[0m\n\u001b[1;32m     61\u001b[0m \u001b[38;5;28;01mtry\u001b[39;00m:\n\u001b[0;32m---> 62\u001b[0m     \u001b[38;5;28;01mreturn\u001b[39;00m \u001b[43mmethod\u001b[49m\u001b[43m(\u001b[49m\u001b[38;5;28;43mself\u001b[39;49m\u001b[43m,\u001b[49m\u001b[43m \u001b[49m\u001b[38;5;241;43m*\u001b[39;49m\u001b[43mmethod_args\u001b[49m\u001b[43m,\u001b[49m\u001b[43m \u001b[49m\u001b[38;5;241;43m*\u001b[39;49m\u001b[38;5;241;43m*\u001b[39;49m\u001b[43mmethod_kwargs\u001b[49m\u001b[43m)\u001b[49m\n\u001b[1;32m     63\u001b[0m \u001b[38;5;28;01mexcept\u001b[39;00m OpenApiException \u001b[38;5;28;01mas\u001b[39;00m e:\n",
      "File \u001b[0;32m~/gitHub/dapla-toolbelt-metadata/src/dapla_metadata/variable_definitions/variable_definition.py:176\u001b[0m, in \u001b[0;36mVariableDefinition.create_patch\u001b[0;34m(self, patch, valid_from)\u001b[0m\n\u001b[1;32m    153\u001b[0m \u001b[38;5;250m\u001b[39m\u001b[38;5;124;03m\"\"\"Create a new Patch for this Variable Definition.\u001b[39;00m\n\u001b[1;32m    154\u001b[0m \n\u001b[1;32m    155\u001b[0m \u001b[38;5;124;03mPatches are to be used for minor changes which don't require a new Validity Period.\u001b[39;00m\n\u001b[0;32m   (...)\u001b[0m\n\u001b[1;32m    171\u001b[0m \n\u001b[1;32m    172\u001b[0m \u001b[38;5;124;03m\"\"\"\u001b[39;00m\n\u001b[1;32m    173\u001b[0m \u001b[38;5;28;01mreturn\u001b[39;00m CompletePatchOutput\u001b[38;5;241m.\u001b[39mfrom_model(\n\u001b[1;32m    174\u001b[0m     \u001b[43mPatchesApi\u001b[49m\u001b[43m(\u001b[49m\n\u001b[1;32m    175\u001b[0m \u001b[43m        \u001b[49m\u001b[43mVardefClient\u001b[49m\u001b[38;5;241;43m.\u001b[39;49m\u001b[43mget_client\u001b[49m\u001b[43m(\u001b[49m\u001b[43m)\u001b[49m\u001b[43m,\u001b[49m\n\u001b[0;32m--> 176\u001b[0m \u001b[43m    \u001b[49m\u001b[43m)\u001b[49m\u001b[38;5;241;43m.\u001b[39;49m\u001b[43mcreate_patch\u001b[49m\u001b[43m(\u001b[49m\n\u001b[1;32m    177\u001b[0m \u001b[43m        \u001b[49m\u001b[43mvariable_definition_id\u001b[49m\u001b[38;5;241;43m=\u001b[39;49m\u001b[38;5;28;43mself\u001b[39;49m\u001b[38;5;241;43m.\u001b[39;49m\u001b[43mid\u001b[49m\u001b[43m,\u001b[49m\n\u001b[1;32m    178\u001b[0m \u001b[43m        \u001b[49m\u001b[43mactive_group\u001b[49m\u001b[38;5;241;43m=\u001b[39;49m\u001b[43mconfig\u001b[49m\u001b[38;5;241;43m.\u001b[39;49m\u001b[43mget_active_group\u001b[49m\u001b[43m(\u001b[49m\u001b[43m)\u001b[49m\u001b[43m,\u001b[49m\n\u001b[1;32m    179\u001b[0m \u001b[43m        \u001b[49m\u001b[43mpatch\u001b[49m\u001b[38;5;241;43m=\u001b[39;49m\u001b[43mpatch\u001b[49m\u001b[43m,\u001b[49m\n\u001b[1;32m    180\u001b[0m \u001b[43m        \u001b[49m\u001b[43mvalid_from\u001b[49m\u001b[38;5;241;43m=\u001b[39;49m\u001b[43mvalid_from\u001b[49m\u001b[43m,\u001b[49m\n\u001b[1;32m    181\u001b[0m \u001b[43m    \u001b[49m\u001b[43m)\u001b[49m,\n\u001b[1;32m    182\u001b[0m )\n",
      "File \u001b[0;32m~/Library/Caches/pypoetry/virtualenvs/dapla-toolbelt-metadata-fJc960va-py3.12/lib/python3.12/site-packages/pydantic/_internal/_validate_call.py:38\u001b[0m, in \u001b[0;36mupdate_wrapper_attributes.<locals>.wrapper_function\u001b[0;34m(*args, **kwargs)\u001b[0m\n\u001b[1;32m     36\u001b[0m \u001b[38;5;129m@functools\u001b[39m\u001b[38;5;241m.\u001b[39mwraps(wrapped)\n\u001b[1;32m     37\u001b[0m \u001b[38;5;28;01mdef\u001b[39;00m \u001b[38;5;21mwrapper_function\u001b[39m(\u001b[38;5;241m*\u001b[39margs, \u001b[38;5;241m*\u001b[39m\u001b[38;5;241m*\u001b[39mkwargs):\n\u001b[0;32m---> 38\u001b[0m     \u001b[38;5;28;01mreturn\u001b[39;00m \u001b[43mwrapper\u001b[49m\u001b[43m(\u001b[49m\u001b[38;5;241;43m*\u001b[39;49m\u001b[43margs\u001b[49m\u001b[43m,\u001b[49m\u001b[43m \u001b[49m\u001b[38;5;241;43m*\u001b[39;49m\u001b[38;5;241;43m*\u001b[39;49m\u001b[43mkwargs\u001b[49m\u001b[43m)\u001b[49m\n",
      "File \u001b[0;32m~/Library/Caches/pypoetry/virtualenvs/dapla-toolbelt-metadata-fJc960va-py3.12/lib/python3.12/site-packages/pydantic/_internal/_validate_call.py:111\u001b[0m, in \u001b[0;36mValidateCallWrapper.__call__\u001b[0;34m(self, *args, **kwargs)\u001b[0m\n\u001b[1;32m    110\u001b[0m \u001b[38;5;28;01mdef\u001b[39;00m \u001b[38;5;21m__call__\u001b[39m(\u001b[38;5;28mself\u001b[39m, \u001b[38;5;241m*\u001b[39margs: Any, \u001b[38;5;241m*\u001b[39m\u001b[38;5;241m*\u001b[39mkwargs: Any) \u001b[38;5;241m-\u001b[39m\u001b[38;5;241m>\u001b[39m Any:\n\u001b[0;32m--> 111\u001b[0m     res \u001b[38;5;241m=\u001b[39m \u001b[38;5;28;43mself\u001b[39;49m\u001b[38;5;241;43m.\u001b[39;49m\u001b[43m__pydantic_validator__\u001b[49m\u001b[38;5;241;43m.\u001b[39;49m\u001b[43mvalidate_python\u001b[49m\u001b[43m(\u001b[49m\u001b[43mpydantic_core\u001b[49m\u001b[38;5;241;43m.\u001b[39;49m\u001b[43mArgsKwargs\u001b[49m\u001b[43m(\u001b[49m\u001b[43margs\u001b[49m\u001b[43m,\u001b[49m\u001b[43m \u001b[49m\u001b[43mkwargs\u001b[49m\u001b[43m)\u001b[49m\u001b[43m)\u001b[49m\n\u001b[1;32m    112\u001b[0m     \u001b[38;5;28;01mif\u001b[39;00m \u001b[38;5;28mself\u001b[39m\u001b[38;5;241m.\u001b[39m__return_pydantic_validator__:\n",
      "File \u001b[0;32m~/gitHub/dapla-toolbelt-metadata/src/dapla_metadata/variable_definitions/generated/vardef_client/api/patches_api.py:125\u001b[0m, in \u001b[0;36mPatchesApi.create_patch\u001b[0;34m(self, variable_definition_id, active_group, patch, valid_from, _request_timeout, _request_auth, _content_type, _headers, _host_index)\u001b[0m\n\u001b[1;32m    124\u001b[0m response_data\u001b[38;5;241m.\u001b[39mread()\n\u001b[0;32m--> 125\u001b[0m \u001b[38;5;28;01mreturn\u001b[39;00m \u001b[38;5;28;43mself\u001b[39;49m\u001b[38;5;241;43m.\u001b[39;49m\u001b[43mapi_client\u001b[49m\u001b[38;5;241;43m.\u001b[39;49m\u001b[43mresponse_deserialize\u001b[49m\u001b[43m(\u001b[49m\n\u001b[1;32m    126\u001b[0m \u001b[43m    \u001b[49m\u001b[43mresponse_data\u001b[49m\u001b[38;5;241;43m=\u001b[39;49m\u001b[43mresponse_data\u001b[49m\u001b[43m,\u001b[49m\n\u001b[1;32m    127\u001b[0m \u001b[43m    \u001b[49m\u001b[43mresponse_types_map\u001b[49m\u001b[38;5;241;43m=\u001b[39;49m\u001b[43m_response_types_map\u001b[49m\u001b[43m,\u001b[49m\n\u001b[1;32m    128\u001b[0m \u001b[43m\u001b[49m\u001b[43m)\u001b[49m\u001b[38;5;241m.\u001b[39mdata\n",
      "File \u001b[0;32m~/gitHub/dapla-toolbelt-metadata/src/dapla_metadata/variable_definitions/generated/vardef_client/api_client.py:321\u001b[0m, in \u001b[0;36mApiClient.response_deserialize\u001b[0;34m(self, response_data, response_types_map)\u001b[0m\n\u001b[1;32m    320\u001b[0m     \u001b[38;5;28;01mif\u001b[39;00m \u001b[38;5;129;01mnot\u001b[39;00m \u001b[38;5;241m200\u001b[39m \u001b[38;5;241m<\u001b[39m\u001b[38;5;241m=\u001b[39m response_data\u001b[38;5;241m.\u001b[39mstatus \u001b[38;5;241m<\u001b[39m\u001b[38;5;241m=\u001b[39m \u001b[38;5;241m299\u001b[39m:\n\u001b[0;32m--> 321\u001b[0m         \u001b[38;5;28;01mraise\u001b[39;00m \u001b[43mApiException\u001b[49m\u001b[38;5;241;43m.\u001b[39;49m\u001b[43mfrom_response\u001b[49m\u001b[43m(\u001b[49m\n\u001b[1;32m    322\u001b[0m \u001b[43m            \u001b[49m\u001b[43mhttp_resp\u001b[49m\u001b[38;5;241;43m=\u001b[39;49m\u001b[43mresponse_data\u001b[49m\u001b[43m,\u001b[49m\n\u001b[1;32m    323\u001b[0m \u001b[43m            \u001b[49m\u001b[43mbody\u001b[49m\u001b[38;5;241;43m=\u001b[39;49m\u001b[43mresponse_text\u001b[49m\u001b[43m,\u001b[49m\n\u001b[1;32m    324\u001b[0m \u001b[43m            \u001b[49m\u001b[43mdata\u001b[49m\u001b[38;5;241;43m=\u001b[39;49m\u001b[43mreturn_data\u001b[49m\u001b[43m,\u001b[49m\n\u001b[1;32m    325\u001b[0m \u001b[43m        \u001b[49m\u001b[43m)\u001b[49m\n\u001b[1;32m    327\u001b[0m \u001b[38;5;28;01mreturn\u001b[39;00m ApiResponse(\n\u001b[1;32m    328\u001b[0m     status_code\u001b[38;5;241m=\u001b[39mresponse_data\u001b[38;5;241m.\u001b[39mstatus,\n\u001b[1;32m    329\u001b[0m     data\u001b[38;5;241m=\u001b[39mreturn_data,\n\u001b[1;32m    330\u001b[0m     headers\u001b[38;5;241m=\u001b[39mresponse_data\u001b[38;5;241m.\u001b[39mgetheaders(),\n\u001b[1;32m    331\u001b[0m     raw_data\u001b[38;5;241m=\u001b[39mresponse_data\u001b[38;5;241m.\u001b[39mdata,\n\u001b[1;32m    332\u001b[0m )\n",
      "File \u001b[0;32m~/gitHub/dapla-toolbelt-metadata/src/dapla_metadata/variable_definitions/generated/vardef_client/exceptions.py:144\u001b[0m, in \u001b[0;36mApiException.from_response\u001b[0;34m(cls, http_resp, body, data)\u001b[0m\n\u001b[1;32m    143\u001b[0m \u001b[38;5;28;01mif\u001b[39;00m http_resp\u001b[38;5;241m.\u001b[39mstatus \u001b[38;5;241m==\u001b[39m \u001b[38;5;241m403\u001b[39m:\n\u001b[0;32m--> 144\u001b[0m     \u001b[38;5;28;01mraise\u001b[39;00m ForbiddenException(http_resp\u001b[38;5;241m=\u001b[39mhttp_resp, body\u001b[38;5;241m=\u001b[39mbody, data\u001b[38;5;241m=\u001b[39mdata)\n\u001b[1;32m    146\u001b[0m \u001b[38;5;28;01mif\u001b[39;00m http_resp\u001b[38;5;241m.\u001b[39mstatus \u001b[38;5;241m==\u001b[39m \u001b[38;5;241m404\u001b[39m:\n",
      "\u001b[0;31mForbiddenException\u001b[0m: (403)\nReason: Forbidden\nHTTP response headers: HTTPHeaderDict({'Content-Type': 'application/problem+json', 'date': 'Fri, 20 Dec 2024 09:03:18 GMT', 'content-length': '101'})\nHTTP response body: {\"type\":\"about:blank\",\"title\":null,\"status\":403,\"detail\":\"Forbidden\",\"instance\":null,\"parameters\":{}}\n",
      "\nThe above exception was the direct cause of the following exception:\n",
      "\u001b[0;31mVardefClientException\u001b[0m                     Traceback (most recent call last)",
      "Cell \u001b[0;32mIn[13], line 1\u001b[0m\n\u001b[0;32m----> 1\u001b[0m \u001b[43mtransfer_owner_draft\u001b[49m\u001b[38;5;241;43m.\u001b[39;49m\u001b[43mcreate_patch\u001b[49m\u001b[43m(\u001b[49m\u001b[43mPatch\u001b[49m\u001b[43m(\u001b[49m\u001b[43munit_types\u001b[49m\u001b[38;5;241;43m=\u001b[39;49m\u001b[43m[\u001b[49m\u001b[38;5;124;43m\"\u001b[39;49m\u001b[38;5;124;43m01\u001b[39;49m\u001b[38;5;124;43m\"\u001b[39;49m\u001b[43m]\u001b[49m\u001b[43m)\u001b[49m\u001b[43m)\u001b[49m\n",
      "File \u001b[0;32m~/gitHub/dapla-toolbelt-metadata/src/dapla_metadata/variable_definitions/exceptions.py:64\u001b[0m, in \u001b[0;36mvardef_exception_handler.<locals>._impl\u001b[0;34m(self, *method_args, **method_kwargs)\u001b[0m\n\u001b[1;32m     62\u001b[0m     \u001b[38;5;28;01mreturn\u001b[39;00m method(\u001b[38;5;28mself\u001b[39m, \u001b[38;5;241m*\u001b[39mmethod_args, \u001b[38;5;241m*\u001b[39m\u001b[38;5;241m*\u001b[39mmethod_kwargs)\n\u001b[1;32m     63\u001b[0m \u001b[38;5;28;01mexcept\u001b[39;00m OpenApiException \u001b[38;5;28;01mas\u001b[39;00m e:\n\u001b[0;32m---> 64\u001b[0m     \u001b[38;5;28;01mraise\u001b[39;00m VardefClientException(e\u001b[38;5;241m.\u001b[39mbody) \u001b[38;5;28;01mfrom\u001b[39;00m \u001b[38;5;21;01me\u001b[39;00m\n",
      "\u001b[0;31mVardefClientException\u001b[0m: Status 403: Forbidden"
     ]
    }
   ],
   "source": [
    "transfer_owner_draft.create_patch(Patch(unit_types=[\"01\"]))"
   ]
  },
  {
   "cell_type": "markdown",
   "metadata": {},
   "source": [
    "### List patches for one variable definition"
   ]
  },
  {
   "cell_type": "code",
   "execution_count": null,
   "metadata": {},
   "outputs": [],
   "source": [
    "patches = my_draft.list_patches()\n",
    "\n",
    "print(patches)"
   ]
  },
  {
   "cell_type": "markdown",
   "metadata": {},
   "source": [
    "### Get one patch"
   ]
  },
  {
   "cell_type": "code",
   "execution_count": null,
   "metadata": {},
   "outputs": [],
   "source": [
    "print(my_draft.get_patch(2))"
   ]
  },
  {
   "cell_type": "markdown",
   "metadata": {},
   "source": [
    "## Validity period\n",
    "\n",
    "In order to create a new Validity Period input must contain updated 'definition' text for all present languages and a new valid from.\n",
    "\n",
    "A new Validity Period should be created only when the fundamental definition of the variable has changed. \n",
    "\n",
    "This way the previous definition can be preserved for use in historical data."
   ]
  },
  {
   "cell_type": "code",
   "execution_count": 14,
   "metadata": {},
   "outputs": [
    {
     "data": {
      "text/plain": [
       "CompletePatchOutput(id='d0iFCSjh', patch_id=4, name={'nb': 'test navn', 'nn': 'test namn', 'en': 'test name'}, short_name='test_shortname', definition={'nb': 'ny definisjon2', 'nn': 'ny definisjon2', 'en': 'new definition2'}, classification_reference='91', unit_types=['01'], subject_fields=['al'], contains_special_categories_of_personal_data=False, variable_status=<VariableStatus.PUBLISHED_INTERNAL: 'PUBLISHED_INTERNAL'>, measurement_type=None, valid_from=datetime.date(2040, 4, 5), valid_until=None, external_reference_uri=None, comment=None, related_variable_definition_uris=None, owner={'team': 'dapla-felles', 'groups': ['dapla-felles-developers', 'play-enhjoern-a-developers']}, contact={'title': {'nb': 'Seksjon for befolkningsstatistikk', 'nn': 'Seksjon for befolkningsstatistikk', 'en': 'Division for population statistics'}, 'email': 'sibby@ssb.no'}, created_at=datetime.datetime(2024, 12, 20, 10, 5, 20, 948595), created_by=None, last_updated_at=datetime.datetime(2024, 12, 20, 10, 5, 20, 948595), last_updated_by=None)"
      ]
     },
     "execution_count": 14,
     "metadata": {},
     "output_type": "execute_result"
    }
   ],
   "source": [
    "\n",
    "valid_validity_period = ValidityPeriod(\n",
    "    definition={\n",
    "        \"nb\": \"ny definisjon2\",\n",
    "        \"nn\": \"ny definisjon2\",\n",
    "        \"en\": \"new definition2\",\n",
    "    },\n",
    "    valid_from=date(2040,4,5),\n",
    ")\n",
    "my_draft.create_validity_period(valid_validity_period)\n",
    "\n"
   ]
  },
  {
   "cell_type": "markdown",
   "metadata": {},
   "source": [
    "#### Example invalid validity period"
   ]
  },
  {
   "cell_type": "code",
   "execution_count": 15,
   "metadata": {},
   "outputs": [
    {
     "ename": "ValidationError",
     "evalue": "1 validation error for ValidityPeriod\ndefinition\n  Field required [type=missing, input_value={'name': {'nb': 'new name...tetime.date(2025, 4, 5)}, input_type=dict]\n    For further information visit https://errors.pydantic.dev/2.10/v/missing",
     "output_type": "error",
     "traceback": [
      "\u001b[0;31m---------------------------------------------------------------------------\u001b[0m",
      "\u001b[0;31mValidationError\u001b[0m                           Traceback (most recent call last)",
      "Cell \u001b[0;32mIn[15], line 1\u001b[0m\n\u001b[0;32m----> 1\u001b[0m invalid_validity_period \u001b[38;5;241m=\u001b[39m \u001b[43mValidityPeriod\u001b[49m\u001b[43m(\u001b[49m\n\u001b[1;32m      2\u001b[0m \u001b[43m    \u001b[49m\u001b[43mname\u001b[49m\u001b[38;5;241;43m=\u001b[39;49m\u001b[43m{\u001b[49m\n\u001b[1;32m      3\u001b[0m \u001b[43m        \u001b[49m\u001b[38;5;124;43m\"\u001b[39;49m\u001b[38;5;124;43mnb\u001b[39;49m\u001b[38;5;124;43m\"\u001b[39;49m\u001b[43m:\u001b[49m\u001b[43m \u001b[49m\u001b[38;5;124;43m\"\u001b[39;49m\u001b[38;5;124;43mnew name\u001b[39;49m\u001b[38;5;124;43m\"\u001b[39;49m\u001b[43m,\u001b[49m\n\u001b[1;32m      4\u001b[0m \u001b[43m    \u001b[49m\u001b[43m}\u001b[49m\u001b[43m,\u001b[49m\n\u001b[1;32m      5\u001b[0m \u001b[43m    \u001b[49m\u001b[43mvalid_from\u001b[49m\u001b[38;5;241;43m=\u001b[39;49m\u001b[43mdate\u001b[49m\u001b[43m(\u001b[49m\u001b[38;5;241;43m2025\u001b[39;49m\u001b[43m,\u001b[49m\u001b[38;5;241;43m4\u001b[39;49m\u001b[43m,\u001b[49m\u001b[38;5;241;43m5\u001b[39;49m\u001b[43m)\u001b[49m\u001b[43m,\u001b[49m\n\u001b[1;32m      6\u001b[0m \u001b[43m)\u001b[49m\n\u001b[1;32m      8\u001b[0m my_draft\u001b[38;5;241m.\u001b[39mcreate_validity_period(invalid_validity_period)\n",
      "File \u001b[0;32m~/Library/Caches/pypoetry/virtualenvs/dapla-toolbelt-metadata-fJc960va-py3.12/lib/python3.12/site-packages/pydantic/main.py:214\u001b[0m, in \u001b[0;36mBaseModel.__init__\u001b[0;34m(self, **data)\u001b[0m\n\u001b[1;32m    212\u001b[0m \u001b[38;5;66;03m# `__tracebackhide__` tells pytest and some other tools to omit this function from tracebacks\u001b[39;00m\n\u001b[1;32m    213\u001b[0m __tracebackhide__ \u001b[38;5;241m=\u001b[39m \u001b[38;5;28;01mTrue\u001b[39;00m\n\u001b[0;32m--> 214\u001b[0m validated_self \u001b[38;5;241m=\u001b[39m \u001b[38;5;28;43mself\u001b[39;49m\u001b[38;5;241;43m.\u001b[39;49m\u001b[43m__pydantic_validator__\u001b[49m\u001b[38;5;241;43m.\u001b[39;49m\u001b[43mvalidate_python\u001b[49m\u001b[43m(\u001b[49m\u001b[43mdata\u001b[49m\u001b[43m,\u001b[49m\u001b[43m \u001b[49m\u001b[43mself_instance\u001b[49m\u001b[38;5;241;43m=\u001b[39;49m\u001b[38;5;28;43mself\u001b[39;49m\u001b[43m)\u001b[49m\n\u001b[1;32m    215\u001b[0m \u001b[38;5;28;01mif\u001b[39;00m \u001b[38;5;28mself\u001b[39m \u001b[38;5;129;01mis\u001b[39;00m \u001b[38;5;129;01mnot\u001b[39;00m validated_self:\n\u001b[1;32m    216\u001b[0m     warnings\u001b[38;5;241m.\u001b[39mwarn(\n\u001b[1;32m    217\u001b[0m         \u001b[38;5;124m'\u001b[39m\u001b[38;5;124mA custom validator is returning a value other than `self`.\u001b[39m\u001b[38;5;130;01m\\n\u001b[39;00m\u001b[38;5;124m'\u001b[39m\n\u001b[1;32m    218\u001b[0m         \u001b[38;5;124m\"\u001b[39m\u001b[38;5;124mReturning anything other than `self` from a top level model validator isn\u001b[39m\u001b[38;5;124m'\u001b[39m\u001b[38;5;124mt supported when validating via `__init__`.\u001b[39m\u001b[38;5;130;01m\\n\u001b[39;00m\u001b[38;5;124m\"\u001b[39m\n\u001b[1;32m    219\u001b[0m         \u001b[38;5;124m'\u001b[39m\u001b[38;5;124mSee the `model_validator` docs (https://docs.pydantic.dev/latest/concepts/validators/#model-validators) for more details.\u001b[39m\u001b[38;5;124m'\u001b[39m,\n\u001b[1;32m    220\u001b[0m         stacklevel\u001b[38;5;241m=\u001b[39m\u001b[38;5;241m2\u001b[39m,\n\u001b[1;32m    221\u001b[0m     )\n",
      "\u001b[0;31mValidationError\u001b[0m: 1 validation error for ValidityPeriod\ndefinition\n  Field required [type=missing, input_value={'name': {'nb': 'new name...tetime.date(2025, 4, 5)}, input_type=dict]\n    For further information visit https://errors.pydantic.dev/2.10/v/missing"
     ]
    }
   ],
   "source": [
    "invalid_validity_period = ValidityPeriod(\n",
    "    name={\n",
    "        \"nb\": \"new name\",\n",
    "    },\n",
    "    valid_from=date(2025,4,5),\n",
    ")\n",
    "\n",
    "my_draft.create_validity_period(invalid_validity_period)"
   ]
  },
  {
   "cell_type": "markdown",
   "metadata": {},
   "source": [
    "### List validity periods for one variable definition"
   ]
  },
  {
   "cell_type": "code",
   "execution_count": 16,
   "metadata": {},
   "outputs": [
    {
     "name": "stdout",
     "output_type": "stream",
     "text": [
      "[CompletePatchOutput(id='d0iFCSjh', patch_id=3, name={'nb': 'test navn', 'nn': 'test namn', 'en': 'test name'}, short_name='test_shortname', definition={'nb': 'Skriv en definisjonstekst på norsk bokmål.', 'nn': 'Skriv ein definisjonstekst på nynorsk.', 'en': 'Write a definition text in english.'}, classification_reference='91', unit_types=['01'], subject_fields=['al'], contains_special_categories_of_personal_data=False, variable_status=<VariableStatus.PUBLISHED_INTERNAL: 'PUBLISHED_INTERNAL'>, measurement_type=None, valid_from=datetime.date(2024, 12, 18), valid_until=datetime.date(2040, 4, 4), external_reference_uri=None, comment=None, related_variable_definition_uris=None, owner={'team': 'dapla-felles', 'groups': ['dapla-felles-developers', 'play-enhjoern-a-developers']}, contact={'title': {'nb': 'Seksjon for befolkningsstatistikk', 'nn': 'Seksjon for befolkningsstatistikk', 'en': 'Division for population statistics'}, 'email': 'sibby@ssb.no'}, created_at=datetime.datetime(2024, 12, 20, 10, 5, 20, 938000), created_by=None, last_updated_at=datetime.datetime(2024, 12, 20, 10, 5, 20, 938000), last_updated_by=None), CompletePatchOutput(id='d0iFCSjh', patch_id=4, name={'nb': 'test navn', 'nn': 'test namn', 'en': 'test name'}, short_name='test_shortname', definition={'nb': 'ny definisjon2', 'nn': 'ny definisjon2', 'en': 'new definition2'}, classification_reference='91', unit_types=['01'], subject_fields=['al'], contains_special_categories_of_personal_data=False, variable_status=<VariableStatus.PUBLISHED_INTERNAL: 'PUBLISHED_INTERNAL'>, measurement_type=None, valid_from=datetime.date(2040, 4, 5), valid_until=None, external_reference_uri=None, comment=None, related_variable_definition_uris=None, owner={'team': 'dapla-felles', 'groups': ['dapla-felles-developers', 'play-enhjoern-a-developers']}, contact={'title': {'nb': 'Seksjon for befolkningsstatistikk', 'nn': 'Seksjon for befolkningsstatistikk', 'en': 'Division for population statistics'}, 'email': 'sibby@ssb.no'}, created_at=datetime.datetime(2024, 12, 20, 10, 5, 20, 948000), created_by=None, last_updated_at=datetime.datetime(2024, 12, 20, 10, 5, 20, 948000), last_updated_by=None)]\n"
     ]
    }
   ],
   "source": [
    "validity_periods = my_draft.list_validity_periods()\n",
    "print(validity_periods)\n"
   ]
  },
  {
   "cell_type": "markdown",
   "metadata": {},
   "source": [
    "## List all variable definitions"
   ]
  },
  {
   "cell_type": "code",
   "execution_count": 17,
   "metadata": {},
   "outputs": [
    {
     "name": "stdout",
     "output_type": "stream",
     "text": [
      "[VariableDefinition(id='d0iFCSjh', patch_id=4, name={'nb': 'test navn', 'nn': 'test namn', 'en': 'test name'}, short_name='test_shortname', definition={'nb': 'ny definisjon2', 'nn': 'ny definisjon2', 'en': 'new definition2'}, classification_reference='91', unit_types=['01'], subject_fields=['al'], contains_special_categories_of_personal_data=False, variable_status=<VariableStatus.PUBLISHED_INTERNAL: 'PUBLISHED_INTERNAL'>, measurement_type=None, valid_from=datetime.date(2040, 4, 5), valid_until=None, external_reference_uri=None, comment=None, related_variable_definition_uris=None, owner={'team': 'dapla-felles', 'groups': ['dapla-felles-developers', 'play-enhjoern-a-developers']}, contact={'title': {'nb': 'Seksjon for befolkningsstatistikk', 'nn': 'Seksjon for befolkningsstatistikk', 'en': 'Division for population statistics'}, 'email': 'sibby@ssb.no'}, created_at=datetime.datetime(2024, 12, 20, 10, 5, 20, 948000), created_by=None, last_updated_at=datetime.datetime(2024, 12, 20, 10, 5, 20, 948000), last_updated_by=None), VariableDefinition(id='weH43xV8', patch_id=2, name={'nb': 'test navn', 'nn': 'test namn', 'en': 'test name'}, short_name='test_owner_2', definition={'nb': 'Skriv en definisjonstekst på norsk bokmål.', 'nn': 'Skriv ein definisjonstekst på nynorsk.', 'en': 'Write a definition text in english.'}, classification_reference='91', unit_types=['01'], subject_fields=['al'], contains_special_categories_of_personal_data=False, variable_status=<VariableStatus.PUBLISHED_INTERNAL: 'PUBLISHED_INTERNAL'>, measurement_type=None, valid_from=datetime.date(2024, 12, 18), valid_until=None, external_reference_uri=None, comment=None, related_variable_definition_uris=None, owner={'team': 'play-enhjoern-a', 'groups': ['play-enhjoern-a-developers']}, contact=None, created_at=datetime.datetime(2024, 12, 20, 10, 3, 14, 327000), created_by=None, last_updated_at=datetime.datetime(2024, 12, 20, 10, 3, 14, 327000), last_updated_by=None)]\n"
     ]
    }
   ],
   "source": [
    "variable_definitions = Vardef.list_variable_definitions()\n",
    "print(variable_definitions)\n"
   ]
  },
  {
   "cell_type": "markdown",
   "metadata": {},
   "source": [
    "### Filter by date\n"
   ]
  },
  {
   "cell_type": "code",
   "execution_count": 18,
   "metadata": {},
   "outputs": [
    {
     "name": "stdout",
     "output_type": "stream",
     "text": [
      "[VariableDefinition(id='d0iFCSjh', patch_id=3, name={'nb': 'test navn', 'nn': 'test namn', 'en': 'test name'}, short_name='test_shortname', definition={'nb': 'Skriv en definisjonstekst på norsk bokmål.', 'nn': 'Skriv ein definisjonstekst på nynorsk.', 'en': 'Write a definition text in english.'}, classification_reference='91', unit_types=['01'], subject_fields=['al'], contains_special_categories_of_personal_data=False, variable_status=<VariableStatus.PUBLISHED_INTERNAL: 'PUBLISHED_INTERNAL'>, measurement_type=None, valid_from=datetime.date(2024, 12, 18), valid_until=datetime.date(2040, 4, 4), external_reference_uri=None, comment=None, related_variable_definition_uris=None, owner={'team': 'dapla-felles', 'groups': ['dapla-felles-developers', 'play-enhjoern-a-developers']}, contact={'title': {'nb': 'Seksjon for befolkningsstatistikk', 'nn': 'Seksjon for befolkningsstatistikk', 'en': 'Division for population statistics'}, 'email': 'sibby@ssb.no'}, created_at=datetime.datetime(2024, 12, 20, 10, 5, 20, 938000), created_by=None, last_updated_at=datetime.datetime(2024, 12, 20, 10, 5, 20, 938000), last_updated_by=None), VariableDefinition(id='weH43xV8', patch_id=2, name={'nb': 'test navn', 'nn': 'test namn', 'en': 'test name'}, short_name='test_owner_2', definition={'nb': 'Skriv en definisjonstekst på norsk bokmål.', 'nn': 'Skriv ein definisjonstekst på nynorsk.', 'en': 'Write a definition text in english.'}, classification_reference='91', unit_types=['01'], subject_fields=['al'], contains_special_categories_of_personal_data=False, variable_status=<VariableStatus.PUBLISHED_INTERNAL: 'PUBLISHED_INTERNAL'>, measurement_type=None, valid_from=datetime.date(2024, 12, 18), valid_until=None, external_reference_uri=None, comment=None, related_variable_definition_uris=None, owner={'team': 'play-enhjoern-a', 'groups': ['play-enhjoern-a-developers']}, contact=None, created_at=datetime.datetime(2024, 12, 20, 10, 3, 14, 327000), created_by=None, last_updated_at=datetime.datetime(2024, 12, 20, 10, 3, 14, 327000), last_updated_by=None)]\n"
     ]
    }
   ],
   "source": [
    "\n",
    "desired_validity = date(2030,2,24)\n",
    "filtered_variable_definitions = Vardef.list_variable_definitions(desired_validity)\n",
    "print(filtered_variable_definitions)"
   ]
  },
  {
   "cell_type": "markdown",
   "metadata": {},
   "source": [
    "### Writing your own filter operations\n",
    "The APi does not support filter operations directly, but it easy to write your own."
   ]
  },
  {
   "cell_type": "code",
   "execution_count": 19,
   "metadata": {},
   "outputs": [
    {
     "name": "stdout",
     "output_type": "stream",
     "text": [
      "\n",
      "Filter by team: \n",
      "[VariableDefinition(id='d0iFCSjh', patch_id=4, name={'nb': 'test navn', 'nn': 'test namn', 'en': 'test name'}, short_name='test_shortname', definition={'nb': 'ny definisjon2', 'nn': 'ny definisjon2', 'en': 'new definition2'}, classification_reference='91', unit_types=['01'], subject_fields=['al'], contains_special_categories_of_personal_data=False, variable_status=<VariableStatus.PUBLISHED_INTERNAL: 'PUBLISHED_INTERNAL'>, measurement_type=None, valid_from=datetime.date(2040, 4, 5), valid_until=None, external_reference_uri=None, comment=None, related_variable_definition_uris=None, owner={'team': 'dapla-felles', 'groups': ['dapla-felles-developers', 'play-enhjoern-a-developers']}, contact={'title': {'nb': 'Seksjon for befolkningsstatistikk', 'nn': 'Seksjon for befolkningsstatistikk', 'en': 'Division for population statistics'}, 'email': 'sibby@ssb.no'}, created_at=datetime.datetime(2024, 12, 20, 10, 5, 20, 948000), created_by=None, last_updated_at=datetime.datetime(2024, 12, 20, 10, 5, 20, 948000), last_updated_by=None)]\n",
      "\n",
      "Filter by status draft: \n",
      "[]\n",
      "\n",
      "Filter by status published internal: \n",
      "[VariableDefinition(id='d0iFCSjh', patch_id=4, name={'nb': 'test navn', 'nn': 'test namn', 'en': 'test name'}, short_name='test_shortname', definition={'nb': 'ny definisjon2', 'nn': 'ny definisjon2', 'en': 'new definition2'}, classification_reference='91', unit_types=['01'], subject_fields=['al'], contains_special_categories_of_personal_data=False, variable_status=<VariableStatus.PUBLISHED_INTERNAL: 'PUBLISHED_INTERNAL'>, measurement_type=None, valid_from=datetime.date(2040, 4, 5), valid_until=None, external_reference_uri=None, comment=None, related_variable_definition_uris=None, owner={'team': 'dapla-felles', 'groups': ['dapla-felles-developers', 'play-enhjoern-a-developers']}, contact={'title': {'nb': 'Seksjon for befolkningsstatistikk', 'nn': 'Seksjon for befolkningsstatistikk', 'en': 'Division for population statistics'}, 'email': 'sibby@ssb.no'}, created_at=datetime.datetime(2024, 12, 20, 10, 5, 20, 948000), created_by=None, last_updated_at=datetime.datetime(2024, 12, 20, 10, 5, 20, 948000), last_updated_by=None), VariableDefinition(id='weH43xV8', patch_id=2, name={'nb': 'test navn', 'nn': 'test namn', 'en': 'test name'}, short_name='test_owner_2', definition={'nb': 'Skriv en definisjonstekst på norsk bokmål.', 'nn': 'Skriv ein definisjonstekst på nynorsk.', 'en': 'Write a definition text in english.'}, classification_reference='91', unit_types=['01'], subject_fields=['al'], contains_special_categories_of_personal_data=False, variable_status=<VariableStatus.PUBLISHED_INTERNAL: 'PUBLISHED_INTERNAL'>, measurement_type=None, valid_from=datetime.date(2024, 12, 18), valid_until=None, external_reference_uri=None, comment=None, related_variable_definition_uris=None, owner={'team': 'play-enhjoern-a', 'groups': ['play-enhjoern-a-developers']}, contact=None, created_at=datetime.datetime(2024, 12, 20, 10, 3, 14, 327000), created_by=None, last_updated_at=datetime.datetime(2024, 12, 20, 10, 3, 14, 327000), last_updated_by=None)]\n"
     ]
    }
   ],
   "source": [
    "print(\"\\nFilter by team: \")\n",
    "my_team_variables = [variable for variable in variable_definitions if variable.owner[\"team\"] == \"dapla-felles\"]\n",
    "print(my_team_variables)\n",
    "\n",
    "print(\"\\nFilter by status draft: \")\n",
    "draft_variables = [variable for variable in variable_definitions if variable.variable_status == VariableStatus.DRAFT]\n",
    "print(draft_variables)\n",
    "\n",
    "print(\"\\nFilter by status published internal: \")\n",
    "published_intern_variables = [variable for variable in variable_definitions if variable.variable_status == VariableStatus.PUBLISHED_INTERNAL]\n",
    "print(published_intern_variables)\n"
   ]
  },
  {
   "cell_type": "markdown",
   "metadata": {},
   "source": [
    "#### Get one variable definition \n",
    "Get one variable by id. If you loose track of your variable definition id or\n"
   ]
  },
  {
   "cell_type": "code",
   "execution_count": null,
   "metadata": {},
   "outputs": [],
   "source": [
    "print(Vardef.get_variable_definition(my_draft.id))"
   ]
  },
  {
   "cell_type": "markdown",
   "metadata": {},
   "source": [
    "#### Get variable definition id by short name"
   ]
  },
  {
   "cell_type": "code",
   "execution_count": null,
   "metadata": {},
   "outputs": [],
   "source": [
    "\n",
    "variable_by_short_name = [variable for variable in variable_definitions if variable.short_name == \"test_shortname\"]\n",
    "print(variable_by_short_name[0].id)"
   ]
  },
  {
   "cell_type": "markdown",
   "metadata": {},
   "source": [
    "## Alternatives to using Models\n",
    "\n",
    "Valid dictionary"
   ]
  },
  {
   "cell_type": "code",
   "execution_count": 39,
   "metadata": {},
   "outputs": [],
   "source": [
    "NEW_DRAFT = {\n",
    "    \"name\": {\"en\": \"Country Background\", \"nb\": \"Landbakgrunn\", \"nn\": \"Landbakgrunn\"},\n",
    "    \"short_name\": \"new_short_name1\",\n",
    "    \"definition\": {\n",
    "        \"en\": \"Country background is the person's own, the mother's or possibly the father's country of birth. Persons without an immigrant background always have Norway as country background. In cases where the parents have different countries of birth the mother's country of birth is chosen. If neither the person nor the parents are born abroad, country background is chosen from the first person born abroad in the order mother's mother, mother's father, father's mother, father's father.\",\n",
    "        \"nb\": \"For personer født i utlandet, er dette (med noen få unntak) eget fødeland. For personer født i Norge er det foreldrenes fødeland. I de tilfeller der foreldrene har ulikt fødeland, er det morens fødeland som blir valgt. Hvis ikke personen selv eller noen av foreldrene er utenlandsfødt, hentes landbakgrunn fra de første utenlandsfødte en treffer på i rekkefølgen mormor, morfar, farmor eller farfar.\",\n",
    "        \"nn\": \"For personar fødd i utlandet, er dette (med nokre få unntak) eige fødeland. For personar fødd i Noreg er det fødelandet til foreldra. I dei tilfella der foreldra har ulikt fødeland, er det fødelandet til mora som blir valt. Viss ikkje personen sjølv eller nokon av foreldra er utenlandsfødt, blir henta landsbakgrunn frå dei første utenlandsfødte ein treffar på i rekkjefølgja mormor, morfar, farmor eller farfar.\",\n",
    "    },\n",
    "    \"classification_reference\": \"91\",\n",
    "    \"unit_types\": [\"01\", \"02\"],\n",
    "    \"subject_fields\": [\"he04\"],\n",
    "    \"contains_special_categories_of_personal_data\": True,\n",
    "    \"measurement_type\": None,\n",
    "    \"valid_from\": \"2003-01-01\",\n",
    "    \"external_reference_uri\": \"https://www.ssb.no/a/metadata/conceptvariable/vardok/1919/nb\",\n",
    "    \"comment\": {\n",
    "        \"nb\": \"Fra og med 1.1.2003 ble definisjon endret til også å trekke inn besteforeldrenes fødeland.\",\n",
    "        \"nn\": \"Fra og med 1.1.2003 ble definisjon endret til også å trekke inn besteforeldrenes fødeland.\",\n",
    "        \"en\": \"As of 1 January 2003, the definition was changed to also include the grandparents' country of birth.\",\n",
    "    },\n",
    "    \"related_variable_definition_uris\": [\"https://example.com/\"],\n",
    "    \"contact\": {\n",
    "        \"title\": {\n",
    "            \"en\": \"Division for population statistics\",\n",
    "            \"nb\": \"Seksjon for befolkningsstatistikk\",\n",
    "            \"nn\": \"Seksjon for befolkningsstatistikk\",\n",
    "        },\n",
    "        \"email\": \"s320@ssb.no\",\n",
    "    },\n",
    "}\n",
    "\n"
   ]
  }
 ],
 "metadata": {
  "kernelspec": {
   "display_name": "dapla-toolbelt-metadata-fJc960va-py3.12",
   "language": "python",
   "name": "python3"
  },
  "language_info": {
   "codemirror_mode": {
    "name": "ipython",
    "version": 3
   },
   "file_extension": ".py",
   "mimetype": "text/x-python",
   "name": "python",
   "nbconvert_exporter": "python",
   "pygments_lexer": "ipython3",
   "version": "3.12.0"
  }
 },
 "nbformat": 4,
 "nbformat_minor": 2
}
