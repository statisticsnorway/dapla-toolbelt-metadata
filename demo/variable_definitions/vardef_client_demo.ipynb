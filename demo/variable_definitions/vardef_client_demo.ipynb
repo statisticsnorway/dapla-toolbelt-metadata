{
 "cells": [
  {
   "cell_type": "markdown",
   "metadata": {},
   "source": [
    "\n",
    "# Variable Definitions demo\n",
    "\n",
    "We recommend using Vardef Models for creating and editing variable definitions. \n",
    "\n",
    "Useful models: \n",
    "- Draft\n",
    "- Owner\n",
    "- Contact\n",
    "- UpdateDraft\n",
    "- Patch\n",
    "- ValidityPeriod\n",
    "\n",
    "For alternatives read [Other input types](#alternatives-to-using-models-as-input)"
   ]
  },
  {
   "cell_type": "code",
   "execution_count": null,
   "metadata": {},
   "outputs": [],
   "source": [
    "from datetime import date\n",
    "from pprint import pprint\n",
    "\n",
    "from dapla_metadata.variable_definitions.generated.vardef_client.models.contact import (\n",
    "    Contact,\n",
    ")\n",
    "from dapla_metadata.variable_definitions.generated.vardef_client.models.draft import (\n",
    "    Draft,\n",
    ")\n",
    "from dapla_metadata.variable_definitions.generated.vardef_client.models.update_draft import (\n",
    "    UpdateDraft,\n",
    ")\n",
    "from dapla_metadata.variable_definitions.generated.vardef_client.models.validity_period import (\n",
    "    ValidityPeriod,\n",
    ")\n",
    "from dapla_metadata.variable_definitions.generated.vardef_client.models.variable_status import (\n",
    "    VariableStatus,\n",
    ")\n",
    "from dapla_metadata.variable_definitions.vardef import Vardef\n"
   ]
  },
  {
   "cell_type": "markdown",
   "metadata": {},
   "source": [
    "\n",
    "## Drafts"
   ]
  },
  {
   "cell_type": "markdown",
   "metadata": {},
   "source": [
    "### Create a draft\n",
    "Can produce a 409 CONFLICT if the `short_name` already exists.\n",
    "Creator is saved as `Owner`.\n",
    "\n",
    "All operations for created variable definition must be performed from a variable."
   ]
  },
  {
   "cell_type": "code",
   "execution_count": null,
   "metadata": {},
   "outputs": [],
   "source": [
    "draft = Draft(\n",
    "    name = {\n",
    "        \"nb\": \"test navn\",\n",
    "        \"nn\": \"test namn\",\n",
    "        \"en\": \"test name\",\n",
    "    },\n",
    "    short_name= \"test_shortname\",\n",
    "    definition= {\n",
    "        \"nb\": \"Skriv en definisjonstekst på norsk bokmål.\",\n",
    "        \"nn\": \"Skriv ein definisjonstekst på nynorsk.\",\n",
    "        \"en\": \"Write a definition text in english.\",\n",
    "    },\n",
    "    classification_reference=\"91\",\n",
    "    unit_types=[\n",
    "        \"01\",\n",
    "    ],\n",
    "    subject_fields=[\n",
    "        \"al\",\n",
    "    ],\n",
    "    contains_special_categories_of_personal_data=False,\n",
    "    measurement_type=None,\n",
    "    valid_from=date(2024,12,18),\n",
    "    external_reference_uri=None,\n",
    "    comment=None,\n",
    "    related_variable_definition_uris=None,\n",
    "    contact=None,\n",
    ")\n",
    "\n",
    "# Assign value VariableDefinition to variable.\n",
    "my_draft = Vardef.create_draft(draft)\n",
    "\n"
   ]
  },
  {
   "cell_type": "markdown",
   "metadata": {},
   "source": [
    "\n",
    "### Example creating draft raising exception\n",
    "\n",
    "Invalid Klass codes will trigger an exception. The client returns a VardefClientException with an exception message at the bottom (after the tracestack)."
   ]
  },
  {
   "cell_type": "code",
   "execution_count": null,
   "metadata": {},
   "outputs": [],
   "source": [
    "invalid_draft = Draft(\n",
    "    name = {\n",
    "        \"nb\": \"test navn\",\n",
    "        \"nn\": \"test namn\",\n",
    "        \"en\": \"test name\",\n",
    "    },\n",
    "    short_name= \"test_excpetion\",\n",
    "    definition= {\n",
    "        \"nb\": \"Skriv en definisjonstekst på norsk bokmål.\",\n",
    "        \"nn\": \"Skriv ein definosjonstekst på nynorsk.\",\n",
    "        \"en\": \"Write a definition text in english.\",\n",
    "    },\n",
    "    classification_reference=\"91\",\n",
    "    unit_types=[\n",
    "        \"haha\",\n",
    "    ],\n",
    "    subject_fields=[\n",
    "        \"a\",\n",
    "    ],\n",
    "    contains_special_categories_of_personal_data=False,\n",
    "    measurement_type=None,\n",
    "    valid_from=date(2024,12,18),\n",
    "    external_reference_uri=None,\n",
    "    comment=None,\n",
    "    related_variable_definition_uris=None,\n",
    "    contact=None,\n",
    ")\n",
    "\n",
    "Vardef.create_draft(invalid_draft)"
   ]
  },
  {
   "cell_type": "markdown",
   "metadata": {},
   "source": [
    "\n",
    "#### Useful information about variables (details)\n",
    "\n",
    "If you need to assign your variable definition to a variable again and have access to your variable definition id:\n",
    "> my_new_variable = Vardef.get_variable_definition(\"kWzf65gt\") \n",
    "\n",
    "If you lost track of your variable definition id there are examples of how to fetch one particular variable definition in [Get one variable definition](#get-one-variable-definition)"
   ]
  },
  {
   "cell_type": "code",
   "execution_count": null,
   "metadata": {},
   "outputs": [],
   "source": [
    "# We can access all fields directly from the variable\n",
    "print(\"Variable definition text in norwegian bokmål: \")\n",
    "pprint(my_draft.definition[\"nb\"])\n",
    "\n",
    "# Or you can access fields by getting the saved Variable definition by id to check values\n",
    "print(\"\\nVariable definition created at: \")\n",
    "print(Vardef.get_variable_definition(my_draft.id).created_at)\n",
    "\n",
    "# Fields are not automatically updated after updates. If you wish to continue accessing fields directly from the variable you can update like this after every change:\n",
    "my_draft = Vardef.get_variable_definition(my_draft.id)\n",
    "\n"
   ]
  },
  {
   "cell_type": "markdown",
   "metadata": {},
   "source": [
    "### Edit a draft\n",
    "\n",
    "This operation must be performed on Variable Definitions with status DRAFT. All operations on saved variable definitions are only available for `Variable owner`"
   ]
  },
  {
   "cell_type": "code",
   "execution_count": null,
   "metadata": {},
   "outputs": [],
   "source": [
    "# Update contact information\n",
    "my_contact = Contact(\n",
    "    title={\n",
    "        \"nb\": \"Seksjon for befolkningsstatistikk\",\n",
    "        \"nn\": \"Seksjon for befolkningsstatistikk\",\n",
    "        \"en\": \"Division for population statistics\",\n",
    "    },\n",
    "    email=\"sibby@ssb.no\",\n",
    ")\n",
    "update_contact = UpdateDraft(\n",
    "    contact=my_contact,\n",
    ")\n",
    "\n",
    "my_draft.update_draft(update_draft=update_contact)\n",
    "my_draft = Vardef.get_variable_definition(my_draft.id)\n",
    "\n",
    "print(my_draft.contact)"
   ]
  },
  {
   "cell_type": "markdown",
   "metadata": {},
   "source": [
    "### Example update draft raising exception\n",
    "Invalid short name will trigger an `ValidationError`."
   ]
  },
  {
   "cell_type": "code",
   "execution_count": null,
   "metadata": {},
   "outputs": [],
   "source": [
    "# Test draft exceptions invalid short_name\n",
    "invalid_short_name = UpdateDraft(\n",
    "    short_name=\"_)(45)\",\n",
    ")\n",
    "my_draft.update_draft(invalid_short_name)\n"
   ]
  },
  {
   "cell_type": "markdown",
   "metadata": {},
   "source": [
    "### Migrate a legacy definition from Vardok to Vardef\n",
    "\n",
    "Note: This will raise an error if the short name already exists. After migration the variable is saved as `DRAFT`.\n",
    "\n"
   ]
  },
  {
   "cell_type": "code",
   "execution_count": null,
   "metadata": {},
   "outputs": [],
   "source": [
    "# Save variable Vardok\n",
    "my_vardok_draft = Vardef.migrate_from_vardok(\"90\")\n",
    "print(my_vardok_draft)"
   ]
  },
  {
   "cell_type": "markdown",
   "metadata": {},
   "source": [
    "#### Example migrate Vardok raising exception"
   ]
  },
  {
   "cell_type": "code",
   "execution_count": null,
   "metadata": {},
   "outputs": [],
   "source": [
    "# Id not found\n",
    "Vardef.migrate_from_vardok(\"21\")"
   ]
  },
  {
   "cell_type": "markdown",
   "metadata": {},
   "source": [
    "### Delete a draft\n",
    "\n",
    "This operation can only be performed on Variable Definitions with status `DRAFT`."
   ]
  },
  {
   "cell_type": "code",
   "execution_count": null,
   "metadata": {},
   "outputs": [],
   "source": [
    "my_vardok_draft.delete_draft()"
   ]
  },
  {
   "cell_type": "markdown",
   "metadata": {},
   "source": [
    "## Publish\n",
    "\n",
    "When draft has been quality checked it is time to publish the variable. \n",
    "\n",
    "Be aware: this process is irreversibel. "
   ]
  },
  {
   "cell_type": "code",
   "execution_count": null,
   "metadata": {},
   "outputs": [],
   "source": [
    "update_status = UpdateDraft(\n",
    "    variable_status=VariableStatus.PUBLISHED_INTERNAL,\n",
    ")\n",
    "\n",
    "my_draft.update_draft(update_status)"
   ]
  },
  {
   "cell_type": "markdown",
   "metadata": {},
   "source": [
    "## Patch\n",
    "\n",
    "### Create a patch\n",
    "Patches are to be used for minor changes which don't require a new Validity Period.\n",
    "\n",
    "Examples of reasons for creating a new Patch:\n",
    "\n",
    "- Correcting a typo\n",
    "- Adding a translation\n",
    "- Adding a subject field\n",
    "\n",
    "Supply only the fields to be changed. Other fields will retain their current values.\n",
    "\n",
    "#### Example update owner\n",
    "\n",
    "Add owners"
   ]
  },
  {
   "cell_type": "code",
   "execution_count": null,
   "metadata": {},
   "outputs": [],
   "source": [
    "from dapla_metadata.variable_definitions.generated.vardef_client.models.owner import (\n",
    "    Owner,\n",
    ")\n",
    "from dapla_metadata.variable_definitions.generated.vardef_client.models.patch import (\n",
    "    Patch,\n",
    ")\n",
    "\n",
    "new_owner = Patch(\n",
    "    owner=Owner(\n",
    "    team=\"dapla-felles\",\n",
    "    groups=[\n",
    "        \"dapla-felles-developers\",\n",
    "        \"play-enhjoern-a-developers\",\n",
    "    ],\n",
    "),\n",
    ")\n",
    "\n",
    "my_draft.create_patch(new_owner)\n",
    "\n",
    "my_draft = Vardef.get_variable_definition(my_draft.id)\n",
    "\n",
    "print(my_draft.owner)"
   ]
  },
  {
   "cell_type": "markdown",
   "metadata": {},
   "source": [
    "#### Transfer ownership to another team\n",
    "Be aware: when the team you represent is entirely remove as owner you will not have access to maintaining the variable definition.\n"
   ]
  },
  {
   "cell_type": "code",
   "execution_count": null,
   "metadata": {},
   "outputs": [],
   "source": [
    "# Create new variable definition for example ownership transferred\n",
    "owner_draft = Draft(\n",
    "    name = {\n",
    "        \"nb\": \"test navn\",\n",
    "        \"nn\": \"test namn\",\n",
    "        \"en\": \"test name\",\n",
    "    },\n",
    "    short_name= \"test_owner_2\",\n",
    "    definition= {\n",
    "        \"nb\": \"Skriv en definisjonstekst på norsk bokmål.\",\n",
    "        \"nn\": \"Skriv ein definisjonstekst på nynorsk.\",\n",
    "        \"en\": \"Write a definition text in english.\",\n",
    "    },\n",
    "    classification_reference=\"91\",\n",
    "    unit_types=[\n",
    "        \"01\",\n",
    "    ],\n",
    "    subject_fields=[\n",
    "        \"al\",\n",
    "    ],\n",
    "    contains_special_categories_of_personal_data=False,\n",
    "    measurement_type=None,\n",
    "    valid_from=date(2024,12,18),\n",
    "    external_reference_uri=None,\n",
    "    comment=None,\n",
    "    related_variable_definition_uris=None,\n",
    "    contact=None,\n",
    ")\n",
    "\n",
    "transfer_owner_draft = Vardef.create_draft(owner_draft)\n",
    "\n",
    "transfer_owner_draft.update_draft(UpdateDraft(variable_status=VariableStatus.PUBLISHED_INTERNAL))\n",
    "\n",
    "replace_owner = Patch(\n",
    "    owner=Owner(\n",
    "    team=\"play-enhjoern-a\",\n",
    "    groups=[\n",
    "        \"play-enhjoern-a-developers\",\n",
    "    ],\n",
    "),\n",
    ")\n",
    "\n",
    "transfer_owner_draft.create_patch(replace_owner)"
   ]
  },
  {
   "cell_type": "markdown",
   "metadata": {},
   "source": [
    "#####  Attempt to create new patch after transferring ownership"
   ]
  },
  {
   "cell_type": "code",
   "execution_count": null,
   "metadata": {},
   "outputs": [],
   "source": [
    "transfer_owner_draft.create_patch(Patch(unit_types=[\"01\"]))"
   ]
  },
  {
   "cell_type": "markdown",
   "metadata": {},
   "source": [
    "### List patches for one variable definition"
   ]
  },
  {
   "cell_type": "code",
   "execution_count": null,
   "metadata": {},
   "outputs": [],
   "source": [
    "patches = my_draft.list_patches()\n",
    "\n",
    "print(f\"Patches for variable definition id {my_draft.id}:\\n\")\n",
    "for patch in patches:\n",
    "    print(f\"Patch id: {patch.patch_id}\\nCreated at: {patch.created_at}\\n\")\n",
    "\n"
   ]
  },
  {
   "cell_type": "markdown",
   "metadata": {},
   "source": [
    "### Get one patch"
   ]
  },
  {
   "cell_type": "code",
   "execution_count": null,
   "metadata": {},
   "outputs": [],
   "source": [
    "print(my_draft.get_patch(2))"
   ]
  },
  {
   "cell_type": "markdown",
   "metadata": {},
   "source": [
    "## Validity period\n",
    "\n",
    "In order to create a new Validity Period input must contain updated 'definition' text for all present languages and a new valid from.\n",
    "\n",
    "A new Validity Period should be created only when the fundamental definition of the variable has changed. \n",
    "\n",
    "This way the previous definition can be preserved for use in historical data."
   ]
  },
  {
   "cell_type": "code",
   "execution_count": null,
   "metadata": {},
   "outputs": [],
   "source": [
    "\n",
    "valid_validity_period = ValidityPeriod(\n",
    "    definition={\n",
    "        \"nb\": \"ny definisjon2\",\n",
    "        \"nn\": \"ny definisjon2\",\n",
    "        \"en\": \"new definition2\",\n",
    "    },\n",
    "    valid_from=date(2040,4,5),\n",
    ")\n",
    "my_draft.create_validity_period(valid_validity_period)\n",
    "\n"
   ]
  },
  {
   "cell_type": "markdown",
   "metadata": {},
   "source": [
    "#### Example invalid validity period"
   ]
  },
  {
   "cell_type": "code",
   "execution_count": null,
   "metadata": {},
   "outputs": [],
   "source": [
    "invalid_validity_period = ValidityPeriod(\n",
    "    name={\n",
    "        \"nb\": \"new name\",\n",
    "    },\n",
    "    valid_from=date(2025,4,5),\n",
    ")\n",
    "\n",
    "my_draft.create_validity_period(invalid_validity_period)"
   ]
  },
  {
   "cell_type": "markdown",
   "metadata": {},
   "source": [
    "### List validity periods for one variable definition"
   ]
  },
  {
   "cell_type": "code",
   "execution_count": null,
   "metadata": {},
   "outputs": [],
   "source": [
    "validity_periods = my_draft.list_validity_periods()\n",
    "\n",
    "print(f\"Validity periods for variable definition id {my_draft.id}:\\n\")\n",
    "for period in validity_periods:\n",
    "    print(f\"Patch id: {period.patch_id}\\nValid: {period.valid_from} to {period.valid_until}\\nDefinition text: {period.definition}\\n\")\n",
    "\n"
   ]
  },
  {
   "cell_type": "markdown",
   "metadata": {},
   "source": [
    "## List all variable definitions"
   ]
  },
  {
   "cell_type": "code",
   "execution_count": null,
   "metadata": {},
   "outputs": [],
   "source": [
    "variable_definitions = Vardef.list_variable_definitions()\n",
    "for variable in variable_definitions:\n",
    "    print(f\"Id: {variable.id}\\nName: {variable.name}\\nShort name: {variable.short_name}\\nDefinition: {variable.definition}\\nOwner: {variable.owner}\\n\")\n",
    "\n"
   ]
  },
  {
   "cell_type": "markdown",
   "metadata": {},
   "source": [
    "### Filter by date\n"
   ]
  },
  {
   "cell_type": "code",
   "execution_count": null,
   "metadata": {},
   "outputs": [],
   "source": [
    "\n",
    "desired_validity = date(2030,2,24)\n",
    "filtered_variable_definitions = Vardef.list_variable_definitions(desired_validity)\n",
    "print(f\"Valid at {desired_validity}:\\n\")\n",
    "for variable in filtered_variable_definitions:\n",
    "    print(f\"Id: {variable.id}\\nName: {variable.name}\\nShort name: {variable.short_name}\\nDefinition: {variable.definition}\\nOwner: {variable.owner}\\nValid: {variable.valid_from} to {variable.valid_until}\\n\")"
   ]
  },
  {
   "cell_type": "markdown",
   "metadata": {},
   "source": [
    "### Writing your own filter operations\n",
    "The APi does not support filter operations directly, but it easy to write your own."
   ]
  },
  {
   "cell_type": "code",
   "execution_count": null,
   "metadata": {},
   "outputs": [],
   "source": [
    "print(\"\\nFilter by team: \")\n",
    "my_team_variables = [variable for variable in variable_definitions if variable.owner[\"team\"] == \"dapla-felles\"]\n",
    "print(my_team_variables)\n",
    "\n",
    "print(\"\\nFilter by status draft: \")\n",
    "draft_variables = [variable for variable in variable_definitions if variable.variable_status == VariableStatus.DRAFT]\n",
    "print(draft_variables)\n",
    "\n",
    "print(\"\\nFilter by status published internal: \")\n",
    "published_intern_variables = [variable for variable in variable_definitions if variable.variable_status == VariableStatus.PUBLISHED_INTERNAL]\n",
    "print(published_intern_variables)\n"
   ]
  },
  {
   "cell_type": "markdown",
   "metadata": {},
   "source": [
    "#### Get one variable definition \n",
    "Get one variable by id. If you loose track of your variable definition id or\n"
   ]
  },
  {
   "cell_type": "code",
   "execution_count": null,
   "metadata": {},
   "outputs": [],
   "source": [
    "print(Vardef.get_variable_definition(my_draft.id))"
   ]
  },
  {
   "cell_type": "markdown",
   "metadata": {},
   "source": [
    "#### Get variable definition id by short name"
   ]
  },
  {
   "cell_type": "code",
   "execution_count": null,
   "metadata": {},
   "outputs": [],
   "source": [
    "\n",
    "variable_by_short_name = next(variable for variable in variable_definitions if variable.short_name == \"test_shortname\")\n",
    "print(variable_by_short_name.id)"
   ]
  },
  {
   "cell_type": "markdown",
   "metadata": {},
   "source": [
    "## Alternatives to using Models\n",
    "\n",
    "Valid dictionary"
   ]
  },
  {
   "cell_type": "code",
   "execution_count": null,
   "metadata": {},
   "outputs": [],
   "source": [
    "NEW_DRAFT = {\n",
    "    \"name\": {\"en\": \"Country Background\", \"nb\": \"Landbakgrunn\", \"nn\": \"Landbakgrunn\"},\n",
    "    \"short_name\": \"new_short_name1\",\n",
    "    \"definition\": {\n",
    "        \"en\": \"Country background is the person's own, the mother's or possibly the father's country of birth. Persons without an immigrant background always have Norway as country background. In cases where the parents have different countries of birth the mother's country of birth is chosen. If neither the person nor the parents are born abroad, country background is chosen from the first person born abroad in the order mother's mother, mother's father, father's mother, father's father.\",\n",
    "        \"nb\": \"For personer født i utlandet, er dette (med noen få unntak) eget fødeland. For personer født i Norge er det foreldrenes fødeland. I de tilfeller der foreldrene har ulikt fødeland, er det morens fødeland som blir valgt. Hvis ikke personen selv eller noen av foreldrene er utenlandsfødt, hentes landbakgrunn fra de første utenlandsfødte en treffer på i rekkefølgen mormor, morfar, farmor eller farfar.\",\n",
    "        \"nn\": \"For personar fødd i utlandet, er dette (med nokre få unntak) eige fødeland. For personar fødd i Noreg er det fødelandet til foreldra. I dei tilfella der foreldra har ulikt fødeland, er det fødelandet til mora som blir valt. Viss ikkje personen sjølv eller nokon av foreldra er utenlandsfødt, blir henta landsbakgrunn frå dei første utenlandsfødte ein treffar på i rekkjefølgja mormor, morfar, farmor eller farfar.\",\n",
    "    },\n",
    "    \"classification_reference\": \"91\",\n",
    "    \"unit_types\": [\"01\", \"02\"],\n",
    "    \"subject_fields\": [\"he04\"],\n",
    "    \"contains_special_categories_of_personal_data\": True,\n",
    "    \"measurement_type\": None,\n",
    "    \"valid_from\": \"2003-01-01\",\n",
    "    \"external_reference_uri\": \"https://www.ssb.no/a/metadata/conceptvariable/vardok/1919/nb\",\n",
    "    \"comment\": {\n",
    "        \"nb\": \"Fra og med 1.1.2003 ble definisjon endret til også å trekke inn besteforeldrenes fødeland.\",\n",
    "        \"nn\": \"Fra og med 1.1.2003 ble definisjon endret til også å trekke inn besteforeldrenes fødeland.\",\n",
    "        \"en\": \"As of 1 January 2003, the definition was changed to also include the grandparents' country of birth.\",\n",
    "    },\n",
    "    \"related_variable_definition_uris\": [\"https://example.com/\"],\n",
    "    \"contact\": {\n",
    "        \"title\": {\n",
    "            \"en\": \"Division for population statistics\",\n",
    "            \"nb\": \"Seksjon for befolkningsstatistikk\",\n",
    "            \"nn\": \"Seksjon for befolkningsstatistikk\",\n",
    "        },\n",
    "        \"email\": \"s320@ssb.no\",\n",
    "    },\n",
    "}\n",
    "\n"
   ]
  }
 ],
 "metadata": {
  "kernelspec": {
   "display_name": "dapla-toolbelt-metadata-fJc960va-py3.12",
   "language": "python",
   "name": "python3"
  },
  "language_info": {
   "codemirror_mode": {
    "name": "ipython",
    "version": 3
   },
   "file_extension": ".py",
   "mimetype": "text/x-python",
   "name": "python",
   "nbconvert_exporter": "python",
   "pygments_lexer": "ipython3",
   "version": "3.12.0"
  }
 },
 "nbformat": 4,
 "nbformat_minor": 2
}
