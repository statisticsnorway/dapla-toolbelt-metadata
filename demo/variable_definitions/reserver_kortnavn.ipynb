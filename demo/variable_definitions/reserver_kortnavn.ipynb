{
 "cells": [
  {
   "cell_type": "markdown",
   "metadata": {},
   "source": [
    "# Reserver kortnavn\n",
    "\n",
    "Denne Notebook er for deg som:\n",
    "\n",
    "- Har behov å reservere kortnavn ved å opprette utkast. Det er særlig til bruk for basisregisterteamene som har mange variabler og vil unngå at kortnavn tas av andre.\n",
    "\n",
    "Forutsetninger:\n",
    "\n",
    "- Et Dapla-team som skal eie variabeldefinisjonene.\n",
    "- En liste av kortnavn du ønsker å reservere.\n",
    "\n",
    "Forbehold:\n",
    "\n",
    "- Variabeldefinisjonene er opprettet med status UTKAST. Det gjør at andre ikke får lov til å opprette nye variabeldefinisjoner med samme kortnavn, men de er ikke klare til å tas i bruk eller publiseres.\n",
    "- Standardverdier er satt inn i alle påbudte felt. Disse må gjennomgås og korrigeres før publisering."
   ]
  },
  {
   "cell_type": "markdown",
   "metadata": {},
   "source": [
    "## Oppsett\n",
    "\n",
    "Koden under kjøres som forberedelse for påfølgende steg"
   ]
  },
  {
   "cell_type": "code",
   "execution_count": null,
   "metadata": {},
   "outputs": [],
   "source": [
    "# Nødvendig import\n",
    "import logging\n",
    "import sys\n",
    "\n",
    "from dapla_metadata.variable_definitions import Vardef\n",
    "from dapla_metadata.variable_definitions import models\n",
    "\n",
    "# Redusere størrelsen på Traceback for mer tydelige feilmeldinger\n",
    "%xmode Minimal\n",
    "\n",
    "# Gjøre at logging vises\n",
    "logging.basicConfig(\n",
    "    format=\"%(levelname)s: %(message)s\",\n",
    "    level=logging.INFO,\n",
    "    stream=sys.stdout,\n",
    "    force=True,\n",
    ")"
   ]
  },
  {
   "cell_type": "markdown",
   "metadata": {},
   "source": [
    "## Liste opp kortnavn som skal reserveres\n",
    "\n",
    "Skriv inn de kortnavnene"
   ]
  },
  {
   "cell_type": "code",
   "execution_count": null,
   "metadata": {},
   "outputs": [],
   "source": [
    "mine_kortnavn = [\"a\"]\n",
    "print(f\"✅ {len(mine_kortnavn)} reserveres\")"
   ]
  },
  {
   "cell_type": "markdown",
   "metadata": {},
   "source": [
    "## Reservere kortnavn\n",
    "\n",
    "⭐️ I koden under opprettes nye variabeldefinisjoner med spesifiserte kortnavn"
   ]
  },
  {
   "cell_type": "code",
   "execution_count": null,
   "metadata": {},
   "outputs": [],
   "source": [
    "from dapla_metadata.variable_definitions import DEFAULT_DATE\n",
    "from dapla_metadata.variable_definitions import GENERATED_CONTACT\n",
    "\n",
    "opprettet = []\n",
    "feil = []\n",
    "for kortnavn in mine_kortnavn:\n",
    "    try:\n",
    "        mitt_kortnavn = Vardef.create_draft(\n",
    "            draft=models.Draft(\n",
    "                name=models.LanguageStringType(nb=\"Reservert\"),\n",
    "                short_name=kortnavn,\n",
    "                definition=models.LanguageStringType(\n",
    "                    nb=\"Definisjonstekst\",\n",
    "                ),\n",
    "                unit_types=[\"99\"],\n",
    "                subject_fields=[\"al\"],\n",
    "                contains_special_categories_of_personal_data=False,\n",
    "                valid_from=DEFAULT_DATE,\n",
    "                contact=GENERATED_CONTACT,\n",
    "            )\n",
    "        )\n",
    "        opprettet.append(mitt_kortnavn)\n",
    "    except Exception as e:\n",
    "        print(f\"⚠️ Feil under opprettelse av '{kortnavn}': {e}\")\n",
    "        feil.append((kortnavn, str(e)))\n",
    "\n",
    "print(\"\\n📊 Resultatoppsummering:\")\n",
    "print(f\" - Antall opprettet: {len(opprettet)}\")\n",
    "print(f\" - Antall feilet: {len(feil)}\")"
   ]
  }
 ],
 "metadata": {
  "language_info": {
   "codemirror_mode": {
    "name": "ipython"
   },
   "file_extension": ".py",
   "mimetype": "text/x-python",
   "name": "python",
   "nbconvert_exporter": "python"
  }
 },
 "nbformat": 4,
 "nbformat_minor": 2
}
