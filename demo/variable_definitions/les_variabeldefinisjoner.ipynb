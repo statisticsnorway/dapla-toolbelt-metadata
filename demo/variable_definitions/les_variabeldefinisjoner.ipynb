{
 "cells": [
  {
   "cell_type": "markdown",
   "metadata": {},
   "source": [
    "# Les variabeldefinisjoner\n",
    "\n",
    "Denne Notebook er for deg som:\n",
    "\n",
    "- Ønsker en oversikt over lagrede variabeldefinisjoner\n",
    "- Vil filtrere variabler basert på status, dato eller eier m.m\n",
    "\n",
    "\n"
   ]
  },
  {
   "cell_type": "markdown",
   "metadata": {},
   "source": [
    "## Oppsett\n",
    "Koden under kjøres som forberedelse for påfølgende steg"
   ]
  },
  {
   "cell_type": "code",
   "execution_count": null,
   "metadata": {},
   "outputs": [],
   "source": [
    "# Nødvendig import\n",
    "import logging\n",
    "import sys\n",
    "from datetime import date\n",
    "from dapla_metadata.variable_definitions import Vardef\n",
    "from dapla_metadata.variable_definitions import models\n",
    "from dapla_metadata.dapla import user_info\n",
    "\n",
    "# Redusere størrelsen på Traceback for mer tydelige feilmeldinger\n",
    "%xmode Minimal\n",
    "\n",
    "# Gjøre at logging vises\n",
    "logging.basicConfig(\n",
    "    format=\"%(levelname)s: %(message)s\",\n",
    "    level=logging.INFO,\n",
    "    stream=sys.stdout,\n",
    "    force=True,\n",
    ")\n",
    "\n",
    "user = user_info.get_user_info_for_current_platform()\n",
    "\n",
    "# Hente brukerinformasjon\n",
    "mitt_team = user.current_team\n",
    "min_bruker = user.short_email\n",
    "\n",
    "# Hente alle variabeldefinisjoner lagret i Vardef\n",
    "variabel_definisjoner = Vardef.list_variable_definitions()\n",
    "\n",
    "\n",
    "# Metode som skriver ut en tabell med utvalgte felt til skjerm\n",
    "def skriv_ut_variabel_definisjoner(variabler: list):\n",
    "    col_widths = [30, 10, 20, 50]\n",
    "\n",
    "    header = \"{:<{}} | {:<{}} | {:<{}} | {:<{}}\".format(\n",
    "        \"Kortnavn\",\n",
    "        col_widths[0],\n",
    "        \"Id\",\n",
    "        col_widths[1],\n",
    "        \"Eier team\",\n",
    "        col_widths[2],\n",
    "        \"Navn\",\n",
    "        col_widths[3],\n",
    "    )\n",
    "    print(header)\n",
    "    print(\"-\" * len(header))\n",
    "\n",
    "    for variabel in variabler:\n",
    "        print(\n",
    "            \"{:<{}} | {:<{}} | {:<{}} | {:<{}}\".format(\n",
    "                str(variabel.short_name),\n",
    "                col_widths[0],\n",
    "                str(variabel.id),\n",
    "                col_widths[1],\n",
    "                str(variabel.owner[\"team\"]),\n",
    "                col_widths[2],\n",
    "                str(variabel.name[\"nb\"]),\n",
    "                col_widths[3],\n",
    "            )\n",
    "        )"
   ]
  },
  {
   "cell_type": "markdown",
   "metadata": {},
   "source": [
    "## Viktig informasjon\n",
    "\n",
    "Alle SSB ansatte har tilgang til å lese alle variabeldefinisjoner uavhengig av hvem som eier variabeldefinisjonen eller hvilken status variabeldefinisjonen har.\n",
    "\n",
    "📅 Angir man ikke dato vil siste versjon i siste gyldighetsperiode vises for hver variabeldefinisjon.\n",
    "\n",
    "Alle metodene viser en forenklet versjon av variabeldefinisjonen med følgende felter:\n",
    "- Kortnavn \n",
    "- Id \n",
    "- Eier team\n",
    "- Navn (på norsk bokmål)\n",
    "\n",
    "💡 Ønsker du tilgang til hele variabeldefinisjonen anbefaler vi deg å benytte notebooken\n",
    "`les_variabeldefinisjon`."
   ]
  },
  {
   "cell_type": "markdown",
   "metadata": {},
   "source": [
    "## Vise alle variabeldefinisjoner\n",
    "I koden under vil alle variabeldefinisjoner bli skrevet ut til skjerm uten noen filtrering. "
   ]
  },
  {
   "cell_type": "code",
   "execution_count": null,
   "metadata": {},
   "outputs": [],
   "source": [
    "# Skrive ut til skjerm\n",
    "variabel_definisjoner = Vardef.list_variable_definitions()\n",
    "print(f\"Viser {len(variabel_definisjoner)} variabeldefinisjoner\")\n",
    "skriv_ut_variabel_definisjoner(variabel_definisjoner)"
   ]
  },
  {
   "cell_type": "markdown",
   "metadata": {},
   "source": [
    "## Filtrere\n"
   ]
  },
  {
   "cell_type": "markdown",
   "metadata": {},
   "source": [
    "### Filtrere på dato\n",
    "\n",
    "1. Kjør cellen under. \n",
    "2. Vent til input-felt vises:\n",
    "    - Skriv inn valgt årstall og trykk **Enter**.\n",
    "    - Skriv inn valgt måned og trykk **Enter**.\n",
    "    - Skriv inn valgt dag og trykk **Enter**.\n",
    "\n",
    "\n",
    "⚠️ Viktig: Trykk alltid **Enter**, selv om du ikke skriver noe, for å unngå at Jupyter-kjernen henger seg opp.\n",
    "\n",
    "✅ Variabeldefinisjoner som er gyldig på den spesifiserte dato vil bli returnert.\n",
    "\n"
   ]
  },
  {
   "cell_type": "code",
   "execution_count": null,
   "metadata": {},
   "outputs": [],
   "source": [
    "år = int(input(\"Skriv inn årstall (fire sifre): \"))\n",
    "måned = int(input(\"Skriv inn måned (1-12): \"))\n",
    "dag = int(input(\"Skriv inn dag (1-31): \"))\n",
    "dato = date(år, måned, dag)\n",
    "\n",
    "variabel_definisjoner = Vardef.list_variable_definitions()\n",
    "\n",
    "variabel_definisjoner_dato = Vardef.list_variable_definitions(date_of_validity=dato)\n",
    "\n",
    "# Skrive ut til skjerm\n",
    "print(f\"Viser {len(variabel_definisjoner_dato)} variabeldefinisjoner gyldig {dato}\")\n",
    "skriv_ut_variabel_definisjoner(variabel_definisjoner_dato)"
   ]
  },
  {
   "cell_type": "markdown",
   "metadata": {},
   "source": [
    "### Filtrere på eier\n",
    "\n",
    "Hver variabeldefinisjon har et **eier-team** og en liste med **eier-grupper**. \n",
    "\n",
    "Vi filtrerer på **eier-team**.\n",
    "\n",
    "📌  Eksempel: \n",
    "\n",
    "`dapla-felles`"
   ]
  },
  {
   "cell_type": "markdown",
   "metadata": {},
   "source": [
    "#### Dine variabeldefinisjoner\n",
    "\n",
    "I koden under vil variabeldefinisjoner som tilhører ditt **team**  bli skrevet ut til skjerm.\n",
    "\n",
    "✅ Variabeldefinisjoner eid av teamet du representerer i **Dapla Lab** vil bli returnert."
   ]
  },
  {
   "cell_type": "code",
   "execution_count": null,
   "metadata": {},
   "outputs": [],
   "source": [
    "variabel_definisjoner = Vardef.list_variable_definitions()\n",
    "\n",
    "mitt_team_variabel_definisjoner = [\n",
    "    variabel\n",
    "    for variabel in variabel_definisjoner\n",
    "    if variabel.owner[\"team\"] == mitt_team\n",
    "]\n",
    "\n",
    "# Skrive ut til skjerm\n",
    "print(\n",
    "    f\"Viser {len(mitt_team_variabel_definisjoner)} variabeldefinisjoner for {mitt_team}\"\n",
    ")\n",
    "skriv_ut_variabel_definisjoner(mitt_team_variabel_definisjoner)"
   ]
  },
  {
   "cell_type": "markdown",
   "metadata": {},
   "source": [
    "#### Filtrerere på valgt eier team\n",
    "\n",
    "1. Kjør cellen under. \n",
    "2. Vent til input-feltet vises\n",
    "3. Skriv inn valgt team navn \n",
    "4. Trykk **Enter**.\n",
    "\n",
    "⚠️  Viktig: Trykk alltid **Enter**, selv om du ikke skriver noe, for å unngå at Jupyter-kjernen henger seg opp.\n",
    "\n",
    "✅ Variabeldefinisjoner som er eid av det valgte **teamet** vil bli returnert.\n",
    "\n"
   ]
  },
  {
   "cell_type": "code",
   "execution_count": null,
   "metadata": {},
   "outputs": [],
   "source": [
    "eier_team = input(\"Skriv inn team navn: \").strip()\n",
    "\n",
    "variabel_definisjoner = Vardef.list_variable_definitions()\n",
    "\n",
    "variabel_definisjoner_team = [\n",
    "    variabel\n",
    "    for variabel in variabel_definisjoner\n",
    "    if variabel.owner[\"team\"] == eier_team\n",
    "]\n",
    "\n",
    "# Skrive ut til skjerm\n",
    "print(f\"Viser {len(variabel_definisjoner_team)} variabeldefinisjoner for {eier_team}\")\n",
    "skriv_ut_variabel_definisjoner(variabel_definisjoner_team)"
   ]
  },
  {
   "cell_type": "markdown",
   "metadata": {},
   "source": [
    "### Filtrere på status\n",
    "En variabeldefinisjon kan ha én av tre mulige statuser:\n",
    "- UTKAST - Variabeldefinisjonen er under arbeid og ikke ferdigstilt.\n",
    "- PUBLISERT INTERNT - Tilgjengelig for interne brukere, men ikke eksternt.\n",
    "- PUBLISERT EKSTERNT - Tilgjengelig for både interne og eksterne brukere.\n"
   ]
  },
  {
   "cell_type": "markdown",
   "metadata": {},
   "source": [
    "#### Status UTKAST\n",
    "✅ Variabeldefinisjoner med status **utkast** vil bli returnert."
   ]
  },
  {
   "cell_type": "code",
   "execution_count": null,
   "metadata": {},
   "outputs": [],
   "source": [
    "variabel_definisjoner = Vardef.list_variable_definitions()\n",
    "\n",
    "variabel_definisjoner_utkast = [\n",
    "    variabel\n",
    "    for variabel in variabel_definisjoner\n",
    "    if variabel.variable_status == models.VariableStatus.DRAFT\n",
    "]\n",
    "\n",
    "# Skrive ut til skjerm\n",
    "print(\n",
    "    f\"Viser {len(variabel_definisjoner_utkast)} variabeldefinisjoner med status 'UTKAST'\"\n",
    ")\n",
    "skriv_ut_variabel_definisjoner(variabel_definisjoner_utkast)"
   ]
  },
  {
   "cell_type": "markdown",
   "metadata": {},
   "source": [
    "#### Status PUBLISERT INTERNT\n",
    "\n",
    "✅ Variabeldefinisjoner med status **publisert internt** vil bli returnert."
   ]
  },
  {
   "cell_type": "code",
   "execution_count": null,
   "metadata": {},
   "outputs": [],
   "source": [
    "variabel_definisjoner = Vardef.list_variable_definitions()\n",
    "\n",
    "variabel_definisjoner_publisert_internt = [\n",
    "    variabel\n",
    "    for variabel in variabel_definisjoner\n",
    "    if variabel.variable_status == models.VariableStatus.PUBLISHED_INTERNAL\n",
    "]\n",
    "\n",
    "# Skrive ut til skjerm\n",
    "print(\n",
    "    f\"Viser {len(variabel_definisjoner_publisert_internt)} variabeldefinisjoner med status 'PUBLISERT INTERNT'\"\n",
    ")\n",
    "skriv_ut_variabel_definisjoner(variabel_definisjoner_publisert_internt)"
   ]
  },
  {
   "cell_type": "markdown",
   "metadata": {},
   "source": [
    "#### Status PUBLISERT EKSTERNT\n",
    "✅ Variabeldefinisjoner med status **publisert eksternt** vil bli returnert."
   ]
  },
  {
   "cell_type": "code",
   "execution_count": null,
   "metadata": {},
   "outputs": [],
   "source": [
    "variabel_definisjoner = Vardef.list_variable_definitions()\n",
    "\n",
    "variabel_definisjoner_publisert_eksternt = [\n",
    "    variabel\n",
    "    for variabel in variabel_definisjoner\n",
    "    if variabel.variable_status == models.VariableStatus.PUBLISHED_EXTERNAL\n",
    "]\n",
    "\n",
    "# Skrive ut til skjerm\n",
    "print(\n",
    "    f\"Viser {len(variabel_definisjoner_publisert_eksternt)} variabeldefinisjoner med status 'PUBLISERT EKSTERNT'\"\n",
    ")\n",
    "skriv_ut_variabel_definisjoner(variabel_definisjoner_publisert_eksternt)"
   ]
  },
  {
   "cell_type": "markdown",
   "metadata": {},
   "source": [
    "#### Filtrere dine variabeldefinisjoner på status\n",
    "✅ Variabeldefinisjoner eid av ditt team og med status **utkast** vil bli returnert. "
   ]
  },
  {
   "cell_type": "code",
   "execution_count": null,
   "metadata": {},
   "outputs": [],
   "source": [
    "variabel_definisjoner = Vardef.list_variable_definitions()\n",
    "mine_variabel_definisjoner_filtrert_status = [\n",
    "    variabel\n",
    "    for variabel in variabel_definisjoner\n",
    "    if variabel.variable_status == models.VariableStatus.DRAFT\n",
    "    and variabel.owner[\"team\"] == mitt_team\n",
    "]\n",
    "\n",
    "# Skrive ut til skjerm\n",
    "print(\n",
    "    f\"Viser {len(mine_variabel_definisjoner_filtrert_status)} variabeldefinisjoner for team {mitt_team} med status 'UTKAST'\"\n",
    ")\n",
    "skriv_ut_variabel_definisjoner(mine_variabel_definisjoner_filtrert_status)"
   ]
  },
  {
   "cell_type": "markdown",
   "metadata": {},
   "source": [
    "### Filtrere på opprettet av deg\n",
    "\n",
    "Når du:\n",
    "- Oppretter en ny variabeldefinisjon\n",
    "- Migrerer en eksisterende variabeldefinisjon fra Vardok\n",
    "\n",
    "... vil din bruker automatisk bli lagret i feltet `created_by`.\n",
    "\n",
    "ℹ️ Feltet `created_by` settes når variabeldefinisjonen opprettes og endres ikke senere.\n",
    "\n",
    "📌 Eksempel:\n",
    "\n",
    "`ano@ssb.no`\n",
    "\n",
    "✅ Variabeldefinisjoner opprettet av deg vil bli returnert. \n"
   ]
  },
  {
   "cell_type": "code",
   "execution_count": null,
   "metadata": {},
   "outputs": [],
   "source": [
    "variabel_definisjoner = Vardef.list_variable_definitions()\n",
    "\n",
    "variabel_definisjoner_opprette_av_meg = [\n",
    "    variabel\n",
    "    for variabel in Vardef.list_variable_definitions()\n",
    "    if variabel.created_by == min_bruker\n",
    "]\n",
    "\n",
    "# Skriv ut til skjerm\n",
    "print(\n",
    "    f\"Viser {len(variabel_definisjoner_opprette_av_meg)} variabeldefinisjoner opprette av {min_bruker}\"\n",
    ")\n",
    "skriv_ut_variabel_definisjoner(variabel_definisjoner_opprette_av_meg)"
   ]
  }
 ],
 "metadata": {
  "language_info": {
   "name": "python"
  }
 },
 "nbformat": 4,
 "nbformat_minor": 2
}
