{
 "cells": [
  {
   "cell_type": "markdown",
   "metadata": {},
   "source": [
    "# Migrere en variabel definisjon fra Vardok til Vardef\n",
    "\n",
    "Denne Notebook er for deg som:\n",
    "\n",
    "- Har en eksisterende variabeldefinisjon i Vardok og ønsker å migrere denne til Vardef\n",
    "\n",
    "Forutsetninger:\n",
    "- Du må ha en `id` i Vardok for variabeldefinisjonen du ønsker å migrere"
   ]
  },
  {
   "cell_type": "markdown",
   "metadata": {},
   "source": [
    "## Oppsett\n",
    "\n",
    "Koden under kjøres som forberedelse for påfølgende steg"
   ]
  },
  {
   "cell_type": "code",
   "execution_count": null,
   "metadata": {},
   "outputs": [],
   "source": [
    "# Nødvendig import\n",
    "import logging\n",
    "import sys\n",
    "\n",
    "from dapla_metadata.variable_definitions import Vardef\n",
    "\n",
    "# Redusere størrelsen på Traceback for mer tydelige feilmeldinger\n",
    "%xmode Minimal\n",
    "\n",
    "# Gjøre at logging vises\n",
    "logging.basicConfig(\n",
    "    format=\"%(levelname)s: %(message)s\",\n",
    "    level=logging.INFO,\n",
    "    stream=sys.stdout,\n",
    "    force=True,\n",
    ")"
   ]
  },
  {
   "cell_type": "markdown",
   "metadata": {},
   "source": [
    "## Viktig informasjon om Migrering\n",
    "\n",
    "Når en variabel fra Vardok er blitt migrert til Vardef vil den opprettes som et `UTKAST`, uavhengig av hvilken status variabelen hadde i Vardok. Dette blir gjort slik at man kan oppdatere variabelen etter den er migrert til å oppfylle de kravene for publisering Vardef.\n",
    "\n",
    "En variabel kan kun migreres en gang, slik at når en variabel med en Vardok id er migrert til vardef vil det ikke være mulig å migrere denne id-en på nytt. \n",
    "\n",
    "Merk at om Vardok variabelen ikke har gyldig fra dato, vil denne bli satt til `1900-01-01`.\n",
    "\n",
    "Om det ikke eksisterer et kortnavn for variabelen i vardok, vil dette bli automatisk generert under migrering."
   ]
  },
  {
   "cell_type": "markdown",
   "metadata": {},
   "source": [
    "## Migrere en variabeldefinisjon\n",
    "\n",
    "Kjør cellen under. \n",
    "\n",
    "Et input-felt vises – skriv inn Vardok id og trykk **Enter**.\n",
    "\n",
    "⚠ Viktig: Trykk alltid **Enter**, selv om du ikke skriver noe, for å unngå at Jupyter-kjernen henger seg opp.\n",
    "\n",
    "I koden under migreres en variabel fra Vardok til Vardef med en gitt Vardok id."
   ]
  },
  {
   "cell_type": "code",
   "execution_count": null,
   "metadata": {},
   "outputs": [],
   "source": [
    "min_vardok_id = input(\"Skriv inn Vardok id\").strip()\n",
    "\n",
    "min_migrert_variabel = Vardef.migrate_from_vardok(min_vardok_id)\n",
    "print(min_migrert_variabel)"
   ]
  }
 ],
 "metadata": {
  "language_info": {
   "name": "python"
  }
 },
 "nbformat": 4,
 "nbformat_minor": 2
}
