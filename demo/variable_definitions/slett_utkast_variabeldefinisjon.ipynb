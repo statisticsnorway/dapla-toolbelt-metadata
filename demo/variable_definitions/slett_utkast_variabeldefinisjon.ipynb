{
 "cells": [
  {
   "cell_type": "markdown",
   "metadata": {},
   "source": [
    "# Slett utkast variabeldefinisjon\n",
    "\n",
    "Denne Notebook er for deg som:\n",
    "\n",
    "- Er eier til en variabeldefinisjon med status `UTKAST`\n",
    "- Ønsker å slette utkastet\n",
    "\n",
    "Forutsetninger:\n",
    "- Du må ha `Kortnavn` for variabeldefinisjonen du vil slette"
   ]
  },
  {
   "cell_type": "markdown",
   "metadata": {},
   "source": [
    "## Oppsett\n",
    "\n",
    "Koden under kjøres som forberedelse for påfølgende steg"
   ]
  },
  {
   "cell_type": "code",
   "execution_count": null,
   "metadata": {},
   "outputs": [],
   "source": [
    "# Nødvendig import\n",
    "import logging\n",
    "import sys\n",
    "\n",
    "from dapla_metadata.variable_definitions import Vardef\n",
    "\n",
    "# Redusere størrelsen på Traceback for mer tydelige feilmeldinger\n",
    "%xmode Minimal\n",
    "\n",
    "# Gjøre at logging vises\n",
    "logging.basicConfig(\n",
    "    format=\"%(levelname)s: %(message)s\",\n",
    "    level=logging.INFO,\n",
    "    stream=sys.stdout,\n",
    "    force=True,\n",
    ")"
   ]
  },
  {
   "cell_type": "markdown",
   "metadata": {},
   "source": [
    "## Slette fra Vardef\n",
    "\n",
    "1. Kjør cellen under. \n",
    "2. Vent til input-feltet vises\n",
    "3. Skriv inn kortnavn \n",
    "4. Trykk **Enter**.\n",
    "5. Bekreft sletting av valgt variabeldefinisjon ved å svare 'ja'\n",
    "6. Trykk **Enter**.\n",
    "\n",
    "⚠️  Viktig: Trykk alltid **Enter**, selv om du ikke skriver noe, for å unngå at Jupyter-kjernen henger seg opp."
   ]
  },
  {
   "cell_type": "code",
   "execution_count": null,
   "metadata": {},
   "outputs": [],
   "source": [
    "mitt_kortnavn = input(\"Skriv inn kortnavn: \").strip()\n",
    "min_variabel = Vardef.get_variable_definition_by_shortname(mitt_kortnavn)\n",
    "bekrefte_kortnavn = (\n",
    "    input(\n",
    "        f\"Er du helt sikker på at du vil slette {mitt_kortnavn}? Svar 'ja' for å bekrefte.\"\n",
    "    )\n",
    "    .strip()\n",
    "    .lower()\n",
    ")\n",
    "\n",
    "if bekrefte_kortnavn == \"ja\":\n",
    "    print(\n",
    "        f\"Forbereder sletting av variabel med kortnavn: {mitt_kortnavn} og id: {min_variabel.id}\"\n",
    "    )\n",
    "    print(min_variabel.delete_draft())\n",
    "else:\n",
    "    print(\"❌ Sletting ble avbrutt\")"
   ]
  }
 ],
 "metadata": {
  "language_info": {
   "name": "python"
  }
 },
 "nbformat": 4,
 "nbformat_minor": 2
}
