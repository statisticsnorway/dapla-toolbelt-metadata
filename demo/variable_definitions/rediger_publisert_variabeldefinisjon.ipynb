{
 "cells": [
  {
   "cell_type": "markdown",
   "metadata": {},
   "source": [
    "# Rediger publisert variabeldefinisjon\n",
    "\n",
    "Denne Notebooken er for deg som:\n",
    "\n",
    "- Har en variabeldefinisjon med status `PUBLISERT INTERNT` eller `PUBLISERT EKSTERNT`\n",
    "- Er **eier**\n",
    "- Har oppdaget mindre feil som må korrigeres eller verdier som må oppdateres.\n",
    "\n",
    "Forutsetninger:\n",
    "- Du må ha `Kortnavn` for variabeldefinisjonen du vil redigere"
   ]
  },
  {
   "cell_type": "markdown",
   "metadata": {},
   "source": [
    "## Oppsett\n",
    "\n",
    "Koden under kjøres som forberedelse for påfølgende steg"
   ]
  },
  {
   "cell_type": "code",
   "execution_count": null,
   "metadata": {},
   "outputs": [],
   "source": [
    "# Nødvendig import\n",
    "import logging\n",
    "import sys\n",
    "\n",
    "from dapla_metadata.variable_definitions import Vardef\n",
    "\n",
    "# Redusere størrelsen på Traceback for mer tydelige feilmeldinger\n",
    "%xmode Minimal\n",
    "\n",
    "# Gjøre at logging vises\n",
    "logging.basicConfig(\n",
    "    format=\"%(levelname)s: %(message)s\",\n",
    "    level=logging.INFO,\n",
    "    stream=sys.stdout,\n",
    "    force=True,\n",
    ")"
   ]
  },
  {
   "cell_type": "markdown",
   "metadata": {},
   "source": [
    "## Viktig informasjon\n",
    "\n",
    "Når en variabeldefinisjon er publisert vil det opprettes en ny **patch** med en unik **patch id** når man lagrer endringer.\n",
    "\n",
    "Man kan endre flere felt på en gang, da opprettes det kun en ny **patch**.\n",
    "\n",
    "⚠️ Kortnavn kan ikke endres.\n",
    "\n",
    "Skrivefeil og andre små feil i definisjonsteksten kan rettes, men dersom endringen medfører en betydningsmessig endring av definisjonen, bør det i stedet opprettes en ny **gyldighetsperiode**.\n",
    "\n",
    "🔗 Her finner du lenker til kodelister og klassifikasjoner i Klass som brukes for å fylle ut feltene:\n",
    "- [klassifikasjonsreferanse(`classification_reference`)](https://www.ssb.no/klass/klassifikasjoner)\n",
    "- [enhetstyper (`unit_types`)](https://www.ssb.no/klass/klassifikasjoner/702) \n",
    "- [statistikkområder (`subject_fields`)](https://www.ssb.no/klass/klassifikasjoner/618)\n",
    "- [måletype(`measurement_type`)](https://www.ssb.no/klass/klassifikasjoner/303)"
   ]
  },
  {
   "cell_type": "markdown",
   "metadata": {},
   "source": [
    "## Skriv variabeldefinisjon til fil\n",
    "\n",
    "1. Kjør cellen under. \n",
    "2. Vent til input-feltet vises\n",
    "3. Skriv inn kortnavn \n",
    "4. Trykk **Enter**.\n",
    "\n",
    "⚠️ Viktig: Trykk alltid **Enter**, selv om du ikke skriver noe, for å unngå at Jupyter-kjernen henger seg opp.\n",
    "\n",
    "🗂️ YAML-fil lagres som standard på `/home/onyxia/work/variable_definitions/variable_definition_<short_name>_<id>_<timestamp>.yaml`.\n",
    "\n",
    "✅ Etter fullføring vil filstien til den genererte YAML-filen bli returnert."
   ]
  },
  {
   "cell_type": "code",
   "execution_count": null,
   "metadata": {},
   "outputs": [],
   "source": [
    "mitt_kortnavn = input(\"Skriv inn kortnavn: \").strip()\n",
    "\n",
    "# Skriv variabeldefinisjon til fil\n",
    "min_variabel = Vardef.get_variable_definition_by_shortname(\n",
    "    short_name=mitt_kortnavn\n",
    ").to_file()"
   ]
  },
  {
   "cell_type": "markdown",
   "metadata": {},
   "source": [
    "## Redigere\n",
    "\n",
    "Åpne filen vist til i outputen over.\n",
    "\n",
    "Filen skal inneholde alle felt utfylt som de er lagret i Vardef tjenesten per nå. \n",
    "\n",
    "✏️ Du kan nå redigere direkte i filen. Når du er fornøyd med endringene, lagrer du filen lokalt.\n",
    "\n",
    "⚠️ Det er viktig at du kun endrer feltene du vil oppdatere/korrigere.\n",
    "\n",
    "I neste steg sender du filen tilbake til Vardef-tjenesten for oppdatering.\n",
    "\n",
    "\n"
   ]
  },
  {
   "cell_type": "markdown",
   "metadata": {},
   "source": [
    "## Lagre tilbake til Vardef-tjenesten\n",
    "\n",
    "🗂️ Som standard vil den _nyeste_ YAML-filen knyttet til variabeldefinisjonen bli brukt automatisk ved innsending. \n",
    "⏰ Dette bestemmes basert på tidsstempelet i filnavnet.\n",
    "\n",
    "🗂️ Dersom du ønsker å sende inn en annen fil, kan du spesifisere dette eksplisitt ved å bruke `file_path`-parameteren.\n",
    "\n",
    "`min_variabel.create_patch_from_file(file_path=\"path/til/fil.yaml\")`"
   ]
  },
  {
   "cell_type": "code",
   "execution_count": null,
   "metadata": {},
   "outputs": [],
   "source": [
    "min_variabel.create_patch_from_file()"
   ]
  }
 ],
 "metadata": {
  "language_info": {
   "name": "python"
  }
 },
 "nbformat": 4,
 "nbformat_minor": 2
}
