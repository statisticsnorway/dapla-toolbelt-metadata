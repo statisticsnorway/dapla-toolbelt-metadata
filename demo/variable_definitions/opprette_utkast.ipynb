{
 "cells": [
  {
   "cell_type": "markdown",
   "metadata": {},
   "source": [
    "# Opprette variabel definisjon\n",
    "\n",
    "Denne Notebook er for deg som:\n",
    "\n",
    "- Ønsker å opprette en ny variabeldefinisjon\n"
   ]
  },
  {
   "cell_type": "markdown",
   "metadata": {},
   "source": [
    "## Oppsett\n",
    "\n",
    "Koden under kjøres som forberedelse for påfølgende steg"
   ]
  },
  {
   "cell_type": "code",
   "execution_count": null,
   "metadata": {},
   "outputs": [],
   "source": [
    "# Nødvendig import\n",
    "import logging\n",
    "import sys\n",
    "\n",
    "from dapla_metadata.variable_definitions import Vardef\n",
    "\n",
    "# Redusere størrelsen på Traceback for mer tydelige feilmeldinger\n",
    "%xmode Minimal\n",
    "\n",
    "# Gjøre at logging vises\n",
    "logging.basicConfig(\n",
    "    format=\"%(levelname)s: %(message)s\",\n",
    "    level=logging.INFO,\n",
    "    stream=sys.stdout,\n",
    "    force=True,\n",
    ")"
   ]
  },
  {
   "cell_type": "markdown",
   "metadata": {},
   "source": [
    "## Opprette mal yaml fil\n",
    "\n",
    "Som et utgangspunkt for å legge inn informasjonsfeltene for en variabeldefinisjon så kan man opprette en yaml fil. Den har alle feltene listet opp med beskrivelser og i noen tilfeller placeholder verdier. Disse fylles ut også går man videre til neste steg, å sende informasjonen til Vardef for å opprette definisjonen.\n",
    "\n",
    "Filen:\n",
    "- Opprettes som standard på `/home/onyxia/work/variable_definitions/variable_definition_template_<timestamp>.yaml`\n",
    "- Aldri overskrives\n",
    "\n",
    "Det returneres filstien til malen(`path_to_template` under), om det er ønskelig å benytte videre i kode."
   ]
  },
  {
   "cell_type": "code",
   "execution_count": null,
   "metadata": {},
   "outputs": [],
   "source": [
    "path_to_template = Vardef.write_template_to_file()"
   ]
  },
  {
   "cell_type": "markdown",
   "metadata": {},
   "source": [
    "## Fylle ut malen\n",
    "\n",
    "Åpne yaml filen og legge inn verdier for informasjonsfeltene. Pass på å legge inn verdier for alle obligatoriske feltene, ellers skal kommer det til å feile på opprettelse."
   ]
  },
  {
   "cell_type": "markdown",
   "metadata": {},
   "source": [
    "## Opprette variabel definisjonen i vardef\n",
    "\n",
    "Her sendes informasjonen i yaml fila til Vardef tjenesten for å opprette en ny variabeldefinisjon. På dette steget er det streng validering på informasjonen sendt inn slik at vi kan oppretteholde høy datakavalitet. Hvis det feiler på validering så blir det kommunisert med en _error_. Det skal stå i erroren hva som gikk galdt og evt. hva man kan gjøre for å korrigere det.\n",
    "\n",
    "Som standard leses inn den _nyeste_ template fil som finnes. Hvis man ønsker en annen fil, så kan man spesifisere det ved å send inn filstien."
   ]
  },
  {
   "cell_type": "code",
   "execution_count": null,
   "metadata": {},
   "outputs": [],
   "source": [
    "my_draft = Vardef.create_draft_from_file()"
   ]
  }
 ],
 "metadata": {
  "language_info": {
   "codemirror_mode": {
    "name": "ipython"
   },
   "file_extension": ".py",
   "mimetype": "text/x-python",
   "name": "python",
   "nbconvert_exporter": "python"
  }
 },
 "nbformat": 4,
 "nbformat_minor": 2
}
