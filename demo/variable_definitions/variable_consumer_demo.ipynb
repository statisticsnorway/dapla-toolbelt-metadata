{
 "cells": [
  {
   "cell_type": "markdown",
   "metadata": {},
   "source": [
    "# Variable Definitions demo for consumers of variable definitions \n",
    "This demo is for reading and accessing variable definitions as a SSB employee"
   ]
  },
  {
   "cell_type": "code",
   "execution_count": 2,
   "metadata": {},
   "outputs": [],
   "source": [
    "from dapla_metadata.variable_definitions.vardef import Vardef"
   ]
  },
  {
   "cell_type": "markdown",
   "metadata": {},
   "source": [
    "## List all variable definitions"
   ]
  },
  {
   "cell_type": "code",
   "execution_count": 17,
   "metadata": {},
   "outputs": [
    {
     "name": "stdout",
     "output_type": "stream",
     "text": [
      "Warning: Pydantic serializer warnings:\n",
      "  Expected `LanguageStringType` but got `dict` with value `{'nb': 'test_navn', 'nn':...amn', 'en': 'test_name'}` - serialized value may not be as expected\n",
      "  Expected `LanguageStringType` but got `dict` with value `{'nb': 'Skriv en definisj...ition text in english.'}` - serialized value may not be as expected\n",
      "  Expected `Owner` but got `dict` with value `{'team': 'dapla-felles', ...pla-felles-developers']}` - serialized value may not be as expected, Category: UserWarning, Filename: /Users/cecilieseim/Library/Caches/pypoetry/virtualenvs/dapla-toolbelt-metadata-fJc960va-py3.12/lib/python3.12/site-packages/pydantic/main.py, Line: 477\n",
      "{\n",
      "  \"id\": \"4S-1a7Kn\",\n",
      "  \"patch_id\": 1,\n",
      "  \"name\": {\n",
      "    \"nb\": \"test_navn\",\n",
      "    \"nn\": \"test_namn\",\n",
      "    \"en\": \"test_name\"\n",
      "  },\n",
      "  \"short_name\": \"landbak\",\n",
      "  \"definition\": {\n",
      "    \"nb\": \"Skriv en definisjonstekst på norsk bokmål.\",\n",
      "    \"nn\": \"Skriv ein definosjonstekst på nynorsk.\",\n",
      "    \"en\": \"Write a definition text in english.\"\n",
      "  },\n",
      "  \"classification_reference\": \"91\",\n",
      "  \"unit_types\": [\n",
      "    \"01\"\n",
      "  ],\n",
      "  \"subject_fields\": [\n",
      "    \"al\"\n",
      "  ],\n",
      "  \"contains_special_categories_of_personal_data\": false,\n",
      "  \"variable_status\": \"DRAFT\",\n",
      "  \"measurement_type\": null,\n",
      "  \"valid_from\": \"2024-12-18\",\n",
      "  \"valid_until\": null,\n",
      "  \"external_reference_uri\": null,\n",
      "  \"comment\": null,\n",
      "  \"related_variable_definition_uris\": null,\n",
      "  \"owner\": {\n",
      "    \"team\": \"dapla-felles\",\n",
      "    \"groups\": [\n",
      "      \"dapla-felles-developers\"\n",
      "    ]\n",
      "  },\n",
      "  \"contact\": null,\n",
      "  \"created_at\": \"2024-12-18T20:41:51.268000\",\n",
      "  \"created_by\": null,\n",
      "  \"last_updated_at\": \"2024-12-18T20:41:51.268000\",\n",
      "  \"last_updated_by\": null\n",
      "}\n"
     ]
    }
   ],
   "source": [
    "# plain list all\n",
    "from pprint import pprint\n",
    "for variable in Vardef.list_variable_definitions():\n",
    "    print(variable)"
   ]
  },
  {
   "cell_type": "markdown",
   "metadata": {},
   "source": [
    "## Filter by date"
   ]
  },
  {
   "cell_type": "code",
   "execution_count": null,
   "metadata": {},
   "outputs": [],
   "source": [
    "# filter by date\n",
    "from datetime import date\n",
    "\n",
    "desired_validity = date(1980,2,24)\n",
    "Vardef.list_variable_definitions(desired_validity)"
   ]
  },
  {
   "cell_type": "markdown",
   "metadata": {},
   "source": [
    "## Sort list"
   ]
  },
  {
   "cell_type": "code",
   "execution_count": null,
   "metadata": {},
   "outputs": [],
   "source": [
    "# sort by field\n",
    "sorted_list = Vardef.list_variable_definitions().sort(\"owner\")\n",
    "\n",
    "# check size or other\n",
    "len(sorted_list)"
   ]
  },
  {
   "cell_type": "markdown",
   "metadata": {},
   "source": [
    "## Filter list by optional value"
   ]
  },
  {
   "cell_type": "code",
   "execution_count": null,
   "metadata": {},
   "outputs": [],
   "source": [
    "# filter by something\n"
   ]
  },
  {
   "cell_type": "markdown",
   "metadata": {},
   "source": [
    "## Get one variable definition"
   ]
  },
  {
   "cell_type": "code",
   "execution_count": null,
   "metadata": {},
   "outputs": [],
   "source": [
    "# filter by get one variable definition"
   ]
  },
  {
   "cell_type": "markdown",
   "metadata": {},
   "source": [
    "## Access values for one variable definition"
   ]
  },
  {
   "cell_type": "code",
   "execution_count": null,
   "metadata": {},
   "outputs": [],
   "source": [
    "# list patches\n",
    "# get one patch"
   ]
  },
  {
   "cell_type": "code",
   "execution_count": null,
   "metadata": {},
   "outputs": [],
   "source": [
    "# list validity periods\n",
    "# get one validity period"
   ]
  }
 ],
 "metadata": {
  "kernelspec": {
   "display_name": "dapla-toolbelt-metadata-fJc960va-py3.12",
   "language": "python",
   "name": "python3"
  },
  "language_info": {
   "codemirror_mode": {
    "name": "ipython",
    "version": 3
   },
   "file_extension": ".py",
   "mimetype": "text/x-python",
   "name": "python",
   "nbconvert_exporter": "python",
   "pygments_lexer": "ipython3",
   "version": "3.12.0"
  }
 },
 "nbformat": 4,
 "nbformat_minor": 2
}
