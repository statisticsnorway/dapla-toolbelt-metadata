{
 "cells": [
  {
   "cell_type": "markdown",
   "metadata": {},
   "source": [
    "# Redigere et utkast\n",
    "\n",
    "Denne Notebooken er for deg som:\n",
    "\n",
    "- Har opprettet en variabeldefinisjon med status `UTKAST`\n",
    "- Ønsker å jobbe videre med den før evt. publisering\n",
    "\n",
    "Forutsetninger:\n",
    "- Du må ha `Kortnavn` for variabeldefinisjonen du vil redigere\n"
   ]
  },
  {
   "cell_type": "markdown",
   "metadata": {},
   "source": [
    "## Oppsett\n",
    "\n",
    "Koden under kjøres som forberedelse for påfølgende steg"
   ]
  },
  {
   "cell_type": "code",
   "execution_count": null,
   "metadata": {},
   "outputs": [],
   "source": [
    "# Nødvendig import\n",
    "import logging\n",
    "import sys\n",
    "\n",
    "from dapla_metadata.variable_definitions import Vardef\n",
    "\n",
    "# Redusere størrelsen på Traceback for mer tydelige feilmeldinger\n",
    "%xmode Minimal\n",
    "\n",
    "# Gjøre at logging vises\n",
    "logging.basicConfig(\n",
    "    format=\"%(levelname)s: %(message)s\",\n",
    "    level=logging.INFO,\n",
    "    stream=sys.stdout,\n",
    "    force=True,\n",
    ")"
   ]
  },
  {
   "cell_type": "markdown",
   "metadata": {},
   "source": [
    "## Skrive variabeldefinisjonen til fil\n",
    "\n",
    "Kjør cellen under. \n",
    "\n",
    "Et input-felt vises – skriv inn kortnavnet ditt og trykk **Enter**.\n",
    "\n",
    "⚠ Viktig: Trykk alltid **Enter**, selv om du ikke skriver noe, for å unngå at Jupyter-kjernen henger seg opp.\n",
    "\n",
    "For å redigere en variabeldefinisjon kan man skrive den til en yaml fil. Som standard er filen lagret på `/home/onyxia/work/variable_definitions/variable_definition_<short_name>_<id>_<timestamp>.yaml`."
   ]
  },
  {
   "cell_type": "code",
   "execution_count": null,
   "metadata": {},
   "outputs": [],
   "source": [
    "mitt_kortnavn = input(\"Skriv inn kortnavn\").strip()\n",
    "\n",
    "# Skrive variabeldefinisjonen til fil.\n",
    "# Stien til filen skal vises som output under.\n",
    "min_variabel = Vardef.get_variable_definition_by_shortname(\n",
    "    short_name=mitt_kortnavn,\n",
    ").to_file()"
   ]
  },
  {
   "cell_type": "markdown",
   "metadata": {},
   "source": [
    "## Redigere\n",
    "\n",
    "Åpne filen vist til i outputen over.\n",
    "\n",
    "Filen skal inneholde alle felt utfylt som de er lagret i Vardef tjenesten per nå. Det er også noen beskrivelser av feltene slik at det er lettere å forstå hvilke verdier man skal legge inn.\n",
    "\n",
    "Det er bare å redigere direkte i filen frem til man er fornøyd også sender man det tilbake til Vardef tjenesten for lagring i neste steg."
   ]
  },
  {
   "cell_type": "markdown",
   "metadata": {},
   "source": [
    "## Lagre tilbake til Vardef tjenesten\n",
    "\n",
    "Som standard finnes den _nyeste_ filen som hører til variabeldefinisjonen automatisk. Det er gjort ved hjelp av tidsstempelet i filnavnet. Hvis man ønsker å sende inn en eldre fil, så kan man spesifisere dette med `file_path` parameteren."
   ]
  },
  {
   "cell_type": "code",
   "execution_count": null,
   "metadata": {},
   "outputs": [],
   "source": [
    "min_variabel.update_draft_from_file()"
   ]
  }
 ],
 "metadata": {
  "language_info": {
   "codemirror_mode": {
    "name": "ipython"
   },
   "file_extension": ".py",
   "mimetype": "text/x-python",
   "name": "python",
   "nbconvert_exporter": "python"
  }
 },
 "nbformat": 4,
 "nbformat_minor": 2
}
