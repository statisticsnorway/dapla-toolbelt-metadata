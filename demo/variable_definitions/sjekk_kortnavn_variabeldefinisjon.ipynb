{
 "cells": [
  {
   "cell_type": "markdown",
   "metadata": {},
   "source": [
    "# Sjekk kortnavn variabeldefinisjon\n",
    "\n",
    "Denne Notebooken er for deg som:\n",
    "\n",
    "- Ønsker å finne ut om et kortnavn er tilgjengelig i Vardef.\n",
    "\n",
    "Forutsetninger:\n",
    "- Du må ha et `Kortnavn` du ønsker å sjekke"
   ]
  },
  {
   "cell_type": "markdown",
   "metadata": {},
   "source": [
    "## Oppsett\n",
    "Koden under kjøres som forberedelse for påfølgende steg"
   ]
  },
  {
   "cell_type": "code",
   "execution_count": null,
   "metadata": {},
   "outputs": [],
   "source": [
    "# Nødvendig import\n",
    "import logging\n",
    "import sys\n",
    "\n",
    "from dapla_metadata.variable_definitions import Vardef\n",
    "\n",
    "# Redusere størrelsen på Traceback for mer tydelige feilmeldinger\n",
    "%xmode Minimal\n",
    "\n",
    "# Gjøre at logging vises\n",
    "logging.basicConfig(\n",
    "    format=\"%(levelname)s: %(message)s\",\n",
    "    level=logging.INFO,\n",
    "    stream=sys.stdout,\n",
    "    force=True,\n",
    ")"
   ]
  },
  {
   "cell_type": "markdown",
   "metadata": {},
   "source": [
    "## Viktig informasjon om kortnavn\n",
    "\n",
    "I Vardef er alle kortnavn unike.\n",
    "\n",
    "Det er ikke mulig å opprette en variabeldefinisjon med et kortnavn som allerede er i bruk.\n",
    "\n",
    "Kortnavn kan inneholde:\n",
    "- små bokstaver `a-z`\n",
    "- tall `0-9` \n",
    "-  `_` (understrek)\n",
    "\n",
    "Minimumslengde på kortnavnet er **2** tegn.  \n",
    "\n",
    "Kortnavn kan **ikke** inneholde:\n",
    "- store bokstaver\n",
    "- Spesialtegn som `æ, ø, å` (disse anbefales å erstattes med ae, oe, aa)\n",
    "\n"
   ]
  },
  {
   "cell_type": "markdown",
   "metadata": {},
   "source": [
    "## Sjekk tilgjengelighet\n",
    "\n",
    "1. Kjør cellen under. \n",
    "2. Vent til input-feltet vises\n",
    "3. Skriv inn kortnavn \n",
    "4. Trykk **Enter**.\n",
    "\n",
    "⚠️  Viktig: Trykk alltid **Enter**, selv om du ikke skriver noe, for å unngå at Jupyter-kjernen henger seg opp.\n",
    "\n"
   ]
  },
  {
   "cell_type": "code",
   "execution_count": null,
   "metadata": {},
   "outputs": [],
   "source": [
    "test_navn = input(\"Skriv inn kortnavn: \")\n",
    "\n",
    "if test_navn == \"\":\n",
    "    print(\"Inputfeltet er tomt. Vennligst prøv på nytt.\")\n",
    "if Vardef.does_short_name_exist(test_navn) is True:\n",
    "    print(f\"❌ Kortnavnet '{test_navn}' er allerede i bruk.\")\n",
    "else:\n",
    "    print(f\"✅ Kortnavnet '{test_navn}' er tilgjengelig\")"
   ]
  }
 ],
 "metadata": {
  "language_info": {
   "name": "python"
  }
 },
 "nbformat": 4,
 "nbformat_minor": 2
}
