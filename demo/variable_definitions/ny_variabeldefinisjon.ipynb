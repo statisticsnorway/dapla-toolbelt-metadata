{
 "cells": [
  {
   "cell_type": "markdown",
   "metadata": {},
   "source": [
    "# Ny variabeldefinisjon\n",
    "\n",
    "Denne Notebook er for deg som:\n",
    "\n",
    "- Ønsker å opprette en ny variabeldefinisjon\n"
   ]
  },
  {
   "cell_type": "markdown",
   "metadata": {},
   "source": [
    "## Oppsett\n",
    "\n",
    "Koden under kjøres som forberedelse for påfølgende steg"
   ]
  },
  {
   "cell_type": "code",
   "execution_count": null,
   "metadata": {},
   "outputs": [],
   "source": [
    "# Nødvendig import\n",
    "import logging\n",
    "import sys\n",
    "\n",
    "from dapla_metadata.variable_definitions import Vardef\n",
    "\n",
    "# Redusere størrelsen på Traceback for mer tydelige feilmeldinger\n",
    "%xmode Minimal\n",
    "\n",
    "# Gjøre at logging vises\n",
    "logging.basicConfig(\n",
    "    format=\"%(levelname)s: %(message)s\",\n",
    "    level=logging.INFO,\n",
    "    stream=sys.stdout,\n",
    "    force=True,\n",
    ")"
   ]
  },
  {
   "cell_type": "markdown",
   "metadata": {},
   "source": [
    "## Viktig informasjon\n",
    "\n",
    "YAML-fil malen inneholder alle felt for en variabeldefinisjon. \n",
    "Noen av disse feltene er forhåndsutfylt med eksempelverdier, noen verdier settes av systemet mens andre er **maskingenererte** og skal ikke **redigeres**.\n",
    "\n",
    "🔗 Her finner du lenker til kodelister og klassifikasjoner i Klass som brukes for å fylle ut feltene:\n",
    "- [klassifikasjonsreferanse(`classification_reference`)](https://www.ssb.no/klass)\n",
    "- [enhetstyper (`unit_types`)](https://www.ssb.no/klass/klassifikasjoner/702) \n",
    "- [statistikkområder (`subject_fields`)](https://www.ssb.no/klass/klassifikasjoner/618)\n",
    "- [måletype(`measurement_type`)](https://www.ssb.no/klass/klassifikasjoner/303)"
   ]
  },
  {
   "cell_type": "markdown",
   "metadata": {},
   "source": [
    "## Opprette mal\n",
    "\n",
    "⏰ Filen lagres med et tidsstempel slik at den aldri kan overskrives.\n",
    "\n",
    "🗂️ YAML-fil lagres som standard på `/home/onyxia/work/variable_definitions/variable_definition_template_<timestamp>.yaml`\n",
    "\n",
    "✅ Etter fullføring vil filstien til den genererte YAML-filen bli returnert."
   ]
  },
  {
   "cell_type": "code",
   "execution_count": null,
   "metadata": {},
   "outputs": [],
   "source": [
    "path_to_template = Vardef.write_template_to_file()"
   ]
  },
  {
   "cell_type": "markdown",
   "metadata": {},
   "source": [
    "## Fylle ut mal\n",
    "\n",
    "Åpne filen som vises i outputen over.\n",
    "\n",
    "✏️ Rediger direkte i filen.\n",
    "\n",
    "💾 Lagre filen lokalt når du er ferdig med redigeringen.\n",
    "\n",
    "ℹ️ Pass på å legge inn verdier for alle **obligatoriske** felt, ellers vil det feile ved opprettelse.\n",
    "\n",
    "⚠️ **Viktig:** Malfilen inneholder placeholder-verdier som **må erstattes med riktige data** før innsending.\n",
    "\n",
    "I neste steg sender du filen inn til Vardef-tjenesten.\n"
   ]
  },
  {
   "cell_type": "markdown",
   "metadata": {},
   "source": [
    "## Lagre Vardef\n",
    "\n",
    "Her sendes informasjonen fra YAML filen inn til Vardef-tjenesten for å opprette en ny variabeldefinisjon. \n",
    "\n",
    "⭐️ På dette steget er det streng validering på informasjonen sendt inn slik at vi kan oppretteholde høy datakavalitet. \n",
    "\n",
    "❌ Hvis det feiler på validering så blir det kommunisert med en _error_. Det skal stå i erroren hva som gikk galt og evt. hva man kan gjøre for å korrigere det.\n",
    "\n",
    "🗂️ **Som standard** brukes den _nyeste_ template-filen. \n",
    "⏰ Dette avgjøres automatisk basert på tidsstempelet i filnavnet.\n",
    "\n",
    "📂 **Ønsker du å sende inn en annen fil**, kan du angi dette eksplisitt ved å bruke `file_path`-parameteren.\n",
    "\n",
    "`Vardef.create_draft_from_file(file_path=\"path/til/fil.yaml\")`"
   ]
  },
  {
   "cell_type": "code",
   "execution_count": null,
   "metadata": {},
   "outputs": [],
   "source": [
    "Vardef.create_draft_from_file()"
   ]
  }
 ],
 "metadata": {
  "language_info": {
   "name": "python"
  }
 },
 "nbformat": 4,
 "nbformat_minor": 2
}
